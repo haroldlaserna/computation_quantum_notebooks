{
 "cells": [
  {
   "cell_type": "markdown",
   "id": "f4e27e69",
   "metadata": {},
   "source": [
    "**Compuertas cuánticas**"
   ]
  },
  {
   "cell_type": "markdown",
   "id": "04c0f1e3",
   "metadata": {},
   "source": [
    "Anteriormente hemos visto mediante la librería **Qiskit** cómo hacer mediciones, ya sea en un simulador o en un computador cuántico real, pero, aún no hemos hecho operaciones sobre nuestro circuito para obtener ciertos resultados. En este caso mostraremos algunos operadores o también llamadas en este caso **compuertas cuánticas** que generarán cambios en nuestro vector de estado."
   ]
  },
  {
   "cell_type": "markdown",
   "id": "8ac3f2fb",
   "metadata": {},
   "source": [
    "**Compuerta de Hadamard**"
   ]
  },
  {
   "cell_type": "markdown",
   "id": "abcf42b9",
   "metadata": {},
   "source": [
    "Dicha compuerta prepara nuestro estado vector inicial, es decir, dado que nuestro circuito comienza con el estado base $|0⟩$, necesitamos un vector estado con la superposición de $|1⟩$ y $|0⟩$, en el caso de que tengamos el estado base inicial $|1⟩$ que es posible obtenerlo aplicando al estado base $|0⟩$ la compuerta cuántica**X**, podemos obtener también una superposición de  $|1⟩$ y $|0⟩$ de la siguiente forma: \n",
    "$$\\textbf{H}|0⟩=\\frac{1}{\\sqrt{2}}(|0⟩+|1⟩)=|+⟩,$$\n",
    "$$\\textbf{H}|1⟩=\\frac{1}{\\sqrt{2}}(|0⟩-|1⟩)=|-⟩.$$\n",
    "Si notamos dicha aplicación del operador $\\textit{H}$, llamado **compuerta Hadamard**, lo que hace es hacer una rotación sobre la esfera de Bloch tal que si esta ubicado en $\\hat{z}$ rotarlo a $\\hat{x}$ y si esta en $-\\hat{z}$ rotarlo a $-\\hat{x}$, si volvemos a aplicar el operador a los resultados anteriores obtenemos:\n",
    "$$\\textbf{H}|+⟩=|0⟩,$$\n",
    "$$\\textbf{H}|-⟩=|1⟩,$$ es decir, que devuelve la rotación."
   ]
  },
  {
   "cell_type": "markdown",
   "id": "ae5e4986",
   "metadata": {},
   "source": [
    "La forma de obtener los elementos de la matriz es la siguiente:\n",
    "$$\\textbf{H}=\\begin{bmatrix}\n",
    "H_{00} & H_{01}\\\\\n",
    "H_{10} & H_{11} \n",
    "\\end{bmatrix}$$\n",
    "$$H_{00}= ⟨0|\\textbf{H}|0⟩ =\\frac{1}{\\sqrt{2}}$$\n",
    "$$H_{10}= ⟨1|\\textbf{H}|0⟩ =\\frac{1}{\\sqrt{2}}$$\n",
    "$$H_{01}= ⟨0|\\textbf{H}|1⟩ =\\frac{1}{\\sqrt{2}}$$\n",
    "$$H_{11}= ⟨1|\\textbf{H}|1⟩ =-\\frac{1}{\\sqrt{2}}$$\n",
    "$$\\textbf{H}=\\frac{1}{\\sqrt{2}}\\begin{bmatrix}\n",
    "1 & 1\\\\\n",
    "1 & -1 \n",
    "\\end{bmatrix}$$\n",
    "\n",
    "Para ver la aplicación de este operador en un circuito, inicialmente construimos el circuito cuántico inicial, en este caso para 1 qubit de la siguietne forma:"
   ]
  },
  {
   "cell_type": "code",
   "execution_count": 2,
   "id": "48723f45",
   "metadata": {},
   "outputs": [],
   "source": [
    "import numpy as np\n",
    "from qiskit import *\n",
    "from qiskit.visualization import *\n",
    "from qiskit.quantum_info import Statevector"
   ]
  },
  {
   "cell_type": "code",
   "execution_count": 18,
   "id": "b285781f",
   "metadata": {},
   "outputs": [],
   "source": [
    "circuito_1 = QuantumCircuit(1)"
   ]
  },
  {
   "cell_type": "markdown",
   "id": "ef14b542",
   "metadata": {},
   "source": [
    "Para aplicar el operador $\\textbf{H}$ usamos el método **h()**"
   ]
  },
  {
   "cell_type": "code",
   "execution_count": 19,
   "id": "ae8648be",
   "metadata": {},
   "outputs": [
    {
     "data": {
      "image/png": "[encoded data removed]",
      "text/plain": [
       "<Figure size 133.526x84.28 with 1 Axes>"
      ]
     },
     "execution_count": 19,
     "metadata": {},
     "output_type": "execute_result"
    }
   ],
   "source": [
    "circuito_1.h(0)\n",
    "circuito_1.draw(\"mpl\")"
   ]
  },
  {
   "cell_type": "code",
   "execution_count": 20,
   "id": "621c5e8f",
   "metadata": {},
   "outputs": [
    {
     "data": {
      "text/latex": [
       "$$\\frac{\\sqrt{2}}{2} |0\\rangle+\\frac{\\sqrt{2}}{2} |1\\rangle$$"
      ],
      "text/plain": [
       "<IPython.core.display.Latex object>"
      ]
     },
     "execution_count": 20,
     "metadata": {},
     "output_type": "execute_result"
    }
   ],
   "source": [
    "estado = Statevector.from_int(0,2**1)\n",
    "estado = estado.evolve(circuito_1)\n",
    "estado.draw(\"latex\")"
   ]
  },
  {
   "cell_type": "markdown",
   "id": "00d8f4e4",
   "metadata": {},
   "source": [
    "es de aclarar que: $$\\frac{1}{\\sqrt{2}}=\\frac{\\sqrt{2}}{2}.$$"
   ]
  },
  {
   "cell_type": "markdown",
   "id": "eca24a84",
   "metadata": {},
   "source": [
    "Es de aclarar que el método **h()** pide como parámetro la posición de qubit al cual se le va a aplicar el operador, es decir que si, se aplica al tercer qubit, entonces la forma es **self.h(2)**. Si aplicamos de nuevo el operador $\\textbf{H}$ obtenemos lo siguiente:"
   ]
  },
  {
   "cell_type": "code",
   "execution_count": 21,
   "id": "5ab73769",
   "metadata": {},
   "outputs": [
    {
     "data": {
      "image/png": "[encoded data removed]",
      "text/plain": [
       "<Figure size 193.726x84.28 with 1 Axes>"
      ]
     },
     "execution_count": 21,
     "metadata": {},
     "output_type": "execute_result"
    }
   ],
   "source": [
    "circuito_1.h(0)\n",
    "circuito_1.draw(\"mpl\")"
   ]
  },
  {
   "cell_type": "code",
   "execution_count": 22,
   "id": "8bb23d55",
   "metadata": {},
   "outputs": [
    {
     "data": {
      "text/latex": [
       "$$ |0\\rangle$$"
      ],
      "text/plain": [
       "<IPython.core.display.Latex object>"
      ]
     },
     "execution_count": 22,
     "metadata": {},
     "output_type": "execute_result"
    }
   ],
   "source": [
    "estado = Statevector.from_int(0,2**1)\n",
    "estado = estado.evolve(circuito_1)\n",
    "estado.draw(\"latex\")"
   ]
  },
  {
   "cell_type": "markdown",
   "id": "0b278f4f",
   "metadata": {},
   "source": [
    "Es decir, el estado original."
   ]
  },
  {
   "cell_type": "markdown",
   "id": "6b9919b7",
   "metadata": {},
   "source": [
    "**Matrices de Pauli**"
   ]
  },
  {
   "cell_type": "markdown",
   "id": "54dd7e62",
   "metadata": {},
   "source": [
    "En este caso, las matrices de Pauli son operadores útiles a la hora de generar rotaciones en la esfera de Bloch los cuales son:"
   ]
  },
  {
   "cell_type": "markdown",
   "id": "8c0af980",
   "metadata": {},
   "source": [
    "\\begin{equation}\n",
    "    \\textbf{X}=\\sigma_{1}=\\sigma_{x}=\\begin{bmatrix}\n",
    "                    0 & 1\\\\\n",
    "                    1 & 0\n",
    "                \\end{bmatrix}\n",
    "\\end{equation}\n",
    "\n",
    "\\begin{equation}\n",
    "    \\textbf{Y}=\\sigma_{2}=\\sigma_{y}=\\begin{bmatrix}\n",
    "                    0 & -i\\\\\n",
    "                    i & 0\n",
    "                \\end{bmatrix}\n",
    "\\end{equation}\n",
    "\n",
    "\\begin{equation}\n",
    "    \\textbf{Z}=\\sigma_{3}=\\sigma_{z}=\\begin{bmatrix}\n",
    "                    1 & 0\\\\\n",
    "                    0 & -1\n",
    "                \\end{bmatrix}\n",
    "\\end{equation}\n",
    "En algunos casos es llamado $\\sigma_{0}$ como la matriz identidad $\\textbf{I}$"
   ]
  },
  {
   "cell_type": "markdown",
   "id": "5165e615",
   "metadata": {},
   "source": [
    "Estas matrices contienen propiedades interesantes: 1) Unitarias 2) Siendo su matriz\n",
    "traspuesta también matriz inversa. 3) Hermítica, tal que, al sacar su traspuesta y sacar la conjugada de los\n",
    "elementos, se obtiene la misma matriz (si es del gusto de lector puede comprobar que esto es cierto con\n",
    "las matrices anteriores). Otra propiedad interesante de estas matrices es que son matrices involutivas, es\n",
    "decir, la matriz es su misma inversa tal que se cumple lo siguiente:"
   ]
  },
  {
   "cell_type": "markdown",
   "id": "5b996420",
   "metadata": {},
   "source": [
    "\\begin{equation}\n",
    "    \\sigma_{x}^2=\\sigma_{y}^2=\\sigma_{z}^2=\\begin{bmatrix}\n",
    "                    1 & 0\\\\\n",
    "                    0 & 1\n",
    "                \\end{bmatrix}=\\textbf{I}\n",
    "\\end{equation}"
   ]
  },
  {
   "cell_type": "markdown",
   "id": "d84f59c3",
   "metadata": {},
   "source": [
    "Asimismo, si obtenemos el determinante y la traza de estas matrices siempre obtendremos los siguientes valores:\n",
    "\n",
    "\\begin{equation}\n",
    "    det(\\sigma_{j})=-1\n",
    "\\end{equation}\n",
    "\n",
    "\\begin{equation}\n",
    "    Tr(\\sigma_{j})=0\n",
    "\\end{equation}\n"
   ]
  },
  {
   "cell_type": "markdown",
   "id": "adfbfdd2",
   "metadata": {},
   "source": [
    "Al operar una matriz de Pauli sobre otra distinta a la anterior obenemos la matriz de Pauli sobrante acompañada de la unidad imaginaria, es decir:"
   ]
  },
  {
   "cell_type": "markdown",
   "id": "1fd777b0",
   "metadata": {},
   "source": [
    "\\begin{equation}\n",
    "    \\sigma_{y}\\sigma_{z} = i\\sigma_{x}\n",
    "\\end{equation}\n",
    "\n",
    "\\begin{equation}\n",
    "    \\sigma_{x}\\sigma_{y} = i\\sigma_{z}\n",
    "\\end{equation}\n",
    "\n",
    "\\begin{equation}\n",
    "    \\sigma_{z}\\sigma_{x} = i\\sigma_{y}\n",
    "\\end{equation}"
   ]
  },
  {
   "cell_type": "markdown",
   "id": "4e2a4e0d",
   "metadata": {},
   "source": [
    "Aprovechando estas matrices de Pauli y la matriz identidad, podemos generar una nueva matriz hermítica, que también es aplicable como operador siguiendo la siguiente relación:"
   ]
  },
  {
   "cell_type": "markdown",
   "id": "2ad3e822",
   "metadata": {},
   "source": [
    "\\begin{equation}\n",
    "    M=\\lambda_{0}I+ \\sum_{j=1}^3\\lambda_{j}\\sigma_{j}\n",
    "\\end{equation}\n"
   ]
  },
  {
   "cell_type": "markdown",
   "id": "20cfd942",
   "metadata": {},
   "source": [
    "Donde $\\lambda_{0}$, $\\lambda_{1}$, $\\lambda_{2}$ y $\\lambda_{3}$ son números complejos cualesquiera, y $M$ la matriz hermítica resultante.\n"
   ]
  },
  {
   "cell_type": "markdown",
   "id": "ca6522f7",
   "metadata": {},
   "source": [
    "Al aplicar el compuerta $\\textbf{X}$ sobre $|0⟩$ y $|1⟩$ respectivamente obtenemos:\n",
    "$$\\textbf{X}|0⟩=|1⟩$$\n",
    "$$\\textbf{X}|1⟩=|0⟩$$\n",
    "es decir, aplica una rotación de $180^{\\circ}$ en el eje x de la esfera de Bloch.\n",
    "\n"
   ]
  },
  {
   "cell_type": "markdown",
   "id": "c149a771",
   "metadata": {},
   "source": [
    "Ahora, al aplicar la compuerta $\\textbf{Y}$ sobre $|+⟩$ , $|-⟩$, $|0⟩$ y $|1⟩$ respectivamente, obtenemos lo siguiente:\n",
    "$$\\textbf{Y}|+⟩=-i|-⟩$$\n",
    "$$\\textbf{Y}|-⟩=i|+⟩$$\n",
    "$$\\textbf{Y}|0⟩=i|1⟩$$\n",
    "$$\\textbf{Y}|1⟩=-i|0⟩$$\n",
    "Es decir que al operar sobre las bases $-\\hat{z}$ y $\\hat{x}$, aplica una rotación de $180^{\\circ}$ con respecto al eje y en la esfera de Bloch, además aplica una fase global de $\\pi$, se de aclarar que las fases globales no afectan los resultados obtenidos en el sistema con lo cual, al graficar, no tendremos en cuenta la fase aplicada $e^{i\\pi}=-i$, si no solo la base. Para las bases $\\hat{z}$ y $-\\hat{x}$, también aplica una rotación $180^{\\circ}$, en este caso aplicando una fase global de $\\frac{\\pi}{2}$, es decir, $e^{i\\frac{\\pi}{2}}=i$, \n",
    "\n",
    "Finalmenete, con la matriz **Z**, lo que hace es rotar $180^{\\circ}$ con respecto a la coordenada z, tal que sucede lo siguiente con los estados base:\n",
    "$$\\textbf{Z}|+⟩=|-⟩$$\n",
    "$$\\textbf{Z}|-⟩=|+⟩$$\n",
    "\n",
    "\n",
    "la forma de las matrices **Y** y **Z** en qiskit es con el método **y()** y **z()**, el parámetro escencial que pide es la posición de qubit al cual se opera."
   ]
  },
  {
   "cell_type": "code",
   "execution_count": 114,
   "id": "47a78a4e",
   "metadata": {},
   "outputs": [
    {
     "data": {
      "image/png": "[encoded data removed]",
      "text/plain": [
       "<Figure size 146.652x144.48 with 1 Axes>"
      ]
     },
     "execution_count": 114,
     "metadata": {},
     "output_type": "execute_result"
    }
   ],
   "source": [
    "circuito_2 = QuantumCircuit(2)\n",
    "circuito_2.y(0)\n",
    "circuito_2.z(1)\n",
    "circuito_2.draw(\"mpl\")\n"
   ]
  },
  {
   "cell_type": "markdown",
   "id": "4b801882",
   "metadata": {},
   "source": [
    "**Compuerta CNOT**"
   ]
  },
  {
   "cell_type": "markdown",
   "id": "237c9a4f",
   "metadata": {},
   "source": [
    "La compuerta **CNOT** es llamada también compuerta **Controlled-Not**, es la encargada de cambiar las bases de un qubit dado una condición, donde el primer qubit es llamado control y el segundo qubit desear cambiar teniendo en cuenta el primero es llamado de objetivo. Es decir, cuando el primer qubit es $|1⟩$ se aplica el operador $\\textbf{X}$ al segundo qubit y si el primer qubit es $|0⟩$ no hace nada, es decir: \n",
    "$$C_{not}|00⟩ = |00⟩,$$\n",
    "$$C_{not}|10⟩ = |10⟩,$$\n",
    "$$C_{not}|01⟩ = |11⟩,$$\n",
    "$$C_{not}|11⟩ = |01⟩,$$\n",
    "donde $C_{not}$ es la compuerta **CNOT**. La matriz representativa de $C_{not}$ es:\n",
    "\n",
    "\\begin{equation}\n",
    "   C_{not}=\\begin{bmatrix}\n",
    "1 & 0 & 0 & 0\\\\\n",
    "0 & 0 & 0 & 1\\\\\n",
    "0 & 0 & 1 & 0\\\\\n",
    "0 & 1 & 0 & 0\\\\\n",
    "\\end{bmatrix}.\n",
    "\\end{equation}\n",
    "En el caso contrario que el primer qubit sea el objetivo y el segundo sea el de control entonces las condiciones cambian de la siguiente forma:\n",
    "$$C_{not}|00⟩ = |00⟩,$$\n",
    "$$C_{not}|01⟩ = |01⟩,$$\n",
    "$$C_{not}|10⟩ = |11⟩,$$\n",
    "$$C_{not}|11⟩ = |10⟩,$$\n",
    "entonces, la matriz **CNOT** es:\n",
    "\\begin{equation}\n",
    "   C_{not}=\\begin{bmatrix}\n",
    "1 & 0 & 0 & 0\\\\\n",
    "0 & 1 & 0 & 0\\\\\n",
    "0 & 0 & 0 & 1\\\\\n",
    "0 & 0 & 1 & 0\\\\\n",
    "\\end{bmatrix}.\n",
    "\\end{equation}\n",
    "\n",
    "Con esto al usarla en qiskit llamamos la método **cx()** que necesita de dos parámetros, el primero es el qubit de control y el segundo al qubit objetivo, representado graficamente queda:"
   ]
  },
  {
   "cell_type": "code",
   "execution_count": 182,
   "id": "994cc451",
   "metadata": {},
   "outputs": [
    {
     "data": {
      "image/png": "[encoded data removed]",
      "text/plain": [
       "<Figure size 146.652x144.48 with 1 Axes>"
      ]
     },
     "execution_count": 182,
     "metadata": {},
     "output_type": "execute_result"
    }
   ],
   "source": [
    "circuito_3 = QuantumCircuit(2)\n",
    "circuito_3.cx(0,1)\n",
    "circuito_3.draw(\"mpl\")\n",
    "\n"
   ]
  },
  {
   "cell_type": "markdown",
   "id": "d9284ec7",
   "metadata": {},
   "source": [
    "Si aplicamos inversamente el operador, graficamente queda:"
   ]
  },
  {
   "cell_type": "code",
   "execution_count": 183,
   "id": "9c2b92f4",
   "metadata": {},
   "outputs": [
    {
     "data": {
      "image/png": "[encoded data removed]",
      "text/plain": [
       "<Figure size 146.652x144.48 with 1 Axes>"
      ]
     },
     "execution_count": 183,
     "metadata": {},
     "output_type": "execute_result"
    }
   ],
   "source": [
    "circuito_3 = QuantumCircuit(2)\n",
    "circuito_3.cx(1,0)\n",
    "circuito_3.draw(\"mpl\")"
   ]
  },
  {
   "cell_type": "markdown",
   "id": "5f470c10",
   "metadata": {},
   "source": [
    "**Compuerta toffoli**"
   ]
  },
  {
   "cell_type": "markdown",
   "id": "5121d29e",
   "metadata": {},
   "source": [
    "En este caso, es una compuerta la cual, contiene dos qubits de control y uno objetivo en este caso, sea el primer qubit y el segundo de control y el tercero objetivo o el segundo y tercero de control y el primero de objetivo. en este caso, si el tercer y segundo qubit son los de control. entonces:\n",
    "$$CC_{not}|000⟩ = |000⟩,$$\n",
    "$$CC_{not}|001⟩ = |001⟩,$$\n",
    "$$CC_{not}|010⟩ = |010⟩,$$\n",
    "$$CC_{not}|011⟩ = |011⟩,$$\n",
    "$$CC_{not}|100⟩ = |100⟩,$$\n",
    "$$CC_{not}|101⟩ = |101⟩,$$\n",
    "$$CC_{not}|110⟩ = |111⟩,$$\n",
    "$$CC_{not}|111⟩ = |110⟩,$$\n",
    "tal que la matriz $CC_{not}$ es la compuerta de toffoli representada matemáticamente como:\n",
    "\\begin{equation}\n",
    "   CC_{not}=\\begin{bmatrix}\n",
    "1 & 0 & 0 & 0 & 0 & 0 & 0 & 0\\\\\n",
    "0 & 1 & 0 & 0 & 0 & 0 & 0 & 0\\\\\n",
    "0 & 0 & 1 & 0 & 0 & 0 & 0 & 0\\\\\n",
    "0 & 0 & 0 & 1 & 0 & 0 & 0 & 0\\\\\n",
    "0 & 0 & 0 & 0 & 1 & 0 & 0 & 0\\\\\n",
    "0 & 0 & 0 & 0 & 0 & 1 & 0 & 0\\\\\n",
    "0 & 0 & 0 & 0 & 0 & 0 & 0 & 1\\\\\n",
    "0 & 0 & 0 & 0 & 0 & 0 & 1 & 0\\\\\n",
    "\\end{bmatrix}.\n",
    "\\end{equation}\n",
    "Caso contrario cuando, los qubits de control son el primero y el segundo y el qubit objetivo es el primero, entonces:\n",
    "$$CC_{not}|000⟩ = |000⟩,$$\n",
    "$$CC_{not}|001⟩ = |001⟩,$$\n",
    "$$CC_{not}|010⟩ = |010⟩,$$\n",
    "$$CC_{not}|011⟩ = |111⟩,$$\n",
    "$$CC_{not}|100⟩ = |100⟩,$$\n",
    "$$CC_{not}|101⟩ = |101⟩,$$\n",
    "$$CC_{not}|110⟩ = |110⟩,$$\n",
    "$$CC_{not}|111⟩ = |011⟩,$$\n",
    "tal que la matriz $CC_{not}$ es representada matemáticamente como:\n",
    "\\begin{equation}\n",
    "   CC_{not}=\\begin{bmatrix}\n",
    "1 & 0 & 0 & 0 & 0 & 0 & 0 & 0\\\\\n",
    "0 & 1 & 0 & 0 & 0 & 0 & 0 & 0\\\\\n",
    "0 & 0 & 1 & 0 & 0 & 0 & 0 & 0\\\\\n",
    "0 & 0 & 0 & 0 & 0 & 0 & 0 & 1\\\\\n",
    "0 & 0 & 0 & 0 & 1 & 0 & 0 & 0\\\\\n",
    "0 & 0 & 0 & 0 & 0 & 1 & 0 & 0\\\\\n",
    "0 & 0 & 0 & 0 & 0 & 0 & 1 & 0\\\\\n",
    "0 & 0 & 0 & 1 & 0 & 0 & 0 & 0\\\\\n",
    "\\end{bmatrix}.\n",
    "\\end{equation}"
   ]
  },
  {
   "cell_type": "markdown",
   "id": "e8a6971a",
   "metadata": {},
   "source": [
    "Para usarlo dentro nuestro circuito cuántico en qiskit usamos el método **ccx()** donde el primer y segundo parámetro son los qubits de control y el tercero es el qubit objetivo, queda representado de la siguiente forma en el circuito:"
   ]
  },
  {
   "cell_type": "code",
   "execution_count": 189,
   "id": "013e29ee",
   "metadata": {},
   "outputs": [
    {
     "data": {
      "image/png": "[encoded data removed]",
      "text/plain": [
       "<Figure size 146.797x204.68 with 1 Axes>"
      ]
     },
     "execution_count": 189,
     "metadata": {},
     "output_type": "execute_result"
    }
   ],
   "source": [
    "circuito_4 = QuantumCircuit(3)\n",
    "circuito_4.ccx(0,1,2)\n",
    "circuito_4.draw(\"mpl\")"
   ]
  },
  {
   "cell_type": "code",
   "execution_count": 190,
   "id": "609b4a6a",
   "metadata": {},
   "outputs": [
    {
     "data": {
      "image/png": "[encoded data removed]",
      "text/plain": [
       "<Figure size 146.797x204.68 with 1 Axes>"
      ]
     },
     "execution_count": 190,
     "metadata": {},
     "output_type": "execute_result"
    }
   ],
   "source": [
    "circuito_4 = QuantumCircuit(3)\n",
    "circuito_4.ccx(2,1,0)\n",
    "circuito_4.draw(\"mpl\")"
   ]
  },
  {
   "cell_type": "markdown",
   "id": "68377507",
   "metadata": {},
   "source": [
    "También es posible que los qubits de control sean el 1 y el 3 tal que el 2 sea el de objetivo."
   ]
  },
  {
   "cell_type": "code",
   "execution_count": 191,
   "id": "0800e592",
   "metadata": {},
   "outputs": [
    {
     "data": {
      "image/png": "[encoded data removed]",
      "text/plain": [
       "<Figure size 146.797x204.68 with 1 Axes>"
      ]
     },
     "execution_count": 191,
     "metadata": {},
     "output_type": "execute_result"
    }
   ],
   "source": [
    "circuito_4 = QuantumCircuit(3)\n",
    "circuito_4.ccx(0,2,1)\n",
    "circuito_4.draw(\"mpl\")"
   ]
  },
  {
   "cell_type": "markdown",
   "id": "6459078c",
   "metadata": {},
   "source": [
    "**compuerta Swap**"
   ]
  },
  {
   "cell_type": "markdown",
   "id": "da2dfc3c",
   "metadata": {},
   "source": [
    "Esta compuerta también llamada operador intercambio de posición de qubit, es la encargada de escoger dos qubits e intercambiar su posición, es decir: $$\\textbf{S}_{wap}|ab⟩=|ba⟩,$$\n",
    "siendo $\\textbf{S}_{wap}$ el operador de intercambio, es decir que para dos qubits tenemos los siguientes intercambios:\n",
    "\\begin{equation}\n",
    "\\textbf{S}_{wap}\\left|00\\right\\rangle = \\left|00\\right\\rangle,\n",
    "\\end{equation}\n",
    "\\begin{equation}\n",
    "\\textbf{S}_{wap}\\left|11\\right\\rangle = \\left|11\\right\\rangle,\n",
    "\\end{equation}\n",
    "\\begin{equation}\n",
    "\\textbf{S}_{wap}\\left|10\\right\\rangle = \\left|01\\right\\rangle,\n",
    "\\end{equation}\n",
    "\\begin{equation}\n",
    "\\textbf{S}_{wap}\\left|01\\right\\rangle = \\left|10\\right\\rangle,\n",
    "\\end{equation}\n",
    "con esto, podemos obtener los elementos de la matriz $\\textbf{S}_{wap}$ de la siguiente forma:\n",
    "\\begin{equation}\n",
    "\\langle00|\\textbf{S}_{wap}\\left|00\\right\\rangle = 1,\n",
    "\\end{equation}\n",
    "\\begin{equation}\n",
    "\\langle11|\\textbf{S}_{wap}\\left|11\\right\\rangle = 1,\n",
    "\\end{equation}\n",
    "\\begin{equation}\n",
    "\\langle01|\\textbf{S}_{wap}\\left|10\\right\\rangle = 1,\n",
    "\\end{equation}\n",
    "\\begin{equation}\n",
    "\\langle10|\\textbf{S}_{wap}\\left|01\\right\\rangle = 1,\n",
    "\\end{equation}\n",
    "\n",
    "\\begin{equation}\n",
    "   \\textbf{S}_{wap}=\\begin{bmatrix}\n",
    "1 & 0 & 0 & 0\\\\\n",
    "0 & 0 & 1 & 0\\\\\n",
    "0 & 1 & 0 & 0\\\\\n",
    "0 & 0 & 0 & 1\\\\\n",
    "\\end{bmatrix}.\n",
    "\\end{equation}"
   ]
  },
  {
   "cell_type": "markdown",
   "id": "f92a763f",
   "metadata": {},
   "source": [
    "Esta compuerta dentro de Qiskit queda representada con el siguiente ejemplo:"
   ]
  },
  {
   "cell_type": "code",
   "execution_count": 9,
   "id": "b0263e11",
   "metadata": {},
   "outputs": [
    {
     "data": {
      "text/latex": [
       "$$ |01\\rangle$$"
      ],
      "text/plain": [
       "<IPython.core.display.Latex object>"
      ]
     },
     "execution_count": 9,
     "metadata": {},
     "output_type": "execute_result"
    }
   ],
   "source": [
    "Circuito = QuantumCircuit(2)\n",
    "Circuito.x(0)\n",
    "estado = Statevector.from_int(0,2**2)\n",
    "estado = estado.evolve(Circuito)\n",
    "estado.draw(\"latex\")"
   ]
  },
  {
   "cell_type": "code",
   "execution_count": 12,
   "id": "0f20db67",
   "metadata": {},
   "outputs": [
    {
     "data": {
      "text/latex": [
       "$$ |10\\rangle$$"
      ],
      "text/plain": [
       "<IPython.core.display.Latex object>"
      ]
     },
     "execution_count": 12,
     "metadata": {},
     "output_type": "execute_result"
    }
   ],
   "source": [
    "Circuito.swap(0,1)\n",
    "estado = Statevector.from_int(0,2**2)\n",
    "estado = estado.evolve(Circuito)\n",
    "estado.draw(\"latex\")"
   ]
  },
  {
   "cell_type": "markdown",
   "id": "6826df5b",
   "metadata": {},
   "source": [
    "Donde el método **swap()** es el que intercambia los qubits de posición, como primer parámetro pide la posición de primer qubit y como segundo parámetro la posición del segundo qubit, su dibujo representativo es:\n"
   ]
  },
  {
   "cell_type": "code",
   "execution_count": 14,
   "id": "8d277dfb",
   "metadata": {},
   "outputs": [
    {
     "data": {
      "image/png": "[encoded data removed]",
      "text/plain": [
       "<Figure size 146.652x144.48 with 1 Axes>"
      ]
     },
     "execution_count": 14,
     "metadata": {},
     "output_type": "execute_result"
    }
   ],
   "source": [
    "Circuito = QuantumCircuit(2)\n",
    "Circuito.swap(0,1)\n",
    "Circuito.draw(\"mpl\")"
   ]
  },
  {
   "cell_type": "markdown",
   "id": "10d1be7f",
   "metadata": {},
   "source": [
    "También es posible generar un intercambio en posiciones que este separadas entre si, por ejemplo con 3 qubits es posible hacer lo siguiente:"
   ]
  },
  {
   "cell_type": "code",
   "execution_count": 16,
   "id": "3fa14736",
   "metadata": {},
   "outputs": [
    {
     "data": {
      "image/png": "[encoded data removed]",
      "text/plain": [
       "<Figure size 146.797x204.68 with 1 Axes>"
      ]
     },
     "execution_count": 16,
     "metadata": {},
     "output_type": "execute_result"
    }
   ],
   "source": [
    "Circuito = QuantumCircuit(3)\n",
    "Circuito.swap(0,2)\n",
    "Circuito.draw(\"mpl\")"
   ]
  },
  {
   "cell_type": "markdown",
   "id": "005d0c98",
   "metadata": {},
   "source": [
    "Esto, sin afectar el qubit de la primera posición."
   ]
  },
  {
   "cell_type": "markdown",
   "id": "a8bcafbf",
   "metadata": {},
   "source": [
    "**Compuerta general en un qubit**"
   ]
  },
  {
   "cell_type": "markdown",
   "id": "e1c5e15a",
   "metadata": {},
   "source": [
    "Visto anteriormente, algunas compuertas que se pueden aplicar en un qubit pero estas se pueden generalizar en una sola compuerta llamada **Compuerta U** o **compuerta general**, denotada de la siguiente manera:\n",
    "\\begin{equation}\n",
    "\\textbf{U}(\\theta, \\phi, \\lambda) = \\begin{bmatrix} \\cos(\\frac{\\theta}{2}) & -e^{i\\lambda}\\sin(\\frac{\\theta}{2}) \\\\ e^{i\\phi}\\sin(\\frac{\\theta}{2}) & e^{i(\\phi+\\lambda)}\\cos(\\frac{\\theta}{2}) \\end{bmatrix},\n",
    "\\end{equation}\n",
    "para todo  $0\\leq\\theta\\leq\\pi$, $0\\leq \\phi<2\\pi$ y $0\\leq \\lambda<2\\pi$. Donde $\\theta$, $\\phi$ y $\\lambda$ son los ángulos de Euler. Sí tomamos los siguientes ángulos, podemos obtener ciertas matrices mencionadas anteriormente, es decir:\n",
    "\\begin{equation}\n",
    "\\textbf{H}=\\textbf{U}(\\frac{\\pi}{2}, 0, \\pi ) = \\frac{1}{\\sqrt{2}}\\begin{bmatrix}\n",
    "1 & 1\\\\\n",
    "1 & -1 \n",
    "\\end{bmatrix},\n",
    "\\end{equation}\n",
    "\n",
    "\\begin{equation}\n",
    "\\textbf{X}=\\textbf{U}(\\pi, 0, \\pi ) = \\begin{bmatrix}\n",
    "0 & 1\\\\\n",
    "1 & 0 \n",
    "\\end{bmatrix},\n",
    "\\end{equation}\n",
    "\n",
    "\\begin{equation}\n",
    "\\textbf{Y}=\\textbf{U}(\\pi, \\frac{pi}{2}, \\frac{pi}{2} ) = \\begin{bmatrix}\n",
    "0 & -i\\\\\n",
    "i & 0 \n",
    "\\end{bmatrix},\n",
    "\\end{equation}\n",
    "\n",
    "\\begin{equation}\n",
    "\\textbf{Z}=\\textbf{U}(0, 0, \\pi ) = \\begin{bmatrix}\n",
    "1 & 0\\\\\n",
    "0 & -1 \n",
    "\\end{bmatrix},\n",
    "\\end{equation}\n",
    "\\begin{equation}\n",
    "\\textbf{I}=\\textbf{U}(0, 0, 0 ) = \\begin{bmatrix}\n",
    "1 & 0\\\\\n",
    "0 & 1 \n",
    "\\end{bmatrix}.\n",
    "\\end{equation}\n",
    "Aún así, con la compuerta $\\textbf{U}$, se pueden obtener más operadores importantes que generar cambios en un qubit.\n",
    "\n",
    "El uso de la compuerta $\\textbf{U}$ en qiskit mediante el método **u()**, donde, el primer parámetro es el ángulo $\\theta$, el segundo parámetro es el ángulo $\\phi$, el tercer parámetro es el ángulo $\\lambda$ y el cuarto parámetro es la posición de qubit, es decir, por ejemplo si deseamos obtener la compuerta $\\textbf{H}$ mediante la compuerta $\\textbf{u}$, aplicamos los ángulos correspondientes vistos anteriormente dentro del método **u()** tal que:"
   ]
  },
  {
   "cell_type": "code",
   "execution_count": 15,
   "id": "b8b42808",
   "metadata": {},
   "outputs": [
    {
     "data": {
      "image/png": "[encoded data removed]",
      "text/plain": [
       "<Figure size 133.526x84.28 with 1 Axes>"
      ]
     },
     "execution_count": 15,
     "metadata": {},
     "output_type": "execute_result"
    }
   ],
   "source": [
    "Circuito = QuantumCircuit(1)\n",
    "Circuito.u(np.pi/2, 0, np.pi, 0)\n",
    "Circuito.draw(\"mpl\")"
   ]
  },
  {
   "cell_type": "code",
   "execution_count": 17,
   "id": "8eb5d1bc",
   "metadata": {},
   "outputs": [
    {
     "data": {
      "text/latex": [
       "$$\\frac{\\sqrt{2}}{2} |0\\rangle+\\frac{\\sqrt{2}}{2} |1\\rangle$$"
      ],
      "text/plain": [
       "<IPython.core.display.Latex object>"
      ]
     },
     "execution_count": 17,
     "metadata": {},
     "output_type": "execute_result"
    }
   ],
   "source": [
    "estado = Statevector.from_int(0,2**1)\n",
    "estado = estado.evolve(Circuito)\n",
    "estado.draw(\"latex\")"
   ]
  },
  {
   "cell_type": "markdown",
   "id": "72e7f0a8",
   "metadata": {},
   "source": [
    "Que es lo mismo que aplicar directamente el método **h()** al qubit de la posición $0$. \n",
    "\n",
    "Además de las compuertas vistas anteriormente con la compuerta $\\textbf{U}$ se pueden obtener más compuertas útiles. Si deseamos generar una superposición de los estados base $\\left|0\\right\\rangle$ y $\\left|1\\right\\rangle$ con amplitudes de probabilidad por cada base que queramos mediante los ángulos $\\phi$ y $\\lambda$, podemos usar la siguente compuerta con $\\theta=\\frac{\\pi}{2}$:\n",
    "\n",
    "\\begin{equation}\n",
    "\\textbf{U}(\\frac{\\pi}{2}, \\phi, \\lambda) =\\textbf{U}_{2}(\\phi, \\lambda)= \\frac{1}{\\sqrt{2}}\\begin{bmatrix} 1 & -e^{i\\lambda} \\\\ e^{i\\phi} & e^{i(\\phi+\\lambda)} \\end{bmatrix},\n",
    "\\end{equation}\n",
    "\n",
    "con esto, podemos generar un vector estado cualquiera dentro de la esfera de Bloch. Para usarlo en Qiskit usamos el método **u2()** donde el primer parámetro es el ángulo $\\phi$, el segundo parámetro es $\\lambda$ y el tercer parámetro la posición del qubit al cual le deseamos aplicar el operador. Por ejemplo, para $\\phi=\\frac{\\pi}{3}$ y $\\lambda=\\frac{\\pi}{4}$ obtenemos el siguiente vector estado:"
   ]
  },
  {
   "cell_type": "code",
   "execution_count": 10,
   "id": "ac60530e",
   "metadata": {},
   "outputs": [
    {
     "name": "stderr",
     "output_type": "stream",
     "text": [
      "/usr/local/lib/python3.6/dist-packages/ipykernel_launcher.py:2: DeprecationWarning: The QuantumCircuit.u2 method is deprecated as of 0.16.0. It will be removed no earlier than 3 months after the release date. You can use the general 1-qubit gate QuantumCircuit.u instead: u2(φ,λ) = u(π/2, φ, λ). Alternatively, you can decompose it interms of QuantumCircuit.p and QuantumCircuit.sx: u2(φ,λ) = p(π/2+φ) sx p(λ-π/2) (1 pulse on hardware).\n",
      "  \n"
     ]
    },
    {
     "data": {
      "image/png": "[encoded data removed]",
      "text/plain": [
       "<Figure size 133.526x84.28 with 1 Axes>"
      ]
     },
     "execution_count": 10,
     "metadata": {},
     "output_type": "execute_result"
    }
   ],
   "source": [
    "circuito = QuantumCircuit(1)\n",
    "circuito.u2(np.pi/3,np.pi/4,0)\n",
    "circuito.draw(\"mpl\")"
   ]
  },
  {
   "cell_type": "code",
   "execution_count": 11,
   "id": "ac0e38ea",
   "metadata": {},
   "outputs": [
    {
     "data": {
      "text/latex": [
       "$$\\frac{\\sqrt{2}}{2} |0\\rangle+ (\\frac{\\sqrt{2}}{4} + \\frac{\\sqrt{6} i}{4}) |1\\rangle$$"
      ],
      "text/plain": [
       "<IPython.core.display.Latex object>"
      ]
     },
     "execution_count": 11,
     "metadata": {},
     "output_type": "execute_result"
    }
   ],
   "source": [
    "estado = Statevector.from_int(0,2**1)\n",
    "estado = estado.evolve(circuito)\n",
    "estado.draw(\"latex\")"
   ]
  },
  {
   "cell_type": "markdown",
   "id": "f225b041",
   "metadata": {},
   "source": [
    "el método **u2()** en futuras actualizaciones dejará de estar dentro de la librería, con lo cual, una alternativa para usar la compuerta $\\textbf{U}_{2}$ es mediante la compuerta $\\textbf{U}$, tal que :"
   ]
  },
  {
   "cell_type": "code",
   "execution_count": 18,
   "id": "91e611d5",
   "metadata": {},
   "outputs": [
    {
     "data": {
      "text/latex": [
       "$$\\frac{\\sqrt{2}}{2} |0\\rangle+ (\\frac{\\sqrt{2}}{4} + \\frac{\\sqrt{6} i}{4}) |1\\rangle$$"
      ],
      "text/plain": [
       "<IPython.core.display.Latex object>"
      ]
     },
     "execution_count": 18,
     "metadata": {},
     "output_type": "execute_result"
    }
   ],
   "source": [
    "Circuito = QuantumCircuit(1)\n",
    "Circuito.u(np.pi/2, np.pi/3,np.pi/4,0)\n",
    "estado = Statevector.from_int(0,2**1)\n",
    "estado = estado.evolve(circuito)\n",
    "estado.draw(\"latex\")"
   ]
  },
  {
   "cell_type": "markdown",
   "id": "6e1a1f1c",
   "metadata": {},
   "source": [
    "Otra compuerta que se puede obtener de la compuerta $\\textbf{U}$, es la compuerta que aplica una fase al vector estado, más especificamente se aplica una fase en el estado base $\\left|1\\right\\rangle$. Esta se obtiene aplicando un ángulo $\\theta=0$, un ángulo $\\phi=0$ y siendo el ángulo de fase arbitrario $\\lambda$, tal que:\n",
    "\\begin{equation}\n",
    "\\textbf{U}(0, 0, \\lambda) = \\textbf{P}(\\lambda)= \\begin{bmatrix} 1 & 0 \\\\ 0 & e^{i\\lambda} \\end{bmatrix},\n",
    "\\end{equation}\n",
    "donde $\\textbf{P}$ es la  compuerta que aplica una fase arbitraria $\\lambda$. De esta compuerta también se puede obtener la compuerta de Pauli Z de la siguiente forma:\n",
    "\\begin{equation}\n",
    "\\textbf{Z} = \\textbf{P}(\\pi)= \\begin{bmatrix} 1 & 0 \\\\ 0 & -1 \\end{bmatrix},\n",
    "\\end{equation}\n",
    "es decir que la compuerta Z aplica una fase con un ángulo de $\\pi$ al estado. Para usar la compuerta $\\textbf{P}$, llamamos al método **p()**, donde el primer parámetro es el ángulo de fase y el segundo parámetro es la posición de qubit, es decir:"
   ]
  },
  {
   "cell_type": "code",
   "execution_count": 26,
   "id": "370fb2ed",
   "metadata": {},
   "outputs": [
    {
     "data": {
      "image/png": "[encoded data removed]",
      "text/plain": [
       "<Figure size 193.726x84.28 with 1 Axes>"
      ]
     },
     "execution_count": 26,
     "metadata": {},
     "output_type": "execute_result"
    }
   ],
   "source": [
    "Circuito = QuantumCircuit(1)\n",
    "Circuito.x(0) #dado que p es aplicado únicamente en el estado |1>, entonces aplicamos la compuerta x a |0>\n",
    "Circuito.p(np.pi,0)\n",
    "Circuito.draw(\"mpl\")"
   ]
  },
  {
   "cell_type": "code",
   "execution_count": 27,
   "id": "a76a61c9",
   "metadata": {},
   "outputs": [
    {
     "data": {
      "text/latex": [
       "$$- |1\\rangle$$"
      ],
      "text/plain": [
       "<IPython.core.display.Latex object>"
      ]
     },
     "execution_count": 27,
     "metadata": {},
     "output_type": "execute_result"
    }
   ],
   "source": [
    "estado = Statevector.from_int(0,2**1)\n",
    "estado = estado.evolve(Circuito)\n",
    "estado.draw(\"latex\")"
   ]
  },
  {
   "cell_type": "markdown",
   "id": "b9da5a18",
   "metadata": {},
   "source": [
    "Dado que ahora sabemos que la compuerta **Z** aplica una fase de $\\pi$ al estado, ahora, si deseamos aplicar la mitad de la fase, es decir, $\\frac{\\pi}{2}$ podemos construir una nueva compuerta mediante la compuerta **P** de tal manera que:\n",
    "\\begin{equation}\n",
    "\\textbf{S} = \\textbf{P}(\\frac{\\pi}{2})= \\begin{bmatrix} 1 & 0 \\\\ 0 & i \\end{bmatrix},\n",
    "\\end{equation}\n",
    "donde $\\textbf{S}$ aplica una fase al estado vector de $\\frac{pi}{2}$. Sí aplicamos dos veces $\\textbf{S}$ al vector estado $\\left|q\\right\\rangle$ es lo mismo que aplicar **Z** una vez, es decir: \n",
    "\\begin{equation}\n",
    "\\textbf{SS}\\left|q\\right\\rangle = \\textbf{Z}\\left|q\\right\\rangle,\n",
    "\\end{equation}\n",
    "dado a lo anterior $\\textbf{S}$ también es denotado como $\\sqrt{\\textbf{Z}}$. Sí deseamos aplicar una fase de $-\\frac{pi}{2}$, es decir, en el sentido contrario a la compuerta **S**, simplemente aplicamos el operador daga a **S** tal que:\n",
    "\\begin{equation}\n",
    "\\textbf{S}^\\dagger =  \\begin{bmatrix} 1 & 0 \\\\ 0 & -i \\end{bmatrix},\n",
    "\\end{equation}\n",
    "con esto, sí aplicamos **S** al vector estado $\\left|q\\right\\rangle$ y luego $\\textbf{S}^\\dagger$, es lo mismo que aplicar el operador identidad, es decir: \n",
    "\\begin{equation}\n",
    "\\textbf{S}^{\\dagger}\\textbf{S}\\left|q\\right\\rangle = \\textbf{I}\\left|q\\right\\rangle.\n",
    "\\end{equation}\n",
    "\n",
    "También podemos aplicar la mitad de fase que aplica **S** a un vector estado, o sea, un ángulo de $\\frac{pi}{4}$ tal que obtenemos lo siguiente:\n",
    "\n",
    "\\begin{equation}\n",
    "\\textbf{T} = \\textbf{P}(\\frac{\\pi}{4})= \\begin{bmatrix} 1 & 0 \\\\ 0 & e^{i\\pi/4} \\end{bmatrix},\n",
    "\\end{equation}\n",
    "Donde **T** es la compuerta que aplica una fase a un vector estado $\\left|q\\right\\rangle$  de $\\frac{\\pi}{4}$, y también es denotada como  $\\sqrt{\\textbf{S}}$, debido a lo siguiente:\n",
    "\\begin{equation}\n",
    "\\textbf{TT}\\left|q\\right\\rangle = \\textbf{S}\\left|q\\right\\rangle.\n",
    "\\end{equation}\n",
    "Así como sucede con la compuerta **S**, también podemos aplicar una fase de $-\\frac{\\pi}{4}$ aplicando el operador daga a **T**, tal que:\n",
    "\n",
    "\\begin{equation}\n",
    "\\textbf{T}^{\\dagger} = \\begin{bmatrix} 1 & 0 \\\\ 0 & e^{-i\\pi/4} \\end{bmatrix}.\n",
    "\\end{equation}\n",
    "\n",
    "Para usar $\\textbf{S}$ en Qiskit usamos el método **s()**, donde, el parámetro a ingresar es la posición de qubit. Con $\\textbf{S}^{\\dagger}$ usamos el método **sgd()**, donde el parámetro a inglesar también es la posición de qubit. Con $\\textbf{T}$ y $\\textbf{T}^{\\dagger}$ usamos los métodos  **t()** y **tdg()** respectivamente y el parámetro a ingresar es la posición de qubit. Dichos operadores son usados de la siguente manera en la siguente celda:"
   ]
  },
  {
   "cell_type": "code",
   "execution_count": 30,
   "id": "9e690772",
   "metadata": {},
   "outputs": [
    {
     "data": {
      "image/png": "[encoded data removed]",
      "text/plain": [
       "<Figure size 146.797x264.88 with 1 Axes>"
      ]
     },
     "execution_count": 30,
     "metadata": {},
     "output_type": "execute_result"
    }
   ],
   "source": [
    "circuito = QuantumCircuit(4)\n",
    "circuito.s(0)\n",
    "circuito.sdg(1)\n",
    "circuito.t(2)\n",
    "circuito.tdg(3)\n",
    "circuito.draw(\"mpl\")"
   ]
  },
  {
   "cell_type": "markdown",
   "id": "271514f4",
   "metadata": {},
   "source": [
    "Las anteriores compuertas vistas son útiles para generar nuevas compuertas, por ejemplo, sabemos que la compuerta **CNOT** aplica una compuerta $\\textbf{X}$, dada unas condiciones dadas como vimos anteriormente, pero, si deseamos generar una compuerta condiciónal que funcione como **CNOT** pero que aplique $\\textbf{Y}$, entonces podemos usar $\\textbf{S}$ y $\\textbf{S}^{\\dagger}$, tal que: \n",
    "\\begin{equation}\n",
    "\\textbf{S}\\textbf{X}\\textbf{S}^{\\dagger} = \\textbf{Y}\n",
    "\\end{equation}\n",
    "esto quiere decir que el circuito queda de la siguiente manera en Qiskit:"
   ]
  },
  {
   "cell_type": "code",
   "execution_count": 32,
   "id": "b985ec77",
   "metadata": {},
   "outputs": [
    {
     "data": {
      "image/png": "[encoded data removed]",
      "text/plain": [
       "<Figure size 267.052x144.48 with 1 Axes>"
      ]
     },
     "execution_count": 32,
     "metadata": {},
     "output_type": "execute_result"
    }
   ],
   "source": [
    "circuito = QuantumCircuit(2)\n",
    "circuito.sdg(1)\n",
    "circuito.cx(0,1)\n",
    "circuito.s(1)\n",
    "circuito.draw(\"mpl\")"
   ]
  },
  {
   "cell_type": "markdown",
   "id": "89e6e0af",
   "metadata": {},
   "source": [
    "eso lo que quiere decir es que si se cumplen las condiciones de **CNOT** se aplica $\\textbf{X}$, pero como aplicamos al inicio y al final respectivamente $\\textbf{S}$ y $\\textbf{S}^{\\dagger}$, entonces se aplica es $\\textbf{Y}$ si se cumple la condición de **CNOT**. "
   ]
  },
  {
   "cell_type": "markdown",
   "id": "376c90a7",
   "metadata": {},
   "source": [
    "**Operadores condicionales**"
   ]
  },
  {
   "cell_type": "markdown",
   "id": "4264f5b3",
   "metadata": {},
   "source": [
    "Sabemos que podemos cambiar el estado vector de un qubit en especifico mediante las condiciones dadas por el qubit de control que uno aplique como en este caso sucede con la compuerta **CNOT**, en este caso también podemos generar \"operadores\" los cuales se manejen dadas las condiciones de un bit, es decir, dadas las condiciones de una medición hecha. en este caso usamos el método **c_if()**, donde el primer parámetro tiene en cuenta la posición del bit asociado a la medición y el segundo parámetro es el qubit al cual se le generar la condición. Si el bit contiene la mide efectivamente el estado base $\\left|0\\right\\rangle$, es decir, el bit es 0, significa que se debe generar la condición al qubit elegido, si se mide efectivamente el estado base $\\left|1\\right\\rangle$, entonces no hace nada. Es de aclarar que no se puede aplicar operador de condición si el qubit ha sido medido, ya que el estado vector ha colapsado por la medición hecha, con lo cual el qubit medido y el qubit al cual se le aplica la condición deben ser distintos. \n",
    "Por ejemplo, tenemos un sistema con dos qubits, al primer qubits aplicamos el operador Hadamard, es decir que al medir dicho qubit, obtendremos una probabilidad del $50\\%$ de medir, alguno de los dos vectores base, entonces, para el otro qubit aplicamos la siguiente condición: si al anterior qubit al hacer la medición obtenemos $\\left|0 \\right \\rangle$, entonces aplicamos al segundo qubit la compuerta $\\textbf{X}$, caso contrario no hace nada. Dicho ejemplo anterior queda escrito en Python de la siguiente forma:"
   ]
  },
  {
   "cell_type": "code",
   "execution_count": 38,
   "id": "9b60669e",
   "metadata": {},
   "outputs": [
    {
     "data": {
      "image/png": "[encoded data removed]",
      "text/plain": [
       "<Figure size 267.052x204.68 with 1 Axes>"
      ]
     },
     "execution_count": 38,
     "metadata": {},
     "output_type": "execute_result"
    }
   ],
   "source": [
    "circuito = QuantumCircuit(2,1) #2 qubits, 1 bit asociado a la medición del qubit de posicion 0.\n",
    "circuito.h(0) #aplicar Hadamard.\n",
    "circuito.measure(0,0) #medir que qubit de la posición 0 y alojar el resultado en el bit 0.\n",
    "circuito.x(1).c_if(0,0) #aplicar x al qubit de la posición 0 sí el bit de la posición del bit 0 es 0.\n",
    "circuito.draw(\"mpl\")\n",
    " "
   ]
  },
  {
   "cell_type": "code",
   "execution_count": null,
   "id": "d1b7c21b",
   "metadata": {},
   "outputs": [],
   "source": []
  }
 ],
 "metadata": {
  "kernelspec": {
   "display_name": "Python 3",
   "language": "python",
   "name": "python3"
  },
  "language_info": {
   "codemirror_mode": {
    "name": "ipython",
    "version": 3
   },
   "file_extension": ".py",
   "mimetype": "text/x-python",
   "name": "python",
   "nbconvert_exporter": "python",
   "pygments_lexer": "ipython3",
   "version": "3.6.9"
  }
 },
 "nbformat": 4,
 "nbformat_minor": 5
}
