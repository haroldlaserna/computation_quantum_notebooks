{
 "cells": [
  {
   "cell_type": "markdown",
   "id": "b180acac",
   "metadata": {},
   "source": [
    "**Algoritmo de Shor**\n",
    "\n",
    "El algoritmo de Shor es una método lo suficiente optimo para encontrar 2 números primos que representen a un numéro entero $N$ dado, algoritmo es un circuito cuántico que es más rápido con una métodología clásica. Para entender dicho algoritmo inicialmente se tiene que definir el teorema fundamental de la aritmética, que relaciona números primos con un número entero, luego, para observar desde la perspectiva clásica la solución de encontrar los factores primos de $N$, también necesitaremos entender el **módulo aritmético**.\n",
    "\n",
    "**Teorema fundamental de la aritmética**\n",
    "\n",
    "Sea $n\\in \\mathbb{Z}$  y $n>1$, donde $n$ puede ser representado por un único producto de números primos, es decir:\n",
    "\\begin{equation}\n",
    "n = \\prod_{i=1}^{n}p_{i}^{m_{i}}.\n",
    "\\end{equation}\n",
    "Donde $p_{i}$ es el i-ésimo primo, y $m_{i}$ es ún número entero, es decir que $\\prod_{i=1}^{n}p_{i}^{m_{i}}$ es:\n",
    "\\begin{equation}\n",
    "\\prod_{i=1}^{n}p_{i}^{m_{i}}=2^{m_{1}}3^{m_{2}}5^{m_{3}}7^{m_{4}}\\dots p_{k}^{m_{k}},\n",
    "\\end{equation}\n",
    "dicha representación de un número natural en términos de números primos se llama **representación canónica**.\n",
    "Ahora, todo número entero número $n>1,$ puede ser representado en terminos de primos **únicos**, es decir que no existe otra combinación de producto de números primos que representen el mismo número $n$, Lo anterior es llamado **Teorema fundamental de la aritmética**. \n",
    "Por ejemplo el siguiente número $5544$ es representado mediante números primos de la siguente forma:\n",
    "\\begin{equation}\n",
    "5544=2^{3}3^{2}7^{1}11^{1},\n",
    "\\end{equation}\n",
    "para este número no existe otra representación con distintos números primos, es decir que esos números primos son los únicos que pueden representar a $5544$.\n",
    "\n",
    "\n",
    "**Módulo aritmético**\n",
    "\n",
    "El módulo aritmético es el residuo $b$ de la división de los valores enteros $a$ y $N$ y se representa de la siguente forma:\n",
    "\\begin{equation}\n",
    "b \\equiv a \\left(mod \\; N\\right).\n",
    "\\end{equation}\n",
    "\n",
    "Una forma alternativa de encontrar el valor de $b$  es encontrar un valor $k$ entero que sea múltiplo de N, tal que:\n",
    "\\begin{equation}\n",
    "\\frac{|b - a|}{n}=k,\n",
    "\\end{equation}\n",
    "\n",
    "Con lo anterior, podemos observar 2 cosas: La primera es que debido al valor absoluto de la ecuación anterior quiere decir entonces que el módulo tiene propiedad de simetría, es decir:\n",
    "\n",
    "\\begin{equation}\n",
    "b \\equiv a \\left(mod \\; N\\right),\\\\\n",
    "a \\equiv b \\left(mod \\; N\\right).\n",
    "\\end{equation}\n",
    "La segunda es que para un número $N$ entero existe varios multiplos $k$, con tal existencia quiere decir que no existe un único valor para el módulo es decir que:\n",
    "\\begin{equation}\n",
    "b_{n} \\equiv b_{1} \\equiv a \\left(mod \\; N\\right).\n",
    "\\end{equation}\n",
    "Es por esto que no usamos el simbolo de igualdad $=$ si no, el símbolo de equivalencia $\\equiv$.\n",
    "Por ejemplo, se desea calcular $30 \\left(mod \\; 7\\right)$, con lo cual tenemos:\n",
    "\\begin{equation}\n",
    "\\frac{|b - 30|}{7}=k,\n",
    "\\end{equation}\n",
    "el objetivo es encontrar un número $b$ tal que $k$ sea múltiplo de k. Sí escojemos $b=2$ entonces, $k=4$, esto quiere decir que $2 \\equiv 30 \\left(mod \\; 7\\right)$. Pero también podemos escojer otro $b$ tal que tenemos más soluciones, es decir con $b=9$ entonces $k=3$,$b=16$ entonces $k=2$, es decir que las soluciones son:\n",
    "\\begin{equation}\n",
    "16 \\equiv 9 \\equiv 2 \\equiv 30 \\left(mod \\; 7\\right).\n",
    "\\end{equation}\n",
    "**Método clásico para encontrar los factores primos de $N$**.\n",
    "\n",
    "Sea $N$ ún número entero que se pueda representar por el producto de dos números primos $p$ y $q$ desconocidos, tal que:\n",
    "\\begin{equation}\n",
    "N=pq.\n",
    "\\end{equation}\n",
    "Para encontrar estos dos números primos se sigue el siguiente método:\n",
    "Escogemos un número $a$ tal que $a<N$.\n",
    "Luego analizamos si $a$ es coprimo de $N$, es decir que el único maximo común divisor sea $1$, $mcd(a, b) = 1$, esto quiere decir que no tiene un número primo que divida a $a$ como a $N$. Ahora tenemos que encontrar un valor $r$ tal que $a^r-1$ sea múltiplo de $N$, es decir:\n",
    "\\begin{equation}\n",
    "\\frac{a^r-1}{N} = k,\n",
    "\\end{equation}\n",
    "donde $k$ es un múltiplo de $N$ y $r$ es llamado periodo. Con el módulo aritmético y la ecuación anterior podemos escribir lo siguiente:\n",
    "\\begin{equation}\n",
    "a^r \\equiv 1 \\left(mod \\; N\\right), \n",
    "\\end{equation}\n",
    "por propiedad de simetría tenemos que:\n",
    "\\begin{equation}\n",
    "1 \\equiv a^r \\left(mod \\; N\\right), \n",
    "\\end{equation}\n",
    "Con lo cual, el objetivo es encontrar un periodo $r$ tal que el módulo $a^r \\left(mod \\; N\\right)$ de como resultado $1$. Luego de encontrado $r$, sí $r$ es impar, entonces volvemos al inicio y escogemos otro valor $a$ que también sea coprimo a $N$, luego, volver a calcular un número $r$. sí $r$ es par, entonces se calcula un valor $x$ tal que:\n",
    "\\begin{equation}\n",
    "x \\equiv a^{r/2} \\left(mod \\; N\\right).\n",
    "\\end{equation}\n",
    "Luego, comprobamos que:\n",
    "\\begin{equation}\n",
    "x \\not\\equiv 0 \\left(mod \\; N\\right),\n",
    "\\end{equation}\n",
    "en caso contrario, buscamos otro número $a$ coprimo a $N$. Finalmente, de calculado x, podemos calcular el primer número primo $p$. como:\n",
    "\\begin{equation}\n",
    "mcd(x+1,N) = q,\n",
    "\\end{equation}\n",
    "y el número primo $q$ como:\n",
    "\\begin{equation}\n",
    "mcd(x-1,N) = p.\n",
    "\\end{equation}\n",
    "Por ejemplo, sea $N=21$. ahora buscamos un número $a$ que sea menor a $N$ tal que $mcd(a,N)=1$, usamos la función de la librería númpy llamada **gcd()** (greatest common divisor), el cual calculo el máximo común divisor, como primer parámetro el primer número y segundo parámetro el segundo número de los cuales se desea saber ese máximo comun divisor. mediante **for** se analizará desde $a=2$ hasta cuál de ellos es coprimo de $N$: \n",
    "\n"
   ]
  },
  {
   "cell_type": "code",
   "execution_count": 49,
   "id": "1e7ecda3",
   "metadata": {},
   "outputs": [
    {
     "name": "stdout",
     "output_type": "stream",
     "text": [
      "2  es coprimo de  21\n",
      "4  es coprimo de  21\n",
      "5  es coprimo de  21\n",
      "8  es coprimo de  21\n",
      "10  es coprimo de  21\n",
      "11  es coprimo de  21\n",
      "13  es coprimo de  21\n",
      "16  es coprimo de  21\n",
      "17  es coprimo de  21\n",
      "19  es coprimo de  21\n",
      "20  es coprimo de  21\n"
     ]
    }
   ],
   "source": [
    "import numpy as np\n",
    "N=21\n",
    "for i in range(2,N):\n",
    "    if np.gcd(N,i) == 1:\n",
    "        print(i, \" es coprimo de \",N )"
   ]
  },
  {
   "cell_type": "markdown",
   "id": "5db70538",
   "metadata": {},
   "source": [
    "De lo anterior se escoge alguno de los coprimos calculados en este caso se escogerá $a=19$. Ahora se encontrará el periodo $r$ tal que $1\\equiv19^r\\left(mod\\;21\\right)$. Para $r=1$ se tiene:\n",
    "\\begin{equation}\n",
    "19\\equiv19\\left(mod\\;21\\right).\n",
    "\\end{equation}\n",
    "Para $r=2$:\n",
    "\\begin{equation}\n",
    "4\\equiv19^{2}\\left(mod\\;21\\right).\n",
    "\\end{equation}\n",
    "Para $r=3$:\n",
    "\\begin{equation}\n",
    "13\\equiv19^{3}\\left(mod\\;21\\right).\n",
    "\\end{equation}\n",
    "Para $r=4$:\n",
    "\\begin{equation}\n",
    "16\\equiv19^{4}\\left(mod\\;21\\right).\n",
    "\\end{equation}\n",
    "Para $r=5$:\n",
    "\\begin{equation}\n",
    "10\\equiv19^{5}\\left(mod\\;21\\right).\n",
    "\\end{equation}\n",
    "Y con $r=6$:\n",
    "\\begin{equation}\n",
    "1\\equiv19^{6}\\left(mod\\;21\\right).\n",
    "\\end{equation}\n",
    "Luego de encontrar $r$ que es $r=6$,  sabemos que es número par con lo cual, calculamos lo siguiente: \n",
    "\\begin{equation}\n",
    "x \\equiv a^{6/2} \\left(mod \\; 21\\right) = a^{3} \\left(mod \\; 21\\right),\n",
    "\\end{equation}\n",
    "\\begin{equation}\n",
    "13 \\equiv a^{3} \\left(mod \\; 21\\right).\n",
    "\\end{equation}\n",
    "Luego de calculado $x=13$ sabemos que:\n",
    "\\begin{equation}\n",
    "13+1 \\not\\equiv 0 \\left(mod \\; 21\\right).\n",
    "\\end{equation}\n",
    "Con lo cual, $x=13$ es el candidato optimo para calcular los dos factores primos de $N=21$. Primero se calcula el primo $p$ tal que:\n",
    "\\begin{equation}\n",
    "p=mcd(13+1,21),\n",
    "\\end{equation}\n",
    "\\begin{equation}\n",
    "p=7.\n",
    "\\end{equation}\n",
    "Finalmente, se calcula el otro primo $q$, tal que:\n",
    "\\begin{equation}\n",
    "p=mcd(13-1,21),\n",
    "\\end{equation}\n",
    "\\begin{equation}\n",
    "p=3.\n",
    "\\end{equation}\n",
    "Con esto se termina de calcular los factores primos tal que $N=21=7\\times3$."
   ]
  },
  {
   "cell_type": "markdown",
   "id": "896444ed",
   "metadata": {},
   "source": [
    "Parece trivial el hecho de encontrar estos dos números primos dado un entero $N$, pero, cuando el número entero es lo suficientemente grande, esto puede volverse para un computador personar promedio imposible de resolver, y para un supercomputador el tiempo computacional es de años o siglos dependiendo del entero, el orden de tiempo computacional para este método es calculado como:\n",
    "\\begin{equation}\n",
    "O(exp(c*N^{1/3}*(log\\;N)^{2/3})),\n",
    "\\end{equation}\n",
    "pero con el algoritmo de Shor ejecutado en un computador cuántico el orden de tiempo computacional es\n",
    "\\begin{equation}\n",
    "O(N^2\\left(log\\;N\\right)\\left(log\\;log\\;N\\right)),\n",
    "\\end{equation}\n",
    "esto quiere decir que mientras que en un computador clásico dado un entero $N$, se demorará años en encontrar los factores primos si dicho número es muy grande, mientras en un computador cuántico buscando los mismos factores primos se demorará de minutos a horas. Con lo cual, el algoritmo de Shor es muchisimo más efectivo que el método clásico."
   ]
  },
  {
   "cell_type": "markdown",
   "id": "97b1cf73",
   "metadata": {},
   "source": [
    "**Transformada de Fourier cuántica**"
   ]
  },
  {
   "cell_type": "markdown",
   "id": "190775c8",
   "metadata": {},
   "source": [
    "Desde la perspectiva clásica de las trasformada de fourier se tiene lo siguiente. Sea el conjunto $\\mathbb{A}={A_{0},A_{1},...,A_{N-1} }$ y el conjunto $\\mathbb{B}={B_{0},B_{1},...,B_{N-1} }$ donde $N$ es el cardinal de $\\mathbb{A}$ y $\\mathbb{B}$, es decir, el número total de elementos que tiene.  lo que se desea es mapear cada elemento de $\\mathbb{A}$ a algún elemento de $\\mathbb{A}$, tal que:\n",
    "\\begin{equation}\n",
    "B_{k}=\\frac{1}{\\sqrt{N}}\\sum_{j=0}^{N-1}A_{j}e^{2\\pi i \\frac{jk}{N}}\n",
    "\\end{equation}\n",
    "\n",
    "Ahora, al aplicar lo anterior a un estado cuántico $|k\\rangle$, con respecto a lo anterior tenemos que:\n",
    "\\begin{equation}\n",
    "\\textbf{Q}_{FT}|k\\rangle=\\frac{1}{\\sqrt{N}}\\sum_{j=0}^{N-1}e^{2\\pi i \\frac{jk}{N}}|j\\rangle\n",
    "\\end{equation}\n",
    "Donde el operador $\\textbf{Q}_{FT}$ es la transfromación de Fourier cuántica. representada como:\n",
    "\n",
    "\\begin{equation}\n",
    "\\textbf{Q}_{FT}=\\frac{1}{\\sqrt{N}}\\sum_{k=0}^{N-1}\\sum_{j=0}^{N-1}e^{2\\pi i \\frac{jk}{N}}|j\\rangle\\langle k|\n",
    "\\end{equation}\n",
    "Para obtener su inversa sabemos que al ser un operador unitario, tenemos que $\\textbf{Q}_{FT}\\textbf{Q}^{\\dagger}_{FT}=\\textbf{I}$. En este caso a la ecuación anterior aplicamos el operador daga tal que:\n",
    "\\begin{equation}\n",
    "\\left(\\textbf{Q}_{FT}|k\\rangle\\right)^{\\dagger}=\\frac{1}{\\sqrt{N}}\\sum_{j=0}^{N-1}\\left(e^{2\\pi i \\frac{jk}{N}}|j\\rangle\\right)^{\\dagger}\n",
    "\\end{equation}\n",
    "\\begin{equation}\n",
    "\\langle k| \\textbf{Q}_{FT}^{\\dagger} =\\frac{1}{\\sqrt{N}}\\sum_{j=0}^{N-1}\\langle j|e^{-2\\pi i \\frac{jk}{N}}\n",
    "\\end{equation}\n",
    "tal que $\\textbf{Q}_{FT}^{\\dagger}$ es:\n",
    "\\begin{equation}\n",
    "\\textbf{Q}_{FT}^{\\dagger} =\\frac{1}{\\sqrt{N}}\\sum_{k=0}^{N-1}\\sum_{j=0}^{N-1} |k\\rangle e^{-2\\pi i \\frac{jk}{N}} \\langle j|\n",
    "\\end{equation}. \n",
    "Si multiplicamos $\\textbf{Q}_{FT}$ por $\\textbf{Q}_{FT}^{\\dagger}$ tenemos que:\n",
    "\\begin{equation}\n",
    "\\textbf{Q}_{FT}\\textbf{Q}_{FT}^{\\dagger}=\\frac{1}{\\sqrt{N}\\sqrt{N}}\\sum_{k=0}^{N-1}\\sum_{j=0}^{N-1}\\sum_{l=0}^{N-1}\\sum_{m=0}^{N-1}e^{2\\pi i \\frac{jk}{N}}|j\\rangle\\langle k|l\\rangle e^{-2\\pi i \\frac{ml}{N}} \\langle m|,\n",
    "\\end{equation}\n",
    "donde $\\langle k|l\\rangle$ únicamente sobreviven los valores cuando $l=k$, tal que:\n",
    "\\begin{equation}\n",
    "\\textbf{Q}_{FT}\\textbf{Q}_{FT}^{\\dagger}=\\frac{1}{N}\\sum_{j=0}^{N-1}\\sum_{l=0}^{N-1}\\sum_{m=0}^{N-1}e^{2\\pi i \\frac{jl}{N}}|j\\rangle\\langle l|l\\rangle e^{-2\\pi i \\frac{ml}{N}} \\langle m|,\n",
    "\\end{equation}\n",
    "pero $\\langle l|l\\rangle=1$\n",
    "\\begin{equation}\n",
    "\\textbf{Q}_{FT}\\textbf{Q}_{FT}^{\\dagger}=\\frac{1}{N}\\sum_{j=0}^{N-1}\\sum_{l=0}^{N-1}\\sum_{m=0}^{N-1}e^{2\\pi i \\frac{jl}{N}}|j\\rangle e^{-2\\pi i \\frac{ml}{N}} \\langle m|.\n",
    "\\end{equation}\n",
    "Organizando, tenemos:\n",
    "\\begin{equation}\n",
    "\\textbf{Q}_{FT}\\textbf{Q}_{FT}^{\\dagger}=\\frac{1}{N}\\sum_{j=0}^{N-1}\\sum_{l=0}^{N-1}\\sum_{m=0}^{N-1}e^{2\\pi i \\frac{jl-ml}{N}}|j\\rangle\\langle m|.\n",
    "\\end{equation}\n",
    "Luego,\n",
    "\\begin{equation}\n",
    "\\textbf{Q}_{FT}\\textbf{Q}_{FT}^{\\dagger}=\\frac{1}{N}\\sum_{j=0}^{N-1}\\sum_{l=0}^{N-1}e^{2\\pi i \\frac{jl-jl}{N}}|j\\rangle\\langle j|.\n",
    "\\end{equation}\n",
    "\\begin{equation}\n",
    "\\textbf{Q}_{FT}\\textbf{Q}_{FT}^{\\dagger}=\\frac{1}{N}\\sum_{j=0}^{N-1}\\sum_{l=0}^{N-1}e^{0}|j\\rangle\\langle j|.\n",
    "\\end{equation} \n",
    "Y tenemos que la sumoria con respecto al índice mudo $l$  es: $\\sum_{l=0}^{N-1}1=N$, tal que:\n",
    "\\begin{equation}\n",
    "\\textbf{Q}_{FT}\\textbf{Q}_{FT}^{\\dagger}=\\frac{N}{N}\\sum_{j=0}^{N-1}|j\\rangle\\langle j|,\n",
    "\\end{equation} \n",
    "donde $\\sum_{j=0}^{N-1}|j\\rangle\\langle j|=\\textbf{I}$ es la matriz identidad con lo cual:\n",
    "\\begin{equation}\n",
    "\\textbf{Q}_{FT}\\textbf{Q}_{FT}^{\\dagger}=\\textbf{I}.\n",
    "\\end{equation}\n",
    "Con lo cual, efectivamente $\\textbf{Q}_{FT}^{\\dagger}$ es el operador de trasformada de Fourier cuántica. Con la transformada de fourier se sabe que pasamos de un espacio en que en este caso lo llamaremos \"espacio de ángulos\" a un espacio de fases. y con la inversa de la transformada de fourier pasamos del espacio de de fases a un espacio de ángulos. Dicha transformación inversa de Fourier es útil a la hora asociar un ángulo o un valor referenciado aun estado dado y de dicho estado medido podamos obtener dicho valor de referencia.\n",
    "Para usar el operador de trasformada de Fourier cuántica en qiskit, hacemo uso de la función **QFT**, donde los parámetros que se usarán son $num_qubits$, el cual recibe como valor el número de qubits a aplicar, $inverse$ el cual recibe un booleano, si es **False** entonces aplica la transformada de Fourier cuántica, si es **True**, entonces aplica la transfromada inversa de Fourier cuántica. Finalmente **name**, si deseamos colocarle un nombre especifico a dicha operación. Dicha función está especificamente alojada en la librería **qiskit.circuit.library**, tal que:"
   ]
  },
  {
   "cell_type": "code",
   "execution_count": 71,
   "id": "a4658e20",
   "metadata": {},
   "outputs": [],
   "source": [
    "from qiskit import *\n",
    "from qiskit.visualization import *\n",
    "from qiskit.circuit.library import QFT\n",
    "from qiskit.quantum_info import Statevector"
   ]
  },
  {
   "cell_type": "markdown",
   "id": "fd05ee6f",
   "metadata": {},
   "source": [
    "Generamos un circuito inicial de $2$ qubits y aplicamos el operador $\\textbf{H}$ a cada uno de ellos:"
   ]
  },
  {
   "cell_type": "code",
   "execution_count": 72,
   "id": "8d1854fa",
   "metadata": {},
   "outputs": [],
   "source": [
    "q = 2\n",
    "circuito = QuantumCircuit(q)"
   ]
  },
  {
   "cell_type": "markdown",
   "id": "c93b6767",
   "metadata": {},
   "source": [
    "Luego aplicamos la Transformada inversa de fourier y la añadimos al circuito con **Compose()**, y la dejamos sin ningún cambio con el parámetro inplace y le añadimos el booleano True."
   ]
  },
  {
   "cell_type": "code",
   "execution_count": 73,
   "id": "1ab2c589",
   "metadata": {},
   "outputs": [
    {
     "data": {
      "image/png": "[encoded data removed]",
      "text/plain": [
       "<Figure size 146.652x144.48 with 1 Axes>"
      ]
     },
     "execution_count": 73,
     "metadata": {},
     "output_type": "execute_result"
    }
   ],
   "source": [
    "fourier_inversa = QFT(num_qubits=q, inverse=True, name='qft')\n",
    "circuito.compose(fourier_inversa,inplace=True)\n",
    "circuito.draw(\"mpl\")"
   ]
  },
  {
   "cell_type": "code",
   "execution_count": 74,
   "id": "d09a0f9c",
   "metadata": {},
   "outputs": [
    {
     "data": {
      "text/latex": [
       "$$\\frac{1}{2} |00\\rangle+\\frac{1}{2} |01\\rangle+\\frac{1}{2} |10\\rangle+\\frac{1}{2} |11\\rangle$$"
      ],
      "text/plain": [
       "<IPython.core.display.Latex object>"
      ]
     },
     "execution_count": 74,
     "metadata": {},
     "output_type": "execute_result"
    }
   ],
   "source": [
    "estado = Statevector.from_int(0,2**q)\n",
    "estado = estado.evolve(circuito)\n",
    "estado.draw(\"latex\")"
   ]
  },
  {
   "cell_type": "markdown",
   "id": "c1835cdb",
   "metadata": {},
   "source": [
    "Observamos que, la transformada de fourier en este caso para un estado inicial $|000\\rangle$ como una compuerta $\\textbf{H}^{\\otimes 2}$, esto quiere decir que la compuerta Hadamard es un caso específico de tranformada de Fourier, siendo las anteriores bases llamadas **bases de Fourier**."
   ]
  },
  {
   "cell_type": "markdown",
   "id": "037acc36",
   "metadata": {},
   "source": [
    "**Método cuántico para encontrar los factores primos de $N$ (Algoritmo de Shor)**. "
   ]
  },
  {
   "cell_type": "markdown",
   "id": "f2195381",
   "metadata": {},
   "source": [
    "Objetivo inicial es asociar el método clásico con los estados cuánticos, con el fín de aprovechar el paralelismo cuántico de los estados. Sea el estado $|x\\rangle$ representado con $q$ qubits y el estado $|0\\rangle_{0}$ representado con $p$ qubits (teniendo en cuenta de forma binaria 00...0 es igual al 0 decimal), tal que:\n",
    "\\begin{equation}\n",
    "|x\\rangle\\otimes|0\\rangle_{0}\\to |x\\rangle\\otimes|f(x)\\rangle\n",
    "\\end{equation}\n",
    "donde $f(x)\\equiv a^x\\left(mod\\;N\\right)$, es decir, que el objetivo es encontrar los estados con f(x)=1\n",
    "\\begin{equation}\n",
    "|1\\rangle = |a^x\\left(mod\\;N\\right)\\rangle\n",
    "\\end{equation}"
   ]
  },
  {
   "cell_type": "markdown",
   "id": "bd3b4a30",
   "metadata": {},
   "source": [
    "En este caso para ilustrar completamente el Algoritmo de shor, se buscará los factores primos de $N=15$, tal que lo primero que tenemos que hacer es buscar un coprimo de $N$, en este caso, $a=13$, luego buscar el periodo $x$. En este caso vamos a definir a $|x\\rangle$ con $4$ qubits iniciales, tal que $|x\\rangle=|0\\rangle^{\\otimes4}$ y el estado $|0\\rangle_{0}=|0\\rangle^{\\otimes 4}$, también con $4$ qubits, tal que = \n",
    "\\begin{equation}\n",
    "|\\varphi_{0}\\rangle=|0\\rangle^{\\otimes4}|0\\rangle^{\\otimes4}. \n",
    "\\end{equation}\n",
    "Se aplicará el operador $\\textbf{H}^{\\otimes 4}$ tal que:\n",
    "\\begin{equation}\n",
    "|\\varphi_{1}\\rangle=\\left(\\textbf{H}^{\\otimes 4}|0\\rangle^{\\otimes4}\\right)|0\\rangle^{\\otimes4}. \n",
    "\\end{equation}\n",
    "\\begin{equation}\n",
    "|\\varphi_{1}\\rangle=\\frac{1}{\\sqrt{2^4}}\\left(\\sum_{x=0}^{2^4-1}|x\\rangle\\right)|0\\rangle^{\\otimes4}. \n",
    "\\end{equation}\n",
    "donde $|x\\rangle$ es el estado base con $4$ qubits, en total tenemos 15 combinaciones: las cuales relacionamos de binarios a decimales de la siguente forma:\n",
    "\\begin{equation}\n",
    "|0000\\rangle = |0\\rangle_{4}, \\\\\n",
    "|1000\\rangle = |1\\rangle_{4}, \\\\\n",
    "|0100\\rangle = |2\\rangle_{4}, \\\\\n",
    "|1100\\rangle = |3\\rangle_{4}, \\\\\n",
    "|0010\\rangle = |4\\rangle_{4}, \\\\\n",
    "|1010\\rangle = |5\\rangle_{4}, \\\\\n",
    "|0110\\rangle = |6\\rangle_{4}, \\\\\n",
    "|1110\\rangle = |7\\rangle_{4}, \\\\\n",
    "|0001\\rangle = |8\\rangle_{4}, \\\\\n",
    "|1001\\rangle = |9\\rangle_{4}, \\\\\n",
    "|0101\\rangle = |10\\rangle_{4}, \\\\\n",
    "|1101\\rangle = |11\\rangle_{4}, \\\\\n",
    "|0011\\rangle = |12\\rangle_{4}, \\\\\n",
    "|1011\\rangle = |13\\rangle_{4}, \\\\\n",
    "|0111\\rangle = |14\\rangle_{4}, \\\\\n",
    "|1111\\rangle = |15\\rangle_{4}. \\\\\n",
    "\\end{equation}\n",
    "\n"
   ]
  },
  {
   "cell_type": "markdown",
   "id": "1482b6b8",
   "metadata": {},
   "source": [
    "identificamos con un subíndice que dicho estado está construido con $4$ qubits. Con lo anterior podemos escribir $|\\varphi_{1}\\rangle$ como:\n",
    "\\begin{equation}\n",
    "|\\varphi_{1}\\rangle=\\frac{1}{\\sqrt{2^4}}\\left(|0\\rangle_{4}+|1\\rangle_{4}+|2\\rangle_{4}+\\dots+|15\\rangle_{4}\\right)|0\\rangle^{\\otimes4}. \n",
    "\\end{equation}\n",
    "Luego aplicamos un operador $\\textbf{U}$, tal que: $|x\\rangle\\otimes|0\\rangle^{\\otimes 4}\\to |x\\rangle\\otimes|13^x\\left(mod\\;15\\right)\\rangle$, con lo cual:\n",
    "\n",
    "\\begin{equation}\n",
    "|\\varphi_{2}\\rangle =\\textbf{U}|\\varphi_{1}\\rangle = \\frac{1}{\\sqrt{2^4}}\\left(|0\\rangle_{4}\\otimes|13^0\\left(mod\\;15\\right)\\rangle+|1\\rangle_{4}\\otimes|13^1\\left(mod\\;15\\right)\\rangle+|2\\rangle_{4}\\otimes|13^2\\left(mod\\;15\\right)\\rangle+\\dots+|15\\rangle_{4}\\otimes|13^{15}\\left(mod\\;15\\right)\\rangle\\right)\n",
    "\\end{equation}\n",
    "Se observa con lo anterior que debido al paralelismo cuántico, dichos $16$ modulos que se desean calcular se calculan simultaneamente en un solo paso, que en una perspectiva clásica debemos calcularlo uno a uno, es decir, 16 pasos para calcular todos esos módulos. Para seguimiento del calculo final de algoritmo de shor, se calculará uno a uno los estados $|13^x\\left(mod\\;15\\right)\\rangle$ tal que:\n",
    "\\begin{equation}\n",
    "|13^0\\left(mod\\;15\\right)\\rangle = |1\\rangle_{4}, \\\\\n",
    "|13^1\\left(mod\\;15\\right)\\rangle = |13\\rangle_{4}, \\\\\n",
    "|13^2\\left(mod\\;15\\right)\\rangle = |4\\rangle_{4}, \\\\\n",
    "|13^3\\left(mod\\;15\\right)\\rangle = |7\\rangle_{4}, \\\\\n",
    "|13^4\\left(mod\\;15\\right)\\rangle = |1\\rangle_{4}, \\\\\n",
    "|13^5\\left(mod\\;15\\right)\\rangle = |13\\rangle_{4}, \\\\\n",
    "|13^6\\left(mod\\;15\\right)\\rangle = |4\\rangle_{4}, \\\\\n",
    "|13^7\\left(mod\\;15\\right)\\rangle = |7\\rangle_{4}, \\\\\n",
    "|13^8\\left(mod\\;15\\right)\\rangle = |1\\rangle_{4}, \\\\\n",
    "|13^9\\left(mod\\;15\\right)\\rangle = |13\\rangle_{4}, \\\\\n",
    "|13^1\\left(mod\\;15\\right)\\rangle = |13\\rangle_{4}, \\\\\n",
    "|13^2\\left(mod\\;15\\right)\\rangle = |4\\rangle_{4}, \\\\\n",
    "|13^3\\left(mod\\;15\\right)\\rangle = |7\\rangle_{4}, \\\\\n",
    "|13^4\\left(mod\\;15\\right)\\rangle = |1\\rangle_{4}, \\\\\n",
    "|13^5\\left(mod\\;15\\right)\\rangle = |13\\rangle_{4}, \\\\\n",
    "|13^6\\left(mod\\;15\\right)\\rangle = |4\\rangle_{4}, \\\\\n",
    "|13^7\\left(mod\\;15\\right)\\rangle = |7\\rangle_{4}, \\\\\n",
    "|13^8\\left(mod\\;15\\right)\\rangle = |1\\rangle_{4}, \\\\\n",
    "|13^9\\left(mod\\;15\\right)\\rangle = |13\\rangle_{4}, \\\\\n",
    "|13^{10}\\left(mod\\;15\\right)\\rangle = |4\\rangle_{4}, \\\\\n",
    "|13^{11}\\left(mod\\;15\\right)\\rangle = |7\\rangle_{4}, \\\\\n",
    "|13^{12}\\left(mod\\;15\\right)\\rangle = |1\\rangle_{4}, \\\\\n",
    "|13^{13}\\left(mod\\;15\\right)\\rangle = |13\\rangle_{4}, \\\\\n",
    "|13^{14}\\left(mod\\;15\\right)\\rangle = |4\\rangle_{4}, \\\\\n",
    "|13^{15}\\left(mod\\;15\\right)\\rangle = |7\\rangle_{4}. \\\\\n",
    "\\end{equation}\n"
   ]
  },
  {
   "cell_type": "markdown",
   "id": "55304162",
   "metadata": {},
   "source": [
    " Con lo anterior tenemos que $|\\varphi_{2}\\rangle$ es:\n",
    " \\begin{equation}\n",
    " |\\varphi_{2}\\rangle = \\frac{1}{\\sqrt{2^4}}(|0\\rangle_{4}\\otimes|1\\rangle_{4}+|1\\rangle_{4}\\otimes|13\\rangle_{4}+ |2\\rangle_{4}\\otimes|4\\rangle_{4}+ |3\\rangle_{4}\\otimes|7\\rangle_{4}+\\dots \\\\\n",
    " \\dots+|4\\rangle_{4}\\otimes|1\\rangle_{4}+|5\\rangle_{4}\\otimes|13\\rangle_{4}+ |6\\rangle_{4}\\otimes|4\\rangle_{4}+ |7\\rangle_{4}\\otimes|7\\rangle_{4}+\\dots \\\\\n",
    " \\dots+|8\\rangle_{4}\\otimes|1\\rangle_{4}+|9\\rangle_{4}\\otimes|13\\rangle_{4}+ |10\\rangle_{4}\\otimes|4\\rangle_{4}+ |11\\rangle_{4}\\otimes|7\\rangle_{4}+\\dots \\\\\n",
    " \\dots+|12\\rangle_{4}\\otimes|1\\rangle_{4}+|13\\rangle_{4}\\otimes|13\\rangle_{4}+ |14\\rangle_{4}\\otimes|4\\rangle_{4}+ |15\\rangle_{4}\\otimes|7\\rangle_{4})\n",
    " \\end{equation}"
   ]
  },
  {
   "cell_type": "markdown",
   "id": "a44380b3",
   "metadata": {},
   "source": [
    "Luego aplicamos una medición sobre los segundos $4$ qubits, ahora, tenemos una probabilidad de $25\\%$ de medir $1$, $4$, $7$ 0 $13$, en este caso escogeremos el hecho de que obtengamos una medición efectiva de $13$, tal que:"
   ]
  },
  {
   "cell_type": "markdown",
   "id": "fe70c3c3",
   "metadata": {},
   "source": [
    "\\begin{equation}\n",
    "|\\varphi_{3}\\rangle = \\frac{1}{\\sqrt{2^2}}(|1\\rangle_{4}+|5\\rangle_{4}+|9\\rangle_{4}+|13\\rangle_{4})\n",
    "\\end{equation}\n",
    "luego aplicamos el operador $\\textbf{Q}_{FT}^{\\dagger}$ tal que:\n",
    "\\begin{equation}\n",
    "|\\varphi_{4}\\rangle=\\textbf{Q}_{FT}^{\\dagger}|\\varphi_{3}\\rangle = \\frac{1}{\\sqrt{2^2}}\\frac{1}{\\sqrt{2^4}}\\left(\\left(\\sum_{k=0}^{15}e^{-2\\pi i \\frac{1\\times k}{2^4}}|k\\rangle_{4}\\right)+\\left(\\sum_{k=0}^{15}e^{-2\\pi i \\frac{5\\times k}{2^4}}|k\\rangle_{4}\\right)+\\left(\\sum_{k=0}^{15}e^{-2\\pi i \\frac{9\\times k}{2^4}}|k\\rangle_{4}\\right)+\\left(\\sum_{k=0}^{15}e^{-2\\pi i \\frac{13\\times k}{2^4}}|k\\rangle_{4}\\right)\\right)\n",
    "\\end{equation}\n",
    "\\begin{equation}\n",
    "|\\varphi_{4}\\rangle= \\frac{1}{\\sqrt{2^6}}\\left(\\left(\\sum_{k=0}^{15}e^{-2\\pi i \\frac{1\\times k}{16}}|k\\rangle_{4}\\right)+\\left(\\sum_{k=0}^{15}e^{-2\\pi i \\frac{5\\times k}{16}}|k\\rangle_{4}\\right)+\\left(\\sum_{k=0}^{15}e^{-2\\pi i \\frac{9\\times k}{16}}|k\\rangle_{4}\\right)+\\left(\\sum_{k=0}^{15}e^{-2\\pi i \\frac{13\\times k}{2^4}}|k\\rangle_{4}\\right)\\right)\n",
    "\\end{equation}\n",
    "\\begin{equation}\n",
    "|\\varphi_{4}\\rangle= \\frac{1}{8}\\left(\\sum_{k=0}^{15}\\left(e^{-2\\pi i \\frac{1\\times k}{16}}+e^{-2\\pi i \\frac{5\\times k}{16}}+e^{-2\\pi i \\frac{9\\times k}{16}}+e^{-2\\pi i \\frac{13\\times k}{16}}\\right)|k\\rangle_{4}\\right)\n",
    "\\end{equation}\n",
    "\n"
   ]
  },
  {
   "cell_type": "markdown",
   "id": "60ac00cb",
   "metadata": {},
   "source": [
    "Dada la cantida de sumas que en total son 15 sumas de las cuales se tienen que hacer 4 sumas es decir 60 sumas, aprovecharemos python para hacerlas y calcular el resultado final de $|\\varphi_{4}\\rangle$ de la siguiente forma:"
   ]
  },
  {
   "cell_type": "code",
   "execution_count": 58,
   "id": "093626f4",
   "metadata": {},
   "outputs": [],
   "source": [
    "import numpy as np\n",
    "def expi(valor):\n",
    "    return np.cos(valor)+1j*np.sin(valor)"
   ]
  },
  {
   "cell_type": "code",
   "execution_count": 70,
   "id": "c0d9651d",
   "metadata": {},
   "outputs": [
    {
     "name": "stdout",
     "output_type": "stream",
     "text": [
      "La amplitud de probabilidad para el estado | 0 > es  4.0\n",
      "La amplitud de probabilidad para el estado | 1 > es  -0.0\n",
      "La amplitud de probabilidad para el estado | 2 > es  0.0\n",
      "La amplitud de probabilidad para el estado | 3 > es  0.0\n",
      "La amplitud de probabilidad para el estado | 4 > es  (-0-4j)\n",
      "La amplitud de probabilidad para el estado | 5 > es  -0.0\n",
      "La amplitud de probabilidad para el estado | 6 > es  -0.0\n",
      "La amplitud de probabilidad para el estado | 7 > es  0.0\n",
      "La amplitud de probabilidad para el estado | 8 > es  -4.0\n",
      "La amplitud de probabilidad para el estado | 9 > es  0.0\n",
      "La amplitud de probabilidad para el estado | 10 > es  -0.0\n",
      "La amplitud de probabilidad para el estado | 11 > es  -0.0\n",
      "La amplitud de probabilidad para el estado | 12 > es  4j\n",
      "La amplitud de probabilidad para el estado | 13 > es  0.0\n",
      "La amplitud de probabilidad para el estado | 14 > es  0.0\n",
      "La amplitud de probabilidad para el estado | 15 > es  -0.0\n"
     ]
    }
   ],
   "source": [
    "total_de_estados = 16\n",
    "frag_fase = -2*np.pi/16\n",
    "\n",
    "for i in range(total_de_estados):\n",
    "    amplitud = expi(frag_fase*1*i) + expi(frag_fase*5*i) + expi(frag_fase*9*i) + expi(frag_fase*13*i)\n",
    "    \n",
    "    if np.real(amplitud)<0.0001 and np.real(amplitud)>-0.0001:\n",
    "        amplitud = 1j*np.imag(amplitud)\n",
    "    \n",
    "    if np.imag(amplitud)<0.0001 and np.imag(amplitud)>-0.0001:\n",
    "        amplitud =np.real(amplitud)\n",
    "    \n",
    "    print(\"La amplitud de probabilidad para el estado |\",i,\"> es \", amplitud)\n",
    "\n"
   ]
  },
  {
   "cell_type": "markdown",
   "id": "3ea5aa32",
   "metadata": {},
   "source": [
    "Con lo anterior calculado observamos que los únicos estados base que son diferentes a cero son: $|0\\rangle_{4}$, $|4\\rangle_{4}$, $|8\\rangle_{4}$ y $|12\\rangle_{4}$ tal que $|\\varphi_{4}\\rangle$ es:\n",
    "\\begin{equation}\n",
    "|\\varphi_{4}\\rangle = \\frac{4|0\\rangle_{4}-4i|4\\rangle_{4}-4|8\\rangle_{4}-4i|12\\rangle_{4}}{8}\n",
    "\\end{equation}"
   ]
  },
  {
   "cell_type": "markdown",
   "id": "654e8615",
   "metadata": {},
   "source": [
    "Satisfactoriamente independientemente de la medición obtenida en $|\\varphi_2\\rangle$, siempre obtendremos que en $|\\varphi_{4}\\rangle$, estarán los mismos 4 estados bases anteriormente calculados. Ahora anteriormente se explicó que, la inversa de la trasformada inversa de fourier obtiene algún tipo de información, en este caso el tipo de información dentro la sumatoria aparece un termino $j\\times k$ que es parte del exponente de $e$, ya se vió que $k$ está relacionado con el estado $|k\\rangle$ con lo cual sabemos el valor de $k$, que son algunos de los 4 estados base \"sobrevivientes\" en $|\\varphi_{4}$. Ahora lo que hace el operador de la transformada de fourier es dado un valor $y$ que deseamos saber, dentro de los calculos profundos del estado a averiguar nos quedan términos tales que $e^{2\\pi i(y-\\theta)}|k\\rangle$, en este caso sí, $y=\\theta$ siendo $\\theta$ un entero, entonces, significa que:\n",
    "\\begin{equation}\n",
    "|k\\rangle=e^{2\\pi i(0)}|k\\rangle.\n",
    "\\end{equation}\n",
    "En este caso debido a que al aplicar $\\textbf{}$ que obtiene los genera los módulos como anteriormente se esplicó entonces obtenemos que:\n",
    "\\begin{equation}\n",
    "|k\\rangle=e^{2\\pi i(\\frac{k* x}{2^4}-\\theta)}|k\\rangle.\n",
    "\\end{equation}\n",
    "Con lo cual, esto quiere decir que \n",
    "\\begin{equation}\n",
    "\\theta=\\frac{k* x}{2^4},\n",
    "\\end{equation}\n",
    "donde $x$ es el periodo con lo cual para calcular el periodo tenemos que medir y saber cual es el estado $|k\\rangle$\n",
    "y se sabe que $\\theta$ es un número entero con lo cual tenemos todos los valores para calcular el periodo, tal que:\n",
    "\\begin{equation}\n",
    "x=\\frac{\\theta*16}{k},\n",
    "\\end{equation}\n",
    "\n",
    "\n",
    "\n",
    "Finalmente, lo que se hace es medir mediante el estado $|\\varphi_{4}\\rangle$, si el estado colapsa en $|0\\rangle_{4}$, sabemos que se necesita encontrar un periodo par, con lo cual, cuando colapsa en el estado anterior entonces:\n",
    "\\begin{equation}\n",
    "x=\\frac{\\theta*16}{0}, \\; indeterminado.\n",
    "\\end{equation}\n",
    "Entonces, se tiene que medir de nuevo el $|\\varphi_{4}\\rangle$ hasta que colapse a un valor distinto a $|0\\rangle_{4}$. si se obtiene $|4\\rangle_{4}$ entonces:\n",
    "\\begin{equation}\n",
    "x=\\frac{\\theta*16}{4}, \n",
    "\\end{equation}\n",
    "\\begin{equation}\n",
    "x=\\theta*4,\n",
    "\\end{equation}\n",
    "entonces, si $\\theta=1$, entonces el periodo es $x=4$.\n",
    "tal que luego calculamos $13^{4/2} \\left(mod \\; 15\\right)= 13^{2} \\left(mod \\; 15\\right)$ que nos da como resultado $4$. finalmente el valor anterior es diferente de $0 \\left(mod \\; 15\\right)$, con lo cual podemos calcular los factores primos de $15$ tal que:\n",
    "\\begin{equation}\n",
    "mcd(4+1,15)=5, \\\\\n",
    "mcd(4-1,15)=3.\n",
    "\\end{equation}\n",
    "Con lo cual efectivamente $15=3\\times5$."
   ]
  },
  {
   "cell_type": "markdown",
   "id": "393d0f9a",
   "metadata": {},
   "source": [
    "La aplicación en un computador cuántico va ser llevada con las dos funciones siguientes: la primera genera la forma de calcular el modulo aritmético, siendo $N=15$. "
   ]
  },
  {
   "cell_type": "code",
   "execution_count": 97,
   "id": "c507fef5",
   "metadata": {},
   "outputs": [],
   "source": [
    "def a_x_mod15(a, x):\n",
    "    if a not in [2,7,8,11,13]:\n",
    "        raise ValueError(\"'a' debe ser 2,7,8,11 o 13\")\n",
    "    U = QuantumCircuit(4)        \n",
    "    for iteration in range(x):\n",
    "        if a in [2,13]:\n",
    "            U.swap(0,1)\n",
    "            U.swap(1,2)\n",
    "            U.swap(2,3)\n",
    "        if a in [7,8]:\n",
    "            U.swap(2,3)\n",
    "            U.swap(1,2)\n",
    "            U.swap(0,1)\n",
    "        if a == 11:\n",
    "            U.swap(1,3)\n",
    "            U.swap(0,2)\n",
    "        if a in [7,11,13]:\n",
    "            for q in range(4):\n",
    "                U.x(q)\n",
    "    U = U.to_gate()\n",
    "    U.name = \"%i^%i mod 15\" % (a, x)\n",
    "    c_U = U.control()\n",
    "    return c_U"
   ]
  },
  {
   "cell_type": "markdown",
   "id": "19c43c7f",
   "metadata": {},
   "source": [
    "el segundo es la aplicación de modulo a cada uno de los qubits:"
   ]
  },
  {
   "cell_type": "code",
   "execution_count": 110,
   "id": "9158fdcc",
   "metadata": {},
   "outputs": [],
   "source": [
    "def aplicacion_mod_15_qubits(circuito, n, m, a):\n",
    "    \n",
    "    \n",
    "    for x in range(n):\n",
    "        exponente = 2**x\n",
    "        circuito.append(a_x_mod15(a, exponente), \n",
    "                     [x] + list(range(n, n+m)))"
   ]
  },
  {
   "cell_type": "markdown",
   "id": "30f22127",
   "metadata": {},
   "source": [
    "Estas dos funciones están basadas a la funciones que contiene qiskit en [Qiskit Algoritmo de Shor](https://qiskit.org/textbook/ch-algorithms/shor.html)."
   ]
  },
  {
   "cell_type": "markdown",
   "id": "bcf85f21",
   "metadata": {},
   "source": [
    "Se inicia un circuito con $8$ qubits, a los primeros $4$ aplicamos la compuerta Hadamard, y al ultimo aplicamos la compuerta $\\textbf{X}$, ya que en este caso si aplicamos la función **aplicación_mod_15_qubits()** con solo $|000\\rangle$, no funcionaría."
   ]
  },
  {
   "cell_type": "code",
   "execution_count": 102,
   "id": "1707c9e7",
   "metadata": {},
   "outputs": [
    {
     "data": {
      "image/png": "[encoded data removed]",
      "text/plain": [
       "<Figure size 146.797x565.88 with 1 Axes>"
      ]
     },
     "execution_count": 102,
     "metadata": {},
     "output_type": "execute_result"
    }
   ],
   "source": [
    "N=15 #numero a a encontrar factores primos\n",
    "a = 13 #coprimo\n",
    "n1=4\n",
    "n2=4\n",
    "n=n1+n2 #qubits totales\n",
    "shor = QuantumCircuit(n,n1)\n",
    "shor.h(range(n1))\n",
    "shor.x(n1+n2-1)\n",
    "shor.draw(\"mpl\")"
   ]
  },
  {
   "cell_type": "markdown",
   "id": "51ecd830",
   "metadata": {},
   "source": [
    "Aplicamos los modulos aritmeticos correspondientes para calcular el periodo mediante el paralelismo cuántico."
   ]
  },
  {
   "cell_type": "code",
   "execution_count": 103,
   "id": "75aa67a8",
   "metadata": {},
   "outputs": [
    {
     "data": {
      "image/png": "[encoded data removed]",
      "text/plain": [
       "<Figure size 929.397x565.88 with 1 Axes>"
      ]
     },
     "execution_count": 103,
     "metadata": {},
     "output_type": "execute_result"
    }
   ],
   "source": [
    "aplicacion_mod_15_qubits(shor, n1, n2, a)\n",
    "shor.barrier()\n",
    "shor.draw(\"mpl\")"
   ]
  },
  {
   "cell_type": "markdown",
   "id": "2f58df80",
   "metadata": {},
   "source": [
    "Dado que no nos interesan los ultimos $4$ qubits ya que la información se encuentra en los primeros 4, aplicamos el operador de transformación de fourier cuántica y medimos los primeros $4$ tal que:"
   ]
  },
  {
   "cell_type": "code",
   "execution_count": 104,
   "id": "a5fde3c0",
   "metadata": {},
   "outputs": [
    {
     "data": {
      "image/png": "[encoded data removed]",
      "text/plain": [
       "<Figure size 1230.4x565.88 with 1 Axes>"
      ]
     },
     "execution_count": 104,
     "metadata": {},
     "output_type": "execute_result"
    }
   ],
   "source": [
    "fourier_inversa = QFT(num_qubits=n1, inverse=True, name='qft')\n",
    "shor.compose(fourier_inversa,inplace=True)\n",
    "shor.measure(range(n1),range(n1))\n",
    "shor.draw(\"mpl\")"
   ]
  },
  {
   "cell_type": "markdown",
   "id": "1105bea7",
   "metadata": {},
   "source": [
    "Mediante el simulador generamos $1000$ mediciones tal que obtenemos el siguiente histograma:"
   ]
  },
  {
   "cell_type": "code",
   "execution_count": 115,
   "id": "1124bfdd",
   "metadata": {},
   "outputs": [
    {
     "data": {
      "image/png": "[encoded data removed]",
      "text/plain": [
       "<Figure size 504x360 with 1 Axes>"
      ]
     },
     "execution_count": 115,
     "metadata": {},
     "output_type": "execute_result"
    }
   ],
   "source": [
    "from qiskit import Aer, execute\n",
    "simulador = Aer.get_backend('qasm_simulator')\n",
    "conteo = execute(shor, backend=simulator, shots=1000).result().get_counts(shor)\n",
    "plot_histogram(conteo)"
   ]
  },
  {
   "cell_type": "markdown",
   "id": "c202ce84",
   "metadata": {},
   "source": [
    "Con lo que se observa los $4$ estados  esperados a medir. Ahora esos 4 números binarios los convertimos a decimales. La variable **conteo** es un diccionario donde la clave son los estados medidos, y los valores, probabilidad correspondiente como se muestra a continuación:]"
   ]
  },
  {
   "cell_type": "code",
   "execution_count": 116,
   "id": "babefe51",
   "metadata": {},
   "outputs": [
    {
     "name": "stdout",
     "output_type": "stream",
     "text": [
      "{'1000': 250, '1100': 262, '0100': 233, '0000': 255}\n"
     ]
    }
   ],
   "source": [
    "print(conteo)"
   ]
  },
  {
   "cell_type": "markdown",
   "id": "e6402563",
   "metadata": {},
   "source": [
    "tal que lo único que necesitamos son las claves, las obtenemos mediante el método **keys()**, luego para pasar de binario a decimal usamos la función **int()**, en este caso el primer parámetro es el binario y el segundo parámetro indica en base está el número en este caso 2, tal que:"
   ]
  },
  {
   "cell_type": "code",
   "execution_count": 132,
   "id": "0526ab71",
   "metadata": {},
   "outputs": [
    {
     "name": "stdout",
     "output_type": "stream",
     "text": [
      "[8, 12, 4, 0]\n"
     ]
    }
   ],
   "source": [
    "estados_medidos_binario = [*conteo.keys()]\n",
    "estados_medidos_decimal = [int(x, 2) for x in estados_medidos_binario]\n",
    "print(estados_medidos_decimal)"
   ]
  },
  {
   "cell_type": "markdown",
   "id": "cf3b4f9a",
   "metadata": {},
   "source": [
    "Finalmente calculamos los números primos los últimos pasos del método clasico para factorizar el número primo tal que:"
   ]
  },
  {
   "cell_type": "code",
   "execution_count": 176,
   "id": "88d0d65d",
   "metadata": {},
   "outputs": [
    {
     "name": "stdout",
     "output_type": "stream",
     "text": [
      "el periodo x =  8 no es optimo para calcular factores primos de  15\n",
      "con el periodo x  =  12 se pueden obtener los factores primos de  15\n",
      "p =  5  q =  3\n",
      "con el periodo x  =  4 se pueden obtener los factores primos de  15\n",
      "p =  5  q =  3\n",
      "el periodo x =  0 no es optimo para calcular factores primos de  15\n"
     ]
    }
   ],
   "source": [
    "for i in estados_medidos_decimal:\n",
    "    x = int(a**(i/2)%15)\n",
    "    if i%2 != 0:\n",
    "        print(\"el periodo x = \", i, \"no es entero, pasamos al siguente periodo ...\")\n",
    "        continue\n",
    "    if (x+1) % 15 == 0:\n",
    "        print(\"el periodo x = \",i, \"es igual a 0 (mod N)\")\n",
    "        continue\n",
    "    primos = [np.gcd(x+1,N), np.gcd(x-1,N)]\n",
    "    if primos[0] in [1, N]:\n",
    "        print(\"el periodo x = \",i, \"no es optimo para calcular factores primos de \", N)\n",
    "        continue\n",
    "    print(\"con el periodo x  = \",i, \"se pueden obtener los factores primos de \", N )\n",
    "    print(\"p = \", primos[0],\" q = \", primos[1])\n",
    "    "
   ]
  }
 ],
 "metadata": {
  "kernelspec": {
   "display_name": "Python 3",
   "language": "python",
   "name": "python3"
  },
  "language_info": {
   "codemirror_mode": {
    "name": "ipython",
    "version": 3
   },
   "file_extension": ".py",
   "mimetype": "text/x-python",
   "name": "python",
   "nbconvert_exporter": "python",
   "pygments_lexer": "ipython3",
   "version": "3.6.9"
  }
 },
 "nbformat": 4,
 "nbformat_minor": 5
}
