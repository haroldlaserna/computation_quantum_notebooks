{
 "cells": [
  {
   "cell_type": "markdown",
   "id": "7d48c672",
   "metadata": {},
   "source": [
    "**Estados de Bell**"
   ]
  },
  {
   "cell_type": "markdown",
   "id": "43ef30f0",
   "metadata": {},
   "source": [
    "Los estados de Bell, estados EPR(Einstein Podolsky Rosen) o también llamado pares EPR son estados entre qubits que estan entrelazados, dicho entrelazamiento le da la propiedad al sistema que no pueda ser separado en otro subsistemas, es decir que no puede ser representado el estado en terminos de dos estados mediante el producto tensorial. Es decir, sea el siguiente estado de bell (que hablaremos más adelante) de la siguiente manera:\n",
    "\n",
    "\\begin{equation}\n",
    "\\left|Bell\\right\\rangle = \\frac{1}{\\sqrt{2}}\\left|00\\right\\rangle + \\frac{1}{\\sqrt{2}}\\left|11\\right\\rangle\n",
    "\\end{equation}\n",
    "Es decir que al medir el primer qubit, por ejemplo no da el estado base $\\left|0\\right\\rangle$, sin medir el otro qubit, sabemos automaticamente que este se medirá al $100\\%$ como $\\left|0\\right\\rangle$, lo mismo si se mide el estado $\\left|1\\right\\rangle$ automaticamente el otro qubit colapsará sin ser medido a $\\left|1\\right\\rangle$. Cuando decimos que no es posible separarlo a dos sistemas distintos mediante el producto punto, quiere decir lo siguiente:\n",
    "sea $\\left|A\\right\\rangle$ y $\\left|B\\right\\rangle$ representados como:\n",
    "\\begin{equation}\n",
    "\\left|A\\right\\rangle = \\alpha \\left|0\\right\\rangle + \\beta \\left|1\\right\\rangle,\n",
    "\\end{equation}\n",
    "\\begin{equation}\n",
    "\\left|B\\right\\rangle = \\gamma \\left|0\\right\\rangle + \\delta \\left|1\\right\\rangle,\n",
    "\\end{equation}\n",
    "donde se cumple el primer postulado de la mecánica cuántica, es decir:\n",
    "\\begin{equation}\n",
    "1 = |\\alpha|^2 + |\\beta|^2, \n",
    "\\end{equation}\n",
    "\\begin{equation}\n",
    "1 = |\\gamma|^2 + |\\delta|^2,\n",
    "\\end{equation}\n",
    "\n",
    "donde $\\alpha$, $\\beta$, $\\gamma$ y $\\delta$ $\\in \\mathbb{C}$. Ahora, supongamos que el estado de Bell $\\left|Bell\\right\\rangle$ es separable, es decir:\n",
    "\\begin{equation}\n",
    "\\left|Bell\\right\\rangle = \\left|A\\right\\rangle \\otimes \\left|B\\right\\rangle, \n",
    "\\end{equation}\n",
    "\\begin{equation}\n",
    "\\frac{1}{\\sqrt{2}}\\left|00\\right\\rangle + \\frac{1}{\\sqrt{2}}\\left|11\\right\\rangle = (\\alpha \\left|0\\right\\rangle + \\beta \\left|1\\right\\rangle) \\otimes (\\gamma \\left|0\\right\\rangle + \\delta \\left|1\\right\\rangle). \n",
    "\\end{equation}\n",
    "Operando la parte derecha de la ecuacion, tenemos:\n",
    "\\begin{equation}\n",
    "\\frac{1}{\\sqrt{2}}\\left|00\\right\\rangle + \\frac{1}{\\sqrt{2}}\\left|11\\right\\rangle = \\alpha \\gamma \\left|00\\right\\rangle + \\alpha \\delta \\left|01\\right\\rangle + \\beta \\gamma \\left|10\\right\\rangle + \\beta \\delta \\left|11\\right\\rangle). \n",
    "\\end{equation}\n",
    "Es decir que relacionando los términos que acompañan a $\\left|00\\right\\rangle$ y $\\left|11\\right\\rangle$, tenemos: \n",
    "\\begin{equation}\n",
    "\\alpha \\gamma = \\frac{1}{\\sqrt{2}},\n",
    "\\end{equation}\n",
    "\\begin{equation}\n",
    "\\beta \\delta = \\frac{1}{\\sqrt{2}}.\n",
    "\\end{equation}\n",
    "Dado que en el estado de bell no aparece los estados base $\\left|01\\right\\rangle$ y $\\left|10\\right\\rangle$, eso quiere decir que los demás productos de coeficientes son cero, o sea:\n",
    "\\begin{equation}\n",
    "\\alpha \\delta = 0,\n",
    "\\end{equation}\n",
    "\\begin{equation}\n",
    "\\beta \\gamma = 0.\n",
    "\\end{equation}\n"
   ]
  },
  {
   "cell_type": "markdown",
   "id": "faede92e",
   "metadata": {},
   "source": [
    "Aquí vemos una contradicción y es la siguiente: De la última ecuación para que $\\beta$ multiplicado por $\\gamma$ sea cero, alguno de esos dos coeficientes es cero, ahora, si $\\beta=0$, entonces $\\beta$ multiplicado por $\\delta$ no puede ser $\\frac{1}{\\sqrt{2}}$, entonces bajo ese orden de ideas, $\\gamma$ debería ser entonces $0$, pero, entonces $\\alpha$ multiplicado por $\\gamma$ no podría ser $\\frac{1}{\\sqrt{2}}$, con lo cual, para evitar dicha contradicción el estado vector $\\left|Bell\\right\\rangle$ es no separable, es decir que la suposición correcta es:\n",
    "\n",
    "\\begin{equation}\n",
    "\\left|Bell\\right\\rangle \\neq \\left|A\\right\\rangle \\otimes \\left|B\\right\\rangle, \n",
    "\\end{equation}"
   ]
  },
  {
   "cell_type": "markdown",
   "id": "4a5f804c",
   "metadata": {},
   "source": [
    "**Construcción de los estados de bell**"
   ]
  },
  {
   "cell_type": "markdown",
   "id": "aae6f984",
   "metadata": {},
   "source": [
    "Sea $x\\in \\{ 0,1\\}$ y $y\\in\\{0,1\\}$, tal que:\n",
    "\\begin{equation}\n",
    "\\left|xy\\right\\rangle = \\left|x\\right\\rangle \\otimes \\left|y\\right\\rangle,\n",
    "\\end{equation}\n",
    "con lo cual bajo lo anterior los únicos estados que podemos obtener son los siguientes:\n",
    "\\begin{equation}\n",
    "\\left|00\\right\\rangle = \\left|0\\right\\rangle \\otimes \\left|0\\right\\rangle,\n",
    "\\end{equation}\n",
    "\\begin{equation}\n",
    "\\left|01\\right\\rangle = \\left|0\\right\\rangle \\otimes \\left|1\\right\\rangle,\n",
    "\\end{equation}\n",
    "\\begin{equation}\n",
    "\\left|10\\right\\rangle = \\left|1\\right\\rangle \\otimes \\left|0\\right\\rangle,\n",
    "\\end{equation}\n",
    "\\begin{equation}\n",
    "\\left|11\\right\\rangle = \\left|1\\right\\rangle \\otimes \\left|1\\right\\rangle.\n",
    "\\end{equation}\n",
    "Ahora vamos a preparar el estado $\\left|y\\right\\rangle$ con la compuerta $\\textbf{H}$ es decir, optener los estados base de estado $\\left|y\\right\\rangle$ con equiprobabilidad de la siguente manera si afectar al estado $\\left|x\\right\\rangle$:\n",
    "\\begin{equation}\n",
    "(\\textbf{I} \\otimes \\textbf{H})\\left|xy\\right\\rangle = \\textbf{I}\\left|x\\right\\rangle \\otimes \\textbf{H} \\left|y\\right\\rangle,\n",
    "\\end{equation}\n",
    "luego de preparado el estado, entrelazaremos $\\left|x\\right\\rangle$ con $\\textbf{H} \\left|y\\right\\rangle$, mediante $\\textbf{CNOT}$, donde $\\left|x\\right\\rangle$ es el qubit objetivo y $\\left|y\\right\\rangle$ es el qubit control. Tal que el estado de bell nos queda representado de la siguente forma:\n",
    "\\begin{equation}\n",
    "\\left|Bell_{xy}\\right\\rangle = \\textbf{C}_{not}(\\textbf{I}\\otimes\\textbf{H}\\left|xy\\right\\rangle). \n",
    "\\end{equation}\n",
    "La anterior operación es la forma para obtener cualquier estado de Bell. Para más claridad de lo anterior, supongamos que $x=0$ y $y=0$, tal que:\n",
    "\\begin{equation}\n",
    "\\left|Bell_{00}\\right\\rangle = \\textbf{C}_{not}(\\textbf{I}\\otimes\\textbf{H}\\left|00\\right\\rangle). \n",
    "\\end{equation}\n",
    "al aplicar $\\textbf{H}$ al estado $\\left|0\\right\\rangle$ obtenemos que:\n",
    "\\begin{equation}\n",
    "\\textbf{H}\\left|0\\right\\rangle = \\frac{1}{\\sqrt{2}}\\left|0\\right\\rangle + \\frac{1}{\\sqrt{2}}\\left|1\\right\\rangle,\n",
    "\\end{equation}\n",
    "tal que, la operación en es estado de Bell $\\left|Bell_{00}\\right\\rangle$ queda: \n",
    "\\begin{equation}\n",
    "\\left|Bell_{00}\\right\\rangle = \\textbf{C}_{not}(\\frac{1}{\\sqrt{2}}\\left|00\\right\\rangle + \\frac{1}{\\sqrt{2}}\\left|01\\right\\rangle). \n",
    "\\end{equation}\n",
    "Simplificando y operando **CNOT** en los dos estados base obtenemos:\n",
    "\\begin{equation}\n",
    "\\left|Bell_{00}\\right\\rangle = \\frac{1}{\\sqrt{2}}(\\textbf{C}_{not}\\left|00\\right\\rangle + \\textbf{C}_{not}\\left|01\\right\\rangle). \n",
    "\\end{equation} \n",
    "Teniendo en cuenta como opera la compuerta **CNOT** sabemos que: $\\textbf{C}_{not}\\left|00\\right\\rangle=\\left|00\\right\\rangle$ y $\\textbf{C}_{not}\\left|01\\right\\rangle=\\left|11\\right\\rangle$. Con lo anteriormente finalmente tenemos que estado de Bell $\\left|Bell_{00}\\right\\rangle$ es:\n",
    "\\begin{equation}\n",
    "\\left|Bell_{00}\\right\\rangle = \\frac{1}{\\sqrt{2}}(\\left|00\\right\\rangle + \\left|11\\right\\rangle). \n",
    "\\end{equation} \n",
    "Es posible obtener 3 estados de Bell teniendo diferentes valores de $x$ y $y$ y son los siguentes:\n",
    "\\begin{equation}\n",
    "\\left|Bell_{10}\\right\\rangle = \\frac{1}{\\sqrt{2}}(\\left|01\\right\\rangle + \\left|10\\right\\rangle), \n",
    "\\end{equation}\n",
    "\\begin{equation}\n",
    "\\left|Bell_{01}\\right\\rangle = \\frac{1}{\\sqrt{2}}(\\left|00\\right\\rangle - \\left|11\\right\\rangle), \n",
    "\\end{equation}\n",
    "\\begin{equation}\n",
    "\\left|Bell_{11}\\right\\rangle = \\frac{1}{\\sqrt{2}}(\\left|10\\right\\rangle - \\left|01\\right\\rangle). \n",
    "\\end{equation}\n",
    "Es posible generalizar estos $4$ estados de Bell con la siguente ecuación:\n",
    "\\begin{equation}\n",
    "\\left|Bell_{xy}\\right\\rangle = \\frac{\\left|0y\\right\\rangle + (-1)^{x}\\left|1\\bar{y}\\right\\rangle}{\\sqrt{2}},\n",
    "\\end{equation}\n",
    "donde $x\\in \\{ 0,1\\}$ y $y\\in\\{0,1\\}$ y $\\bar{y}$ es la negación de $y$, también escrito $\\bar{y}=\\neg y$, es decir que cuando $y=0$, entonces, $\\bar{y}=1$ y viceversa.\n"
   ]
  },
  {
   "cell_type": "markdown",
   "id": "d591c987",
   "metadata": {},
   "source": [
    "La construcción del estado de Bell en qiskit no lleva a necesitar tres elementos necesarios, el primero, el operador $\\textbf{X}$ el cual nos cambia el estado $\\left|0\\right\\rangle$ al estado $\\left|0\\right\\rangle$, eso con el objetivo de construir más de $1$ estado de Bell, si lo deseamos. el segundo y tercero respectivamente la compuerta **CNOT** y la compuerta **H**. Tal que. iniciamos nuestro circuito con $2$ qubits, si deseamos aplicamos la compuerta $\\textbf{X}$ a alguno de los dos qubits, luego aplicamos el operador $\\textbf{H}$ al qubit de la posición $0$ y finalmente el **CNOT** como qubit de control el qubit de la posición $0$ y qubit objetivo el de posición $1$. es decir:"
   ]
  },
  {
   "cell_type": "code",
   "execution_count": 1,
   "id": "cd99a16a",
   "metadata": {},
   "outputs": [],
   "source": [
    "import numpy as np\n",
    "from qiskit import *\n",
    "from qiskit.visualization import *\n",
    "from qiskit.quantum_info import Statevector"
   ]
  },
  {
   "cell_type": "code",
   "execution_count": 15,
   "id": "0ba5125c",
   "metadata": {},
   "outputs": [
    {
     "data": {
      "image/png": "[encoded data removed]",
      "text/plain": [
       "<Figure size 206.852x144.48 with 1 Axes>"
      ]
     },
     "execution_count": 15,
     "metadata": {},
     "output_type": "execute_result"
    }
   ],
   "source": [
    "Bell = QuantumCircuit(2)\n",
    "Bell.h(0)\n",
    "Bell.cx(0,1)\n",
    "Bell.draw(\"mpl\")"
   ]
  },
  {
   "cell_type": "markdown",
   "id": "9ed0dd14",
   "metadata": {},
   "source": [
    "Con el circuito cuántico anterior observamos la forma básica para generar el estado de Bell $\\left|Bell_{00}\\right\\rangle$, como se muestra a continuación al obtener la ecuación de circuito:"
   ]
  },
  {
   "cell_type": "code",
   "execution_count": 16,
   "id": "64a4aa46",
   "metadata": {},
   "outputs": [
    {
     "data": {
      "text/latex": [
       "$$\\frac{\\sqrt{2}}{2} |00\\rangle+\\frac{\\sqrt{2}}{2} |11\\rangle$$"
      ],
      "text/plain": [
       "<IPython.core.display.Latex object>"
      ]
     },
     "execution_count": 16,
     "metadata": {},
     "output_type": "execute_result"
    }
   ],
   "source": [
    "estado = Statevector.from_int(0,2**2)\n",
    "estado = estado.evolve(Bell)\n",
    "estado.draw(\"latex\")"
   ]
  },
  {
   "cell_type": "markdown",
   "id": "355ac159",
   "metadata": {},
   "source": [
    "Con este método y usando la compuerta $\\textbf{X}$, podemos obtener los demás estados de Bell, de la siguiente forma:"
   ]
  },
  {
   "cell_type": "code",
   "execution_count": 13,
   "id": "c041e73b",
   "metadata": {},
   "outputs": [
    {
     "data": {
      "image/png": "[encoded data removed]",
      "text/plain": [
       "<Figure size 267.052x144.48 with 1 Axes>"
      ]
     },
     "execution_count": 13,
     "metadata": {},
     "output_type": "execute_result"
    }
   ],
   "source": [
    "Bell = QuantumCircuit(2)\n",
    "Bell.x(0)\n",
    "Bell.h(0)\n",
    "Bell.cx(0,1)\n",
    "Bell.draw(\"mpl\") # estado de bell y=1, x=0"
   ]
  },
  {
   "cell_type": "code",
   "execution_count": 14,
   "id": "3dd09465",
   "metadata": {},
   "outputs": [
    {
     "data": {
      "text/latex": [
       "$$\\frac{\\sqrt{2}}{2} |00\\rangle- \\frac{\\sqrt{2}}{2} |11\\rangle$$"
      ],
      "text/plain": [
       "<IPython.core.display.Latex object>"
      ]
     },
     "execution_count": 14,
     "metadata": {},
     "output_type": "execute_result"
    }
   ],
   "source": [
    "estado = Statevector.from_int(0,2**2)\n",
    "estado = estado.evolve(Bell)\n",
    "estado.draw(\"latex\")"
   ]
  },
  {
   "cell_type": "code",
   "execution_count": 11,
   "id": "2d51c28c",
   "metadata": {},
   "outputs": [
    {
     "data": {
      "image/png": "[encoded data removed]",
      "text/plain": [
       "<Figure size 206.852x144.48 with 1 Axes>"
      ]
     },
     "execution_count": 11,
     "metadata": {},
     "output_type": "execute_result"
    }
   ],
   "source": [
    "Bell = QuantumCircuit(2)\n",
    "Bell.x(1)\n",
    "Bell.h(0)\n",
    "Bell.cx(0,1)\n",
    "Bell.draw(\"mpl\") # estado de bell y=0, x=1"
   ]
  },
  {
   "cell_type": "code",
   "execution_count": 12,
   "id": "6736396c",
   "metadata": {},
   "outputs": [
    {
     "data": {
      "text/latex": [
       "$$\\frac{\\sqrt{2}}{2} |01\\rangle+\\frac{\\sqrt{2}}{2} |10\\rangle$$"
      ],
      "text/plain": [
       "<IPython.core.display.Latex object>"
      ]
     },
     "execution_count": 12,
     "metadata": {},
     "output_type": "execute_result"
    }
   ],
   "source": [
    "estado = Statevector.from_int(0,2**2)\n",
    "estado = estado.evolve(Bell)\n",
    "estado.draw(\"latex\")"
   ]
  },
  {
   "cell_type": "code",
   "execution_count": 19,
   "id": "e9c2dd01",
   "metadata": {},
   "outputs": [
    {
     "data": {
      "image/png": "[encoded data removed]",
      "text/plain": [
       "<Figure size 267.052x144.48 with 1 Axes>"
      ]
     },
     "execution_count": 19,
     "metadata": {},
     "output_type": "execute_result"
    }
   ],
   "source": [
    "Bell = QuantumCircuit(2)\n",
    "Bell.x(1)\n",
    "Bell.x(0)\n",
    "Bell.h(0)\n",
    "Bell.cx(0,1)\n",
    "Bell.draw(\"mpl\") # estado de bell y=1, x=1"
   ]
  },
  {
   "cell_type": "code",
   "execution_count": 18,
   "id": "6877b321",
   "metadata": {},
   "outputs": [
    {
     "data": {
      "text/latex": [
       "$$- \\frac{\\sqrt{2}}{2} |01\\rangle+\\frac{\\sqrt{2}}{2} |10\\rangle$$"
      ],
      "text/plain": [
       "<IPython.core.display.Latex object>"
      ]
     },
     "execution_count": 18,
     "metadata": {},
     "output_type": "execute_result"
    }
   ],
   "source": [
    "estado = Statevector.from_int(0,2**2)\n",
    "estado = estado.evolve(Bell)\n",
    "estado.draw(\"latex\")"
   ]
  },
  {
   "cell_type": "markdown",
   "id": "bbcddf45",
   "metadata": {},
   "source": [
    "Sí deseamos generar entrelazamiento en este caso para más de $2$ qubits, por ejemplo generar el estado de  Greenberger–Horne–Zeilinger denotado de la siguiente forma en $3$ qubits:\n",
    "\\begin{equation}\n",
    "\\left|GHZ\\right\\rangle = \\frac{\\left|000\\right\\rangle+ \\left|111\\right\\rangle}{\\sqrt{2}}.\n",
    "\\end{equation}\n",
    "También para $n$ qubits de la forma:\n",
    "\n",
    "\\begin{equation}\n",
    "\\left|Entrelazamiento_{n}\\right\\rangle = \\frac{\\left|00...0\\right\\rangle+ \\left|11...1\\right\\rangle}{\\sqrt{2}}\n",
    "\\end{equation}.\n",
    "Esto lo podemos hacer mediante la compuerta **CNOT** aplicandola de la siguente forma: Para 3 qubits:"
   ]
  },
  {
   "cell_type": "code",
   "execution_count": 24,
   "id": "bf69c07b",
   "metadata": {},
   "outputs": [
    {
     "data": {
      "image/png": "[encoded data removed]",
      "text/plain": [
       "<Figure size 267.197x204.68 with 1 Axes>"
      ]
     },
     "execution_count": 24,
     "metadata": {},
     "output_type": "execute_result"
    }
   ],
   "source": [
    "GHZ = QuantumCircuit(3)\n",
    "GHZ.h(0)\n",
    "GHZ.cx(0,1)\n",
    "GHZ.cx(0,2)\n",
    "GHZ.draw(\"mpl\")"
   ]
  },
  {
   "cell_type": "code",
   "execution_count": 25,
   "id": "adb1b484",
   "metadata": {},
   "outputs": [
    {
     "data": {
      "image/png": "[encoded data removed]",
      "text/plain": [
       "<Figure size 267.197x204.68 with 1 Axes>"
      ]
     },
     "execution_count": 25,
     "metadata": {},
     "output_type": "execute_result"
    }
   ],
   "source": [
    "GHZ = QuantumCircuit(3)\n",
    "GHZ.h(0)\n",
    "GHZ.cx(0,1)\n",
    "GHZ.cx(1,2)\n",
    "GHZ.draw(\"mpl\")"
   ]
  },
  {
   "cell_type": "code",
   "execution_count": 23,
   "id": "5ab6b463",
   "metadata": {},
   "outputs": [
    {
     "data": {
      "text/latex": [
       "$$\\frac{\\sqrt{2}}{2} |000\\rangle+\\frac{\\sqrt{2}}{2} |111\\rangle$$"
      ],
      "text/plain": [
       "<IPython.core.display.Latex object>"
      ]
     },
     "execution_count": 23,
     "metadata": {},
     "output_type": "execute_result"
    }
   ],
   "source": [
    "estado = Statevector.from_int(0,2**3)\n",
    "estado = estado.evolve(GHZ)\n",
    "estado.draw(\"latex\")"
   ]
  },
  {
   "cell_type": "markdown",
   "id": "fb6a5c5b",
   "metadata": {},
   "source": [
    "Cualquiera de los dos circuitos cuánticos que observamos arriba son válidos para generar el estado $\\left|GHZ\\right\\rangle$."
   ]
  },
  {
   "cell_type": "markdown",
   "id": "a49cc8c3",
   "metadata": {},
   "source": [
    "Ahora para 7 qubits:"
   ]
  },
  {
   "cell_type": "code",
   "execution_count": 30,
   "id": "d08642a2",
   "metadata": {},
   "outputs": [
    {
     "data": {
      "image/png": "[encoded data removed]",
      "text/plain": [
       "<Figure size 507.997x445.48 with 1 Axes>"
      ]
     },
     "execution_count": 30,
     "metadata": {},
     "output_type": "execute_result"
    }
   ],
   "source": [
    "num_qubits = 7\n",
    "Entrelazamiento_7 = QuantumCircuit(num_qubits)\n",
    "Entrelazamiento_7.h(0)\n",
    "for i in range(1,num_qubits):\n",
    "    Entrelazamiento_7.cx(i-1,i)\n",
    "Entrelazamiento_7.draw(\"mpl\")"
   ]
  },
  {
   "cell_type": "markdown",
   "id": "c170c5d4",
   "metadata": {},
   "source": [
    "El siguiente circuito también es igual que el anterior:"
   ]
  },
  {
   "cell_type": "code",
   "execution_count": 31,
   "id": "a940a2b9",
   "metadata": {},
   "outputs": [
    {
     "data": {
      "image/png": "[encoded data removed]",
      "text/plain": [
       "<Figure size 507.997x445.48 with 1 Axes>"
      ]
     },
     "execution_count": 31,
     "metadata": {},
     "output_type": "execute_result"
    }
   ],
   "source": [
    "num_qubits = 7\n",
    "Entrelazamiento_7 = QuantumCircuit(num_qubits)\n",
    "Entrelazamiento_7.h(0)\n",
    "for i in range(1,num_qubits):\n",
    "    Entrelazamiento_7.cx(0,i)\n",
    "Entrelazamiento_7.draw(\"mpl\")"
   ]
  },
  {
   "cell_type": "code",
   "execution_count": 33,
   "id": "faaa2fc2",
   "metadata": {},
   "outputs": [
    {
     "data": {
      "text/latex": [
       "$$\\frac{\\sqrt{2}}{2} |0000000\\rangle+\\frac{\\sqrt{2}}{2} |1111111\\rangle$$"
      ],
      "text/plain": [
       "<IPython.core.display.Latex object>"
      ]
     },
     "execution_count": 33,
     "metadata": {},
     "output_type": "execute_result"
    }
   ],
   "source": [
    "estado = Statevector.from_int(0,2**7)\n",
    "estado = estado.evolve(Entrelazamiento_7)\n",
    "estado.draw(\"latex\")"
   ]
  },
  {
   "cell_type": "markdown",
   "id": "6d767fd1",
   "metadata": {},
   "source": [
    "**Teorema de no Clonación**"
   ]
  },
  {
   "cell_type": "markdown",
   "id": "619b67f3",
   "metadata": {},
   "source": [
    "El teorema de no clonación lo que en síntesis nos quiere decir es que, dado un estado vector $\\left|\\Phi\\right\\rangle$ intentamos construir un operador $\\textbf{A}$ tal que copie el estado $\\left|\\Phi\\right\\rangle$, tal que:\n",
    "\\begin{equation}\n",
    "    \\textbf{A}\\left|0\\right\\rangle\\left|\\Phi\\right\\rangle = \\left|\\Phi\\right\\rangle\\left|\\Phi\\right\\rangle.\n",
    "\\end{equation}\n",
    "\n",
    "Dicha situación anterior es imposible, ya que no es posible copiar un estado $\\left|\\Phi\\right\\rangle$ arbitrario de la manera se muestra arriba, además dicho teorema comenta que es posible hacer una copia bajo una condición de ortogonalidad que veremos a continuación, aún así bajo esta condición no es posible copiar un estado cuántico, pero existen otras condiciones para copiar parcialmente un estado $\\left|\\Phi\\right\\rangle$ arbitrario con una fidelidad de $\\sqrt(5/6)$ para el caso de estados puros y 3 qubits. (Quantum copying: Beyond the no-cloning theorem(https://arxiv.org/pdf/quant-ph/9607018.pdf)). \n",
    "Para el caso anterior demostraremos que no es posible bajo esa modalidad de la siguente manera:\n",
    "Sea $\\textbf{A}$ el operador unitario de clonación que puede copiar dos estados ket de la siguente manera:\n",
    "\\begin{equation}\n",
    "    \\textbf{A}\\left|0\\right\\rangle\\left|\\Phi\\right\\rangle = \\left|\\Phi\\right\\rangle\\left|\\Phi\\right\\rangle, \\\\\n",
    "    \\textbf{A}\\left|0\\right\\rangle\\left|\\Theta\\right\\rangle = \\left|\\Theta\\right\\rangle\\left|\\Theta\\right\\rangle,\n",
    "\\end{equation}\n",
    "Y el operador $\\textbf{A}^{\\dagger}$  tenga la capacidad de copiar los estados bra, tal que:\n",
    "\\begin{equation}\n",
    "    \\left \\langle \\Phi\\right \\rvert \\left\\langle0\\right\\rvert \\textbf{A}^{\\dagger} = \\left \\langle \\Phi\\right \\rvert \\left\\langle \\Phi\\right\\rvert, \\\\ \n",
    "      \\left \\langle \\Theta\\right \\rvert \\left\\langle0\\right\\rvert \\textbf{A}^{\\dagger} = \\left \\langle  \\Theta\\right \\rvert \\left\\langle  \\Theta\\right\\rvert.\n",
    "\\end{equation}"
   ]
  },
  {
   "cell_type": "markdown",
   "id": "4ddde526",
   "metadata": {},
   "source": [
    "Con lo anterior, generamos el siguiente producto punto:"
   ]
  },
  {
   "cell_type": "markdown",
   "id": "d967b1d1",
   "metadata": {},
   "source": [
    "\\begin{equation}\n",
    "    \\left \\langle \\Phi\\right \\rvert \\left\\langle0\\right\\rvert \\textbf{A}^{\\dagger} \\textbf{A}\\left|0\\right\\rangle\\left|\\Theta\\right\\rangle = \\left \\langle \\Phi\\right \\rvert \\left\\langle \\Phi\\right\\rvert \\left|\\Theta\\right\\rangle\\left|\\Theta\\right\\rangle.\n",
    "\\end{equation}"
   ]
  },
  {
   "cell_type": "markdown",
   "id": "694cc5ba",
   "metadata": {},
   "source": [
    "Sabemos que $\\textbf{A}$ cumple con la siguiente condición:\n",
    "\\begin{equation}\n",
    "\\textbf{A}^{\\dagger} \\textbf{A} = \\textbf{I}\n",
    "\\end{equation}\n",
    "con lo cual tenemos:\n",
    "\\begin{equation}\n",
    "    \\left \\langle \\Phi\\right \\rvert \\left\\langle0\\right\\rvert \\left|0\\right\\rangle\\left|\\Theta\\right\\rangle = \\left \\langle \\Phi\\right  \\rvert \\left\\langle \\Phi\\right\\rvert \\left|\\Theta\\right\\rangle\\left|\\Theta\\right\\rangle.\n",
    "\\end{equation}"
   ]
  },
  {
   "cell_type": "markdown",
   "id": "fd781304",
   "metadata": {},
   "source": [
    "y reorganizando:\n",
    "\\begin{equation}\n",
    "\\left \\langle 0 \\middle \\rvert 0 \\right \\rangle \\left \\langle \\Phi \\middle \\rvert \\Theta \\right \\rangle = \\left \\langle \\Phi \\middle \\rvert \\Theta \\right \\rangle \\left \\langle \\Phi \\middle \\rvert \\Theta \\right \\rangle ,\n",
    "\\end{equation} \n",
    "\n",
    "y teniendo en cuenta que $\\left \\langle 0 \\middle \\rvert 0 \\right \\rangle=1$, además que $|\\left \\langle \\Phi \\middle \\rvert \\Theta \\right \\rangle|^{2} = \\left \\langle \\Phi \\middle \\rvert \\Theta \\right \\rangle\\left \\langle \\Phi \\middle \\rvert \\Theta \\right \\rangle$, entonces: \n",
    "\n",
    "\\begin{equation}\n",
    " \\left \\langle \\Phi \\middle \\rvert \\Theta \\right \\rangle = |\\left \\langle \\Phi \\middle \\rvert \\Theta \\right \\rangle|^{2}.\n",
    "\\end{equation} "
   ]
  },
  {
   "cell_type": "markdown",
   "id": "2e88b42e",
   "metadata": {},
   "source": [
    "Esto quiere decir dos cosas, para que se cumpla la condición anterior $\\left|\\Phi\\right\\rangle=\\left|\\Theta\\right\\rangle$, con lo cual, sólo es posible copiar un único estado cuántico y la otra condición es que $\\left \\langle \\Phi \\middle \\rvert \\Theta \\right \\rangle=0$, es decir que para poder copiar todos los estados tienen que ser ortonormales, con lo cual, no es posible copiar un estado cuántico arbitrario."
   ]
  },
  {
   "cell_type": "markdown",
   "id": "4e555036",
   "metadata": {},
   "source": [
    "**Teorema de no comunicación**"
   ]
  },
  {
   "cell_type": "markdown",
   "id": "026ee6d3",
   "metadata": {},
   "source": [
    "Dicho teorema en síntesis contempla a imposibilidad de cominucación entre sistemas cuánticos, es decir, a pesar de que un sistema esté entrelazado, no tiene la facultad de enviar información más allá de la velocidad de la luz, con lo cual respeta los postulados de la relatividad especial de alguna manera. Para estados puros es posible detallar dicho teorema de la siguente manera: \n",
    "\n",
    "Sea un sistema denotado con el siguiente espacio de Hilbert \n",
    "\\begin{equation}\n",
    "H = H_{a} \\otimes H_{b},\n",
    "\\end{equation}\n",
    "donde $H$ es la combinación de dos sistemas, un sistema $a$ asociado al espacio $H_{a}$, donde Alice puede obtener estados cuánticos y un sistema $b$ asociado al espacio $H_{b}$, donde Bogo puede obtener sus respectivos estados cuánticos. Con lo anteriormente expuesto, sea $\\left|\\Phi_{a}\\right\\rangle \\in H_{a}$ y $\\left|\\Phi_{b}\\right\\rangle \\in H_{b}$, vectores estados por cada usuario respectivo, tal que el sistema general es:\n",
    "\\begin{equation}\n",
    "\\left|\\Phi\\right\\rangle=\\left|\\Phi_{a}\\right\\rangle\\otimes\\left|\\Phi_{b}\\right\\rangle.\n",
    "\\end{equation}\n",
    "Sí a este sistema quiero aplicarle un operador **CNOT**, es obligatorio que Alice le comunique a Bob que es lo que va a hacer para aplicar el operado como un sistema, es decir, que dicho operador se aplica como un compuerta global, pero lo que deseamos es aplicar un operador $\\textbf{A}$, sobre el estado $\\left|\\Phi_{a}\\right\\rangle$ o sea aplicar una compuerta local tal que esto afecte el estado de Bob cuando el genere alguna medición, si observamos la aplicación de operadores en la siguente ecuación:\n",
    "\\begin{equation}\n",
    "\\left|\\Phi'\\right\\rangle=(\\textbf{A}\\otimes\\textbf{I})(\\left|\\Phi_{a}\\right\\rangle\\otimes\\left|\\Phi_{b}\\right\\rangle)=\\textbf{A}\\left|\\Phi_{a}\\right\\rangle\\otimes\\textbf{I}\\left|\\Phi_{b}\\right\\rangle=\\textbf{A}\\left|\\Phi_{a}\\right\\rangle\\otimes\\left|\\Phi_{b}\\right\\rangle.\n",
    "\\end{equation}\n",
    "Podemos notar que al aplicar un operador localmente, o sea unicamente en el espacio, $H_{a}$, no podemos afectar el espacio $H_{b}$ bajo esa localidad, al aplicar una Alice medición sobre el estado $\\left|\\Phi'\\right\\rangle$, claramente ella Bob sobre el estado  $\\left|\\Phi'\\right\\rangle$, no observará ningún cambio. es decir:\n",
    "\\begin{equation}\n",
    "p(x_{i}) = \\left \\langle x_{i} \\middle \\rvert \\Phi_{a} \\right \\rangle,\n",
    "\\end{equation}\n",
    "\\begin{equation}\n",
    "p'(x_{i}) = \\left \\langle x_{i} \\middle \\rvert \\textbf{A}|\\Phi_{a} \\right \\rangle,\n",
    "\\end{equation}\n",
    "\\begin{equation}\n",
    "p'(x_{i}) \\neq p(x_{i}).\n",
    "\\end{equation}\n",
    "Es decir, que Alice no medirá lo mismo con la misma probabilidad. mientras que Bob siempre medira a pesar de que Alice está afectando sus sistema siempre lo mismo.\n",
    "\\begin{equation}\n",
    "p(y_{i}) = \\left \\langle y_{i} \\middle \\rvert \\Phi_{b} \\right \\rangle,\n",
    "\\end{equation}\n",
    "\n",
    "Los dos teoremas anteriormente expuestos hacen parte de un teorema más general llamado **No-go theorem**."
   ]
  },
  {
   "cell_type": "markdown",
   "id": "7a6db365",
   "metadata": {},
   "source": [
    "**Teleportación cuántica**"
   ]
  },
  {
   "cell_type": "markdown",
   "id": "5df2b465",
   "metadata": {},
   "source": [
    "Tenemos dos situaciones que limitan enviar información a otro usuario, las cuales se comentaron anteriormente. Inicialmente, con el teorema de no clonación el cual imposibilita copiar un estado (en este caso copiar el estado cuántico perfectamente si se usan otras metodologias comentadas en el teorema.). Con el teorema de no cominicación no podemos enviar información de un estado cuántico a otro sin otro medio de cominucación, es decir, que esto también imposibilida el envío de información más allá de la velocidad de la luz $c$. aún así, es posible envíar un estado cuántido de sistema a otro sistema, mediante comunicación clásica y sin violar los teoremas anteriores."
   ]
  },
  {
   "cell_type": "markdown",
   "id": "a20a8cf0",
   "metadata": {},
   "source": [
    "Con lo anteriormente expuesto, suponemos el siguiente evento:\n",
    "Tenemos dos usuarios la primera llamada **Alice**, el segundo llamado **Bob**. Alice desea enviarle información a Bob de un estado cuántico de $1$ qubit $|\\Psi\\rangle$ denotado de la siguente manera:\n",
    "\\begin{equation}\n",
    "|\\Psi\\rangle = \\alpha|0\\rangle + \\beta|1\\rangle\n",
    "\\end{equation}\n",
    "donde $\\alpha$ y $\\beta$ es la información que se desea enviar a **Bob**. Es de aclarar que estos dos parámetros anteriores son amplitudes de probabilidad, con lo cual, $\\langle\\Psi|\\Psi\\rangle=1$. Alice y Bob anteriormente había entrelazado sus qubits, tal que tienen el siguiente estado de Bell:\n",
    "\\begin{equation}\n",
    "\\left|Bell_{00}\\right\\rangle = \\frac{\\left|00\\right\\rangle + \\left|11\\right\\rangle}{\\sqrt{2}}. \n",
    "\\end{equation}"
   ]
  },
  {
   "cell_type": "markdown",
   "id": "18f4969b",
   "metadata": {},
   "source": [
    "Para evitar confución de quién mide cada qubit, usaremos la siguiente notación:\n",
    "\\begin{equation}\n",
    "|\\Gamma_{A}\\rangle, |\\Gamma_{B}\\rangle \n",
    "\\end{equation}\n",
    " Donde el subíndice $A$ indica el estado cuántico asociado a un evento físico que puede medir Alice y el sub índice $B$ al estado cuántico asociado a un evento físico que puede medir Bob. Con lo cual, también podemos escribir el estado de Bell de la siguiente manera:\n",
    " \\begin{equation}\n",
    "\\left|Bell_{00}\\right\\rangle = \\frac{\\left|0_{A}0_{B}\\right\\rangle + \\left|1_{A}1_{B}\\right\\rangle}{\\sqrt{2}},\n",
    "\\end{equation}\n",
    "\n",
    "con dicho estado entrelazado $\\left|Bell_{00}\\right\\rangle$ es posible mediante compuertas enviar el estado $|\\Psi\\rangle$ a Bob."
   ]
  },
  {
   "cell_type": "markdown",
   "id": "439942a9",
   "metadata": {},
   "source": [
    "Ahora definimos el siguiente estado:\n",
    "\\begin{equation}\n",
    "\\left|\\psi_{0}\\right\\rangle := |\\Psi\\rangle\\otimes\\left|Bell_{00}\\right\\rangle,\n",
    "\\end{equation}\n",
    "con lo anterior, aplicando el producto tensorial por cada estado base obtenemos lo siguiente:\n",
    "\\begin{equation}\n",
    "\\left|\\psi_{0}\\right\\rangle = (\\alpha|0\\rangle + \\beta|1\\rangle)\\otimes\\frac{(\\left|0_{A}0_{B}\\right\\rangle + \\left|1_{A}1_{B}\\right\\rangle)}{\\sqrt{2}},\n",
    "\\end{equation}\n",
    "\\begin{equation}\n",
    "\\left|\\psi_{0}\\right\\rangle = \\frac{\\alpha\\left|00_{A}0_{B}\\right\\rangle+\\alpha\\left|01_{A}1_{B}\\right\\rangle+\\beta\\left|10_{A}0_{B}\\right\\rangle+\\beta\\left|11_{A}1_{B}\\right\\rangle}{\\sqrt{2}},\n",
    "\\end{equation}"
   ]
  },
  {
   "cell_type": "markdown",
   "id": "70371b43",
   "metadata": {},
   "source": [
    "Ahora, entrelazamos el estado $|\\Psi\\rangle$ al qubit que medirá Alice con la compuerta **CNOT** siendo el qubit de control asociado al estado que se enviará, y el qubit objetivo el qubit de Alice, tal que:\n",
    "\\begin{equation}\n",
    "\\left|\\psi_{1}\\right\\rangle = \\textbf{C}_{not}\\left|\\psi_{0}\\right\\rangle = \\frac{\\alpha\\textbf{C}_{not}\\left|00_{A}0_{B}\\right\\rangle+\\alpha\\textbf{C}_{not}\\left|01_{A}1_{B}\\right\\rangle+\\beta\\textbf{C}_{not}\\left|10_{A}0_{B}\\right\\rangle+\\beta\\textbf{C}_{not}\\left|11_{A}1_{B}\\right\\rangle}{\\sqrt{2}},\n",
    "\\end{equation}\n",
    "\\begin{equation}\n",
    "\\textbf{C}_{not}\\left|00_{A}0_{B}\\right\\rangle = \\left|00_{A}0_{B}\\right\\rangle,\n",
    "\\end{equation}\n",
    "\\begin{equation}\n",
    "\\textbf{C}_{not}\\left|01_{A}1_{B}\\right\\rangle = \\left|01_{A}1_{B}\\right\\rangle,\n",
    "\\end{equation}\n",
    "\\begin{equation}\n",
    "\\textbf{C}_{not}\\left|10_{A}0_{B}\\right\\rangle = \\left|11_{A}0_{B}\\right\\rangle,\n",
    "\\end{equation}\n",
    "\\begin{equation}\n",
    "\\textbf{C}_{not}\\left|11_{A}1_{B}\\right\\rangle = \\left|10_{A}1_{B}\\right\\rangle,\n",
    "\\end{equation}\n",
    "\n",
    "\\begin{equation}\n",
    "\\left|\\psi_{1}\\right\\rangle = \\frac{\\alpha\\left|00_{A}0_{B}\\right\\rangle+\\alpha\\left|01_{A}1_{B}\\right\\rangle+\\beta\\left|11_{A}0_{B}\\right\\rangle+\\beta\\left|10_{A}1_{B}\\right\\rangle}{\\sqrt{2}}.\n",
    "\\end{equation}\n"
   ]
  },
  {
   "cell_type": "markdown",
   "id": "d2ed1a78",
   "metadata": {},
   "source": [
    "Para confirmar que quedaron entrelazados, proyectamos el estado $\\langle0_{B}|$ en $\\left|\\psi_{1}\\right\\rangle$, tal que obtenemos lo siguiente:\n",
    "\\begin{equation}\n",
    "\\left|\\psi_{1}'\\right\\rangle = \\alpha \\left|00_{A}\\right\\rangle + \\beta \\left|11_{A}\\right\\rangle,\n",
    "\\end{equation}\n",
    "y si protectamos el estado $\\langle1_{B}|$ en $\\left|\\psi_{1}\\right\\rangle$, tenemos que:\n",
    "\\begin{equation}\n",
    "\\left|\\psi_{1}''\\right\\rangle = \\alpha \\left|01_{A}\\right\\rangle + \\beta \\left|10_{A}\\right\\rangle.\n",
    "\\end{equation}\n",
    "\n",
    "Con lo cual, esto demuestra que el estado $|\\Psi\\rangle$ y el qubit que mide Alice está entrelazado. Además, dado que el qubit de Alice está entrelazado al qubit de Bob, por lo tanto el estado de Bob está entrelazado estado  $|\\Psi\\rangle$, como se muestra a continuación: Proyectando el estado base $\\langle0_{A}|$ en $\\left|\\psi_{1}\\right\\rangle$, obtenemos:\n",
    "\\begin{equation}\n",
    "\\left|\\psi_{1}'''\\right\\rangle = \\alpha \\left|00_{B}\\right\\rangle + \\beta \\left|11_{B}\\right\\rangle,\n",
    "\\end{equation}\n",
    "y si protectamos el estado $\\langle1_{A}|$ en $\\left|\\psi_{1}\\right\\rangle$, tenemos que:\n",
    "\\begin{equation}\n",
    "\\left|\\psi_{1}''''\\right\\rangle = \\alpha \\left|01_{B}\\right\\rangle + \\beta \\left|10_{B}\\right\\rangle.\n",
    "\\end{equation}\n",
    "Tal que, lo anterior pone en manifiesto que también el estado $|\\Psi\\rangle$ está entrelazado al qubit de Bob.\n",
    "\n",
    "Ahora, desde un análisis heurístico, podemos llegar a lo siguiente:\n",
    "Se sabe que al aplicar la compuerta $\\textbf{H}$ a $\\left|+\\right\\rangle$ volvemos al estado base $\\left|0\\right\\rangle$, si estamos proyectando con respecto a  $\\langle0|$, es más fácil proyectarla con la compuerta aplicada en $\\left|+\\right\\rangle$  que por sí sola. Con esto anterior, para poder finalizar el envío de la información contenida en $|\\Psi\\rangle$ aplicamos la compuerta $\\textbf{H}$ a $\\left|\\psi_{1}\\right\\rangle$ de la siguente forma: \n",
    "\n",
    "\\begin{equation}\n",
    "\\left|\\psi_{2}\\right\\rangle=(\\textbf{H}\\otimes\\textbf{I}\\otimes\\textbf{I})\\left|\\psi_{1}\\right\\rangle = \\frac{\\alpha\\textbf{H}\\left|0\\right\\rangle\\otimes\\textbf{I}\\left|0_{A}\\right\\rangle\\otimes\\textbf{I}\\left|0_{B}\\right\\rangle+\\alpha\\textbf{H}\\left|0\\right\\rangle\\otimes\\textbf{I}\\left|1_{A}\\right\\rangle\\otimes\\textbf{I}\\left|1_{B}\\right\\rangle+\\beta\\textbf{H}\\left|1\\right\\rangle\\otimes\\textbf{I}\\left|1_{A}\\right\\rangle\\otimes\\textbf{I}\\left|0_{B}\\right\\rangle+\\beta\\textbf{H}\\left|1\\right\\rangle\\otimes\\textbf{I}\\left|0_{A}\\right\\rangle\\otimes\\textbf{I}\\left|1_{B}\\right\\rangle}{\\sqrt{2}},\n",
    "\\end{equation}\n",
    "\n",
    "\\begin{equation}\n",
    "\\left|\\psi_{2}\\right\\rangle= \\frac{\\alpha\\textbf{H}\\left|0\\right\\rangle\\otimes\\left|0_{A}0_{B}\\right\\rangle+\\alpha\\textbf{H}\\left|0\\right\\rangle\\otimes\\left|1_{A}1_{B}\\right\\rangle+\\beta\\textbf{H}\\left|1\\right\\rangle\\otimes\\left|1_{A}0_{B}\\right\\rangle+\\beta\\textbf{H}\\left|1\\right\\rangle\\otimes\\left|0_{A}1_{b}\\right\\rangle}{\\sqrt{2}}.\n",
    "\\end{equation}\n",
    "\n",
    "Tal que la compuerta $\\textbf{H}$ afecta únicamente los estados base relacionados con el estado $|\\Psi\\rangle$ a enviar. Aplicando la compuerta Hadamard a los estado base queda de la siguiente forma:\n",
    "\\begin{equation}\n",
    "\\left|\\psi_{2}\\right\\rangle= \\frac{\\alpha(\\left|0\\right\\rangle+\\left|1\\right\\rangle)\\otimes\\left|0_{A}0_{B}\\right\\rangle+\\alpha(\\left|0\\right\\rangle+\\left|1\\right\\rangle)\\otimes\\left|1_{A}1_{B}\\right\\rangle+\\beta(\\left|0\\right\\rangle-\\left|1\\right\\rangle)\\otimes\\left|1_{A}0_{B}\\right\\rangle+\\beta(\\left|0\\right\\rangle-\\left|1\\right\\rangle)\\otimes\\left|0_{A}1_{b}\\right\\rangle}{2}.\n",
    "\\end{equation}\n",
    "Expandiendo los factores tenemos:\n",
    "\\begin{equation}\n",
    "\\left|\\psi_{2}\\right\\rangle= \\frac{\\alpha\\left|00_{A}0_{B}\\right\\rangle+\\alpha\\left|10_{A}0_{B}\\right\\rangle+\\alpha\\left|01_{A}1_{B}\\right\\rangle+\\alpha\\left|11_{A}1_{B}\\right\\rangle+\\beta\\left|01_{A}0_{B}\\right\\rangle-\\beta\\left|11_{A}0_{B}\\right\\rangle+\\beta\\left|00_{A}1_{b}\\right\\rangle-\\beta\\left|10_{A}1_{b}\\right\\rangle}{2}.\n",
    "\\end{equation}\n",
    "Ahora generando factor común de los estados base de Alice y los estados base relacionados a $|\\Psi\\rangle$, se tiene:"
   ]
  },
  {
   "cell_type": "markdown",
   "id": "7ab7f931",
   "metadata": {},
   "source": [
    "\\begin{equation}\n",
    "\\left|\\psi_{2}\\right\\rangle= \\frac{\\left|00_{A}\\right\\rangle\\otimes(\\alpha\\left|0_{B}\\right\\rangle+\\beta\\left|1_{B}\\right\\rangle)+\\left|01_{A}\\right\\rangle\\otimes(\\beta\\left|0_{B}\\right\\rangle+\\alpha\\left|1_{B}\\right\\rangle)+\\left|10_{A}\\right\\rangle\\otimes(\\alpha\\left|0_{B}\\right\\rangle-\\beta\\left|1_{B}\\right\\rangle)+\\left|11_{A}\\right\\rangle\\otimes(-\\beta\\left|0_{B}\\right\\rangle+\\alpha\\left|1_{B}\\right\\rangle)}{2}.\n",
    "\\end{equation}"
   ]
  },
  {
   "cell_type": "markdown",
   "id": "1e64876a",
   "metadata": {},
   "source": [
    "El factor $2$  que aparece dentro del estado $\\left|\\psi_{2}\\right\\rangle$ es la amplitud de probabilidad de obtener $\\left|00_{A}\\right\\rangle$, $\\left|10_{A}\\right\\rangle$, $\\left|01_{A}\\right\\rangle$ o $\\left|11_{A}\\right\\rangle$."
   ]
  },
  {
   "cell_type": "markdown",
   "id": "6517be58",
   "metadata": {},
   "source": [
    "A la hora de hacer la medición y se obtiene $\\left|00_{A}\\right\\rangle$ tenemos que Bob podrá medir lo siguente:\n",
    "\\begin{equation}\n",
    "\\left|\\psi_{2}'\\right\\rangle = \\alpha\\left|0_{B}\\right\\rangle+\\beta\\left|1_{B}\\right\\rangle.\n",
    "\\end{equation}\n",
    "Dado este caso Bob sólo tendrá que medir, pero ¿qué pasa con los otros estados dado al medir algo diferen a $\\left|00_{A}\\right\\rangle$?, en este caso se le tiene que comunicar a Bob mediante comunicación clásica cual fue la medición hecha de los estados base relacionados a $|\\Psi\\rangle$ y a los estados base de Alice, y con esta información aplicar compuertas espeficicas para obtener el estado $|\\Psi\\rangle$ enviado pero con respecto a sus estados base, en este caso cuando se mide efectivamente $\\left|00_{A}\\right\\rangle$ se le comunica a Bob que únicamente mida.\n",
    "Sí la medición efectiva fue $\\left|01_{A}\\right\\rangle$ entonces el estado que tiene Bob es:\n",
    "\\begin{equation}\n",
    "\\left|\\psi_{2}''\\right\\rangle = \\beta\\left|0_{B}\\right\\rangle+\\alpha\\left|1_{B}\\right\\rangle,\n",
    "\\end{equation}\n",
    "entonces, alice le comunica su medición, con lo cual para obtener un estado semejante a $\\left|\\psi_{2}'\\right\\rangle$ aplicaremos la matrix de Pauli $\\textbf{X}$ que intercambia el estado base, es decir:\n",
    "\\begin{equation}\n",
    "\\left|\\psi_{2}'\\right\\rangle = \\textbf{X}\\left|\\psi_{2}''\\right\\rangle = \\alpha\\left|0_{B}\\right\\rangle+\\beta\\left|1_{B}\\right\\rangle.\n",
    "\\end{equation}\n",
    "\n",
    "Sí la medida efectiva es $\\left|10_{A}\\right\\rangle$, luego, se le comunica a Bob la medición hecha, con lo cual, se obtiene el siguiente vector estado:\n",
    "\\begin{equation}\n",
    "\\left|\\psi_{2}'''\\right\\rangle = \\alpha\\left|0_{B}\\right\\rangle-\\beta\\left|1_{B}\\right\\rangle,\n",
    "\\end{equation}\n",
    "con lo cual, Bob decide aplicar la matriz de Pauli $\\textbf{Z}$, lo que hace dicha matriz es cambiar de signo el estado $\\left|1_{B}\\right\\rangle$, es decir:\n",
    "\\begin{equation}\n",
    "\\left|\\psi_{2}'\\right\\rangle = \\textbf{Z}\\left|\\psi_{2}'''\\right\\rangle = \\alpha\\left|0_{B}\\right\\rangle+\\beta\\left|1_{B}\\right\\rangle.\n",
    "\\end{equation}"
   ]
  },
  {
   "cell_type": "markdown",
   "id": "ea856917",
   "metadata": {},
   "source": [
    "Finalmente, si efectivamente se mide $\\left|11_{A}\\right\\rangle$, entonces, el estado de Bob es:\n",
    "\\begin{equation}\n",
    "\\left|\\psi_{2}''''\\right\\rangle = -\\beta\\left|0_{B}\\right\\rangle+\\alpha\\left|1_{B}\\right\\rangle,\n",
    "\\end{equation}\n",
    "Se comunica la medición heca a Bob con lo cual, aplicará la compuerta $\\textbf{X}$ y seguidamente la compuerta $\\textbf{Z}$, tal que:\n",
    "\\begin{equation}\n",
    "\\textbf{X}\\left|\\psi_{2}''''\\right\\rangle = -\\beta\\left|1_{B}\\right\\rangle+\\alpha\\left|0_{B}\\right\\rangle,\n",
    "\\end{equation}\n",
    "\\begin{equation}\n",
    "\\left|\\psi_{2}'\\right\\rangle = \\textbf{Z}\\textbf{X}\\left|\\psi_{2}''''\\right\\rangle = \\alpha\\left|0_{B}\\right\\rangle+\\beta\\left|1_{B}\\right\\rangle.\n",
    "\\end{equation}\n",
    "\n",
    "Es decir que, sí se obtiene efectivamente la medición $\\left|1\\right\\rangle$ independiente de la medición de los estados base de Bell, Bob debe aplicar la compuerta $\\textbf{Z}$ sí se obtiene $\\left|0\\right\\rangle$, no la aplica. sí se obtiene la medición efectiva de $\\left|1_{A}\\right\\rangle$, independientemente de la medición de los estados base asociados a $|\\Psi\\rangle$, entonces Bob debe aplicar $\\textbf{Z}$, sí se obtiene $\\left|0_{A}\\right\\rangle$ entonces no se aplica. \n",
    "\n",
    "Así independiente de la medición que haga Alice con los estados base relacionados a $\\left|\\Psi\\right\\rangle$ y sus estados base, puede obtener la información enviada Bob, teniendo en cuenta que Alice debe informarle las mediciones hechas a Bob. Es de aclarar que, No se está copiando el estado $\\left|\\Psi\\right\\rangle$, ya que al aplicar dichas compuertas, este estado desaparece y la información es enviada y puesta en los estados base de Bob.\n",
    " \n",
    "Lo anterior parece lo bastante complicado para hacerlo dentro de un computador cuántico, pero sin detallar los cálculos, lo que se hizo fue entrelazar $\\left|\\Psi\\right\\rangle$ al estado de Bell es decir aplicar $\\textbf{CNOT}$,luego se aplica la compuerta $\\textbf{H}$. finalmente se le comunica a Bob las mediciones hechas y dependiendo de la medición aplica $\\textbf{X}$ o $\\textbf{Z}$."
   ]
  },
  {
   "cell_type": "markdown",
   "id": "b4175488",
   "metadata": {},
   "source": [
    "Vista la parte física, ahora, es posible programa lo anterior en Qiskit.\n",
    "inicialmente. Generamos un circuito inicial con $3$ qubits, la posición $0$ se asociará al estado vector $\\left|\\Psi\\right\\rangle$, la posición $1$ y $2$ para el estado de Bell $\\left|Bell_{00}\\right\\rangle$, es decir:"
   ]
  },
  {
   "cell_type": "code",
   "execution_count": 41,
   "id": "69706636",
   "metadata": {},
   "outputs": [
    {
     "data": {
      "image/png": "[encoded data removed]",
      "text/plain": [
       "<Figure size 206.997x264.88 with 1 Axes>"
      ]
     },
     "execution_count": 41,
     "metadata": {},
     "output_type": "execute_result"
    }
   ],
   "source": [
    "teleportacion = QuantumCircuit(3,3) #iniciamos los qubits y cbits\n",
    "teleportacion.h(1)\n",
    "teleportacion.cx(1,2) # generamos el estado de Bell\n",
    "teleportacion.draw(\"mpl\")"
   ]
  },
  {
   "cell_type": "markdown",
   "id": "ede855ad",
   "metadata": {},
   "source": [
    "Para $q_{0}$ ingresaremos el siguiente vector estado:\n",
    "\\begin{equation}\n",
    "|\\Psi\\rangle = \\frac{1}{2}\\sqrt{\\frac{7}{2}}|0\\rangle + \\frac{1}{2\\sqrt{2}}|1\\rangle,\n",
    "\\end{equation}\n",
    "donde la probabilidad de obtener $|0\\rangle$ es $7/8$ y la probabilidad de obtener $|1\\rangle$ es $1/8$.  \n",
    "Generamos la lista con las amplitudes y la ingresamos en $q_{0}$:"
   ]
  },
  {
   "cell_type": "code",
   "execution_count": 42,
   "id": "a0954e80",
   "metadata": {},
   "outputs": [
    {
     "name": "stdout",
     "output_type": "stream",
     "text": [
      "[0.9354143466934853, 0.35355339059327373]\n"
     ]
    }
   ],
   "source": [
    "amplitudes = [np.sqrt(7/2)/2, 1/(2*np.sqrt(2))]\n",
    "print(amplitudes)"
   ]
  },
  {
   "cell_type": "code",
   "execution_count": 43,
   "id": "4378e288",
   "metadata": {},
   "outputs": [
    {
     "data": {
      "image/png": "[encoded data removed]",
      "text/plain": [
       "<Figure size 267.197x264.88 with 1 Axes>"
      ]
     },
     "execution_count": 43,
     "metadata": {},
     "output_type": "execute_result"
    }
   ],
   "source": [
    "teleportacion.initialize(amplitudes, 0) \n",
    "teleportacion.draw(\"mpl\")"
   ]
  },
  {
   "cell_type": "markdown",
   "id": "f595c6a3",
   "metadata": {},
   "source": [
    "luego entrelazamos $q_{0}$ a $q_{1}$ y aplicamos $\\textbf{H}$ a $q_{0}$:"
   ]
  },
  {
   "cell_type": "code",
   "execution_count": 44,
   "id": "d0f9ef00",
   "metadata": {},
   "outputs": [
    {
     "data": {
      "image/png": "[encoded data removed]",
      "text/plain": [
       "<Figure size 447.797x264.88 with 1 Axes>"
      ]
     },
     "execution_count": 44,
     "metadata": {},
     "output_type": "execute_result"
    }
   ],
   "source": [
    "teleportacion.cx(0,1)\n",
    "teleportacion.h(0)\n",
    "teleportacion.barrier()  # aplica una barrera separar gráficamente el circuito\n",
    "teleportacion.draw(\"mpl\")"
   ]
  },
  {
   "cell_type": "markdown",
   "id": "3b6b733b",
   "metadata": {},
   "source": [
    "aplicamos la medición a $q_0$ y $q_1$ luego aplicamos las compuertas $\\textbf{X}$ y $\\textbf{Z}$, teniendo en cuenta las mediciones obtenidas de $q_0$ y $q_1$:"
   ]
  },
  {
   "cell_type": "code",
   "execution_count": 45,
   "id": "d84e9c9a",
   "metadata": {},
   "outputs": [
    {
     "data": {
      "image/png": "[encoded data removed]",
      "text/plain": [
       "<Figure size 628.397x264.88 with 1 Axes>"
      ]
     },
     "execution_count": 45,
     "metadata": {},
     "output_type": "execute_result"
    }
   ],
   "source": [
    "teleportacion.measure(0,0)\n",
    "teleportacion.measure(1,1)\n",
    "teleportacion.barrier()\n",
    "teleportacion.draw(\"mpl\")"
   ]
  },
  {
   "cell_type": "code",
   "execution_count": 46,
   "id": "23cdd67d",
   "metadata": {},
   "outputs": [
    {
     "data": {
      "image/png": "[encoded data removed]",
      "text/plain": [
       "<Figure size 748.797x264.88 with 1 Axes>"
      ]
     },
     "execution_count": 46,
     "metadata": {},
     "output_type": "execute_result"
    }
   ],
   "source": [
    "teleportacion.x(2).c_if(1,1)\n",
    "teleportacion.z(2).c_if(0,1)\n",
    "teleportacion.draw(\"mpl\")"
   ]
  },
  {
   "cell_type": "markdown",
   "id": "f789bad0",
   "metadata": {},
   "source": [
    "Finalmente, asociamos la medición de $q_{2}$ al último cbit:"
   ]
  },
  {
   "cell_type": "code",
   "execution_count": 47,
   "id": "93421fbc",
   "metadata": {},
   "outputs": [
    {
     "data": {
      "image/png": "[encoded data removed]",
      "text/plain": [
       "<Figure size 808.997x264.88 with 1 Axes>"
      ]
     },
     "execution_count": 47,
     "metadata": {},
     "output_type": "execute_result"
    }
   ],
   "source": [
    "teleportacion.measure(2,2)\n",
    "teleportacion.draw(\"mpl\")"
   ]
  },
  {
   "cell_type": "markdown",
   "id": "fbe42ad5",
   "metadata": {},
   "source": [
    "Comprobamos que obtenemos el estado $\\left|\\psi_{2}\\right\\rangle$ con las compuertas aplicadas dependienod las condiciones con lo cual obtenemos el siguiente histograma simulando el anterior circuito cuántico:"
   ]
  },
  {
   "cell_type": "code",
   "execution_count": 63,
   "id": "0bdc6b86",
   "metadata": {},
   "outputs": [
    {
     "data": {
      "image/png": "[encoded data removed]",
      "text/plain": [
       "<Figure size 504x360 with 1 Axes>"
      ]
     },
     "execution_count": 63,
     "metadata": {},
     "output_type": "execute_result"
    }
   ],
   "source": [
    "sim = Aer.get_backend('aer_simulator') \n",
    "result = sim.run(teleportacion, shots=100000).result()\n",
    "counts = result.get_counts()\n",
    "plot_histogram(counts)"
   ]
  },
  {
   "cell_type": "markdown",
   "id": "8a539a87",
   "metadata": {},
   "source": [
    "aún asi, necesitamos la medición hecha por Bob netamente, con lo cual tenemos que sumar los anteriores resultados de la siguiente manera: \n",
    "Para la medición de $|0_{b}\\rangle$ sumamos los conteos $000$, $001$, $010$ y $011$, es decir que, el primer número del conteo anterior corresponde a la medición de Bob.\n",
    "Para la medición de $|1_{b}\\rangle$ sumamos los conteos $100$, $101$, $110$ y $111$. "
   ]
  },
  {
   "cell_type": "code",
   "execution_count": 64,
   "id": "e16fb88c",
   "metadata": {},
   "outputs": [],
   "source": [
    "cero = counts[\"000\"] + counts[\"001\"] + counts[\"010\"] + counts[\"011\"]\n",
    "uno = counts[\"100\"] + counts[\"101\"] + counts[\"110\"] + counts[\"111\"]"
   ]
  },
  {
   "cell_type": "markdown",
   "id": "8a222c28",
   "metadata": {},
   "source": [
    "Estos valores los introducimos en un diccionario para finalmente graficarlo en un histograma."
   ]
  },
  {
   "cell_type": "code",
   "execution_count": 65,
   "id": "0fe26324",
   "metadata": {},
   "outputs": [
    {
     "data": {
      "image/png": "[encoded data removed]",
      "text/plain": [
       "<Figure size 504x360 with 1 Axes>"
      ]
     },
     "execution_count": 65,
     "metadata": {},
     "output_type": "execute_result"
    }
   ],
   "source": [
    "conteo_bob = {'0': cero, '1': uno}\n",
    "plot_histogram(conteo_bob)"
   ]
  },
  {
   "cell_type": "markdown",
   "id": "bdcc8616",
   "metadata": {},
   "source": [
    "Efectivamente hemos enviado los valores $\\alpha$ y $\\beta$ al Bob a pesar que el estado se preparó en otro qubit."
   ]
  }
 ],
 "metadata": {
  "kernelspec": {
   "display_name": "Python 3",
   "language": "python",
   "name": "python3"
  },
  "language_info": {
   "codemirror_mode": {
    "name": "ipython",
    "version": 3
   },
   "file_extension": ".py",
   "mimetype": "text/x-python",
   "name": "python",
   "nbconvert_exporter": "python",
   "pygments_lexer": "ipython3",
   "version": "3.6.9"
  }
 },
 "nbformat": 4,
 "nbformat_minor": 5
}
