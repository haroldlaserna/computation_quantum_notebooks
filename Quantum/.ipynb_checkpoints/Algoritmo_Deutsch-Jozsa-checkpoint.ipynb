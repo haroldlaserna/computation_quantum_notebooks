{
 "cells": [
  {
   "cell_type": "markdown",
   "id": "5024163d",
   "metadata": {},
   "source": [
    "Se tiene el siguiente problema:\n",
    "Sea el espacio $\\mathbb{B}=\\{0,1\\}$ y una función $f$ que mapea a $\\mathbb{B}$, tal que:\n",
    "\\begin{equation}\n",
    "f:\\mathbb{B}\\to\\mathbb{B}.\n",
    "\\end{equation}\n",
    "Se desea saber cuál es el comportamiento de la función, para eso analizamos la función en $f(1)$ y $f(0)$ y observamos los resultados, como vemos, para saber el comportamiento de la función debemos evaluarla mínimo dos veces, primero en $1$ y luego en $0$.\n",
    "podemos tener dos casos de los resultados de $f$ en $\\mathbb{B}$, el primer caso:\n",
    "\n",
    "\\begin{equation}\n",
    "f(1)=1, \\;\n",
    "f(0)=1 \\; ó \\;\n",
    "f(1)=0, \\;\n",
    "f(0)=0.\n",
    "\\end{equation}\n",
    "\n",
    "Entonces esta función es llamada una función constante, es decir, independiente del valor de entrada el de salida siempre será el mismo. El segundo caso:\n",
    "\n",
    "\\begin{equation}\n",
    "f(1)=1, \\;\n",
    "f(0)=0 \\; ó \\;\n",
    "f(1)=0, \\;\n",
    "f(0)=1.\n",
    "\\end{equation}\n",
    "\n",
    "Tal que, esta función es llamada una función balanceada.\n",
    "Esta función también puede generalizarse de la siguente forma:\n",
    "\n",
    "\\begin{equation}\n",
    "f:\\mathbb{B}^{N}\\to\\mathbb{B}.\n",
    "\\end{equation}\n",
    "Es decir, esta función tiene $N$ entradas tal que su evaluación es dada de la siguente forma: $f(x_{1}...x_{N})$ y su salida puede ser un $0$ o un $1$. Para analizar ahora si esta función es balanceada o constante, tenemos que mirar las distintas combinaciones de $0^{s}$ y $1^{s}$ de $N$ dimensión, es decir que necesitamos mínimo $2^N$ veces para saber el comportamiento de la función. Esta es la manera clásica de determinar esta función. Pero, aprovechando el **paralelismo cuántico** es posible analizar dicha función con menos pasos como veremos más adelante.\n",
    "\n",
    "Ya definida una función balanceada y una función constante, también la podemos determinar de la siguiente manera:\n",
    "Si la función es constante, es decir $f(0)=f(1)$ se puede determinar  que sea constante mediante la suma modulo dos de la siguente manera:\n",
    "\\begin{equation}\n",
    "f(0)\\oplus f(1)=0,\n",
    "\\end{equation}\n",
    "es decir, que no importa que el valor de la constante sea $0$ o $1$ siempre la suma resultara en 0, $0\\oplus0=0$ o $1\\oplus1=0$\n",
    "Para una función equilibrada tenemos el siguiente caso en que $f(0)\\neq f(1)$, con la suma modulo dos se puede determinar una función equilibrada tal que:\n",
    "\\begin{equation}\n",
    "f(0)\\oplus f(1)=1,\n",
    "\\end{equation}\n",
    "es decir que las sumas posibles de los resultados a obtener a la hora de evaluar la función son: $1\\oplus0=1$ o $0\\oplus1=1$."
   ]
  },
  {
   "cell_type": "markdown",
   "id": "bafb59cb",
   "metadata": {},
   "source": [
    "**Paralelismo cuántico**"
   ]
  },
  {
   "cell_type": "markdown",
   "id": "7ed5f430",
   "metadata": {},
   "source": [
    "Visto el problema anterior, también puede ser visto desde una perspectiva cúantica.\n",
    "en este caso necesitamos un operador unitario que genere la siguiente transformacion en el estado $|xy\\rangle$ tal que:\n",
    "\\begin{equation}\n",
    "|x,y\\rangle \\to |x,y\\oplus f(x)\\rangle,\n",
    "\\end{equation}\n",
    "En este caso si $y = 0$, entonces esta suma de modulo 2 se convierte automaticamente en solo la función $f(x)$, es decir\n",
    "\\begin{equation}\n",
    "|x,0\\rangle \\to |x,0\\oplus f(x)\\rangle = |x,f(x)\\rangle.\n",
    "\\end{equation}\n",
    "\n",
    "Con esto, $x\\in \\{0,1\\}$, se le llama registro de datos y $f(x)\\in\\{1,0\\}$ se le llama el objetivo a registrar. Con lo anterior tenemos que los estados posibles a obtener son:\n",
    "\n",
    "\\begin{equation}\n",
    "|0,0\\rangle \\to |0,f(0)\\rangle \\; y\n",
    "\\end{equation}\n",
    "\n",
    "\\begin{equation}\n",
    "|1,0\\rangle \\to |1,f(1)\\rangle.\n",
    "\\end{equation}\n",
    "\n",
    "El operador que genera dicha trasformación lo denotaremos con $\\textbf{U}_{f}$ que llamaremos **operador oraculo**, tal que:\n",
    "\\begin{equation}\n",
    "\\textbf{U}_{f}|x,y\\rangle = |x,y\\oplus f(x)\\rangle.\n",
    "\\end{equation}\n",
    "\n",
    "Con lo anteriormente expuesto, ahora miremos lo siguiente, iniciamos nuestro evento con un estado $|00\\rangle$, y aplicamos el operador Hadamard de la siguiente forma:\n",
    "\\begin{equation}\n",
    "|\\Psi\\rangle=\\left(\\textbf{H}\\otimes\\textbf{I}\\right)|00\\rangle = \\frac{|00\\rangle+|10\\rangle}{\\sqrt{2}}.\n",
    "\\end{equation}\n",
    "\n",
    "Preparado nuestro estado, ahora, aplicamos el operador $\\textbf{U}_{f}$, tal que:\n",
    "\\begin{equation}\n",
    "\\textbf{U}_{f}|\\Psi\\rangle = \\frac{\\textbf{U}_{f}|00\\rangle+\\textbf{U}_{f}|10\\rangle}{\\sqrt{2}},\n",
    "\\end{equation}\n",
    "\n",
    "\\begin{equation}\n",
    "\\textbf{U}_{f}|\\Psi\\rangle = \\frac{|0,f(0)\\rangle+\\textbf{U}_{f}|1,f(1)\\rangle}{\\sqrt{2}}.\n",
    "\\end{equation}\n",
    "De la ecuación anterior, es evidente que existe una superposición para determinar $f(1)$ y $f(0)$, dada a la fenomenología de la mecánica cuántica, dicha superposición es interpretada como que los dos estados estan ocurriendo a la vez, hasta que se haga una medición y el estado $|\\Psi\\rangle$ colapse a los dos estados relacionados con $f(1)$ y $f(0)$. Es decir que, en este estado se evalúa $f(1)$ y $f(0)$ simultaneamente, con un solo paso de análisis, dicha caracterista es llamada **paralelismo cuántico**. Si se observa mediante la formulación clásica necesitamos dos pasos para evaluar la función $f$, mientras desde la perspectiva cuántica solo necesitamos de un paso mediante la superposición. En este caso tenemos la limitante de poder obtener la información efectivamente a la hora de medir ya que tenemos que hacer mínimo de mediciones para saber el comportamiento de $f$, aún así existe un método para llevar a cabo dicho objetivo y sea mas óptimo que la clásica, en este caso con el algoritmo de Deutsch, que si lo extendemos para $N$ qubits, este es llamado algoritmo de Deutsch-Jozsa."
   ]
  },
  {
   "cell_type": "markdown",
   "id": "aefacd12",
   "metadata": {},
   "source": [
    "**Algoritmo de Deutsch**"
   ]
  },
  {
   "cell_type": "markdown",
   "id": "fc8dea39",
   "metadata": {},
   "source": [
    "Para el este caso consideramos la situación donde existe una entrada en la función $f$ y una única salida, es decir, $f:\\mathbb{B}\\to\\mathbb{B}$, con lo cual lo que deseamos solucionar con este algoritmo es saber bajo el mapeo hecho en el espacio $\\mathbb{B}$, dicha función es constante o balanceada, dicha solución es posible con la siguente consideranción:\n",
    "Inicialmente consideramos el estado inicial $|\\varphi_{0}\\rangle=|01\\rangle$, donde le aplicamos $\\textbf{H}^{\\otimes2}$, es decir:\n",
    "\n",
    "\\begin{equation}\n",
    "|\\varphi_{1}\\rangle=\\textbf{H}^{\\otimes2}|\\varphi_{0}\\rangle=\\textbf{H}|0\\rangle\\otimes\\textbf{H}|1\\rangle,\n",
    "\\end{equation}\n",
    "\\begin{equation}\n",
    "|\\varphi_{1}\\rangle=\\left(\\frac{|0\\rangle+|1\\rangle}{\\sqrt{2}}\\right)\\otimes\\left(\\frac{|0\\rangle-|1\\rangle}{\\sqrt{2}}\\right),\n",
    "\\end{equation}\n",
    "\\begin{equation}\n",
    "|\\varphi_{1}\\rangle=\\frac{|0\\rangle\\otimes\\left(|0\\rangle-|1\\rangle\\right)+|1\\rangle\\otimes\\left(|0\\rangle-|1\\rangle\\right)}{2}.\n",
    "\\end{equation}\n",
    "Luego, aplicamos el operador $\\textbf{U}_{f}$, lo que nos queda:\n",
    "\\begin{equation}\n",
    "|\\varphi_{2}\\rangle=\\textbf{U}_{f}|\\varphi_{1}\\rangle=\\frac{\\textbf{U}_{f}|0\\rangle\\otimes\\left(|0\\rangle-|1\\rangle\\right)+\\textbf{U}_{f}|1\\rangle\\otimes\\left(|0\\rangle-|1\\rangle\\right)}{2},\n",
    "\\end{equation}\n",
    "\\begin{equation}\n",
    "|\\varphi_{2}\\rangle=\\frac{|0\\rangle\\otimes\\left(|0\\oplus f(0)\\rangle-|1\\oplus f(0)\\rangle\\right)+|1\\rangle\\otimes\\left(|0\\oplus f(1)\\rangle-|1\\oplus f(1)\\rangle\\right)}{2}.\n",
    "\\end{equation}\n",
    "Denotamos el siguiente estado $|A(f(x))\\rangle$ como:\n",
    "\\begin{equation}\n",
    "|A(f(x))\\rangle = |0\\oplus f(x)\\rangle - |1\\oplus f(x)\\rangle,\n",
    "\\end{equation}\n",
    "como podemos observar de $|\\varphi_{2}\\rangle$ contiene el estado $|A(f(0))\\rangle$ y $|A(f(1))\\rangle$, respectivamente, es decir:\n",
    "\n",
    "\\begin{equation}\n",
    "|\\varphi_{2}\\rangle=\\frac{|0\\rangle\\otimes|A(f(0))\\rangle+|1\\rangle\\otimes|A(f(1))\\rangle}{2}.\n",
    "\\end{equation}\n",
    "\n",
    "Independientemente de valor de $x$ si $f(x)=1$, tenemos que el estado queda representado como:\n",
    "\\begin{equation}\n",
    "|A(1)\\rangle=|0\\oplus 1\\rangle - |1\\oplus 1\\rangle=|1\\rangle - |0\\rangle,\n",
    "\\end{equation}\n",
    "Factorizando $-1$ queda que $|A(1)\\rangle$ es:\n",
    "\\begin{equation}\n",
    "|A(1)\\rangle=\\left(-1\\right)^{1}\\left(|0\\rangle - |1\\rangle\\right),\n",
    "\\end{equation}\n",
    "Ahora, sí $f(x)=0$, el estado se representa como:\n",
    "\\begin{equation}\n",
    "|A(0)\\rangle=|0\\oplus 0\\rangle - |1\\oplus 0\\rangle=|0\\rangle - |1\\rangle,\n",
    "\\end{equation}\n",
    "Que es lo mismo que\n",
    "\\begin{equation}\n",
    "|A(0)\\rangle=\\left(-1\\right)^{0}\\left(|0\\rangle - |1\\rangle\\right).\n",
    "\\end{equation}\n",
    "Con lo anterior, podemos simplificar el estado $|A(f(x))\\rangle$ de la siguiente forma\n",
    "\\begin{equation}\n",
    "|A(f(x))\\rangle = \\left(-1\\right)^{f(x)}\\left(|0\\rangle - |1\\rangle\\right),\n",
    "\\end{equation}\n",
    "Con lo anterior $\\varphi_{2}\\rangle$ se puede escribir de la siguiente forma: \n",
    "\\begin{equation}\n",
    "|\\varphi_{2}\\rangle=\\frac{|0\\rangle\\otimes\\left(-1\\right)^{f(0)}\\left(|0\\rangle - |1\\rangle\\right)+|1\\rangle\\otimes\\left(-1\\right)^{f(1)}\\left(|0\\rangle - |1\\rangle\\right)}{2},\n",
    "\\end{equation}\n",
    "organizando términos, se tiene que:\n",
    "\\begin{equation}\n",
    "|\\varphi_{2}\\rangle=\\frac{\\left(-1\\right)^{f(0)}|0\\rangle\\otimes\\left(|0\\rangle - |1\\rangle\\right)+\\left(-1\\right)^{f(1)}|1\\rangle\\otimes\\left(|0\\rangle - |1\\rangle\\right)}{2},\n",
    "\\end{equation}\n",
    "y factorizando $|0\\rangle-|1\\rangle$, tal que:\n",
    "\\begin{equation}\n",
    "|\\varphi_{2}\\rangle=\\frac{\\left(\\left(-1\\right)^{f(0)}|0\\rangle+\\left(-1\\right)^{f(1)}|1\\rangle \\right)\\otimes\\left(|0\\rangle - |1\\rangle\\right)}{2},\n",
    "\\end{equation} \n",
    "si medimos los qubits del lado derecho es decir la parte con $|0\\rangle - |1\\rangle$, se observa que no afecta la parte de lado izquierdo. Con lo cual, de ahora en adelante ignoraremos la parte $|0\\rangle - |1\\rangle$, es de aclara que esta medición es equiprobable con lo cual también ignoraremos la amplitud de probabilidad $1/\\sqrt{2}$, tal que trabajaremos solo con:\n",
    "\\begin{equation}\n",
    "|\\varphi_{2}'\\rangle=\\frac{\\left(-1\\right)^{f(0)}|0\\rangle+\\left(-1\\right)^{f(1)}|1\\rangle}{\\sqrt{2}},\n",
    "\\end{equation}\n",
    "factorizando $\\left(-1\\right)^{f(0)}$ tenemos:\n",
    "\\begin{equation}\n",
    "|\\varphi_{2}'\\rangle=\\left(-1\\right)^{f(0)}\\left(\\frac{|0\\rangle+\\left(-1\\right)^{f(1)-f(0)}|1\\rangle}{\\sqrt{2}}\\right).\n",
    "\\end{equation}\n",
    "Finalmente, aplicando la compuerta $\\textbf{H}$ a $|\\varphi_{2}'\\rangle$ se obtiene lo siguente: \n",
    "\\begin{equation}\n",
    "|\\varphi_{3}'\\rangle=\\textbf{H}|\\varphi_{2}'\\rangle=\\left(-1\\right)^{f(0)}\\left(\\frac{\\textbf{H}|0\\rangle+\\left(-1\\right)^{f(1)-f(0)}\\textbf{H}|1\\rangle}{\\sqrt{2}}\\right),\n",
    "\\end{equation}\n",
    "\\begin{equation}\n",
    "|\\varphi_{3}'\\rangle=\\left(-1\\right)^{f(0)}\\left(\\frac{|0\\rangle+|1\\rangle+\\left(-1\\right)^{f(1)-f(0)}\\left(|0\\rangle+|1\\rangle\\right)}{\\sqrt{2}}\\right),\n",
    "\\end{equation}\n",
    "luego de factorizar de obtiene e ignorando $\\left(-1\\right)^{f(0)}$ dado que no afecta la medición al multiplicarse, tenemos:\n",
    "\\begin{equation}\n",
    "|\\varphi_{3}''\\rangle=\\frac{\\left(1+\\left(-1\\right)^{f(1)-f(0)}\\right)|0\\rangle+\\left(1-\\left(-1\\right)^{f(1)-f(0)}\\right)|1\\rangle}{\\sqrt{2}}.\n",
    "\\end{equation}\n",
    "Finalmente analizando $|\\varphi_{3}''\\rangle$ si una función es constante, entonces, $f(1)-f(0)=0$ y si es balanceada $f(1)-f(0)=1$, con lo cual, dicha resta también se puede representar como:\n",
    "\\begin{equation}\n",
    "f(1)-f(0) = f(0)\\oplus f(1),\n",
    "\\end{equation}\n",
    "con esto, $|\\varphi_{3}''\\rangle$ queda como:\n",
    "\\begin{equation}\n",
    "|\\varphi_{3}''\\rangle=\\frac{\\left(1+\\left(-1\\right)^{f(0)\\oplus f(1)}\\right)|0\\rangle+\\left(1-\\left(-1\\right)^{f(0)\\oplus f(1)}\\right)|1\\rangle}{\\sqrt{2}}.\n",
    "\\end{equation}"
   ]
  },
  {
   "cell_type": "markdown",
   "id": "8d88d716",
   "metadata": {},
   "source": [
    "Si se obtene las probabilidades se sabe que:\n",
    "\\begin{equation}\n",
    "P(0) = \\left|\\langle0|\\varphi_{3}''\\rangle\\right|^{2} \\; y\n",
    "\\end{equation}\n",
    "\\begin{equation}\n",
    "P(1) = \\left|\\langle1|\\varphi_{3}''\\rangle\\right|^{2}.\n",
    "\\end{equation}\n",
    "Mediante el estado $|\\varphi_{3}''\\rangle$ obtenemos que $\\langle0|\\varphi_{3}''\\rangle$ y $\\langle1|\\varphi_{3}''\\rangle$ son: \n",
    "\\begin{equation}\n",
    "\\langle0|\\varphi_{3}''\\rangle=\\frac{\\left(1+\\left(-1\\right)^{f(0)\\oplus f(1)}\\right)}{\\sqrt{2}}.\n",
    "\\end{equation}\n",
    "\\begin{equation}\n",
    "\\langle1|\\varphi_{3}''\\rangle=\\frac{\\left(1-\\left(-1\\right)^{f(0)\\oplus f(1)}\\right)}{\\sqrt{2}}.\n",
    "\\end{equation}\n",
    "Con esto tenemos que si la función es balanceada, es decir, $f(0)\\oplus f(1)=1$, entonces, la probabilidad de obtener $|0\\rangle$ es $0$ y la probabilidad de obtener $|1\\rangle$ es $1$. Sí la función es constante, es decir, $f(0)\\oplus f(1)=0$, entonces, la probabilidad de obtener $|0\\rangle$ es $1$ y la probabilidad de obtener $|1\\rangle$ es $0$. Con lo anterior, vemos que se sigue cumpliendo el hecho de que  conseguimos usar un paralelismo cuántico, y además que es posible reducir el número de medidas a $1$, sólo para saber si dicha función es balanceada o constante, aún así como se observa anteriormente parece más complicado saber si una función es balanceada o constante desde la perspectiva cuántica, pero, cuando la función $f$ recibe $N$ parámetros y devuelve 1 de salida, sa hace más complicado y demorado mediante tecnicas clásicas, pero se verá ahora que mediante la generalización del algoritmo de Deutsch es más optimo por la parte cuántica."
   ]
  },
  {
   "cell_type": "markdown",
   "id": "726fa2fd",
   "metadata": {},
   "source": [
    "**Algoritmo de Deutsch-Jozsa**"
   ]
  },
  {
   "cell_type": "markdown",
   "id": "8a4fc9c1",
   "metadata": {},
   "source": [
    "En este caso para una entrada tenemos una solución fija mediante el algoritmo de Deutsch, en este caso, podemos generalizar dicho teorema para el caso que una función $f$ admita más de $1$ entrada, es decir: $f:\\mathbb{B}^{N}\\to\\mathbb{B}$, tal que, se desea saber para todos los valores posibles de ingreso de la forma $f(x_{1}, x_{2},...,x_{N})$ con todos los posibles combinaciones que son, $2^{n-1}+1$, es decir, iterar la función $2^{n-1}+1$ para saber si es constante o equilibrada.  Para poder solucionar el problema anterior inicialmente tenemos que definir el siguente estado:\n",
    "\\begin{equation}\n",
    "|\\varphi_{0}\\rangle=|0\\rangle^{\\otimes N}|1\\rangle\n",
    "\\end{equation}\n",
    "En este caso necesitamos $N+1$ qubits, siendo $N$ con estado base $|0\\rangle$ y $1$ con estado base $|1\\rangle$, como vimos con el algoritmo de Deutch, aplicamos la compuerta Hadamard a todos los qubits, es decir, $\\textbf{H}^{\\otimes \\left(N+1\\right)}$, tal que:"
   ]
  },
  {
   "cell_type": "markdown",
   "id": "94d8e585",
   "metadata": {},
   "source": [
    "\\begin{equation}\n",
    "|\\varphi_{1}\\rangle=\\textbf{H}^{\\otimes \\left(N+1\\right)}|\\varphi_{0}\\rangle=\\textbf{H}^{\\otimes N}|0\\rangle^{\\otimes N}\\textbf{H}|1\\rangle\n",
    "\\end{equation}\n",
    "\n",
    "\\begin{equation}\n",
    "|\\varphi_{1}\\rangle=\\frac{\\left(|0\\rangle+|1\\rangle\\right)^{\\otimes N}}{\\sqrt{2^N}}\\frac{\\left(|0\\rangle-|1\\rangle\\right)}{\\sqrt{2}}\n",
    "\\end{equation}"
   ]
  },
  {
   "cell_type": "markdown",
   "id": "b7842e3b",
   "metadata": {},
   "source": [
    "Antes de continuar, se analiza la siguente parte: $\\left(|0\\rangle+|1\\rangle\\right)^{\\otimes N}$, cuando $N=1$, se sabe que tenemos dos estados base $|0\\rangle$ y $|1\\rangle$, para $N=2$, tenemos:\n",
    "\\begin{equation}\n",
    "\\left(|0\\rangle+|1\\rangle\\right)^{\\otimes 2} = |00\\rangle + |01\\rangle + |10\\rangle + |11\\rangle,\n",
    "\\end{equation}\n",
    "con lo cual, tenemos 4 estados, otra forma de escribir lo anterior es de la siguente forma:\n",
    "\\begin{equation}\n",
    "\\sum_{x=0}^{4-1}|x\\rangle = |00\\rangle + |01\\rangle + |10\\rangle + |11\\rangle,\n",
    "\\end{equation}, \n",
    "podemos escribir el $4$ como $2^2$, ademas, podemos relacionar el indice mudo $x$ de la siguente forma:\n",
    "\\begin{equation}\n",
    "x=0, \\; |0\\rangle=|00\\rangle,\n",
    "\\end{equation}\n",
    "\\begin{equation}\n",
    "x=1, \\; |1\\rangle=|01\\rangle,\n",
    "\\end{equation}\n",
    "\\begin{equation}\n",
    "x=2, \\; |2\\rangle=|10\\rangle \\; y\n",
    "\\end{equation}\n",
    "\\begin{equation}\n",
    "x=3, \\; |3\\rangle=|11\\rangle.\n",
    "\\end{equation}\n",
    "Ahora, para $N$ arbitario tenemos que la sumatoria es:\n",
    "\\begin{equation}\n",
    "\\sum_{x=0}^{2^{N}-1}|x\\rangle = \\left(|0\\rangle+|1\\rangle\\right)^{\\otimes N},\n",
    "\\end{equation} reemplazando la sumatoria en $|\\varphi_{1}\\rangle$, tenemos:"
   ]
  },
  {
   "cell_type": "markdown",
   "id": "6828f800",
   "metadata": {},
   "source": [
    "\\begin{equation}\n",
    "|\\varphi_{1}\\rangle=\\frac{1}{\\sqrt{2^{N+1}}}\\sum_{x=0}^{2^{N}-1}|x\\rangle\\otimes\\left(|0\\rangle-|1\\rangle\\right).\n",
    "\\end{equation}\n",
    "Ahora, aplicamos la compuerta $\\text{U}_{f}$ tal que:\n",
    "\\begin{equation}\n",
    "|\\varphi_{2}\\rangle=\\text{U}_{f}|\\varphi_{1}\\rangle=\\frac{1}{\\sqrt{2^{N+1}}}\\sum_{x=0}^{2^{N}-1}\\text{U}_{f}|x\\rangle\\otimes\\left(|0\\rangle-|1\\rangle\\right),\n",
    "\\end{equation}\n",
    "\\begin{equation}\n",
    "|\\varphi_{2}\\rangle=\\frac{1}{\\sqrt{2^{N+1}}}\\sum_{x=0}^{2^{N}-1}|x\\rangle\\otimes\\left(|0\\oplus f(x)\\rangle-|1\\oplus f(x)\\rangle\\right),\n",
    "\\end{equation}\n",
    "observamos que podemos obtener el vector estado $|A(f(x)\\rangle$, con lo cual podemos escribir la ecuación anterior de la siguiente forma:\n",
    "\\begin{equation}\n",
    "|\\varphi_{2}\\rangle=\\frac{1}{\\sqrt{2^{N+1}}}\\sum_{x=0}^{2^{N}-1}|x\\rangle\\otimes\\left(-1\\right)^{f(x)}\\left(|0\\rangle-|1\\rangle\\right).\n",
    "\\end{equation}\n",
    "Como el caso del algoritmo de Deutsch ignoramos los estados base $|0\\rangle$ y $|1\\rangle$ que se encuentra a la derecha de la ecuación ya que no afectan el estado de la derecha con lo cual, solo tenemos:\n",
    "\\begin{equation}\n",
    "|\\varphi_{2}'\\rangle=\\frac{1}{\\sqrt{2^{N}}}\\sum_{x=0}^{2^{N}-1}\\left(-1\\right)^{f(x)}|x\\rangle.\n",
    "\\end{equation}\n",
    "Finalmente como en el caso del algoritmo de Deutsch, pero en este caso aplicamos la compuerta Hadamard a cada uno de los qubits tal que de $|\\varphi_{2}'\\rangle$, con esto se tiene que:\n",
    "\\begin{equation}\n",
    "|\\varphi_{3}\\rangle=\\textbf{H}^{\\otimes N}|\\varphi_{2}'\\rangle=\\frac{1}{\\sqrt{2^{N}}}\\sum_{x=0}^{2^{N}-1}\\left(-1\\right)^{f(x)}\\textbf{H}^{\\otimes N}|x\\rangle.\n",
    "\\end{equation}\n",
    "Analizando detalladamente la operación $\\textbf{H}^{\\otimes N}|x\\rangle$, se tiene lo siguiente:\n",
    "\\begin{equation}\n",
    "\\textbf{H}^{\\otimes N}|x\\rangle=\\textbf{H}|x_{1}\\rangle\\otimes\\textbf{H}|x_{2}\\rangle\\otimes...\\otimes\\textbf{H}|x_{N}\\rangle,\n",
    "\\end{equation}\n",
    "donde cada $x_{i}$ se refiere a un qubit en la posición $i$ dentro del qubit general $|x\\rangle$. Dicho valor $x_{i}$ puede ser $0$ o $1$ aplicando la compuerta $\\textbf{H}$ a cada $|x_i\\rangle$, se tiene que:\n",
    "\\begin{equation}\n",
    "\\textbf{H}^{\\otimes N}|x\\rangle=\\frac{1}{\\sqrt{2^N}}\\left(|0\\rangle+\\left(-1\\right)^{x_{1}}|1\\rangle\\right)\\otimes\\left(|0\\rangle+\\left(-1\\right)^{x_{2}}|1\\rangle\\right)\\otimes...\\otimes\\left(|0\\rangle+\\left(-1\\right)^{x_{N}}|1\\rangle\\right).\n",
    "\\end{equation}\n",
    "De la ecuación anterior observamos que sí $x_{1}=0$ entonces obtenemos $\\left(|0\\rangle+|1\\rangle\\right)$, sí $x_{1}=1$ entonces obtenemos $\\left(|0\\rangle-|1\\rangle\\right)$, en este caso mostrando el funcionamiento de $\\textbf{H}$ en esta parte y en los demás qubits.\n",
    "Operando los productos tensoriales se puede tener que $\\textbf{H}^{\\otimes N}|x\\rangle$\n",
    "\\begin{equation}\n",
    "\\textbf{H}^{\\otimes N}|x\\rangle=|00...0\\rangle+ \\left(-1\\right)^{x_{N}}|00...1\\rangle+...+ \\left(-1\\right)^{x_{1}*x_{2}*...*x_{N}}|11...1\\rangle.\n",
    "\\end{equation}\n",
    "Remplazando lo anterior en $|\\varphi_{3}\\rangle$, se tiene:\n",
    "\\begin{equation}\n",
    "|\\varphi_{3}\\rangle=\\frac{1}{2^{N}}\\sum_{x=0}^{2^{N}-1}\\left(-1\\right)^{f(x)}\\left(|00...0\\rangle+ \\left(-1\\right)^{x_{N}}|00...1\\rangle+...+ \\left(-1\\right)^{x_{1}*x_{2}*...*x_{N}}|11...1\\rangle\\right).\n",
    "\\end{equation}\n",
    "En este caso únicamente se tendra en cuenta el estado base que contiene todos los $0$ es decir el primero que aparece en la ecuación anterion, con lo cual al proyectar sobre $\\langle00...0|$ se tiene:\n",
    "\\begin{equation}\n",
    "\\langle00...0|\\varphi_{3}\\rangle=\\frac{1}{2^{N}}\\sum_{x=0}^{2^{N}-1}\\left(-1\\right)^{f(x)},\n",
    "\\end{equation}\n",
    "es decir, que la probabilidad de obtener de colapsar el estado a $|00...0\\rangle$ es\n",
    "\\begin{equation}\n",
    "P(00...0)=\\left|\\langle00...0|\\varphi_{3}\\rangle\\right|^{2}=\\left|\\frac{1}{2^{N}}\\sum_{x=0}^{2^{N}-1}\\left(-1\\right)^{f(x)}\\right|^{2}.\n",
    "\\end{equation}\n",
    "Ahora sí la función es constante, entonces, $f(x)=0$ o $f(x)=1$ siempre entonces de la sumatoria obtenemos que la probabilidad es:\n",
    "\\begin{equation}\n",
    "P(00...0)=\\left|\\frac{\\pm2^{N}}{2^{N}}\\right|^2=1,\n",
    "\\end{equation}\n",
    "donde $\\pm$ depende del resultado de la función en $\\left(1-\\right)^{f(x)}$. Cuando la función es equlibrada, es decir con la función $f$ al evaluarla con los diferentes $x$ tenemos que el $50\\%$ dan como resultado $0$ y el otro $50\\%$ dan como resultado $1$ con lo cual la probabilidad es:\n",
    "\\begin{equation}\n",
    "P(00...0)=\\left|\\langle00...0|\\varphi_{3}\\rangle\\right|^{2}=\\left|\\frac{1}{2^{N}}\\left(\\sum_{x=0}^{\\frac{2^{N}-1}{2}}\\left(-1\\right)^{1}+\\sum_{x=0}^{\\frac{2^{N}-1}{2}}\\left(-1\\right)^{0}\\right)\\right|^{2}. = \\left|\\frac{0}{2^{N}}\\right|^2=0.\n",
    "\\end{equation}\n",
    "Es decir que, igualmente obteniendo una  sola medición es posible obtener saber si la función es constante o equlibrada, tal que, es más óptimo saber el comportamiento de dicha función mediante este algoritmo cuántico que desde la metodología clásica anteriormente explicada. "
   ]
  },
  {
   "cell_type": "markdown",
   "id": "b3b76e0a",
   "metadata": {},
   "source": [
    "**Construcción del oráculo $\\textbf{U}_{f}$**"
   ]
  },
  {
   "cell_type": "markdown",
   "id": "4529eb65",
   "metadata": {},
   "source": [
    "Es evidente que al desconocer la forma que actua la función $f$, es decir, no saber si es balanceada o constante, también quiere decir que desconozcamos la forma de la compuerta $\\textbf{U}_{f}$, ya que, $f$ construye a $\\textbf{U}_f$. Aún así, necesitamos saber la forma del oráculo ya que necesitamos construir el circuito cuántico y ejecutarlo para saber cómo es comportamiento de $f$, por ende, generaremos un código defina la forma de $f$ de forma aleatoria y así pueda construir $\\textbf{U}_{f}$.\n",
    "\n",
    "En este caso, vamos a trabajar con $2+1$ qubits, donde $2$ inician en $|0\\rangle$ y $1$ inicial en $|1\\rangle$.\n",
    "Para el primer clase tenemos que la función $f$ es Constante y su valor de salida es 0. aplincando $\\textbf{H}^{\\otimes\\left(3+1\\right)}$, luego $\\textbf{U}_{f}$, se tiene:\n",
    "Es evidente que al desconocer la forma que actua la función $f$, es decir, no saber si es balanceada o constante, también quiere decir que desconozcamos la forma de la compuerta $\\textbf{U}_{f}$, ya que, $f$ construye a $\\textbf{U}_f$. Aún así, necesitamos saber la forma del oráculo ya que necesitamos construir el circuito cuántico y ejecutarlo para saber cómo es comportamiento de $f$, por ende, generaremos un código defina la forma de $f$ de forma aleatoria y así pueda construir $\\textbf{U}_{f}$.\n",
    "\n",
    "**Función constante de tipo $f(x)=0$**\n",
    "\n",
    "Para todos los casos, vamos a trabajar con $2+1$ qubits, donde $2$ inician en $|0\\rangle$ y $1$ inicial en $|1\\rangle$.\n",
    "Para el primer clase tenemos que la función $f$ es Constante y su valor de salida es 0. aplincando $\\textbf{H}^{\\otimes\\left(3+1\\right)}$, luego $\\textbf{U}_{f}$, se tiene:\n",
    "\n",
    "\\begin{equation}\n",
    "|\\varphi\\rangle = \\textbf{H}^{\\otimes3}\\left(|00\\rangle\\otimes|1\\rangle\\right)=\\frac{1}{\\sqrt{2^3}}\\left(|0\\rangle+|1\\rangle\\right)^{\\otimes2}\\left(|0\\rangle-|1\\rangle\\right) = \\frac{1}{\\sqrt{2^3}}\\left(|00\\rangle+|01\\rangle+|10\\rangle+|11\\rangle\\right)\\otimes\\left(|0\\rangle-|1\\rangle\\right)  \n",
    "\\end{equation}\n",
    "\n",
    "\n",
    "\\begin{equation}\n",
    "\\textbf{U}_{f}|\\varphi\\rangle= \\frac{1}{\\sqrt{2^3}}\\left((-1)^{f(0,0)}|00\\rangle+(-1)^{f(0,1)}|01\\rangle+(-1)^{f(1,0)}|10\\rangle+(-1)^{f(1,1)}|11\\rangle\\right)\\otimes\\left(|0\\rangle-|1\\rangle\\right)\n",
    "\\end{equation}\n",
    "\n",
    "se sabe que la función evaluada en $f(x)=0$, entonces:\n",
    "\\begin{equation}\n",
    "f(0,0) = f(0,1) = f(1,0) = f(1,1) = 0,\n",
    "\\end{equation}\n",
    "con lo cual, $\\textbf{U}_{f}|\\varphi\\rangle$ es:\n",
    "\\begin{equation}\n",
    "\\textbf{U}_{f}|\\varphi\\rangle= \\frac{1}{\\sqrt{2^3}}\\left(|00\\rangle+|01\\rangle+|10\\rangle+|11\\rangle\\right)\\otimes\\left(|0\\rangle-|1\\rangle\\right) \n",
    "\\end{equation}\n",
    "\\begin{equation}\n",
    "\\textbf{U}_{f}|\\varphi\\rangle= |\\varphi\\rangle  \n",
    "\\end{equation}\n",
    "es decir que $\\textbf{U}_f$ actua como la matriz identidad $\\textbf{I}$, escrita mediante el producto tensorial $\\textbf{U}_f$ es:\n",
    "\\begin{equation}\n",
    "\\textbf{U}_f = \\textbf{I}^{\\otimes2}\\textbf{I},\n",
    "\\end{equation}\n",
    "De forma general para $N+1$ qubits, \\textbf{U}_f actua de la siguiente forma:\n",
    "\\begin{equation}\n",
    "\\textbf{U}_f = \\textbf{I}^{\\otimes N}\\textbf{I}\n",
    "\\end{equation}\n",
    "\n",
    "**Función constante de tipo $f(x)=1$**\n",
    "\n",
    "Tomando el estado $|\\varphi\\rangle$ antes definido y aplicando $\\textbf{U}_{f}$, además que la función en este caso es:\n",
    "\\begin{equation}\n",
    "f(0,0) = f(0,1) = f(1,0) = f(1,1) = 0,\n",
    "\\end{equation}\n",
    "entonces, $\\textbf{U}_{f}|\\varphi\\rangle$ es:\n",
    "\\begin{equation}\n",
    "\\textbf{U}_{f}|\\varphi\\rangle= \\frac{1}{\\sqrt{2^3}}\\left(-|00\\rangle-|01\\rangle-|10\\rangle-|11\\rangle\\right)\\otimes\\left(|0\\rangle-|1\\rangle\\right) \n",
    "\\end{equation}\n",
    "\\begin{equation}\n",
    "\\textbf{U}_{f}|\\varphi\\rangle= -|\\varphi\\rangle  \n",
    "\\end{equation}\n",
    "Es decir, que $\\textbf{U}_{f}$ se comporta como si aplicara una matriz identidad y un negativo, escrito mediante el producto tensorial como:\n",
    "$\\textbf{U}_f$ es:\n",
    "\\begin{equation}\n",
    "\\textbf{U}_f = \\textbf{I}\\otimes-\\textbf{I}\\otimes\\textbf{I},\n",
    "\\end{equation}\n",
    "Para $n+1$ qubits $\\textbf{U}_f$ se comporta de la siguiente forma:\n",
    "\\begin{equation}\n",
    "\\textbf{U}_f = \\textbf{I}^{\\otimes\\left(N-1\\right)}-\\textbf{I}\\otimes\\textbf{I}.\n",
    "\\end{equation}\n",
    "\n",
    "Por ende para una función constante arbitraria $\\textbf{U}_f$ se comporta como: \n",
    "\\begin{equation}\n",
    "\\textbf{U}_f = \\textbf{I}^{\\otimes\\left(N-1\\right)}\\pm\\textbf{I}\\otimes\\textbf{I},\n",
    "\\end{equation}\n",
    "donde $\\pm$ depende sí la salida de la función es $0$ o $1$.\n",
    "Debido a que el signo de la compuerta actua como una fase en cualquier estado, en las mediciones no podremos saber si la salida de la función es $0$ o $1$.\n",
    "\n",
    "**Función balanceada específica**\n",
    "\n",
    "Dado que lo único que cambia es el comportamiento de la compuerta $\\textbf{U}_{f}$ seguiremos usando el estado $|\\varphi\\rangle$ definido con $2+1$ qubits. Además definiremos una funcipon balanceada con un criterio específico, si la primera evaluación de la función es $f(0,0)=0$, entonces la siguente evaluación progresiva va a ser siempre el valor restante, es decir, $f(0,1)=0$, caso contrario si, $f(0,0)=1$ entonces la siguiente evaluación es $f(0,1)=1$, con eso se asegura que sea una función balanceada. Con lo anteriormente expueste tenemos que todas las evaluaciones de $f(x)$ son:\n",
    "\n",
    "\\begin{equation}\n",
    "f(0,0) = 0, \\; f(0,1) = 1, \\; f(1,0) = 0 \\;y\\; f(1,1) = 1\n",
    "\\end{equation}\n",
    "\n",
    "con el caso contrario tenemos:\n",
    "\n",
    "\\begin{equation}\n",
    "f(0,0) = 1, \\; f(0,1) = 0, \\; f(1,0) = 1 \\;y\\; f(1,1) = 0\n",
    "\\end{equation}\n",
    "\n",
    "con lo cual, teniendo en cuenta los dos criterios anteriores todas las posibilidades de $\\left(-1\\right)^{f(x)}$ son:\n",
    "\n",
    "\\begin{equation}\n",
    "\\left(-1\\right)^{f(0,0)} = \\pm1, \\; \\left(-1\\right)^{f(0,1)} = \\mp1, \\; \\left(-1\\right)^{f(1,0)} = \\pm1 \\;y\\; \\left(-1\\right)^{f(1,1)} = \\mp1\n",
    "\\end{equation}\n",
    "\n",
    "con esto, queda que al aplicar $\\textbf{U}_{f}|\\varphi\\rangle$:\n",
    "\\begin{equation}\n",
    "\\textbf{U}_{f}|\\varphi\\rangle= \\frac{1}{\\sqrt{2^3}}\\left(\\pm|00\\rangle+\\mp|01\\rangle+\\pm|10\\rangle+\\mp|11\\rangle\\right)\\otimes\\left(|0\\rangle-|1\\rangle\\right) \n",
    "\\end{equation}\n",
    "\n",
    "Con lo anterior que da claro que $\\textbf{U}_{f}$ se comporta de la siguente forma:\n",
    "\n",
    "\\begin{equation}\n",
    "\\textbf{U}_{f} =\\begin{bmatrix}\n",
    "                    \\pm1 & 0 & 0 & 0\\\\\n",
    "                    0 & \\mp1 & 0 & 0\\\\\n",
    "                    0 & 0 & \\pm1 & 0\\\\\n",
    "                    0 & 0 & 0 & \\mp1\\\\\n",
    "                \\end{bmatrix} \\otimes\\textbf{I},\n",
    "\\end{equation}\n",
    "donde $\\textbf{I}$ siempre actua sobre los qubits de la derecha, y la matriz $4$x$4$ en los demas qubits, para $N+1$ qubits se tiene que $\\textbf{U}_f$ es:\n",
    "\n",
    "\\begin{equation}\n",
    "\\textbf{U}_{f} =\\begin{bmatrix}\n",
    "                    \\pm1 & 0 & 0 & 0\\\\\n",
    "                    0 & \\mp1 & 0 & 0\\\\\n",
    "                    \\vdots & \\vdots & \\ddots & \\vdots\\\\\n",
    "                    0 & 0 & \\dots & \\mp1\\\\\n",
    "                \\end{bmatrix} \\otimes\\textbf{I},\n",
    "\\end{equation}\n",
    "dicha matriz es de tamaño $2^{N}$x$2^{N}$.\n",
    "Lo anterior también es posible escribirlo mediante la compuerta $\\textbf{Z}$ de la siguente forma:\n",
    "\n",
    "\\begin{equation}\n",
    "\\textbf{U}_{f} =\\textbf{I}^{\\otimes \\left(N-1\\right)}\\pm\\textbf{Z}\\otimes\\textbf{I},\n",
    "\\end{equation}\n",
    "tal que,\n",
    "\\begin{equation}\n",
    "\\textbf{I}^{\\otimes \\left(N-1\\right)}\\pm\\textbf{Z}=\\begin{bmatrix}\n",
    "                    \\pm1 & 0 & 0 & 0\\\\\n",
    "                    0 & \\mp1 & 0 & 0\\\\\n",
    "                    \\vdots & \\vdots & \\ddots & \\vdots\\\\\n",
    "                    0 & 0 & \\dots & \\mp1\\\\\n",
    "                \\end{bmatrix}.\n",
    "\\end{equation}\n",
    "\n",
    "**Función arbitraria**\n",
    "\n",
    "Con lo anterior observamos que es posible escribir \\textbf{U}_f de forma arbitraria como:\n",
    "\\begin{equation}\n",
    "\\textbf{U}_{f} =\\begin{bmatrix}\n",
    "                    \\left(-1\\right)^{f(x_{1},x_{1},...,x_{1})} & 0 & 0 & 0\\\\\n",
    "                    0 &  \\left(-1\\right)^{f(x_{1},x_{1},...,x_{2})} & 0 & 0\\\\\n",
    "                    \\vdots & \\vdots & \\ddots & \\vdots\\\\\n",
    "                    0 & 0 & \\dots &  \\left(-1\\right)^{f(x_{N},x_{N},...,x_{N})}\\\\\n",
    "                \\end{bmatrix} \\otimes\\textbf{I},\n",
    "\\end{equation}\n",
    "\n",
    "Tal que, para contruir nuestro código solo tendremos que definir los valores en la diagonal de la matriz contenida en $\\textbf{U}_f$ o simplemente en el qubit $N$ aplicar la compuerta $\\pm\\textbf{I}$ si es constante o si es balanceada aplicar, al quibit $N$ la compuerta  $\\pm\\textbf{Z}$, las dos situaciones son válidas.\n",
    "Para el código implementado en Python usaremos la compuerta $\\textbf{U}_{f}$ de una función constante como:\n",
    "\\begin{equation}\n",
    "\\textbf{U}_f = \\textbf{I}^{\\otimes\\left(N-1\\right)}\\textbf{I}\\otimes\\textbf{I}.\n",
    "\\end{equation}\n",
    "Y una función balanceada como:\n",
    "\\begin{equation}\n",
    "\\textbf{U}_f = \\textbf{I}^{\\otimes\\left(N-1\\right)}\\textbf{Z}\\otimes\\textbf{I}.\n",
    "\\end{equation}\n",
    "tal que, sólo nos preocupamos del cambio del qubit $N$."
   ]
  },
  {
   "cell_type": "markdown",
   "id": "ce700ffc",
   "metadata": {},
   "source": [
    "Ahora, para construir el oraculo en Python inicialmente llamamos a las librerías necesarias para el funcionamiento del oráculo. "
   ]
  },
  {
   "cell_type": "code",
   "execution_count": 162,
   "id": "712e103b",
   "metadata": {},
   "outputs": [],
   "source": [
    "import numpy as np\n",
    "from qiskit import *\n",
    "from qiskit.visualization import *\n",
    "from qiskit.quantum_info import Statevector"
   ]
  },
  {
   "cell_type": "markdown",
   "id": "ea13f4bf",
   "metadata": {},
   "source": [
    "Ahora en este caso se estará usando nuevos metodos, el primero llamado **random.randint()**, donde, el parámetro de entrada es un número entero, si el número es $2$, entonces escoge aleatoriamente entre $0$ y $1$, cuando el número es $3$, escoge aleatoriamente entre $0$,$1$ y $2$, y así sucesivamente. También el método **to_gate()** que no necesita ningún parámetro a ingresar necesariamente, dicho método convierte cualquer circuito cuántico en una compuerta cuántica. A la hora de convertir un circuito en compuerta, es posible colocarle un nombre a la compuerta con la instancia **name**.\n",
    "\n",
    "Aprovechando el método **random.randint()** podemos el código \"escogerá\" aleatoriamente la función, si se obtiene $0$, entonces, se escoge una función balanceada, si se obtiene $1$, entonces, se escoge una función balanceada.\n",
    "obtenemos el siguente código:"
   ]
  },
  {
   "cell_type": "code",
   "execution_count": 215,
   "id": "3a5ec412",
   "metadata": {},
   "outputs": [],
   "source": [
    "def oraculo(n):\n",
    "    \n",
    "    oraculo_q = QuantumCircuit(n+1)\n",
    "    \n",
    "    for i in range(n-1):\n",
    "        oraculo_q.u(0,0,0,i) #aplica la matriz identidad\n",
    "    oraculo_q.u(0,0,0,n)\n",
    "    escoger = np.random.randint(2) #escoge 0 o 1 aleatoriamente\n",
    "    \n",
    "    if escoger ==0:\n",
    "        oraculo_q.z(n-1) #funcion balanceada\n",
    "    \n",
    "    elif escoger ==1:\n",
    "        oraculo_q.u(0,0,0,n-1) #funcion constante\n",
    "    oraculo_q = oraculo_q.to_gate() # convierte el circuito en una compuerta\n",
    "    oraculo_q.name = \"Oraculo\"\n",
    "    return oraculo_q\n"
   ]
  },
  {
   "cell_type": "markdown",
   "id": "d66f9fa7",
   "metadata": {},
   "source": [
    "Comprobamos que efectivamente la función definida anteriormente se ejecute:"
   ]
  },
  {
   "cell_type": "code",
   "execution_count": 216,
   "id": "67758514",
   "metadata": {},
   "outputs": [
    {
     "data": {
      "image/png": "[encoded data removed]",
      "text/plain": [
       "<Figure size 206.997x325.08 with 1 Axes>"
      ]
     },
     "execution_count": 216,
     "metadata": {},
     "output_type": "execute_result"
    }
   ],
   "source": [
    "n = 4\n",
    "circuito = QuantumCircuit(n+1)\n",
    "circuito.append(oraculo(n),range(n+1))\n",
    "\n",
    "circuito.draw(\"mpl\")"
   ]
  },
  {
   "cell_type": "markdown",
   "id": "a426b66e",
   "metadata": {},
   "source": [
    "Como obsevamos en el circuito, la función definida se comporta efectivamente como una compuerta llamada **Oraculo**.\n",
    "Construída la función oráculo ahora podemos escribir el algoritmo de Deutsch-Jozsa de la siguente forma:\n",
    "Iniciamos un circuito con $6+1$ qubits, donde al último le aplicamos la compuerta $\\textbf{X}$ para que empieze como un estado $|1\\rangle$. tal que:"
   ]
  },
  {
   "cell_type": "code",
   "execution_count": 217,
   "id": "edb35fcb",
   "metadata": {},
   "outputs": [
    {
     "data": {
      "image/png": "[encoded data removed]",
      "text/plain": [
       "<Figure size 146.797x505.68 with 1 Axes>"
      ]
     },
     "execution_count": 217,
     "metadata": {},
     "output_type": "execute_result"
    }
   ],
   "source": [
    "n_qubits = 6 + 1\n",
    "n_cbits = n_qubits - 1\n",
    "Deutsch_Jozsa = QuantumCircuit(n_qubits,n_cbits)\n",
    "Deutsch_Jozsa.x(n_qubits-1)\n",
    "Deutsch_Jozsa.draw(\"mpl\")"
   ]
  },
  {
   "cell_type": "markdown",
   "id": "704a8591",
   "metadata": {},
   "source": [
    "En este caso, no nos interesa la medición del último qubit, con lo cual definimos únicamente $6$ cbits en los cuales alojaremos las mediciones. Luego aplicamos la compuerta Hadamard a todos los qubits."
   ]
  },
  {
   "cell_type": "code",
   "execution_count": 218,
   "id": "fb4311ce",
   "metadata": {},
   "outputs": [
    {
     "data": {
      "image/png": "[encoded data removed]",
      "text/plain": [
       "<Figure size 206.997x505.68 with 1 Axes>"
      ]
     },
     "execution_count": 218,
     "metadata": {},
     "output_type": "execute_result"
    }
   ],
   "source": [
    "Deutsch_Jozsa.h(range(n_qubits))\n",
    "Deutsch_Jozsa.draw(\"mpl\")"
   ]
  },
  {
   "cell_type": "markdown",
   "id": "10957d2d",
   "metadata": {},
   "source": [
    "Mediante la función **range()** dentro del método **h()** es posible aplicar la compuerta a todos los qubits o ciertos qubits dependiento cuales parámetros se coloquen dentro de **range()**."
   ]
  },
  {
   "cell_type": "markdown",
   "id": "902c2666",
   "metadata": {},
   "source": [
    "y aplicamos el oraculo y la mediciones a los qubits tal que:"
   ]
  },
  {
   "cell_type": "code",
   "execution_count": 219,
   "id": "b62e1641",
   "metadata": {},
   "outputs": [
    {
     "data": {
      "image/png": "[encoded data removed]",
      "text/plain": [
       "<Figure size 748.797x505.68 with 1 Axes>"
      ]
     },
     "execution_count": 219,
     "metadata": {},
     "output_type": "execute_result"
    }
   ],
   "source": [
    "Deutsch_Jozsa.append(oraculo(n_qubits-1),range(n_qubits))\n",
    "Deutsch_Jozsa.h(range(n_qubits-1))\n",
    "for i in range(n_qubits-1):\n",
    "    Deutsch_Jozsa.measure(i,i)\n",
    "Deutsch_Jozsa.draw(\"mpl\")"
   ]
  },
  {
   "cell_type": "markdown",
   "id": "c65a1a40",
   "metadata": {},
   "source": [
    "Con el circuito cuántico listo, ahora simulamos nuestro circuito y graficamos en le histograma"
   ]
  },
  {
   "cell_type": "code",
   "execution_count": 220,
   "id": "bb89f6e8",
   "metadata": {},
   "outputs": [
    {
     "data": {
      "image/png": "[encoded data removed]",
      "text/plain": [
       "<Figure size 504x360 with 1 Axes>"
      ]
     },
     "execution_count": 220,
     "metadata": {},
     "output_type": "execute_result"
    }
   ],
   "source": [
    "aer_sim = Aer.get_backend('aer_simulator')\n",
    "qobj = transpile(Deutsch_Jozsa, aer_sim) # para evitar problemas con el código scorremos el transpile para asocial el simulador con el circuito\n",
    "results = aer_sim.run(qobj).result()\n",
    "conteo = results.get_counts()\n",
    "plot_histogram(conteo)"
   ]
  },
  {
   "cell_type": "markdown",
   "id": "d224f9b8",
   "metadata": {},
   "source": [
    "En este caso la única medición obtenida fue $|000000\\rangle$, es decir que la función que construyó el oráculo es constante."
   ]
  },
  {
   "cell_type": "code",
   "execution_count": null,
   "id": "5eb9b98f",
   "metadata": {},
   "outputs": [],
   "source": []
  }
 ],
 "metadata": {
  "kernelspec": {
   "display_name": "Python 3",
   "language": "python",
   "name": "python3"
  },
  "language_info": {
   "codemirror_mode": {
    "name": "ipython",
    "version": 3
   },
   "file_extension": ".py",
   "mimetype": "text/x-python",
   "name": "python",
   "nbconvert_exporter": "python",
   "pygments_lexer": "ipython3",
   "version": "3.6.9"
  }
 },
 "nbformat": 4,
 "nbformat_minor": 5
}
