{
 "cells": [
  {
   "cell_type": "markdown",
   "id": "3b2f741d",
   "metadata": {},
   "source": [
    "**Funciones destacables en Python**"
   ]
  },
  {
   "cell_type": "markdown",
   "id": "9a300a7e",
   "metadata": {},
   "source": [
    "En esta sección nos enfocaremos netamente en la librería numpy, la cual, es un módulo específicamente usado a la hora de hacer operaciones matemáticas, dentro de estas encontramos las siguientes funciones más destacables, pero antes llamaremos a la libreria numpy de la siguiente manera:"
   ]
  },
  {
   "cell_type": "code",
   "execution_count": 2,
   "id": "2ad997ac",
   "metadata": {},
   "outputs": [],
   "source": [
    "import numpy as np"
   ]
  },
  {
   "cell_type": "markdown",
   "id": "50fd7105",
   "metadata": {},
   "source": [
    "refiriendose a la palabra clave **import** a que vamos a importar una librería y la palabra clave **as** a que variable la vamos a declarar, en este caso es comun usar la palabra **np**, con esto podemos llamar ciertas funciones matemáticas destacables en python:"
   ]
  },
  {
   "cell_type": "code",
   "execution_count": 3,
   "id": "08e0311b",
   "metadata": {},
   "outputs": [
    {
     "name": "stdout",
     "output_type": "stream",
     "text": [
      "3.0\n"
     ]
    }
   ],
   "source": [
    "print(np.sqrt(9))  #obtiene la raiz cuadrada de un número"
   ]
  },
  {
   "cell_type": "code",
   "execution_count": 4,
   "id": "2e418d4b",
   "metadata": {},
   "outputs": [
    {
     "name": "stdout",
     "output_type": "stream",
     "text": [
      "3.141592653589793\n"
     ]
    }
   ],
   "source": [
    "print(np.pi) #devuelve el valor de pi"
   ]
  },
  {
   "cell_type": "code",
   "execution_count": 6,
   "id": "98af5459",
   "metadata": {},
   "outputs": [
    {
     "name": "stdout",
     "output_type": "stream",
     "text": [
      "0.955336489125606\n"
     ]
    }
   ],
   "source": [
    "print(np.cos(0.3)) #obtiene el coseno de un número en radianes"
   ]
  },
  {
   "cell_type": "code",
   "execution_count": 10,
   "id": "cbbfc021",
   "metadata": {},
   "outputs": [
    {
     "name": "stdout",
     "output_type": "stream",
     "text": [
      "0.29552020666133955\n"
     ]
    }
   ],
   "source": [
    "print(np.sin(0.3)) #obtiene el seno de un número en radianes"
   ]
  },
  {
   "cell_type": "code",
   "execution_count": 11,
   "id": "2ba48f7d",
   "metadata": {},
   "outputs": [
    {
     "name": "stdout",
     "output_type": "stream",
     "text": [
      "0.30933624960962325\n"
     ]
    }
   ],
   "source": [
    "print(np.tan(0.3)) #obtiene la tangente de un número en radianes"
   ]
  },
  {
   "cell_type": "code",
   "execution_count": 17,
   "id": "fd27c0a1",
   "metadata": {},
   "outputs": [
    {
     "name": "stdout",
     "output_type": "stream",
     "text": [
      "1.2661036727794992\n"
     ]
    }
   ],
   "source": [
    "print(np.arccos(0.3)) #obtiene la inversa de coseno y devuelve un valor en radianes"
   ]
  },
  {
   "cell_type": "code",
   "execution_count": 18,
   "id": "4fab4f3f",
   "metadata": {},
   "outputs": [
    {
     "name": "stdout",
     "output_type": "stream",
     "text": [
      "0.3046926540153975\n"
     ]
    }
   ],
   "source": [
    "print(np.arcsin(0.3)) #obtiene la inversa de seno y devuelve un valor en radianes"
   ]
  },
  {
   "cell_type": "code",
   "execution_count": 19,
   "id": "e38682af",
   "metadata": {},
   "outputs": [
    {
     "name": "stdout",
     "output_type": "stream",
     "text": [
      "0.3046926540153975\n"
     ]
    }
   ],
   "source": [
    "print(np.arcsin(0.3)) #obtiene la inversa de la tangente y devuelve un valor en radianes"
   ]
  },
  {
   "cell_type": "code",
   "execution_count": 21,
   "id": "ed4e2aef",
   "metadata": {},
   "outputs": [
    {
     "name": "stdout",
     "output_type": "stream",
     "text": [
      "5.0\n"
     ]
    }
   ],
   "source": [
    "print(np.hypot(3,4)) #obtiene la hipotenusa de dos catetos"
   ]
  },
  {
   "cell_type": "code",
   "execution_count": 24,
   "id": "6c32351c",
   "metadata": {},
   "outputs": [
    {
     "name": "stdout",
     "output_type": "stream",
     "text": [
      "180.00042091829943\n"
     ]
    }
   ],
   "source": [
    "print(np.degrees(3.1416)) #Convierte un número de radianes a grados"
   ]
  },
  {
   "cell_type": "code",
   "execution_count": 26,
   "id": "eb4f6163",
   "metadata": {},
   "outputs": [
    {
     "name": "stdout",
     "output_type": "stream",
     "text": [
      "3.141592653589793\n"
     ]
    }
   ],
   "source": [
    "print(np.radians(180)) #Convierte un número de grados a radianes"
   ]
  },
  {
   "cell_type": "code",
   "execution_count": 32,
   "id": "3b52da64",
   "metadata": {},
   "outputs": [
    {
     "name": "stdout",
     "output_type": "stream",
     "text": [
      "24\n"
     ]
    }
   ],
   "source": [
    "a = [1,2,3,4]\n",
    "print(np.prod(a)) #Devuelve el producto de todos los elementos de una lista"
   ]
  },
  {
   "cell_type": "code",
   "execution_count": 33,
   "id": "2257c4e8",
   "metadata": {},
   "outputs": [
    {
     "name": "stdout",
     "output_type": "stream",
     "text": [
      "10\n"
     ]
    }
   ],
   "source": [
    "a = [1,2,3,4]\n",
    "print(np.sum(a)) #Devuelve la suma de todos los elementos de una lista"
   ]
  },
  {
   "cell_type": "code",
   "execution_count": 37,
   "id": "ddd33c8c",
   "metadata": {},
   "outputs": [
    {
     "name": "stdout",
     "output_type": "stream",
     "text": [
      "[1 1 0]\n"
     ]
    }
   ],
   "source": [
    "a = [1,2,3,3]\n",
    "print(np.diff(a)) #Devuelve la diferencia que hay entre números ordenados de una lista"
   ]
  },
  {
   "cell_type": "code",
   "execution_count": 40,
   "id": "b1f28153",
   "metadata": {},
   "outputs": [
    {
     "name": "stdout",
     "output_type": "stream",
     "text": [
      "[2 1]\n"
     ]
    }
   ],
   "source": [
    "a = [[2,2],[3,4]]\n",
    "b = [[1,2],[2,3]]\n",
    "print(np.cross(a,b)) #Devuelve el producto cruz de dos matrices"
   ]
  },
  {
   "cell_type": "code",
   "execution_count": 42,
   "id": "4acc0e19",
   "metadata": {},
   "outputs": [
    {
     "name": "stdout",
     "output_type": "stream",
     "text": [
      "2.718281828459045\n"
     ]
    }
   ],
   "source": [
    "print(np.exp(1)) #Devuelve el exponente de un número dado"
   ]
  },
  {
   "cell_type": "code",
   "execution_count": 46,
   "id": "56f0357b",
   "metadata": {},
   "outputs": [
    {
     "name": "stdout",
     "output_type": "stream",
     "text": [
      "0.0\n"
     ]
    }
   ],
   "source": [
    "print(np.log(1)) #Devuelve el logaritmo natural de un número"
   ]
  },
  {
   "cell_type": "code",
   "execution_count": 45,
   "id": "0e3ed7bd",
   "metadata": {},
   "outputs": [
    {
     "name": "stdout",
     "output_type": "stream",
     "text": [
      "1.0\n"
     ]
    }
   ],
   "source": [
    "print(np.log10(10)) #Devielve el logaritmo en base 10 de un número"
   ]
  },
  {
   "cell_type": "code",
   "execution_count": 49,
   "id": "f9dac485",
   "metadata": {},
   "outputs": [
    {
     "name": "stdout",
     "output_type": "stream",
     "text": [
      "True\n"
     ]
    }
   ],
   "source": [
    "print(np.signbit(-3)) #Devielve un booleano si el número es negativo entonces devuelve true si es positivo devuelve false"
   ]
  },
  {
   "cell_type": "code",
   "execution_count": 52,
   "id": "5cd96324",
   "metadata": {},
   "outputs": [
    {
     "name": "stdout",
     "output_type": "stream",
     "text": [
      "840\n"
     ]
    }
   ],
   "source": [
    "print(np.lcm(40,42)) #Devuelve el minimo común múltiplo de dos números."
   ]
  },
  {
   "cell_type": "code",
   "execution_count": 57,
   "id": "cc35cb18",
   "metadata": {},
   "outputs": [
    {
     "name": "stdout",
     "output_type": "stream",
     "text": [
      "2\n"
     ]
    }
   ],
   "source": [
    "print(np.gcd(22,40)) #Devuelve el máximo común divison de dos números"
   ]
  },
  {
   "cell_type": "code",
   "execution_count": 61,
   "id": "b892cdff",
   "metadata": {},
   "outputs": [
    {
     "name": "stdout",
     "output_type": "stream",
     "text": [
      "0.7853981633974483\n"
     ]
    }
   ],
   "source": [
    "print(np.angle(2+2j)) #Devuelve el ángulo de un número complejo"
   ]
  },
  {
   "cell_type": "code",
   "execution_count": 62,
   "id": "3d181d0f",
   "metadata": {},
   "outputs": [
    {
     "name": "stdout",
     "output_type": "stream",
     "text": [
      "3.0\n"
     ]
    }
   ],
   "source": [
    "print(np.real(3+8j)) #Devuelve la parte real de un número complejo"
   ]
  },
  {
   "cell_type": "code",
   "execution_count": 64,
   "id": "c40df84c",
   "metadata": {},
   "outputs": [
    {
     "name": "stdout",
     "output_type": "stream",
     "text": [
      "8.0\n"
     ]
    }
   ],
   "source": [
    "print(np.imag(3+8j)) #Devuelve la parte imaginaria de un número complejo"
   ]
  },
  {
   "cell_type": "code",
   "execution_count": 65,
   "id": "12c0e66f",
   "metadata": {},
   "outputs": [
    {
     "name": "stdout",
     "output_type": "stream",
     "text": [
      "(3-8j)\n"
     ]
    }
   ],
   "source": [
    "print(np.conj(3+8j)) #Devuelve el conjugado de un número complejo"
   ]
  },
  {
   "cell_type": "markdown",
   "id": "b4dd08f8",
   "metadata": {},
   "source": [
    "En este caso numpy tiene otras funciones destacables a la hora de crear matrices con mas propiedades que una lista, en este caso con el uso del método array podemos generar un arreglo(matriz) que contiene ciertas propiedades que se pueden obtener con numpy, es decir"
   ]
  },
  {
   "cell_type": "code",
   "execution_count": 68,
   "id": "32637cca",
   "metadata": {},
   "outputs": [
    {
     "name": "stdout",
     "output_type": "stream",
     "text": [
      "[[1 2]\n",
      " [3 4]]\n"
     ]
    }
   ],
   "source": [
    "a = np.array([[1,2],[3,4]])\n",
    "print(a)"
   ]
  },
  {
   "cell_type": "markdown",
   "id": "a97d63e3",
   "metadata": {},
   "source": [
    "A la hora de imprimir en pantalla trata de acomodar el arreglo como si fuera una matriz matemática"
   ]
  },
  {
   "cell_type": "markdown",
   "id": "d7733db3",
   "metadata": {},
   "source": [
    "con esto podemos generar facilmente matrices y poder hacer producto de matrices de dos formas:"
   ]
  },
  {
   "cell_type": "code",
   "execution_count": 74,
   "id": "83c22903",
   "metadata": {},
   "outputs": [
    {
     "name": "stdout",
     "output_type": "stream",
     "text": [
      "[[1 2]\n",
      " [3 4]]\n"
     ]
    }
   ],
   "source": [
    "a = np.array([[1,0],[0,1]])\n",
    "b = np.array([[1,2],[3,4]])\n",
    "c = a@b\n",
    "print(c)"
   ]
  },
  {
   "cell_type": "markdown",
   "id": "bae0ac38",
   "metadata": {},
   "source": [
    "Usamos @ a la hora de generar un producto entre matrices o también con la función matmul"
   ]
  },
  {
   "cell_type": "code",
   "execution_count": 76,
   "id": "861c4d18",
   "metadata": {},
   "outputs": [
    {
     "name": "stdout",
     "output_type": "stream",
     "text": [
      "[[1 2]\n",
      " [3 4]]\n"
     ]
    }
   ],
   "source": [
    "print(np.matmul(a,b))"
   ]
  },
  {
   "cell_type": "markdown",
   "id": "3a2faf00",
   "metadata": {},
   "source": [
    "definido los arreglos de esta manera podemos obtener propiedades de la matriz, como su tamaño y dimensión"
   ]
  },
  {
   "cell_type": "code",
   "execution_count": 79,
   "id": "e3f79ef1",
   "metadata": {},
   "outputs": [
    {
     "name": "stdout",
     "output_type": "stream",
     "text": [
      "[[[1 2]\n",
      "  [2 2]]\n",
      "\n",
      " [[3 3]\n",
      "  [4 4]]]\n"
     ]
    }
   ],
   "source": [
    "A = np.array([[[1,2],[2,2]],[[3,3],[4,4]]])\n",
    "print(A)"
   ]
  },
  {
   "cell_type": "code",
   "execution_count": 83,
   "id": "c3eb18db",
   "metadata": {},
   "outputs": [
    {
     "name": "stdout",
     "output_type": "stream",
     "text": [
      "3\n"
     ]
    }
   ],
   "source": [
    "print(A.ndim) #dimensión de la matriz"
   ]
  },
  {
   "cell_type": "code",
   "execution_count": 84,
   "id": "974cec8f",
   "metadata": {},
   "outputs": [
    {
     "name": "stdout",
     "output_type": "stream",
     "text": [
      "(2, 2, 2)\n"
     ]
    }
   ],
   "source": [
    "print(A.shape) #tamaño de la matriz"
   ]
  },
  {
   "cell_type": "markdown",
   "id": "57089320",
   "metadata": {},
   "source": [
    "Con esto, también podemos crear facilmente una matriz grande que contenga únicamente unos de la siguiente manera:"
   ]
  },
  {
   "cell_type": "code",
   "execution_count": 94,
   "id": "0adbd380",
   "metadata": {},
   "outputs": [
    {
     "name": "stdout",
     "output_type": "stream",
     "text": [
      "[[1. 1. 1.]\n",
      " [1. 1. 1.]\n",
      " [1. 1. 1.]]\n"
     ]
    }
   ],
   "source": [
    "A = np.ones((3,3)) #Le devolvemos una tupla que define el tamaño y dimensión de la matriz\n",
    "print(A)"
   ]
  },
  {
   "cell_type": "markdown",
   "id": "dbf90522",
   "metadata": {},
   "source": [
    "Y es posible con ceros también:"
   ]
  },
  {
   "cell_type": "code",
   "execution_count": 97,
   "id": "1d665052",
   "metadata": {},
   "outputs": [
    {
     "name": "stdout",
     "output_type": "stream",
     "text": [
      "[[0. 0. 0. 0.]\n",
      " [0. 0. 0. 0.]\n",
      " [0. 0. 0. 0.]\n",
      " [0. 0. 0. 0.]]\n"
     ]
    }
   ],
   "source": [
    "B = np.zeros((4,4))\n",
    "print(B)"
   ]
  },
  {
   "cell_type": "markdown",
   "id": "29ed5dab",
   "metadata": {},
   "source": [
    "Además, podemos generar una matriz netamente diagonal de la siguiente forma:"
   ]
  },
  {
   "cell_type": "code",
   "execution_count": 100,
   "id": "ad4f0bf2",
   "metadata": {},
   "outputs": [
    {
     "name": "stdout",
     "output_type": "stream",
     "text": [
      "[[1 0 0 0]\n",
      " [0 2 0 0]\n",
      " [0 0 3 0]\n",
      " [0 0 0 4]]\n"
     ]
    }
   ],
   "source": [
    "C = np.diag([1,2,3,4])\n",
    "print(C)"
   ]
  },
  {
   "cell_type": "markdown",
   "id": "ae52df38",
   "metadata": {},
   "source": [
    "Si deseamos generar una matriz identidad lo podemos hacer de la siguiente manera:"
   ]
  },
  {
   "cell_type": "code",
   "execution_count": 103,
   "id": "f1035ffe",
   "metadata": {},
   "outputs": [
    {
     "name": "stdout",
     "output_type": "stream",
     "text": [
      "[[1. 0. 0. 0. 0.]\n",
      " [0. 1. 0. 0. 0.]\n",
      " [0. 0. 1. 0. 0.]\n",
      " [0. 0. 0. 1. 0.]\n",
      " [0. 0. 0. 0. 1.]]\n"
     ]
    }
   ],
   "source": [
    "D = np.eye(5)\n",
    "print(D)"
   ]
  },
  {
   "cell_type": "markdown",
   "id": "6e7dcf8c",
   "metadata": {},
   "source": [
    "Como veremos más adelante si necesitamos un rango de números a la hora de graficar, lo podemos hacer con la función linspace, la cual genera una lista señalandole el mínimo número inicial y el maximo número final y cuantos números queremos entre el número inicial y final, tal que"
   ]
  },
  {
   "cell_type": "markdown",
   "id": "6ee07b73",
   "metadata": {},
   "source": [
    "a = np.linspace(1,2,6)\n",
    "print(a)"
   ]
  },
  {
   "cell_type": "markdown",
   "id": "db26cd73",
   "metadata": {},
   "source": [
    "Finalmente a la hora de grafica funciones o datos, hacemos uso de la librería matplotlib, en este caso explicaremos elementos muy básicos a la hora de graficar funciones o datos en esta librería. Para llamarla hacemos uso de **import** de la siguiente forma:"
   ]
  },
  {
   "cell_type": "code",
   "execution_count": 111,
   "id": "2fc2abab",
   "metadata": {},
   "outputs": [],
   "source": [
    "import matplotlib.pyplot as plt"
   ]
  },
  {
   "cell_type": "markdown",
   "id": "dde3144c",
   "metadata": {},
   "source": [
    "queremos graficar la funcion seno vs el ángulo en radianes correspondiente, con lo cual, generamos inicialmente los valores en radianes en una variable"
   ]
  },
  {
   "cell_type": "code",
   "execution_count": 131,
   "id": "80fb323c",
   "metadata": {},
   "outputs": [],
   "source": [
    "radianes = np.linspace(0,2*np.pi,200)"
   ]
  },
  {
   "cell_type": "markdown",
   "id": "25f82e81",
   "metadata": {},
   "source": [
    "generamos 2000 números ordenados entre 0 y 2pi radianes, luego generamos los datos de seno por cada ángulo la ventaja de la función np.sin(), es que también me genera una lista con el seno de todos los números ordenados correspondientemente a la lista ingresada."
   ]
  },
  {
   "cell_type": "code",
   "execution_count": 132,
   "id": "3d5a8bd0",
   "metadata": {},
   "outputs": [],
   "source": [
    "seno = np.sin(radianes)"
   ]
  },
  {
   "cell_type": "markdown",
   "id": "adf3525e",
   "metadata": {},
   "source": [
    "generados los números correspondientes los graficaremos, pero antes de eso le daremos nombre a la abscisa y la ordenada, además usamos la función plot para graficar la función el primer parámetro es la abscisa y la segunda la ordenada, para mostrar en pantalla usamos la función show() en este caso en jupyter notebook sin declarar show() nos puede mostrar la gráfica correspondiente."
   ]
  },
  {
   "cell_type": "code",
   "execution_count": 133,
   "id": "0f7af331",
   "metadata": {},
   "outputs": [
    {
     "data": {
      "image/png": "[encoded data removed]",
      "text/plain": [
       "<Figure size 432x288 with 1 Axes>"
      ]
     },
     "metadata": {
      "needs_background": "light"
     },
     "output_type": "display_data"
    }
   ],
   "source": [
    "plt.xlabel(\"x\") #abscisa\n",
    "plt.ylabel(\"seno(x)\") # ordenada\n",
    "plt.plot(radianes,seno)\n",
    "plt.show()"
   ]
  },
  {
   "cell_type": "markdown",
   "id": "0d81eb28",
   "metadata": {},
   "source": [
    "Otra forma de graficar en vez de una línea, es con puntos y eso es posible con la función scatter de la siguiente forma, adicionamos un tercer parámetro que es el tamaño del punto, dicho parametro a cambiar es s, le colocaremos un tamaño de 0.4"
   ]
  },
  {
   "cell_type": "code",
   "execution_count": 136,
   "id": "d6a9fd16",
   "metadata": {},
   "outputs": [
    {
     "data": {
      "image/png": "[encoded data removed]",
      "text/plain": [
       "<Figure size 432x288 with 1 Axes>"
      ]
     },
     "metadata": {
      "needs_background": "light"
     },
     "output_type": "display_data"
    }
   ],
   "source": [
    "plt.xlabel(\"x\") #abscisa\n",
    "plt.ylabel(\"seno(x)\") # ordenada\n",
    "plt.scatter(radianes,seno,s=0.4)\n",
    "plt.show()"
   ]
  },
  {
   "cell_type": "markdown",
   "id": "26c3f6f8",
   "metadata": {},
   "source": [
    "a la hora de generar un histograma, podemos tener únicamente una sóla lista con elementos que se pueden repetir, en este caso generaremos una lista de valores aleatorios con la funcion random de numpy, es de aclarar que no generar puramente números aleatorios, ya que estos números son generados con algoritmos pseudoaleatorios."
   ]
  },
  {
   "cell_type": "code",
   "execution_count": 145,
   "id": "259233ee",
   "metadata": {},
   "outputs": [],
   "source": [
    "h = np.random.randn(50000) #randn generar números aleatorios bajo una distribución de probabilidad gaussiana"
   ]
  },
  {
   "cell_type": "markdown",
   "id": "247310ec",
   "metadata": {},
   "source": [
    "Con la lista generada, usamos la función hist, donde el primer parametro es la lista con los números aleatorios y el segundo parámetro el número de barras a graficar"
   ]
  },
  {
   "cell_type": "code",
   "execution_count": 146,
   "id": "916c6fa9",
   "metadata": {},
   "outputs": [
    {
     "data": {
      "image/png": "[encoded data removed]",
      "text/plain": [
       "<Figure size 432x288 with 1 Axes>"
      ]
     },
     "metadata": {
      "needs_background": "light"
     },
     "output_type": "display_data"
    }
   ],
   "source": [
    "plt.hist(h,30)\n",
    "plt.show()"
   ]
  },
  {
   "cell_type": "markdown",
   "id": "69fbc9a7",
   "metadata": {},
   "source": [
    "Existen un conjunto más grande de graficas posibles de hacer como graficar una imagen con imshow, o generar curvas de nivel, gráficas en 3D e incluso animaciones con estas gráficas, pero con estas gráficas es suficiente para entender conceptos basicos de graficación que usará la librería qiskit, para hacer histogramas o circuitos cuánticos."
   ]
  },
  {
   "cell_type": "code",
   "execution_count": null,
   "id": "2d0c7fee",
   "metadata": {},
   "outputs": [],
   "source": []
  }
 ],
 "metadata": {
  "kernelspec": {
   "display_name": "Python 3",
   "language": "python",
   "name": "python3"
  },
  "language_info": {
   "codemirror_mode": {
    "name": "ipython",
    "version": 3
   },
   "file_extension": ".py",
   "mimetype": "text/x-python",
   "name": "python",
   "nbconvert_exporter": "python",
   "pygments_lexer": "ipython3",
   "version": "3.6.9"
  }
 },
 "nbformat": 4,
 "nbformat_minor": 5
}
