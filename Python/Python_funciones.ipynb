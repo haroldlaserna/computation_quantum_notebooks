{
 "cells": [
  {
   "cell_type": "markdown",
   "id": "88bf6c96",
   "metadata": {},
   "source": [
    "<h1>Funciones</h1>"
   ]
  },
  {
   "cell_type": "markdown",
   "id": "22fe7356",
   "metadata": {},
   "source": [
    "La funciones que usamos generalmente en la matemáticas tienen una relación íntima con el concepto función en python. \n",
    "\n",
    "Sabemos que una función en matemáticas es un mapa $f$ que lleva elementos de un conjunto $\\mathbb A$ a un conjunto , escrito también: $f:\\mathbb A\\to\\mathbb B$.\n",
    "\n",
    "Si escogemos un elemento de cada conjunto tal que, $a \\in \\mathbb A$ y $b \\in \\mathbb B$ que la relación con la función $f$ es: $$b=f(a)$$\n",
    "Con esto, una función en python es una parte del codigo que tiene de entrada n elementos, genera una acción escrita por el programado y genera una salida de m elementos o genera una ejecución esperada. escrito en python queda:\n",
    "\n",
    "<code>**def funcion(parametro_1,parametro_2,...,parametro_n):\n",
    "    Línea de código a ejecutar**</code>\n",
    "    \n",
    "Una de las ventajas de definir funciones de esta manera es que las variables que declaremos dentro de la función ocupan espacio en la memoria mientras se ejecuta la función al terminar se eliminan de la memoria, además que nos ayudan a reducir el código y evitar redundancias o repeticiones de acciónes semejantes. por ejemplo deseamos sumar dos números, pero queremos hacer esta acción dos veces, es decir:\n",
    "    "
   ]
  },
  {
   "cell_type": "code",
   "execution_count": 1,
   "id": "5168755d",
   "metadata": {},
   "outputs": [
    {
     "name": "stdout",
     "output_type": "stream",
     "text": [
      "2 + 2  =  4\n",
      "4 + 6  =  10\n"
     ]
    }
   ],
   "source": [
    "def sumar(a,b):\n",
    "    c = a + b\n",
    "    print(a, \"+\", b, \" = \", c)\n",
    "    \n",
    "sumar(2,2)\n",
    "sumar(4,6)"
   ]
  },
  {
   "cell_type": "markdown",
   "id": "da6fb8ac",
   "metadata": {},
   "source": [
    "con esto no hay la necesitada de definir mínimo 6 variables para poder hacer los cálculos correspondientes."
   ]
  },
  {
   "cell_type": "markdown",
   "id": "94036631",
   "metadata": {},
   "source": [
    "Algo útil en el mundo de la programación es poder comentar los códigos para que otro programador pueda entender el código más fácilmente, anteriormente ya habíamos comentado la forma de comentar el codigo con la triple doble comilla o con **#**, para comentar el proceso que hace una función es importante hacer uso del **docstring** (cadena de documentación), para documentar la función, por ejemplo:"
   ]
  },
  {
   "cell_type": "code",
   "execution_count": 10,
   "id": "8eb55a5b",
   "metadata": {},
   "outputs": [
    {
     "name": "stdout",
     "output_type": "stream",
     "text": [
      "3 - 2  =  1\n"
     ]
    }
   ],
   "source": [
    "def resta(a,b):\n",
    "    \"\"\" Esta función tiene como parámetro un número de entrada a y b y define una variable c que es la \n",
    "    resta de los parámetros anteriores y, finalmente, imprime en pantalla la variable c, o sea, el resultado\n",
    "    de la resta.\n",
    "    \"\"\"\n",
    "    c=a-b\n",
    "    print(a, \"-\", b, \" = \", c)\n",
    "resta(3,2)"
   ]
  },
  {
   "cell_type": "markdown",
   "id": "da58b448",
   "metadata": {},
   "source": [
    "Para saber el docstring de una función cualquiera, hacemos uso de la funcion **help()**, de la siguiente forma:"
   ]
  },
  {
   "cell_type": "code",
   "execution_count": 14,
   "id": "f3758218",
   "metadata": {},
   "outputs": [
    {
     "name": "stdout",
     "output_type": "stream",
     "text": [
      "Help on function resta in module __main__:\n",
      "\n",
      "resta(a, b)\n",
      "    Esta función tiene como parámetro un número de entrada a y b y define una variable c que es la \n",
      "    resta de los parámetros anteriores y, finalmente, imprime en pantalla la variable c, o sea, el resultado\n",
      "    de la resta.\n",
      "\n"
     ]
    }
   ],
   "source": [
    "help(resta)"
   ]
  },
  {
   "cell_type": "markdown",
   "id": "e550fe4d",
   "metadata": {},
   "source": [
    "También, es posible usar el operador **?** para obtener el docstring, con la diferencia que en jupyter notebook abre una pestaña mostrando el docstring de la función."
   ]
  },
  {
   "cell_type": "code",
   "execution_count": 15,
   "id": "dcfe85f2",
   "metadata": {},
   "outputs": [],
   "source": [
    "resta?"
   ]
  },
  {
   "cell_type": "markdown",
   "id": "2f423218",
   "metadata": {},
   "source": [
    "También es posible definir dentro el tipado del código de una vez los paramétros con esto luego de llamar a la función no hay necesidad de definir esos parámetros, es decir:"
   ]
  },
  {
   "cell_type": "code",
   "execution_count": 23,
   "id": "d81dd3b5",
   "metadata": {},
   "outputs": [
    {
     "name": "stdout",
     "output_type": "stream",
     "text": [
      "2 * 2 = 4\n",
      "4 * 2 = 8\n"
     ]
    }
   ],
   "source": [
    "def multiplicacion(a,b = 2):\n",
    "    c = a * b\n",
    "    print(a, \"*\" ,b, \"=\", c)\n",
    "multiplicacion(2)\n",
    "multiplicacion(4)"
   ]
  },
  {
   "cell_type": "markdown",
   "id": "f911ac6d",
   "metadata": {},
   "source": [
    "a pesar de que se ha definido el segundo parámetro, aún así, es posible cambiarlo de valor como se muestra a continuación:"
   ]
  },
  {
   "cell_type": "code",
   "execution_count": 27,
   "id": "4a9b35a2",
   "metadata": {},
   "outputs": [
    {
     "name": "stdout",
     "output_type": "stream",
     "text": [
      "2 * 3 = 6\n",
      "10 * 2 = 20\n"
     ]
    }
   ],
   "source": [
    "multiplicacion(2,3)\n",
    "multiplicacion(10)"
   ]
  },
  {
   "cell_type": "markdown",
   "id": "ccbc0b7f",
   "metadata": {},
   "source": [
    "luego de haber cambiado el parámetro este vuelve a su valor original como fue definido al inicio."
   ]
  },
  {
   "cell_type": "markdown",
   "id": "476925f9",
   "metadata": {},
   "source": [
    "Otra forma de ingresar parámetros a una función, es no definir la cantidad total de parámetro de ingreso con <b>*</b>, de la siguente forma:"
   ]
  },
  {
   "cell_type": "code",
   "execution_count": 35,
   "id": "c203efb1",
   "metadata": {},
   "outputs": [
    {
     "name": "stdout",
     "output_type": "stream",
     "text": [
      "estos son los números adicionales  (3, 4, 5, 6, 7, 8, 9, 10)\n",
      "la suma total es  55\n",
      "estos son los números adicionales  (3, 4)\n",
      "la suma total es  10\n",
      "estos son los números adicionales  ()\n",
      "la suma total es  3\n"
     ]
    }
   ],
   "source": [
    "def sumar(a,b,*adicionales):\n",
    "    c= a+b\n",
    "    print(\"estos son los números adicionales \",adicionales)\n",
    "    for i in adicionales:\n",
    "        c = c + i\n",
    "    print(\"la suma total es \", c)\n",
    "sumar(1,2,3,4,5,6,7,8,9,10)\n",
    "sumar(1,2,3,4)\n",
    "sumar(1,2)"
   ]
  },
  {
   "cell_type": "markdown",
   "id": "54745f9a",
   "metadata": {},
   "source": [
    "notemos que si se define solo los dos parámetros a y b, no generar un error por no definir los adicionales, ademas que los parámetros adicionales se guardan en una lista como se muestra anteriormente.\n",
    "\n",
    "En el caso que se desee trabajar con diccionarios para poder nombrar el parametro hacemos uso de <b>**</b>, de la siguiente manera:"
   ]
  },
  {
   "cell_type": "code",
   "execution_count": 45,
   "id": "bd27d41d",
   "metadata": {},
   "outputs": [
    {
     "name": "stdout",
     "output_type": "stream",
     "text": [
      "estos son los números adicionales {'x': 3, 'y': 2}\n",
      "la suma total es  8\n"
     ]
    }
   ],
   "source": [
    "def sumar(a,b,**adicionales):\n",
    "    c=a + b\n",
    "    print(\"estos son los números adicionales\",adicionales)\n",
    "    for i in adicionales.items():\n",
    "        c = c + i[1]\n",
    "    print(\"la suma total es \", c)\n",
    "sumar(1,2,x=3,y=2)"
   ]
  },
  {
   "cell_type": "markdown",
   "id": "72c5615f",
   "metadata": {},
   "source": [
    "En este caso, vemos que los parámetros adicionales se convierten en un diccionario, para obtener los elementos con su clave y valor usamos la **items()** y convierte cada clave y valor en lista, donde la posición 0 es la clave y la posición 1 el valor."
   ]
  },
  {
   "cell_type": "markdown",
   "id": "253aabc7",
   "metadata": {},
   "source": [
    "Como habiamos comentado anteriormente, la ventaja de las funciones, también, es el hecho de que al declarar una variable dentro una función está se guarda en la memoria y se elimina hasta que termina de ejecutar la función, por ejemplo:"
   ]
  },
  {
   "cell_type": "code",
   "execution_count": 1,
   "id": "78d1036a",
   "metadata": {},
   "outputs": [
    {
     "name": "stdout",
     "output_type": "stream",
     "text": [
      "x vale  7 fuera de la función antes de ejecutarse\n",
      "x vale  4 dentro de la función\n",
      "-5\n",
      "x vale  7 fuera de la función despues de ejecutarse\n"
     ]
    }
   ],
   "source": [
    "x = 7\n",
    "def restar_tres_numeros(a,b):\n",
    "    \n",
    "    x=4\n",
    "    print(\"x vale \", x, \"dentro de la función\")\n",
    "    c = a - b - x\n",
    "    print(c)\n",
    "\n",
    "print(\"x vale \", x, \"fuera de la función antes de ejecutarse\")\n",
    "restar_tres_numeros(1,2)\n",
    "print(\"x vale \", x, \"fuera de la función despues de ejecutarse\")\n"
   ]
  },
  {
   "cell_type": "markdown",
   "id": "d31d3012",
   "metadata": {},
   "source": [
    "Como observamos la variable declarada **x** mantiene su valor fuera de la función a pesar de que es declarada también dentro de la función.\n",
    "\n",
    "Finalmente, a la hora de devolver valores generados dentro de la función a variables fuera de la función usamos la palabra clave **return**, como se muestra en el siguiente ejemplo:"
   ]
  },
  {
   "cell_type": "code",
   "execution_count": 4,
   "id": "7ca21abe",
   "metadata": {
    "scrolled": true
   },
   "outputs": [
    {
     "name": "stdout",
     "output_type": "stream",
     "text": [
      "6 8\n",
      "(6, 8)\n"
     ]
    }
   ],
   "source": [
    "def multiplicar_por_dos(a,b):\n",
    "    return 2*a, 2*b\n",
    "\n",
    "x,y = multiplicar_por_dos(3,4)\n",
    "\n",
    "print(x,y)\n",
    "print(multiplicar_por_dos(3,4))"
   ]
  },
  {
   "cell_type": "markdown",
   "id": "6e9c4f61",
   "metadata": {},
   "source": [
    "como observamos, **return** genera una tupla con los valores que hemos retornando. **return** es una de las carácteristicas más útiles a la hora de generar funciones y estaremos usando más adelante constantemente:"
   ]
  },
  {
   "cell_type": "markdown",
   "id": "03c95c12",
   "metadata": {},
   "source": [
    "Con lo anteriormente expuesto también podemos generar otro tipo de funciones llamadas **funciones de orden superior**. Estas funciones son funciones dentro de una función tal que le podemos asignar a una variable una función. es decir:"
   ]
  },
  {
   "cell_type": "code",
   "execution_count": 14,
   "id": "1dff944c",
   "metadata": {},
   "outputs": [
    {
     "name": "stdout",
     "output_type": "stream",
     "text": [
      "<function operacion.<locals>.suma at 0x7f24640c9d90>\n",
      "<function operacion.<locals>.resta at 0x7f24640479d8>\n"
     ]
    }
   ],
   "source": [
    "def operacion(nombre):\n",
    "    \n",
    "    def suma(a,b):\n",
    "        print(\"la suma es\",a + b)\n",
    "        \n",
    "    def resta(a,b):\n",
    "        print(\"la resta es\", a - b)\n",
    "        \n",
    "    operador = {\"suma\": suma,\n",
    "                \"resta\": resta}\n",
    "    \n",
    "    return operador[nombre]\n",
    "\n",
    "sumar = operacion(\"suma\")\n",
    "restar = operacion(\"resta\")\n",
    "\n",
    "print(sumar)\n",
    "print(restar)"
   ]
  },
  {
   "cell_type": "markdown",
   "id": "c0e239d2",
   "metadata": {},
   "source": [
    "A la hora de imprimir en pantalla la variable **sumar** y la variable **restar**, nos muestra en pantalla simplemente que la variable es una función, con lo cual, debemos adicionar **( )** y dentro de ellos los parámetros señalados a la hora de definir la función de orden superior, es decir:"
   ]
  },
  {
   "cell_type": "code",
   "execution_count": 13,
   "id": "5b9da3f0",
   "metadata": {},
   "outputs": [
    {
     "name": "stdout",
     "output_type": "stream",
     "text": [
      "la suma es 7\n",
      "la resta es 1\n"
     ]
    }
   ],
   "source": [
    "sumar(4,3)\n",
    "restar(4,3)"
   ]
  },
  {
   "cell_type": "markdown",
   "id": "014fd2fb",
   "metadata": {},
   "source": [
    "A la hora de sólo necesitar una función para una acción especifica sin darle un nombre, en estos casos es útil usar **lambda**, tal que generar una función anónima para un propósito, por ejemplo: obtener los valores $f(x)$ de la función lineal $f(x)=mx+b$ de los siguientes valores de $x$: $1$,$2$,$3$,$4$ y $5$, tal que:"
   ]
  },
  {
   "cell_type": "code",
   "execution_count": 39,
   "id": "3fae7861",
   "metadata": {
    "scrolled": false
   },
   "outputs": [
    {
     "name": "stdout",
     "output_type": "stream",
     "text": [
      "1 3\n",
      "2 5\n",
      "3 7\n",
      "4 9\n",
      "5 11\n"
     ]
    }
   ],
   "source": [
    "x = (1,2,3,4,5)\n",
    "y = lambda n: 2*i + 1\n",
    "for i in x:\n",
    "    print(x[i-1],y(x))"
   ]
  },
  {
   "cell_type": "markdown",
   "id": "da83eacf",
   "metadata": {},
   "source": [
    "Una función útil a la hora de ahorrar memoria y generar \"listas\" que no se guarden en memoria, es útil usar los generadores que tiene el mismo fundamento de construcción que la compresión de listas vista anteriormente pero con tuplas, es decir:"
   ]
  },
  {
   "cell_type": "code",
   "execution_count": 41,
   "id": "e626f6c1",
   "metadata": {},
   "outputs": [
    {
     "name": "stdout",
     "output_type": "stream",
     "text": [
      "<generator object <genexpr> at 0x7f2455c1b938>\n"
     ]
    }
   ],
   "source": [
    "variable = (i for i in range(1,10))\n",
    "print(variable)"
   ]
  },
  {
   "cell_type": "markdown",
   "id": "d1ba0da3",
   "metadata": {},
   "source": [
    "como observamos la diferencia a la hora de imprimir en pantalla la tupla, nos generar un objeto de tipo generador, sus usos son diversos pero si deseamos ver los elementos de ese generado necesitamos imprimir elemento por elemento de la siguiente forma:"
   ]
  },
  {
   "cell_type": "code",
   "execution_count": 43,
   "id": "ca061c65",
   "metadata": {},
   "outputs": [
    {
     "name": "stdout",
     "output_type": "stream",
     "text": [
      "1\n",
      "2\n",
      "3\n",
      "4\n",
      "5\n",
      "6\n",
      "7\n",
      "8\n",
      "9\n"
     ]
    }
   ],
   "source": [
    "for i in variable:\n",
    "    print(i)"
   ]
  },
  {
   "cell_type": "markdown",
   "id": "fc0a2e8d",
   "metadata": {},
   "source": [
    "es decir que el generado es útil cuando queremos un elemento nada más con esto solo ocupa memoria el elemento necesario cuando se ejecuta en pantalla y no tenemos una lista o tupla guardada en memoria.\n",
    "\n",
    "Otra forma de construir generadores para una acción en específica, mediante funciones es usando la palabra clave yield, de la siguiente forma:"
   ]
  },
  {
   "cell_type": "code",
   "execution_count": 46,
   "id": "de9fc6cd",
   "metadata": {},
   "outputs": [
    {
     "name": "stdout",
     "output_type": "stream",
     "text": [
      "<generator object cuadrado at 0x7f2455ba2048>\n"
     ]
    }
   ],
   "source": [
    "def cuadrado(inicio, final):\n",
    "    n = inicio\n",
    "    while n<=final:\n",
    "        yield n*n\n",
    "        n+=1\n",
    "l = cuadrado(2,6)\n",
    "print(l)"
   ]
  },
  {
   "cell_type": "markdown",
   "id": "f83b81c1",
   "metadata": {},
   "source": [
    "En este caso generamos el cuadrado de una lista de números, pero, indicando el número inicial de la lista y el número final de la lista, así asignando a una variable el generador, para obtener los números cuadrados en pantalla simplemente usamos el mismo método que con la tupla generadora que vimos anteriormente, de esta manera tenemos:"
   ]
  },
  {
   "cell_type": "code",
   "execution_count": 47,
   "id": "ee4c8531",
   "metadata": {},
   "outputs": [
    {
     "name": "stdout",
     "output_type": "stream",
     "text": [
      "4\n",
      "9\n",
      "16\n",
      "25\n",
      "36\n"
     ]
    }
   ],
   "source": [
    "for i in l:\n",
    "    print(i)"
   ]
  },
  {
   "cell_type": "markdown",
   "id": "958a6577",
   "metadata": {},
   "source": [
    "Finalmente, también podemos generar funciones que necesiten de parámetros funciones, también llamadas **decoradores**, dichos decoradores acompañan a otras funciones si la necesidad de definirlas dentro de ellas, por ejemplo:"
   ]
  },
  {
   "cell_type": "code",
   "execution_count": 65,
   "id": "173288d7",
   "metadata": {},
   "outputs": [
    {
     "name": "stdout",
     "output_type": "stream",
     "text": [
      "la suma es  4\n",
      "esto es unicamente del decorador imprimir_funcion\n",
      "la suma es  7\n"
     ]
    }
   ],
   "source": [
    "def imprimir_funcion(funcion):\n",
    "    print(\"esto es unicamente del decorador imprimir_funcion\")\n",
    "    return funcion\n",
    "    \n",
    "def suma(a,b):\n",
    "    print(\"la suma es \",a+b) \n",
    "\n",
    "suma(2,2)\n",
    "imprimir_funcion(suma)(3,4)\n"
   ]
  },
  {
   "cell_type": "markdown",
   "id": "a71e8742",
   "metadata": {},
   "source": [
    "una forma alternativa de llamar al decorador sin la necesidad de escribirlo y se ejecute con la función deseada es con el símbolo **@**, de la siguiente forma:"
   ]
  },
  {
   "cell_type": "code",
   "execution_count": 70,
   "id": "ec12cb56",
   "metadata": {},
   "outputs": [
    {
     "name": "stdout",
     "output_type": "stream",
     "text": [
      "esto es unicamente del decorador imprimir_funcion\n",
      "la resta es 1\n"
     ]
    }
   ],
   "source": [
    "@imprimir_funcion\n",
    "def restar(a,b):\n",
    "    print(\"la resta es\", a-b)\n",
    "    \n",
    "restar(4,3)"
   ]
  },
  {
   "cell_type": "markdown",
   "id": "6f8cf3f4",
   "metadata": {},
   "source": [
    "tal que, colocamos el decorador encima de la función cada ves que llamemos a la función suma se imprimirá con el decorador incluido."
   ]
  },
  {
   "cell_type": "code",
   "execution_count": null,
   "id": "faf6331e",
   "metadata": {},
   "outputs": [],
   "source": []
  }
 ],
 "metadata": {
  "kernelspec": {
   "display_name": "Python 3",
   "language": "python",
   "name": "python3"
  },
  "language_info": {
   "codemirror_mode": {
    "name": "ipython",
    "version": 3
   },
   "file_extension": ".py",
   "mimetype": "text/x-python",
   "name": "python",
   "nbconvert_exporter": "python",
   "pygments_lexer": "ipython3",
   "version": "3.6.9"
  }
 },
 "nbformat": 4,
 "nbformat_minor": 5
}
