{
 "cells": [
  {
   "cell_type": "markdown",
   "id": "eb595eb3",
   "metadata": {},
   "source": [
    "<h1>Clases y objetos</h1>"
   ]
  },
  {
   "cell_type": "markdown",
   "id": "f120facb",
   "metadata": {},
   "source": [
    "Dentro del paradigma de la programación existe una \"herramienta\" útil para modelar objetos de la vida real dentro de líneas de código (análogo a la hora de construir una fenomenología dentro de un modelo matemático) llamado **POO**, Programación Orientada a Objetos o en ingles **OOP** Object Oriented programing. Dentro de este paradigma existen dos conceptos fundamentales. \n",
    "El primero, el **objeto** es una entidad que puede relacionar un ente real o un ente teórico que consta de tres caracteristicas: 1) Identidad: Dicha caracteristica le permite diferenciarse de otros objetos. 2) Comportamiento: Esta caracteristica le da una función especifica al objeto o una ejecución en concreto. 3) Estado: Esta caracteristica le da atributos al objeto y con estos, sean usados dentro de un comportamiento en concreto. \n",
    "El segundo, la **clase** es una plantilla en la cual se construye al objeto y se le da la identidad, comportamiento y estado al objeto.\n",
    "\n",
    "Para más claridad de lo anterior, damos el siguiente ejemplo de objeto. Sea un libro con $n$ cantidad de páginas y por cada página exista $m$ cantidad de palabras, es evidente que, un libro es posible leerlo, cambiarme a la siguiente página hasta llegar al final del libro o devolverme una cantidad de páginas posible.\n",
    "\n",
    "En este caso la identidad del objeto es en sí el libro, es decir, para diferenciar de un libro con otro, simplemente podemos darle un nombre **libro_de_fisica** dicho nombre le da una identidad y es posible diferenciarlo de otros.\n",
    "\n",
    "Para el caso del estado, hablamos de sus atributos, en este caso, el estado esta definido por el número de páginas.\n",
    "\n",
    "Finalmente para el comportamiento, tenemos, en este caso la posibilidad de pasar una cantidad de paginas o devolver se a una página en concreto, tambien la posibilidad de leer el el libro, al instanciarlo dentro de una clase en python usamos la palabra clave **class** de la siguiente forma:"
   ]
  },
  {
   "cell_type": "code",
   "execution_count": 117,
   "id": "6afd13bc",
   "metadata": {},
   "outputs": [],
   "source": [
    "class Libro:\n",
    "    \n",
    "    def __init__(self, num_paginas):\n",
    "        \n",
    "        self.num_paginas = num_paginas\n",
    "        self.pagina_actual = 1\n",
    "    \n",
    "    def leer(self):\n",
    "        \n",
    "        if self.num_paginas >= self.pagina_actual:\n",
    "            print(\"Has leído la página \", self.pagina_actual)\n",
    "            self.pagina_actual += 1\n",
    "            if self.num_paginas >= self.pagina_actual:\n",
    "                print(\"Ahora estás en la página \", self.pagina_actual)\n",
    "            else:\n",
    "                print(\"Estás en la contraportada\")\n",
    "        else:\n",
    "            print(\"No puedes leer, ya has terminado el libro\")\n",
    "    \n",
    "    def pasar_paginas(self, cantidad_paginas):\n",
    "        \n",
    "        self.pagina_actual += cantidad_paginas\n",
    "        print(\"Has adelantado \", cantidad_paginas, \"páginas\")\n",
    "        print(\"Estás en la página \", self.pagina_actual)\n",
    "        \n",
    "    def devolver_paginas(self, cantidad_paginas):\n",
    "        \n",
    "        self.pagina_actual -= cantidad_paginas\n",
    "        print(\"Has Atrasado \", cantidad_paginas, \"páginas\")\n",
    "        print(\"Estás en la página \", self.pagina_actual)"
   ]
  },
  {
   "cell_type": "code",
   "execution_count": 119,
   "id": "40919f56",
   "metadata": {},
   "outputs": [],
   "source": [
    "libro_de_fisica = Libro(300)"
   ]
  },
  {
   "cell_type": "code",
   "execution_count": 120,
   "id": "bd584c29",
   "metadata": {},
   "outputs": [
    {
     "name": "stdout",
     "output_type": "stream",
     "text": [
      "Has leído la página  1\n",
      "Ahora estás en la página  2\n"
     ]
    }
   ],
   "source": [
    "libro_de_fisica.leer()"
   ]
  },
  {
   "cell_type": "code",
   "execution_count": 121,
   "id": "8ba396ce",
   "metadata": {},
   "outputs": [
    {
     "name": "stdout",
     "output_type": "stream",
     "text": [
      "Has adelantado  100 páginas\n",
      "Estás en la página  102\n"
     ]
    }
   ],
   "source": [
    "libro_de_fisica.pasar_paginas(100)"
   ]
  },
  {
   "cell_type": "code",
   "execution_count": 122,
   "id": "151a9d05",
   "metadata": {},
   "outputs": [
    {
     "name": "stdout",
     "output_type": "stream",
     "text": [
      "Has leído la página  102\n",
      "Ahora estás en la página  103\n"
     ]
    }
   ],
   "source": [
    "libro_de_fisica.leer()"
   ]
  },
  {
   "cell_type": "code",
   "execution_count": 123,
   "id": "262579a6",
   "metadata": {},
   "outputs": [
    {
     "name": "stdout",
     "output_type": "stream",
     "text": [
      "Has Atrasado  60 páginas\n",
      "Estás en la página  43\n"
     ]
    }
   ],
   "source": [
    "libro_de_fisica.devolver_paginas(60)"
   ]
  },
  {
   "cell_type": "code",
   "execution_count": 124,
   "id": "bd068725",
   "metadata": {},
   "outputs": [
    {
     "name": "stdout",
     "output_type": "stream",
     "text": [
      "Has leído la página  43\n",
      "Ahora estás en la página  44\n"
     ]
    }
   ],
   "source": [
    "libro_de_fisica.leer()"
   ]
  },
  {
   "cell_type": "code",
   "execution_count": 125,
   "id": "ab928bfb",
   "metadata": {},
   "outputs": [
    {
     "name": "stdout",
     "output_type": "stream",
     "text": [
      "Has adelantado  256 páginas\n",
      "Estás en la página  300\n"
     ]
    }
   ],
   "source": [
    "libro_de_fisica.pasar_paginas(256)"
   ]
  },
  {
   "cell_type": "code",
   "execution_count": 126,
   "id": "0a1e5767",
   "metadata": {},
   "outputs": [
    {
     "name": "stdout",
     "output_type": "stream",
     "text": [
      "Has leído la página  300\n",
      "Estás en la contraportada\n"
     ]
    }
   ],
   "source": [
    "libro_de_fisica.leer()"
   ]
  },
  {
   "cell_type": "code",
   "execution_count": 127,
   "id": "e299dc43",
   "metadata": {},
   "outputs": [
    {
     "name": "stdout",
     "output_type": "stream",
     "text": [
      "No puedes leer, ya has terminado el libro\n"
     ]
    }
   ],
   "source": [
    "libro_de_fisica.leer()"
   ]
  },
  {
   "cell_type": "markdown",
   "id": "4a8247c5",
   "metadata": {},
   "source": [
    "En este caso, observamos que para definir el comportamiento lo hacemos mediante funciones, pero aparecen más situaciones dentro de la clase. la primera es la función \\__init__, la cual, es una función especial de python usada en clases. Dicha función consiste en definir algun tipo de de ejecución que se realiza al momento de llamar a la clase sin la necesidad de llamar a la función explícitamente, que es lo contrario a las otras funciones que si son llamadas explícitamente como la función leer.\n",
    "\n",
    "otra palabra clave que aparede dentro de las clases es **self**, dicha palabra clave especifica la identidad del objeto, es decir, en el ejemplo anterior self hace referencia al libro_del fisica construido."
   ]
  },
  {
   "cell_type": "markdown",
   "id": "77511ea8",
   "metadata": {},
   "source": [
    "Dentro del paradigma de programación **POO** existen tres conceptos importantes a la hora de trabajar con clases y son: **Herencia**, **Encapsulamiento** y **Polimorfismo**, en este caso para python no tenemos la necesidad de definir polimorfismos, aun así son importantes para otro tipo de lenguajes de programación."
   ]
  },
  {
   "cell_type": "markdown",
   "id": "7a630d4b",
   "metadata": {},
   "source": [
    "**Herencia.**"
   ]
  },
  {
   "cell_type": "markdown",
   "id": "ba25a9da",
   "metadata": {},
   "source": [
    "La herencia es un concepto en el cual asocia dos o más clases mediante jerarquias en este caso una principal llamada padre o superclase y las subsiguientes llamadas hijos o subclases. el Objetivo de las herencias es que las subclases puede obtener el comportamiento y el estado de la superclase.\n",
    "Por ejemplo, nuestra superclase es e libro que es posible leer con una cantidad de páginas dadas, pero podemos generar una subclase de libros de una biblioteca pública que hereden las propiedades de la superclase y otra subclase de libro personal que también herede las propuedades de la superclase.\n",
    "\n",
    "Usando la clase anteriormente construída como superclase tenemos:"
   ]
  },
  {
   "cell_type": "code",
   "execution_count": 130,
   "id": "124bec60",
   "metadata": {},
   "outputs": [],
   "source": [
    "class Libro:\n",
    "    \n",
    "    def __init__(self, num_paginas):\n",
    "        \n",
    "        self.num_paginas = num_paginas\n",
    "        self.pagina_actual = 1\n",
    "    \n",
    "    def leer(self):\n",
    "        \n",
    "        if self.num_paginas >= self.pagina_actual:\n",
    "            print(\"Has leído la página \", self.pagina_actual)\n",
    "            self.pagina_actual += 1\n",
    "            if self.num_paginas >= self.pagina_actual:\n",
    "                print(\"Ahora estás en la página \", self.pagina_actual)\n",
    "            else:\n",
    "                print(\"Estás en la contraportada\")\n",
    "        else:\n",
    "            print(\"No puedes leer, ya has terminado el libro\")\n",
    "    \n",
    "    def pasar_paginas(self, cantidad_paginas):\n",
    "        \n",
    "        self.pagina_actual += cantidad_paginas\n",
    "        print(\"Has adelantado \", cantidad_paginas, \"páginas\")\n",
    "        print(\"Estás en la página \", self.pagina_actual)\n",
    "        \n",
    "    def devolver_paginas(self, cantidad_paginas):\n",
    "        \n",
    "        self.pagina_actual -= cantidad_paginas\n",
    "        print(\"Has Atrasado \", cantidad_paginas, \"páginas\")\n",
    "        print(\"Estás en la página \", self.pagina_actual)"
   ]
  },
  {
   "cell_type": "markdown",
   "id": "9221a25b",
   "metadata": {},
   "source": [
    "y como subclase para el libro de biblioteca pública lo siguiente:"
   ]
  },
  {
   "cell_type": "code",
   "execution_count": 157,
   "id": "0ce0a7e7",
   "metadata": {},
   "outputs": [],
   "source": [
    "class Libro_publico(Libro):\n",
    "    \n",
    "    def tipo_de_libro(self):\n",
    "        print(\"Este es un libro de la biblioteca\")\n",
    "\n",
    "class Libro_personal(Libro):\n",
    "    \n",
    "    def tipo_de_libro(self):\n",
    "        print(\"este es un libro personal\")\n",
    "    "
   ]
  },
  {
   "cell_type": "code",
   "execution_count": 159,
   "id": "d1e7751d",
   "metadata": {},
   "outputs": [],
   "source": [
    "libro_fisica = Libro_publico(300)\n",
    "libro_biologia = Libro_personal(300)"
   ]
  },
  {
   "cell_type": "code",
   "execution_count": 160,
   "id": "f4923aaf",
   "metadata": {},
   "outputs": [
    {
     "name": "stdout",
     "output_type": "stream",
     "text": [
      "Este es un libro de la biblioteca\n"
     ]
    }
   ],
   "source": [
    "libro_fisica.tipo_de_libro()\n"
   ]
  },
  {
   "cell_type": "code",
   "execution_count": 161,
   "id": "2380056c",
   "metadata": {},
   "outputs": [
    {
     "name": "stdout",
     "output_type": "stream",
     "text": [
      "Has leído la página  1\n",
      "Ahora estás en la página  2\n"
     ]
    }
   ],
   "source": [
    "libro_fisica.leer()"
   ]
  },
  {
   "cell_type": "code",
   "execution_count": 162,
   "id": "1402222a",
   "metadata": {},
   "outputs": [
    {
     "name": "stdout",
     "output_type": "stream",
     "text": [
      "este es un libro personal\n"
     ]
    }
   ],
   "source": [
    "libro_biologia.tipo_de_libro()"
   ]
  },
  {
   "cell_type": "code",
   "execution_count": 163,
   "id": "42ad80b5",
   "metadata": {},
   "outputs": [
    {
     "name": "stdout",
     "output_type": "stream",
     "text": [
      "Has leído la página  1\n",
      "Ahora estás en la página  2\n"
     ]
    }
   ],
   "source": [
    "libro_biologia.leer()"
   ]
  },
  {
   "cell_type": "markdown",
   "id": "5dba4111",
   "metadata": {},
   "source": [
    "Como observamos, las subclases **Libro_publico** y **Libro_personal** obtienen las carácteristicas de la superclase **Libro** y anadiendo sus peculiaridades por cada subclase, en este caso el tipo de libro."
   ]
  },
  {
   "cell_type": "markdown",
   "id": "2ec0b0f1",
   "metadata": {},
   "source": [
    "**Encapsulamiento**"
   ]
  },
  {
   "cell_type": "markdown",
   "id": "544c49f7",
   "metadata": {},
   "source": [
    "Finalmente, este apartado define las funciones o variables dentro una clase para un acesso para el usuario **public** y funciones o variablesque no pueden ser llamadas por el usuario pero se usan dentro de la clase para una determinada función **private**. Para las funciones y variables públicas, ya hemos visto su funcionamiento anteriormente, para el caso de funciones privadas, se definen al inicio del nombre de la funcion con \\__ y a la hora de llamarlas se genera un error ya que no es posible para el usuario acceder a ellas, es decir:"
   ]
  },
  {
   "cell_type": "code",
   "execution_count": 166,
   "id": "e9ab78c3",
   "metadata": {},
   "outputs": [],
   "source": [
    "class Operaciones:\n",
    "    \n",
    "    def suma(self,a,b):\n",
    "        print(\"la suma de a y b es \", a+b)\n",
    "    \n",
    "    def resta(self,a,b):\n",
    "        print(\"la resta de a y b es \", a - b)\n",
    "        \n",
    "    def __multiplicacion(self,a,b):\n",
    "        print(\"la multiplicacion de a y b es \", a*b)\n"
   ]
  },
  {
   "cell_type": "code",
   "execution_count": 168,
   "id": "93a533f6",
   "metadata": {},
   "outputs": [],
   "source": [
    "operar = Operaciones()"
   ]
  },
  {
   "cell_type": "code",
   "execution_count": 169,
   "id": "611449e4",
   "metadata": {
    "collapsed": true
   },
   "outputs": [
    {
     "name": "stdout",
     "output_type": "stream",
     "text": [
      "la suma de a y b es  5\n"
     ]
    }
   ],
   "source": [
    "operar.suma(2,3)"
   ]
  },
  {
   "cell_type": "code",
   "execution_count": 172,
   "id": "5b921cd8",
   "metadata": {},
   "outputs": [
    {
     "ename": "AttributeError",
     "evalue": "'Operaciones' object has no attribute '__multiplicacion'",
     "output_type": "error",
     "traceback": [
      "\u001b[0;31m---------------------------------------------------------------------------\u001b[0m",
      "\u001b[0;31mAttributeError\u001b[0m                            Traceback (most recent call last)",
      "\u001b[0;32m<ipython-input-172-9023bc7f6876>\u001b[0m in \u001b[0;36m<module>\u001b[0;34m\u001b[0m\n\u001b[0;32m----> 1\u001b[0;31m \u001b[0moperar\u001b[0m\u001b[0;34m.\u001b[0m\u001b[0m__multiplicacion\u001b[0m\u001b[0;34m(\u001b[0m\u001b[0;36m2\u001b[0m\u001b[0;34m,\u001b[0m\u001b[0;36m3\u001b[0m\u001b[0;34m)\u001b[0m\u001b[0;34m\u001b[0m\u001b[0;34m\u001b[0m\u001b[0m\n\u001b[0m",
      "\u001b[0;31mAttributeError\u001b[0m: 'Operaciones' object has no attribute '__multiplicacion'"
     ]
    }
   ],
   "source": [
    "operar.__multiplicacion(2,3)"
   ]
  },
  {
   "cell_type": "markdown",
   "id": "1801ffec",
   "metadata": {},
   "source": [
    "En este caso, se genera un error suponiendo que no existe el método multiplicar. Para el caso de las variables existe la misma forma de generarlas como elementos privados netamente de la clase aplicando \\__ a la variable definida de la siguiente forma:"
   ]
  },
  {
   "cell_type": "code",
   "execution_count": 174,
   "id": "595f361a",
   "metadata": {},
   "outputs": [],
   "source": [
    "class Animal:\n",
    "    def __init__(self, nombre, tipo):\n",
    "        self.nombre = nombre\n",
    "        self.__tipo = tipo\n",
    "        "
   ]
  },
  {
   "cell_type": "code",
   "execution_count": 176,
   "id": "9ef2663f",
   "metadata": {},
   "outputs": [],
   "source": [
    "perro = Animal(\"Tobias\",\"Canino\")"
   ]
  },
  {
   "cell_type": "code",
   "execution_count": 177,
   "id": "89997c4f",
   "metadata": {},
   "outputs": [
    {
     "name": "stdout",
     "output_type": "stream",
     "text": [
      "Tobias\n"
     ]
    }
   ],
   "source": [
    "print(perro.nombre)"
   ]
  },
  {
   "cell_type": "code",
   "execution_count": 179,
   "id": "a17ce412",
   "metadata": {},
   "outputs": [
    {
     "ename": "AttributeError",
     "evalue": "'Animal' object has no attribute '__tipo'",
     "output_type": "error",
     "traceback": [
      "\u001b[0;31m---------------------------------------------------------------------------\u001b[0m",
      "\u001b[0;31mAttributeError\u001b[0m                            Traceback (most recent call last)",
      "\u001b[0;32m<ipython-input-179-806f2a5d0a0a>\u001b[0m in \u001b[0;36m<module>\u001b[0;34m\u001b[0m\n\u001b[0;32m----> 1\u001b[0;31m \u001b[0mprint\u001b[0m\u001b[0;34m(\u001b[0m\u001b[0mperro\u001b[0m\u001b[0;34m.\u001b[0m\u001b[0m__tipo\u001b[0m\u001b[0;34m)\u001b[0m\u001b[0;34m\u001b[0m\u001b[0;34m\u001b[0m\u001b[0m\n\u001b[0m",
      "\u001b[0;31mAttributeError\u001b[0m: 'Animal' object has no attribute '__tipo'"
     ]
    }
   ],
   "source": [
    "print(perro.__tipo)"
   ]
  },
  {
   "cell_type": "markdown",
   "id": "49a92f45",
   "metadata": {},
   "source": [
    "Así evitando acceder a esa variable privada dentro de la clase. En ciertas ocaciones el hecho de definior funciones y variables privadas nos ayuda a generar estos elementos y hacer algun tipo de ejcucion netamente dentro de la clase que no sea necesaria para el usuario en otros procesos."
   ]
  },
  {
   "cell_type": "code",
   "execution_count": null,
   "id": "21fff9a1",
   "metadata": {},
   "outputs": [],
   "source": []
  }
 ],
 "metadata": {
  "kernelspec": {
   "display_name": "Python 3",
   "language": "python",
   "name": "python3"
  },
  "language_info": {
   "codemirror_mode": {
    "name": "ipython",
    "version": 3
   },
   "file_extension": ".py",
   "mimetype": "text/x-python",
   "name": "python",
   "nbconvert_exporter": "python",
   "pygments_lexer": "ipython3",
   "version": "3.6.9"
  }
 },
 "nbformat": 4,
 "nbformat_minor": 5
}
