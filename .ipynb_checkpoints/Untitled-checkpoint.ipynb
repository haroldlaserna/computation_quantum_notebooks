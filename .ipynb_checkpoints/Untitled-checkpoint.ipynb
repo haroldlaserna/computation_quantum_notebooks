{
 "cells": [
  {
   "cell_type": "code",
   "execution_count": null,
   "id": "40350c48",
   "metadata": {},
   "outputs": [
    {
     "name": "stdout",
     "output_type": "stream",
     "text": [
      "Collecting numpy\n",
      "  Using cached https://files.pythonhosted.org/packages/3a/5f/47e578b3ae79e2624e205445ab77a1848acdaa2929a00eeef6b16eaaeb20/numpy-1.16.6-cp27-cp27mu-manylinux1_x86_64.whl\n",
      "Installing collected packages: numpy\n",
      "Successfully installed numpy-1.16.6\n",
      "Collecting matplotlib\n",
      "  Downloading https://files.pythonhosted.org/packages/9d/40/5ba7d4a3f80d39d409f21899972596bf62c8606f1406a825029649eaa439/matplotlib-2.2.5-cp27-cp27mu-manylinux1_x86_64.whl (12.8MB)\n",
      "\u001b[K    100% |████████████████████████████████| 12.8MB 124kB/s eta 0:00:01\n",
      "\u001b[?25hCollecting cycler>=0.10 (from matplotlib)\n",
      "  Downloading https://files.pythonhosted.org/packages/f7/d2/e07d3ebb2bd7af696440ce7e754c59dd546ffe1bbe732c8ab68b9c834e61/cycler-0.10.0-py2.py3-none-any.whl\n",
      "Collecting numpy>=1.7.1 (from matplotlib)\n",
      "  Using cached https://files.pythonhosted.org/packages/3a/5f/47e578b3ae79e2624e205445ab77a1848acdaa2929a00eeef6b16eaaeb20/numpy-1.16.6-cp27-cp27mu-manylinux1_x86_64.whl\n",
      "Collecting backports.functools-lru-cache (from matplotlib)\n",
      "  Downloading https://files.pythonhosted.org/packages/e5/c1/1a48a4bb9b515480d6c666977eeca9243be9fa9e6fb5a34be0ad9627f737/backports.functools_lru_cache-1.6.4-py2.py3-none-any.whl\n",
      "Collecting subprocess32 (from matplotlib)\n",
      "  Downloading https://files.pythonhosted.org/packages/32/c8/564be4d12629b912ea431f1a50eb8b3b9d00f1a0b1ceff17f266be190007/subprocess32-3.5.4.tar.gz (97kB)\n",
      "\u001b[K    100% |████████████████████████████████| 102kB 7.4MB/s ta 0:00:01\n",
      "\u001b[?25hCollecting kiwisolver>=1.0.1 (from matplotlib)\n",
      "  Downloading https://files.pythonhosted.org/packages/3d/78/cb9248b2289ec31e301137cedbe4ca503a74ca87f88cdbfd2f8be52323bf/kiwisolver-1.1.0-cp27-cp27mu-manylinux1_x86_64.whl (93kB)\n",
      "\u001b[K    100% |████████████████████████████████| 102kB 5.2MB/s ta 0:00:01\n",
      "\u001b[?25hCollecting pytz (from matplotlib)\n",
      "  Downloading https://files.pythonhosted.org/packages/60/2e/dec1cc18c51b8df33c7c4d0a321b084cf38e1733b98f9d15018880fb4970/pytz-2022.1-py2.py3-none-any.whl (503kB)\n",
      "\u001b[K    100% |████████████████████████████████| 512kB 2.7MB/s eta 0:00:01\n",
      "\u001b[?25hCollecting six>=1.10 (from matplotlib)\n",
      "  Downloading https://files.pythonhosted.org/packages/d9/5a/e7c31adbe875f2abbb91bd84cf2dc52d792b5a01506781dbcf25c91daf11/six-1.16.0-py2.py3-none-any.whl\n",
      "Collecting python-dateutil>=2.1 (from matplotlib)\n",
      "  Downloading https://files.pythonhosted.org/packages/36/7a/87837f39d0296e723bb9b62bbb257d0355c7f6128853c78955f57342a56d/python_dateutil-2.8.2-py2.py3-none-any.whl (247kB)\n",
      "\u001b[K    100% |████████████████████████████████| 256kB 4.0MB/s eta 0:00:01\n",
      "\u001b[?25hCollecting pyparsing!=2.0.4,!=2.1.2,!=2.1.6,>=2.0.1 (from matplotlib)\n",
      "  Downloading https://files.pythonhosted.org/packages/8a/bb/488841f56197b13700afd5658fc279a2025a39e22449b7cf29864669b15d/pyparsing-2.4.7-py2.py3-none-any.whl (67kB)\n",
      "\u001b[K    100% |████████████████████████████████| 71kB 11.1MB/s ta 0:00:01\n",
      "\u001b[?25hCollecting setuptools (from kiwisolver>=1.0.1->matplotlib)\n",
      "  Downloading https://files.pythonhosted.org/packages/e1/b7/182161210a13158cd3ccc41ee19aadef54496b74f2817cc147006ec932b4/setuptools-44.1.1-py2.py3-none-any.whl (583kB)\n",
      "\u001b[K    100% |████████████████████████████████| 583kB 1.9MB/s eta 0:00:01\n",
      "\u001b[?25hBuilding wheels for collected packages: subprocess32\n",
      "  Running setup.py bdist_wheel for subprocess32 ... \u001b[?25ldone\n",
      "\u001b[?25h  Stored in directory: /home/fisinfor/.cache/pip/wheels/68/39/1a/5e402bdfdf004af1786c8b853fd92f8c4a04f22aad179654d1\n",
      "Successfully built subprocess32\n",
      "Installing collected packages: six, cycler, numpy, backports.functools-lru-cache, subprocess32, setuptools, kiwisolver, pytz, python-dateutil, pyparsing, matplotlib\n",
      "Successfully installed backports.functools-lru-cache-1.6.4 cycler-0.10.0 kiwisolver-1.1.0 matplotlib-2.2.5 numpy-1.16.6 pyparsing-2.4.7 python-dateutil-2.8.2 pytz-2022.1 setuptools-44.1.1 six-1.16.0 subprocess32-3.5.4\n",
      "Collecting torch\n",
      "  Downloading https://files.pythonhosted.org/packages/46/ca/306bb933a68b888ab1c20ede0342506b85857635f04fb55a56e53065579b/torch-1.4.0-cp27-cp27mu-manylinux1_x86_64.whl (753.4MB)\n",
      "\u001b[K    62% |████████████████████            | 468.4MB 13.6MB/s eta 0:00:213"
     ]
    }
   ],
   "source": [
    "!pip install numpy\n",
    "!pip install matplotlib\n",
    "!pip install torch\n",
    "!pip install qiskit[visualization]\n"
   ]
  },
  {
   "cell_type": "code",
   "execution_count": 1,
   "id": "e7567d7a",
   "metadata": {},
   "outputs": [],
   "source": [
    "import numpy"
   ]
  },
  {
   "cell_type": "code",
   "execution_count": 3,
   "id": "d0dfa4ff",
   "metadata": {},
   "outputs": [
    {
     "ename": "ModuleNotFoundError",
     "evalue": "No module named 'torch'",
     "output_type": "error",
     "traceback": [
      "\u001b[0;31m---------------------------------------------------------------------------\u001b[0m",
      "\u001b[0;31mModuleNotFoundError\u001b[0m                       Traceback (most recent call last)",
      "\u001b[0;32m<ipython-input-3-eb42ca6e4af3>\u001b[0m in \u001b[0;36m<module>\u001b[0;34m\u001b[0m\n\u001b[0;32m----> 1\u001b[0;31m \u001b[0;32mimport\u001b[0m \u001b[0mtorch\u001b[0m\u001b[0;34m\u001b[0m\u001b[0;34m\u001b[0m\u001b[0m\n\u001b[0m",
      "\u001b[0;31mModuleNotFoundError\u001b[0m: No module named 'torch'"
     ]
    }
   ],
   "source": [
    "import torch"
   ]
  },
  {
   "cell_type": "code",
   "execution_count": 19,
   "id": "45299b3d",
   "metadata": {
    "scrolled": false
   },
   "outputs": [
    {
     "name": "stdout",
     "output_type": "stream",
     "text": [
      "Defaulting to user installation because normal site-packages is not writeable\n",
      "Collecting qiskit[visualization]\n",
      "  Using cached qiskit-0.34.2.tar.gz (13 kB)\n",
      "  Preparing metadata (setup.py) ... \u001b[?25ldone\n",
      "\u001b[?25hCollecting qiskit-terra==0.19.2\n",
      "  Downloading qiskit_terra-0.19.2-cp36-cp36m-manylinux_2_12_x86_64.manylinux2010_x86_64.whl (6.4 MB)\n",
      "     |████████████████████████████████| 6.4 MB 763 kB/s             \n",
      "\u001b[?25hCollecting qiskit-aer==0.10.3\n",
      "  Downloading qiskit_aer-0.10.3-cp36-cp36m-manylinux_2_12_x86_64.manylinux2010_x86_64.whl (18.0 MB)\n",
      "     |████████████████████████████████| 18.0 MB 15.3 MB/s            \n",
      "\u001b[?25hCollecting qiskit-ibmq-provider==0.18.3\n",
      "  Using cached qiskit_ibmq_provider-0.18.3-py3-none-any.whl (238 kB)\n",
      "Collecting qiskit-ignis==0.7.0\n",
      "  Using cached qiskit_ignis-0.7.0-py3-none-any.whl (200 kB)\n",
      "Requirement already satisfied: matplotlib>=2.1 in /usr/local/lib/python3.6/dist-packages (from qiskit[visualization]) (3.1.0)\n",
      "Collecting ipywidgets>=7.3.0\n",
      "  Using cached ipywidgets-7.7.0-py2.py3-none-any.whl (123 kB)\n",
      "Collecting pydot\n",
      "  Using cached pydot-1.4.2-py2.py3-none-any.whl (21 kB)\n",
      "Requirement already satisfied: pillow>=4.2.1 in /usr/lib/python3/dist-packages (from qiskit[visualization]) (5.1.0)\n",
      "Collecting pylatexenc>=1.4\n",
      "  Using cached pylatexenc-2.10.tar.gz (162 kB)\n",
      "  Preparing metadata (setup.py) ... \u001b[?25ldone\n",
      "\u001b[?25hCollecting seaborn>=0.9.0\n",
      "  Using cached seaborn-0.11.2-py3-none-any.whl (292 kB)\n",
      "Requirement already satisfied: pygments>=2.4 in /home/fisinfor/.local/lib/python3.6/site-packages (from qiskit[visualization]) (2.11.2)\n",
      "Requirement already satisfied: numpy>=1.16.3 in /usr/local/lib/python3.6/dist-packages (from qiskit-aer==0.10.3->qiskit[visualization]) (1.16.3)\n",
      "Requirement already satisfied: scipy>=1.0 in /usr/local/lib/python3.6/dist-packages (from qiskit-aer==0.10.3->qiskit[visualization]) (1.3.0)\n",
      "Requirement already satisfied: websocket-client>=1.0.1 in /usr/local/lib/python3.6/dist-packages (from qiskit-ibmq-provider==0.18.3->qiskit[visualization]) (1.3.1)\n",
      "Requirement already satisfied: urllib3>=1.21.1 in /home/fisinfor/.local/lib/python3.6/site-packages (from qiskit-ibmq-provider==0.18.3->qiskit[visualization]) (1.26.9)\n",
      "Requirement already satisfied: python-dateutil>=2.8.0 in /home/fisinfor/.local/lib/python3.6/site-packages (from qiskit-ibmq-provider==0.18.3->qiskit[visualization]) (2.8.2)\n",
      "Collecting requests-ntlm>=1.1.0\n",
      "  Using cached requests_ntlm-1.1.0-py2.py3-none-any.whl (5.7 kB)\n",
      "Requirement already satisfied: requests>=2.19 in /home/fisinfor/.local/lib/python3.6/site-packages (from qiskit-ibmq-provider==0.18.3->qiskit[visualization]) (2.27.1)\n",
      "Requirement already satisfied: setuptools>=40.1.0 in /home/fisinfor/.local/lib/python3.6/site-packages (from qiskit-ignis==0.7.0->qiskit[visualization]) (59.6.0)\n",
      "Collecting retworkx>=0.8.0\n",
      "  Using cached retworkx-0.11.0-cp36-cp36m-manylinux_2_5_x86_64.manylinux1_x86_64.manylinux_2_12_x86_64.manylinux2010_x86_64.whl (1.6 MB)\n",
      "Requirement already satisfied: dataclasses>=0.8 in /usr/local/lib/python3.6/dist-packages (from qiskit-terra==0.19.2->qiskit[visualization]) (0.8)\n",
      "Collecting sympy>=1.3\n",
      "  Using cached sympy-1.9-py3-none-any.whl (6.2 MB)\n",
      "Collecting stevedore>=3.0.0\n",
      "  Using cached stevedore-3.5.0-py3-none-any.whl (49 kB)\n",
      "Collecting tweedledum<2.0,>=1.1\n",
      "  Downloading tweedledum-1.1.1-cp36-cp36m-manylinux_2_12_x86_64.manylinux2010_x86_64.whl (943 kB)\n",
      "     |████████████████████████████████| 943 kB 27.8 MB/s            \n",
      "\u001b[?25hRequirement already satisfied: contextvars>=2.4 in /usr/local/lib/python3.6/dist-packages (from qiskit-terra==0.19.2->qiskit[visualization]) (2.4)\n",
      "Collecting ply>=3.10\n",
      "  Using cached ply-3.11-py2.py3-none-any.whl (49 kB)\n",
      "Collecting python-constraint>=1.4\n",
      "  Using cached python-constraint-1.4.0.tar.bz2 (18 kB)\n",
      "  Preparing metadata (setup.py) ... \u001b[?25ldone\n",
      "\u001b[?25hCollecting symengine>=0.8\n",
      "  Downloading symengine-0.8.1-cp36-cp36m-manylinux2010_x86_64.whl (38.2 MB)\n",
      "     |████████████████████████████████| 38.2 MB 17.0 MB/s            \n",
      "\u001b[?25hCollecting scipy>=1.0\n",
      "  Using cached scipy-1.5.4-cp36-cp36m-manylinux1_x86_64.whl (25.9 MB)\n",
      "Collecting numpy>=1.16.3\n",
      "  Downloading numpy-1.19.5-cp36-cp36m-manylinux2010_x86_64.whl (14.8 MB)\n",
      "     |████████████████████████████████| 14.8 MB 507 kB/s             \n",
      "\u001b[?25hCollecting psutil>=5\n",
      "  Downloading psutil-5.9.0-cp36-cp36m-manylinux_2_12_x86_64.manylinux2010_x86_64.manylinux_2_17_x86_64.manylinux2014_x86_64.whl (279 kB)\n",
      "     |████████████████████████████████| 279 kB 31.7 MB/s            \n",
      "\u001b[?25hCollecting dill>=0.3\n",
      "  Using cached dill-0.3.4-py2.py3-none-any.whl (86 kB)\n",
      "Requirement already satisfied: ipython>=4.0.0 in /usr/local/lib/python3.6/dist-packages (from ipywidgets>=7.3.0->qiskit[visualization]) (7.16.3)\n",
      "Collecting jupyterlab-widgets>=1.0.0\n",
      "  Using cached jupyterlab_widgets-1.1.0-py3-none-any.whl (245 kB)\n",
      "Collecting widgetsnbextension~=3.6.0\n",
      "  Using cached widgetsnbextension-3.6.0-py2.py3-none-any.whl (1.6 MB)\n",
      "Requirement already satisfied: ipykernel>=4.5.1 in /usr/local/lib/python3.6/dist-packages (from ipywidgets>=7.3.0->qiskit[visualization]) (5.5.6)\n",
      "Requirement already satisfied: nbformat>=4.2.0 in /usr/local/lib/python3.6/dist-packages (from ipywidgets>=7.3.0->qiskit[visualization]) (5.1.3)\n",
      "Requirement already satisfied: traitlets>=4.3.1 in /usr/local/lib/python3.6/dist-packages (from ipywidgets>=7.3.0->qiskit[visualization]) (4.3.3)\n",
      "Requirement already satisfied: ipython-genutils~=0.2.0 in /usr/local/lib/python3.6/dist-packages (from ipywidgets>=7.3.0->qiskit[visualization]) (0.2.0)\n",
      "Requirement already satisfied: cycler>=0.10 in /usr/local/lib/python3.6/dist-packages (from matplotlib>=2.1->qiskit[visualization]) (0.10.0)\n",
      "Requirement already satisfied: kiwisolver>=1.0.1 in /usr/local/lib/python3.6/dist-packages (from matplotlib>=2.1->qiskit[visualization]) (1.1.0)\n",
      "Requirement already satisfied: pyparsing!=2.0.4,!=2.1.2,!=2.1.6,>=2.0.1 in /home/fisinfor/.local/lib/python3.6/site-packages (from matplotlib>=2.1->qiskit[visualization]) (3.0.7)\n",
      "Requirement already satisfied: pandas>=0.23 in /usr/local/lib/python3.6/dist-packages (from seaborn>=0.9.0->qiskit[visualization]) (0.24.2)\n",
      "Requirement already satisfied: immutables>=0.9 in /usr/local/lib/python3.6/dist-packages (from contextvars>=2.4->qiskit-terra==0.19.2->qiskit[visualization]) (0.17)\n",
      "Requirement already satisfied: six in /home/fisinfor/.local/lib/python3.6/site-packages (from cycler>=0.10->matplotlib>=2.1->qiskit[visualization]) (1.16.0)\n",
      "Requirement already satisfied: jupyter-client in /usr/local/lib/python3.6/dist-packages (from ipykernel>=4.5.1->ipywidgets>=7.3.0->qiskit[visualization]) (7.1.2)\n",
      "Requirement already satisfied: tornado>=4.2 in /usr/local/lib/python3.6/dist-packages (from ipykernel>=4.5.1->ipywidgets>=7.3.0->qiskit[visualization]) (6.1)\n",
      "Requirement already satisfied: pexpect in /usr/lib/python3/dist-packages (from ipython>=4.0.0->ipywidgets>=7.3.0->qiskit[visualization]) (4.2.1)\n",
      "Requirement already satisfied: jedi<=0.17.2,>=0.10 in /usr/local/lib/python3.6/dist-packages (from ipython>=4.0.0->ipywidgets>=7.3.0->qiskit[visualization]) (0.17.2)\n",
      "Requirement already satisfied: decorator in /usr/local/lib/python3.6/dist-packages (from ipython>=4.0.0->ipywidgets>=7.3.0->qiskit[visualization]) (5.1.1)\n",
      "Requirement already satisfied: prompt-toolkit!=3.0.0,!=3.0.1,<3.1.0,>=2.0.0 in /usr/local/lib/python3.6/dist-packages (from ipython>=4.0.0->ipywidgets>=7.3.0->qiskit[visualization]) (3.0.28)\n",
      "Requirement already satisfied: pickleshare in /usr/local/lib/python3.6/dist-packages (from ipython>=4.0.0->ipywidgets>=7.3.0->qiskit[visualization]) (0.7.5)\n",
      "Requirement already satisfied: backcall in /usr/local/lib/python3.6/dist-packages (from ipython>=4.0.0->ipywidgets>=7.3.0->qiskit[visualization]) (0.2.0)\n",
      "Requirement already satisfied: jsonschema!=2.5.0,>=2.4 in /usr/local/lib/python3.6/dist-packages (from nbformat>=4.2.0->ipywidgets>=7.3.0->qiskit[visualization]) (4.0.0)\n",
      "Requirement already satisfied: jupyter-core in /usr/local/lib/python3.6/dist-packages (from nbformat>=4.2.0->ipywidgets>=7.3.0->qiskit[visualization]) (4.9.2)\n",
      "Requirement already satisfied: pytz>=2011k in /usr/lib/python3/dist-packages (from pandas>=0.23->seaborn>=0.9.0->qiskit[visualization]) (2018.3)\n"
     ]
    },
    {
     "name": "stdout",
     "output_type": "stream",
     "text": [
      "Requirement already satisfied: charset-normalizer~=2.0.0 in /home/fisinfor/.local/lib/python3.6/site-packages (from requests>=2.19->qiskit-ibmq-provider==0.18.3->qiskit[visualization]) (2.0.12)\n",
      "Requirement already satisfied: certifi>=2017.4.17 in /home/fisinfor/.local/lib/python3.6/site-packages (from requests>=2.19->qiskit-ibmq-provider==0.18.3->qiskit[visualization]) (2021.10.8)\n",
      "Requirement already satisfied: idna<4,>=2.5 in /home/fisinfor/.local/lib/python3.6/site-packages (from requests>=2.19->qiskit-ibmq-provider==0.18.3->qiskit[visualization]) (3.3)\n",
      "Requirement already satisfied: cryptography>=1.3 in /usr/lib/python3/dist-packages (from requests-ntlm>=1.1.0->qiskit-ibmq-provider==0.18.3->qiskit[visualization]) (2.1.4)\n",
      "Collecting ntlm-auth>=1.0.2\n",
      "  Downloading ntlm_auth-1.5.0-py2.py3-none-any.whl (29 kB)\n",
      "Requirement already satisfied: importlib-metadata>=1.7.0 in /usr/local/lib/python3.6/dist-packages (from stevedore>=3.0.0->qiskit-terra==0.19.2->qiskit[visualization]) (4.8.3)\n",
      "Collecting pbr!=2.1.0,>=2.0.0\n",
      "  Using cached pbr-5.8.1-py2.py3-none-any.whl (113 kB)\n",
      "Collecting mpmath>=0.19\n",
      "  Using cached mpmath-1.2.1-py3-none-any.whl (532 kB)\n",
      "Requirement already satisfied: notebook>=4.4.1 in /usr/local/lib/python3.6/dist-packages (from widgetsnbextension~=3.6.0->ipywidgets>=7.3.0->qiskit[visualization]) (6.4.10)\n",
      "Requirement already satisfied: typing-extensions>=3.7.4.3 in /usr/local/lib/python3.6/dist-packages (from immutables>=0.9->contextvars>=2.4->qiskit-terra==0.19.2->qiskit[visualization]) (4.1.1)\n",
      "Requirement already satisfied: zipp>=0.5 in /home/fisinfor/.local/lib/python3.6/site-packages (from importlib-metadata>=1.7.0->stevedore>=3.0.0->qiskit-terra==0.19.2->qiskit[visualization]) (3.6.0)\n",
      "Requirement already satisfied: parso<0.8.0,>=0.7.0 in /usr/local/lib/python3.6/dist-packages (from jedi<=0.17.2,>=0.10->ipython>=4.0.0->ipywidgets>=7.3.0->qiskit[visualization]) (0.7.1)\n",
      "Requirement already satisfied: pyrsistent!=0.17.0,!=0.17.1,!=0.17.2,>=0.14.0 in /usr/local/lib/python3.6/dist-packages (from jsonschema!=2.5.0,>=2.4->nbformat>=4.2.0->ipywidgets>=7.3.0->qiskit[visualization]) (0.18.0)\n",
      "Requirement already satisfied: attrs>=17.4.0 in /usr/local/lib/python3.6/dist-packages (from jsonschema!=2.5.0,>=2.4->nbformat>=4.2.0->ipywidgets>=7.3.0->qiskit[visualization]) (19.3.0)\n",
      "Requirement already satisfied: nest-asyncio>=1.5 in /usr/local/lib/python3.6/dist-packages (from notebook>=4.4.1->widgetsnbextension~=3.6.0->ipywidgets>=7.3.0->qiskit[visualization]) (1.5.4)\n",
      "Requirement already satisfied: pyzmq>=17 in /usr/local/lib/python3.6/dist-packages (from notebook>=4.4.1->widgetsnbextension~=3.6.0->ipywidgets>=7.3.0->qiskit[visualization]) (22.3.0)\n",
      "Requirement already satisfied: terminado>=0.8.3 in /usr/local/lib/python3.6/dist-packages (from notebook>=4.4.1->widgetsnbextension~=3.6.0->ipywidgets>=7.3.0->qiskit[visualization]) (0.13.0)\n",
      "Requirement already satisfied: Send2Trash>=1.8.0 in /usr/local/lib/python3.6/dist-packages (from notebook>=4.4.1->widgetsnbextension~=3.6.0->ipywidgets>=7.3.0->qiskit[visualization]) (1.8.0)\n",
      "Requirement already satisfied: argon2-cffi in /usr/local/lib/python3.6/dist-packages (from notebook>=4.4.1->widgetsnbextension~=3.6.0->ipywidgets>=7.3.0->qiskit[visualization]) (21.3.0)\n",
      "Requirement already satisfied: prometheus-client in /usr/local/lib/python3.6/dist-packages (from notebook>=4.4.1->widgetsnbextension~=3.6.0->ipywidgets>=7.3.0->qiskit[visualization]) (0.13.1)\n",
      "Requirement already satisfied: jinja2 in /home/fisinfor/.local/lib/python3.6/site-packages (from notebook>=4.4.1->widgetsnbextension~=3.6.0->ipywidgets>=7.3.0->qiskit[visualization]) (3.0.3)\n",
      "Requirement already satisfied: nbconvert>=5 in /usr/local/lib/python3.6/dist-packages (from notebook>=4.4.1->widgetsnbextension~=3.6.0->ipywidgets>=7.3.0->qiskit[visualization]) (6.0.7)\n",
      "Requirement already satisfied: entrypoints in /usr/local/lib/python3.6/dist-packages (from jupyter-client->ipykernel>=4.5.1->ipywidgets>=7.3.0->qiskit[visualization]) (0.4)\n",
      "Requirement already satisfied: wcwidth in /usr/local/lib/python3.6/dist-packages (from prompt-toolkit!=3.0.0,!=3.0.1,<3.1.0,>=2.0.0->ipython>=4.0.0->ipywidgets>=7.3.0->qiskit[visualization]) (0.2.5)\n",
      "Requirement already satisfied: bleach in /usr/local/lib/python3.6/dist-packages (from nbconvert>=5->notebook>=4.4.1->widgetsnbextension~=3.6.0->ipywidgets>=7.3.0->qiskit[visualization]) (4.1.0)\n",
      "Requirement already satisfied: jupyterlab-pygments in /usr/local/lib/python3.6/dist-packages (from nbconvert>=5->notebook>=4.4.1->widgetsnbextension~=3.6.0->ipywidgets>=7.3.0->qiskit[visualization]) (0.1.2)\n",
      "Requirement already satisfied: testpath in /usr/local/lib/python3.6/dist-packages (from nbconvert>=5->notebook>=4.4.1->widgetsnbextension~=3.6.0->ipywidgets>=7.3.0->qiskit[visualization]) (0.6.0)\n",
      "Requirement already satisfied: mistune<2,>=0.8.1 in /usr/local/lib/python3.6/dist-packages (from nbconvert>=5->notebook>=4.4.1->widgetsnbextension~=3.6.0->ipywidgets>=7.3.0->qiskit[visualization]) (0.8.4)\n",
      "Requirement already satisfied: defusedxml in /usr/local/lib/python3.6/dist-packages (from nbconvert>=5->notebook>=4.4.1->widgetsnbextension~=3.6.0->ipywidgets>=7.3.0->qiskit[visualization]) (0.7.1)\n",
      "Requirement already satisfied: nbclient<0.6.0,>=0.5.0 in /usr/local/lib/python3.6/dist-packages (from nbconvert>=5->notebook>=4.4.1->widgetsnbextension~=3.6.0->ipywidgets>=7.3.0->qiskit[visualization]) (0.5.9)\n",
      "Requirement already satisfied: pandocfilters>=1.4.1 in /usr/local/lib/python3.6/dist-packages (from nbconvert>=5->notebook>=4.4.1->widgetsnbextension~=3.6.0->ipywidgets>=7.3.0->qiskit[visualization]) (1.5.0)\n",
      "Requirement already satisfied: MarkupSafe>=2.0 in /home/fisinfor/.local/lib/python3.6/site-packages (from jinja2->notebook>=4.4.1->widgetsnbextension~=3.6.0->ipywidgets>=7.3.0->qiskit[visualization]) (2.0.1)\n",
      "Requirement already satisfied: ptyprocess in /usr/local/lib/python3.6/dist-packages (from terminado>=0.8.3->notebook>=4.4.1->widgetsnbextension~=3.6.0->ipywidgets>=7.3.0->qiskit[visualization]) (0.7.0)\n",
      "Requirement already satisfied: argon2-cffi-bindings in /usr/local/lib/python3.6/dist-packages (from argon2-cffi->notebook>=4.4.1->widgetsnbextension~=3.6.0->ipywidgets>=7.3.0->qiskit[visualization]) (21.2.0)\n",
      "Requirement already satisfied: async-generator in /usr/local/lib/python3.6/dist-packages (from nbclient<0.6.0,>=0.5.0->nbconvert>=5->notebook>=4.4.1->widgetsnbextension~=3.6.0->ipywidgets>=7.3.0->qiskit[visualization]) (1.10)\n",
      "Requirement already satisfied: cffi>=1.0.1 in /usr/local/lib/python3.6/dist-packages (from argon2-cffi-bindings->argon2-cffi->notebook>=4.4.1->widgetsnbextension~=3.6.0->ipywidgets>=7.3.0->qiskit[visualization]) (1.15.0)\n",
      "Requirement already satisfied: webencodings in /usr/local/lib/python3.6/dist-packages (from bleach->nbconvert>=5->notebook>=4.4.1->widgetsnbextension~=3.6.0->ipywidgets>=7.3.0->qiskit[visualization]) (0.5.1)\n",
      "Requirement already satisfied: packaging in /home/fisinfor/.local/lib/python3.6/site-packages (from bleach->nbconvert>=5->notebook>=4.4.1->widgetsnbextension~=3.6.0->ipywidgets>=7.3.0->qiskit[visualization]) (21.3)\n",
      "Requirement already satisfied: pycparser in /usr/local/lib/python3.6/dist-packages (from cffi>=1.0.1->argon2-cffi-bindings->argon2-cffi->notebook>=4.4.1->widgetsnbextension~=3.6.0->ipywidgets>=7.3.0->qiskit[visualization]) (2.21)\n",
      "Building wheels for collected packages: pylatexenc, qiskit, python-constraint\n",
      "  Building wheel for pylatexenc (setup.py) ... \u001b[?25ldone\n",
      "\u001b[?25h  Created wheel for pylatexenc: filename=pylatexenc-2.10-py3-none-any.whl size=136835 sha256=480bd7c904647e666f38bc7335d388bffe7714293cbb6e6954b114b7f01bf182\n",
      "  Stored in directory: /home/fisinfor/.cache/pip/wheels/b9/18/1d/7ab494dcc20d547496136b9e1eaebc3c7643b8b2e2087da317\n",
      "  Building wheel for qiskit (setup.py) ... \u001b[?25ldone\n",
      "\u001b[?25h  Created wheel for qiskit: filename=qiskit-0.34.2-py3-none-any.whl size=11805 sha256=34c93cf862df53a232ab877dfd30fd672e305c1f1dea0c83bc3b9497f84b0312\n",
      "  Stored in directory: /home/fisinfor/.cache/pip/wheels/e8/bc/45/73b9d0bfaf3d8c2d94b48926062f84a42ca6fa1526b863425a\n",
      "  Building wheel for python-constraint (setup.py) ... \u001b[?25ldone\n",
      "\u001b[?25h  Created wheel for python-constraint: filename=python_constraint-1.4.0-py2.py3-none-any.whl size=24081 sha256=9cae0b323993b0e21b6725fb03243ab90822986af16f0d3339afeb7c8b64e261\n",
      "  Stored in directory: /home/fisinfor/.cache/pip/wheels/c2/e2/65/6222764e3e5b677acdb04b592abab7e15140a70baace656d81\n",
      "Successfully built pylatexenc qiskit python-constraint\n"
     ]
    },
    {
     "name": "stdout",
     "output_type": "stream",
     "text": [
      "Installing collected packages: pbr, numpy, mpmath, tweedledum, sympy, symengine, stevedore, scipy, retworkx, python-constraint, psutil, ply, ntlm-auth, dill, requests-ntlm, qiskit-terra, widgetsnbextension, qiskit-ignis, qiskit-ibmq-provider, qiskit-aer, jupyterlab-widgets, seaborn, qiskit, pylatexenc, pydot, ipywidgets\n",
      "Successfully installed dill-0.3.4 ipywidgets-7.7.0 jupyterlab-widgets-1.1.0 mpmath-1.2.1 ntlm-auth-1.5.0 numpy-1.19.5 pbr-5.8.1 ply-3.11 psutil-5.9.0 pydot-1.4.2 pylatexenc-2.10 python-constraint-1.4.0 qiskit-0.34.2 qiskit-aer-0.10.3 qiskit-ibmq-provider-0.18.3 qiskit-ignis-0.7.0 qiskit-terra-0.19.2 requests-ntlm-1.1.0 retworkx-0.11.0 scipy-1.5.4 seaborn-0.11.2 stevedore-3.5.0 symengine-0.8.1 sympy-1.9 tweedledum-1.1.1 widgetsnbextension-3.6.0\n"
     ]
    }
   ],
   "source": [
    "!pip3 install qiskit[visualization]\n"
   ]
  },
  {
   "cell_type": "code",
   "execution_count": 12,
   "id": "79e101cb",
   "metadata": {},
   "outputs": [
    {
     "name": "stdout",
     "output_type": "stream",
     "text": [
      "Collecting cmake\n",
      "  Downloading https://files.pythonhosted.org/packages/67/a5/fd3874578cbe98afdfbb06f25206876bb3d6c00b48498a96c8fc24128736/cmake-3.22.3-py2.py3-none-manylinux_2_5_x86_64.manylinux1_x86_64.whl (21.3MB)\n",
      "\u001b[K    100% |████████████████████████████████| 21.4MB 85kB/s  eta 0:00:01\n",
      "\u001b[?25hInstalling collected packages: cmake\n",
      "Successfully installed cmake-3.22.3\n"
     ]
    }
   ],
   "source": [
    "!pip3 install cmake\n",
    "pip install scikit-build"
   ]
  },
  {
   "cell_type": "code",
   "execution_count": 14,
   "id": "52129657",
   "metadata": {},
   "outputs": [
    {
     "name": "stdout",
     "output_type": "stream",
     "text": [
      "E: Could not open lock file /var/lib/dpkg/lock-frontend - open (13: Permission denied)\r\n",
      "E: Unable to acquire the dpkg frontend lock (/var/lib/dpkg/lock-frontend), are you root?\r\n"
     ]
    }
   ],
   "source": [
    "!apt-get install python3-setuptools"
   ]
  },
  {
   "cell_type": "code",
   "execution_count": 18,
   "id": "5c0b997d",
   "metadata": {},
   "outputs": [
    {
     "name": "stdout",
     "output_type": "stream",
     "text": [
      "Defaulting to user installation because normal site-packages is not writeable\n",
      "Requirement already satisfied: pip in /home/fisinfor/.local/lib/python3.6/site-packages (21.3.1)\n",
      "Requirement already satisfied: setuptools in /home/fisinfor/.local/lib/python3.6/site-packages (59.6.0)\n"
     ]
    }
   ],
   "source": [
    "!pip3 install -U pip setuptools "
   ]
  },
  {
   "cell_type": "code",
   "execution_count": null,
   "id": "36b2dfcf",
   "metadata": {},
   "outputs": [],
   "source": []
  }
 ],
 "metadata": {
  "kernelspec": {
   "display_name": "Python 3",
   "language": "python",
   "name": "python3"
  },
  "language_info": {
   "codemirror_mode": {
    "name": "ipython",
    "version": 3
   },
   "file_extension": ".py",
   "mimetype": "text/x-python",
   "name": "python",
   "nbconvert_exporter": "python",
   "pygments_lexer": "ipython3",
   "version": "3.6.9"
  }
 },
 "nbformat": 4,
 "nbformat_minor": 5
}
