{
 "cells": [
  {
   "cell_type": "markdown",
   "id": "03dffcdf",
   "metadata": {},
   "source": [
    "<center><h1>Python</h1></center>"
   ]
  },
  {
   "cell_type": "markdown",
   "id": "635eb88d",
   "metadata": {},
   "source": [
    "<center><img src=\"https://upload.wikimedia.org/wikipedia/commons/thumb/c/c3/Python-logo-notext.svg/2048px-Python-logo-notext.svg.png\" alt=\"drawing\" width=\"100\"/></center>"
   ]
  },
  {
   "cell_type": "markdown",
   "id": "121c3f36",
   "metadata": {},
   "source": [
    "<p style='text-align: justify;'>Esta sección relacionada al lenguaje de programación está fuertemente inspirada por el autor\n",
    "Raúl Duque Gonzalez con su libro \"python para todos\". </p>"
   ]
  },
  {
   "cell_type": "markdown",
   "id": "c54069e6",
   "metadata": {},
   "source": [
    "<p style='text-align: justify;'> Para iniciar a programar en Python, es conocido que a la hora de aprender, se haga usual\n",
    "el hecho de imprimir en pantalla las primeras palabras \"Hola mundo\" en cualquier lenguaje de\n",
    "programación. Como se muestra en la celda de abajo, imprimimos en pantalla la palabra \"hola mundo\" con la funcion Print(), hablaremos más adelante sobre funciones, en este caso para compilar la celda de abajo simplemente presionamos <b>Shift</b> + <b>Enter</b>. </p>"
   ]
  },
  {
   "cell_type": "code",
   "execution_count": 2,
   "id": "d2027905",
   "metadata": {},
   "outputs": [
    {
     "name": "stdout",
     "output_type": "stream",
     "text": [
      "Hola mundo\n"
     ]
    }
   ],
   "source": [
    "print(\"Hola mundo\")"
   ]
  },
  {
   "cell_type": "markdown",
   "id": "b20d81a9",
   "metadata": {},
   "source": [
    "Si deseamos comentar alguna línea del código usamos el simbolo **#** de la siguiente forma:"
   ]
  },
  {
   "cell_type": "code",
   "execution_count": 21,
   "id": "5dce064d",
   "metadata": {},
   "outputs": [
    {
     "name": "stdout",
     "output_type": "stream",
     "text": [
      "Hola mundo\n"
     ]
    }
   ],
   "source": [
    "print(\"Hola mundo\") #Esto es un comentario"
   ]
  },
  {
   "cell_type": "markdown",
   "id": "22e59682",
   "metadata": {},
   "source": [
    "Tal que, no aparecerá dicho comentario a la hora de compilar el código. Otra forma de comentar el código es de la siguiente manera:"
   ]
  },
  {
   "cell_type": "code",
   "execution_count": 26,
   "id": "0d3f5d7a",
   "metadata": {},
   "outputs": [
    {
     "name": "stdout",
     "output_type": "stream",
     "text": [
      "Hola mundo\n"
     ]
    }
   ],
   "source": [
    "\"\"\"\n",
    "Puedes escribir en este espacio\n",
    "Cuantas líneas quieras\n",
    "\"\"\"\n",
    "print(\"Hola mundo\")\n"
   ]
  },
  {
   "cell_type": "markdown",
   "id": "b8b16a9d",
   "metadata": {},
   "source": [
    "<h1>Declaración de variables</h1>"
   ]
  },
  {
   "cell_type": "markdown",
   "id": "008ea7b7",
   "metadata": {},
   "source": [
    "<p style='text-align: justify;'>Una variable es un elemento que asocia un espacio en la memoria RAM con algún tipo de información que hemos ingresado, por ejemplo, a la hora de definir una variable con un entero lo que hacemos en python es escoger la varible y asignarle un número, es decir: </p>"
   ]
  },
  {
   "cell_type": "code",
   "execution_count": 27,
   "id": "7e04f3e7",
   "metadata": {},
   "outputs": [],
   "source": [
    "A = 1 #A es la variable y 1 es el número que le asignamos a esa variable"
   ]
  },
  {
   "cell_type": "markdown",
   "id": "4bd54cf5",
   "metadata": {},
   "source": [
    "Es posible declarar más de una variable en la misma línea de la siguiente forma:"
   ]
  },
  {
   "cell_type": "code",
   "execution_count": 67,
   "id": "6255b070",
   "metadata": {},
   "outputs": [
    {
     "name": "stdout",
     "output_type": "stream",
     "text": [
      "1\n"
     ]
    }
   ],
   "source": [
    "B,C = 1,2\n",
    "print(B)"
   ]
  },
  {
   "cell_type": "markdown",
   "id": "c8a498cc",
   "metadata": {},
   "source": [
    "La correspondencia entre variable y número va en orden como se muestra arriba."
   ]
  },
  {
   "cell_type": "markdown",
   "id": "cc549b4b",
   "metadata": {},
   "source": [
    "<h2>Enteros</h2>"
   ]
  },
  {
   "cell_type": "markdown",
   "id": "3b740e8a",
   "metadata": {},
   "source": [
    "<p style='text-align: justify;'>Sabemos que los enteros son todos los números negativos y positivos, incluyendo el cero sin tener en cuenta los decimales. Aún así, las maquinas tienen un límite a la hora de escoger numéros enteros, en este caso, es posible escoger dos tipos de Enteros, los Enteros tipo int y los enteros tipo long.</p>\n",
    "\n",
    "Los enteros de tipo int (integer) están diseñados para la arquitectura de tipo 32 bits, es decir, que el  número más pequeño posible por escoger es: $$-2^{31},$$ y el más grande: $$2^{31}-1,$$ dicha resta de un número refiere a que estamos teniendo en cuenta dentro de esa cantidad de numeros al cero.\n",
    "\n",
    "Es exponente 31 y no 32, ya que, usa un bit para definir el signo del número.\n",
    "\n",
    "El enteros de tipo long están diseñados para la arquitectura de tipo 64 bits, es decir, que el número mas pequeño por escoger es: $$2^{63},$$ y el más grande: $$2^{63}-1.$$ El tipo long permite almacenar más números que el tipo int, pero, la diferencia de usar int a long, es que long necesita compilarse mediante el lenguaje de programación, es decir, que si usamos un número lo suficientemente grande, el interprete del código hace uso de C para hacer los calculos correspondientes, con lo cual, extiende el tiempo computacional del programa.\n",
    "\n",
    "Para escribir un entero de tipo int simplemente escogemos un número cualquiera dentro del rango de números posibles en int e identificamos una variable con ese número de la siguiente manera: "
   ]
  },
  {
   "cell_type": "code",
   "execution_count": 30,
   "id": "322fc311",
   "metadata": {},
   "outputs": [
    {
     "name": "stdout",
     "output_type": "stream",
     "text": [
      "7\n"
     ]
    }
   ],
   "source": [
    "Entero_1 = 7\n",
    "print(Entero_1)"
   ]
  },
  {
   "cell_type": "markdown",
   "id": "a35eeab3",
   "metadata": {},
   "source": [
    "Para escribir un entero de tipo long, lo escribimos con una **L** al final del número:"
   ]
  },
  {
   "cell_type": "code",
   "execution_count": 32,
   "id": "95d12fc2",
   "metadata": {},
   "outputs": [
    {
     "ename": "SyntaxError",
     "evalue": "invalid syntax (<ipython-input-32-1b61be6f1dc3>, line 1)",
     "output_type": "error",
     "traceback": [
      "\u001b[0;36m  File \u001b[0;32m\"<ipython-input-32-1b61be6f1dc3>\"\u001b[0;36m, line \u001b[0;32m1\u001b[0m\n\u001b[0;31m    Entero_2 = 7l\u001b[0m\n\u001b[0m                ^\u001b[0m\n\u001b[0;31mSyntaxError\u001b[0m\u001b[0;31m:\u001b[0m invalid syntax\n"
     ]
    }
   ],
   "source": [
    "Entero_2 = 7L"
   ]
  },
  {
   "cell_type": "markdown",
   "id": "d16e5b73",
   "metadata": {},
   "source": [
    "En este caso no muestra el valor si no un error debido a que las versiones de python 2.x que aún en el 2022 se sigue usando, pero, en la versión Python3.x que usamos en este notebook ha sido eliminado y simplemente hablamos de un Entero para arquitectura de 64 bits que funciona igual que la arquitectura de tipo 32 bits de python 2.x.\n",
    "\n",
    "Podemos definir también los enteros con 4 tipos de sistemas numéricos: decimal, binario, octario y hexadecimal. Para el decimal escribimos el número de la siguiente manera:"
   ]
  },
  {
   "cell_type": "markdown",
   "id": "060e949d",
   "metadata": {},
   "source": [
    "**Entero de tipo decimal**"
   ]
  },
  {
   "cell_type": "code",
   "execution_count": 18,
   "id": "6ae58f8f",
   "metadata": {},
   "outputs": [
    {
     "name": "stdout",
     "output_type": "stream",
     "text": [
      "40\n"
     ]
    }
   ],
   "source": [
    "numero_1 = 40\n",
    "print(numero_1)"
   ]
  },
  {
   "cell_type": "markdown",
   "id": "66b3b5c5",
   "metadata": {},
   "source": [
    "Para el tipo binario usamos **0b** al inicio de la siguiente forma:"
   ]
  },
  {
   "cell_type": "markdown",
   "id": "3077c18d",
   "metadata": {},
   "source": [
    "**Entero de tipo binario**"
   ]
  },
  {
   "cell_type": "code",
   "execution_count": 13,
   "id": "47bd3f11",
   "metadata": {},
   "outputs": [
    {
     "name": "stdout",
     "output_type": "stream",
     "text": [
      "5\n"
     ]
    }
   ],
   "source": [
    "numero_2 = 0b101\n",
    "print(numero_2)"
   ]
  },
  {
   "cell_type": "markdown",
   "id": "af983b32",
   "metadata": {},
   "source": [
    "para el tipo octario usamos **0o** al inicio, tal que:\n",
    "\n",
    "**Entero de tipo octario**"
   ]
  },
  {
   "cell_type": "code",
   "execution_count": 14,
   "id": "788e2357",
   "metadata": {},
   "outputs": [
    {
     "name": "stdout",
     "output_type": "stream",
     "text": [
      "23\n"
     ]
    }
   ],
   "source": [
    "numero_3 = 0o27\n",
    "print(numero_3)"
   ]
  },
  {
   "cell_type": "markdown",
   "id": "83ee5210",
   "metadata": {},
   "source": [
    "para el tipo hexadecimal usamos al inicio **0x** y nos queda:\n",
    "\n",
    "**Entero de tipo hexadecimal** "
   ]
  },
  {
   "cell_type": "code",
   "execution_count": 17,
   "id": "ff7d5e19",
   "metadata": {},
   "outputs": [
    {
     "name": "stdout",
     "output_type": "stream",
     "text": [
      "23\n"
     ]
    }
   ],
   "source": [
    "numero_4 = 0x17\n",
    "print(numero_4)"
   ]
  },
  {
   "cell_type": "markdown",
   "id": "a158f255",
   "metadata": {},
   "source": [
    "<h2>Flotantes</h2>"
   ]
  },
  {
   "cell_type": "markdown",
   "id": "d828b292",
   "metadata": {},
   "source": [
    "La declaración de variables de tipo flotante están relacionado a definir números decimales y se definen mediante la arquitectura de 64 bits de la siguiente manera:\n",
    "\n",
    "<ol>\n",
    "  <li>1 bit para la escogencia del signo del número.</li>\n",
    "  <li>57 bits para la mantisa (referencia a los dígitos a la derecha de la coma del número decimal.</li>\n",
    "  <li>11 bits para el exponente.</li>\n",
    "</ol>\n",
    "\n",
    "el mínimo número posible por escoger es:\n",
    "$$±2,2250738585072020x10^{-308}$$\n",
    "y el máximo número posible por escoger es:\n",
    "$$±1,7976931348623157x10^{308}$$\n",
    "\n",
    "el exponente máximo sale al hacer el siguiente calculo con los 11 bits:\n",
    "$$308=2^{(2^{(11-1)}-1)}$$\n",
    "\n",
    "dicho método tiene sus limitacionas ya que si se quieren hacer calculos lo bastantes precisos, por ejemplo calcular los primeros 500 dígitos de pi, el flotante no es lo suficientemente preciso para dichos calculos y tenemos que hacer uso de la libreria **Decimal** para obtener más presición o usar una arquitectura más grande que 64 bits.\n",
    "\n",
    "Para asignar un flotante a una variable simplemente escribimos el decimal de la siguiente forma:"
   ]
  },
  {
   "cell_type": "code",
   "execution_count": 58,
   "id": "72ae3fe1",
   "metadata": {},
   "outputs": [
    {
     "name": "stdout",
     "output_type": "stream",
     "text": [
      "0.1234\n"
     ]
    }
   ],
   "source": [
    "flotante = 0.1234\n",
    "print(flotante)"
   ]
  },
  {
   "cell_type": "markdown",
   "id": "064167b2",
   "metadata": {},
   "source": [
    "mediante la notación científica podemos escribirlo también de la siguiente manera:"
   ]
  },
  {
   "cell_type": "code",
   "execution_count": 60,
   "id": "97487d02",
   "metadata": {},
   "outputs": [
    {
     "name": "stdout",
     "output_type": "stream",
     "text": [
      "0.1234\n"
     ]
    }
   ],
   "source": [
    "flotante_cientifico = 1234e-4\n",
    "print(flotante_cientifico)"
   ]
  },
  {
   "cell_type": "markdown",
   "id": "d940057a",
   "metadata": {},
   "source": [
    "<h2>Números complejos</h2>"
   ]
  },
  {
   "cell_type": "markdown",
   "id": "6091fc81",
   "metadata": {},
   "source": [
    "Con lo anteriormente expuesto, vemos que podemos escoger cualquier número de espacio de los Reales, ahora para escoger un complejo y declararlo dentro de una variable, hacemos uso de la letra **j** que representa el número imaginario con esto podemos definir en la variable con una parte real y una parte imaginaria de la siguiente forma:"
   ]
  },
  {
   "cell_type": "code",
   "execution_count": 64,
   "id": "5fc8ce79",
   "metadata": {},
   "outputs": [
    {
     "name": "stdout",
     "output_type": "stream",
     "text": [
      "(3+3j)\n"
     ]
    }
   ],
   "source": [
    "complejo= 3 + 3j\n",
    "print(complejo)"
   ]
  },
  {
   "cell_type": "markdown",
   "id": "8dd6183e",
   "metadata": {},
   "source": [
    "Dicho número complejo en general se almacena como si fueran dos números distintos (la parte real y la parte imaginaria) como flotantes. "
   ]
  },
  {
   "cell_type": "markdown",
   "id": "ebdfa6eb",
   "metadata": {},
   "source": [
    "<h2>Operaciones con números en python</h2>"
   ]
  },
  {
   "cell_type": "markdown",
   "id": "d7fbf952",
   "metadata": {},
   "source": [
    "Dentro de la construcción de los números reales existen un conjuntos de axiomas que definen ciertas operaciones entre números (sin tener en cuenta las desigualdades), las cuales son: suma, resta, multiplicación, división (inversa del producto). Estas operaciones son posibles en este caso entre variables declaradas como se muestra a continuación:\n",
    "\n",
    "**Suma**"
   ]
  },
  {
   "cell_type": "code",
   "execution_count": 75,
   "id": "3179b8b2",
   "metadata": {},
   "outputs": [
    {
     "name": "stdout",
     "output_type": "stream",
     "text": [
      "C =  4.0\n"
     ]
    }
   ],
   "source": [
    "A = 1.5\n",
    "B = 2.5\n",
    "C = A + B\n",
    "print(\"C = \", C)"
   ]
  },
  {
   "cell_type": "markdown",
   "id": "b8aa2b37",
   "metadata": {},
   "source": [
    "**Resta**"
   ]
  },
  {
   "cell_type": "code",
   "execution_count": 76,
   "id": "8f09f931",
   "metadata": {},
   "outputs": [
    {
     "name": "stdout",
     "output_type": "stream",
     "text": [
      "C =  -1.0\n"
     ]
    }
   ],
   "source": [
    "A = 1.5\n",
    "B = 2.5\n",
    "C = A - B\n",
    "print(\"C = \", C)"
   ]
  },
  {
   "cell_type": "markdown",
   "id": "e266d50e",
   "metadata": {},
   "source": [
    "**Multiplicación**"
   ]
  },
  {
   "cell_type": "code",
   "execution_count": 77,
   "id": "84938b83",
   "metadata": {},
   "outputs": [
    {
     "name": "stdout",
     "output_type": "stream",
     "text": [
      "C =  3.75\n"
     ]
    }
   ],
   "source": [
    "A = 1.5\n",
    "B = 2.5\n",
    "C = A * B\n",
    "print(\"C = \", C)"
   ]
  },
  {
   "cell_type": "markdown",
   "id": "e33cc508",
   "metadata": {},
   "source": [
    "**División**\n",
    "\n",
    "Para el caso existe dos tipos de división, la primera con el símbolo **/** que divide dos números flotantes y devuelve un número flotante la segunda con el símbolo **//** que divide dos números flotantes y devuelve un número entero."
   ]
  },
  {
   "cell_type": "code",
   "execution_count": 79,
   "id": "c86c7f61",
   "metadata": {},
   "outputs": [
    {
     "name": "stdout",
     "output_type": "stream",
     "text": [
      "C =  4.2\n",
      "D =  4.0\n"
     ]
    }
   ],
   "source": [
    "A = 10.5\n",
    "B = 2.5\n",
    "C = A / B\n",
    "D = A // B\n",
    "print(\"C = \", C)\n",
    "print(\"D = \", D)"
   ]
  },
  {
   "cell_type": "markdown",
   "id": "ddc8644f",
   "metadata": {},
   "source": [
    "Existen dos operaciones más que se pueden hacer y son las siguientes:\n",
    "\n",
    "**Exponente**\n",
    "\n",
    "Definida con el símbolo ****** "
   ]
  },
  {
   "cell_type": "code",
   "execution_count": 81,
   "id": "b25aed15",
   "metadata": {},
   "outputs": [
    {
     "name": "stdout",
     "output_type": "stream",
     "text": [
      "357.2508309997333\n"
     ]
    }
   ],
   "source": [
    "A = 10.5\n",
    "B = 2.5\n",
    "C = A ** B\n",
    "\n",
    "print(C)"
   ]
  },
  {
   "cell_type": "markdown",
   "id": "89d2e6a2",
   "metadata": {},
   "source": [
    "dicha forma de operar es lo mismo que: $$A^B=A**B$$"
   ]
  },
  {
   "cell_type": "markdown",
   "id": "b8525fb7",
   "metadata": {},
   "source": [
    "**Módulo**"
   ]
  },
  {
   "cell_type": "markdown",
   "id": "7b007d24",
   "metadata": {},
   "source": [
    "Definida con el simbolo **%** y muestra el residuo de una división, es muy útil a la hora de definir la suma de modulo 2 o también llamada la suma binaria."
   ]
  },
  {
   "cell_type": "code",
   "execution_count": 84,
   "id": "2ce65f4e",
   "metadata": {},
   "outputs": [
    {
     "name": "stdout",
     "output_type": "stream",
     "text": [
      "0.5\n"
     ]
    }
   ],
   "source": [
    "A = 10.5\n",
    "B = 2.5\n",
    "C = A % B\n",
    "\n",
    "print(C)"
   ]
  },
  {
   "cell_type": "markdown",
   "id": "d3f6d402",
   "metadata": {},
   "source": [
    "**Cadenas**"
   ]
  },
  {
   "cell_type": "markdown",
   "id": "d8edec43",
   "metadata": {},
   "source": [
    "Las cadenas (string) son simplemente texto encerrado por comillas simples '', dobles \"\" representadas de la siguente manera:"
   ]
  },
  {
   "cell_type": "code",
   "execution_count": 89,
   "id": "76df0ce8",
   "metadata": {},
   "outputs": [
    {
     "name": "stdout",
     "output_type": "stream",
     "text": [
      "A =  Hola\n",
      "B =  mundo\n"
     ]
    }
   ],
   "source": [
    "A = \"Hola\"\n",
    "B = 'mundo'\n",
    "print(\"A = \", A)\n",
    "print(\"B = \", B)"
   ]
  },
  {
   "cell_type": "markdown",
   "id": "95998b87",
   "metadata": {},
   "source": [
    "las cuales son posible sumar o multiplicar como se muestra a continuación:"
   ]
  },
  {
   "cell_type": "code",
   "execution_count": 92,
   "id": "e04eca48",
   "metadata": {},
   "outputs": [
    {
     "name": "stdout",
     "output_type": "stream",
     "text": [
      "C =  Hola mundo\n",
      "D =  Hola Hola Hola \n"
     ]
    }
   ],
   "source": [
    "A = \"Hola \"\n",
    "B = \"mundo\"\n",
    "C = A + B\n",
    "D = A*3\n",
    "print(\"C = \",C)\n",
    "print(\"D = \",D)"
   ]
  },
  {
   "cell_type": "markdown",
   "id": "88bc48b4",
   "metadata": {},
   "source": [
    "Como habíamos visto al inicio, con la doble comilla triple para comentar, es posible usarla como tipo string, es util cuando tenemos un string que queremos escribir separados por líneas, de la siguiente forma:"
   ]
  },
  {
   "cell_type": "code",
   "execution_count": 93,
   "id": "39c9839c",
   "metadata": {},
   "outputs": [
    {
     "name": "stdout",
     "output_type": "stream",
     "text": [
      "H\n",
      "O\n",
      "L\n",
      "A\n"
     ]
    }
   ],
   "source": [
    "A = \"\"\"H\n",
    "O\n",
    "L\n",
    "A\"\"\"\n",
    "\n",
    "print(A)"
   ]
  },
  {
   "cell_type": "markdown",
   "id": "9d17e84c",
   "metadata": {},
   "source": [
    "**Booleanos**"
   ]
  },
  {
   "cell_type": "markdown",
   "id": "95f99e20",
   "metadata": {},
   "source": [
    "Como vimos en el capítulo anterior, un bit se define como 0 (false) y 1 (verdadero), al ser un subconjunto de los tipo int, entonces, 0 y 1 automaticamente son booleanos con lo cual también podemos definirlos de la siguiente forma:"
   ]
  },
  {
   "cell_type": "code",
   "execution_count": 95,
   "id": "d3eb2c03",
   "metadata": {},
   "outputs": [
    {
     "name": "stdout",
     "output_type": "stream",
     "text": [
      "False\n"
     ]
    }
   ],
   "source": [
    "A = False\n",
    "print(A)"
   ]
  },
  {
   "cell_type": "code",
   "execution_count": 96,
   "id": "26b1e359",
   "metadata": {},
   "outputs": [
    {
     "name": "stdout",
     "output_type": "stream",
     "text": [
      "True\n"
     ]
    }
   ],
   "source": [
    "B = True\n",
    "print(B)"
   ]
  },
  {
   "cell_type": "markdown",
   "id": "ddd5cbef",
   "metadata": {},
   "source": [
    "con lo cual, con estos dos valores es posible usar las tablas de la verdad, con lo cual definimos nuevos operadores con los simbolos **and** (y), **or** (o) y **not** (negación) de la siguiente forma:"
   ]
  },
  {
   "cell_type": "code",
   "execution_count": 98,
   "id": "d54a694c",
   "metadata": {},
   "outputs": [
    {
     "name": "stdout",
     "output_type": "stream",
     "text": [
      "False\n"
     ]
    }
   ],
   "source": [
    "A = True\n",
    "B = False\n",
    "\n",
    "print(A and B)"
   ]
  },
  {
   "cell_type": "code",
   "execution_count": 100,
   "id": "52feb8eb",
   "metadata": {},
   "outputs": [
    {
     "name": "stdout",
     "output_type": "stream",
     "text": [
      "True\n"
     ]
    }
   ],
   "source": [
    "print(A or B)"
   ]
  },
  {
   "cell_type": "code",
   "execution_count": 101,
   "id": "4a6d8ce2",
   "metadata": {},
   "outputs": [
    {
     "name": "stdout",
     "output_type": "stream",
     "text": [
      "False\n"
     ]
    }
   ],
   "source": [
    "print(not A)"
   ]
  },
  {
   "cell_type": "markdown",
   "id": "1d374754",
   "metadata": {},
   "source": [
    "Teniendo en cuenta algunos axiomas para los números reales, obtenemos las desigualdades las cuales estan representadas con los símbolos **<** (menor que), **>** (mayor que), **<=** (menor o igual que)y **>=** (mayor o igual que) de la siguiente forma:"
   ]
  },
  {
   "cell_type": "code",
   "execution_count": 110,
   "id": "c287021c",
   "metadata": {},
   "outputs": [
    {
     "name": "stdout",
     "output_type": "stream",
     "text": [
      "True\n"
     ]
    }
   ],
   "source": [
    "A = 3\n",
    "B = 4\n",
    "C = 3\n",
    "print(A<B)"
   ]
  },
  {
   "cell_type": "code",
   "execution_count": 111,
   "id": "5b746e8f",
   "metadata": {},
   "outputs": [
    {
     "name": "stdout",
     "output_type": "stream",
     "text": [
      "False\n"
     ]
    }
   ],
   "source": [
    "print(A>B)"
   ]
  },
  {
   "cell_type": "code",
   "execution_count": 112,
   "id": "6696d0b7",
   "metadata": {},
   "outputs": [
    {
     "name": "stdout",
     "output_type": "stream",
     "text": [
      "True\n"
     ]
    }
   ],
   "source": [
    "print(A <= C)"
   ]
  },
  {
   "cell_type": "code",
   "execution_count": 113,
   "id": "12d391f7",
   "metadata": {},
   "outputs": [
    {
     "name": "stdout",
     "output_type": "stream",
     "text": [
      "True\n"
     ]
    }
   ],
   "source": [
    "print(A >= C)"
   ]
  },
  {
   "cell_type": "markdown",
   "id": "904c3eb3",
   "metadata": {},
   "source": [
    "El resultado **True** o **False** hace referencia si las desigualdades son verdaderas o falsas."
   ]
  },
  {
   "cell_type": "markdown",
   "id": "738f4780",
   "metadata": {},
   "source": [
    "Finalmente existe dos operadores adicionales que son: **==** compara dos variables si son iguales, **!=** compara si dos variables son diferentes, como se muestra a continuación:"
   ]
  },
  {
   "cell_type": "code",
   "execution_count": 114,
   "id": "17cf2761",
   "metadata": {},
   "outputs": [],
   "source": [
    "A = 1\n",
    "B = 2"
   ]
  },
  {
   "cell_type": "code",
   "execution_count": 115,
   "id": "7e8cb4fd",
   "metadata": {},
   "outputs": [
    {
     "name": "stdout",
     "output_type": "stream",
     "text": [
      "False\n"
     ]
    }
   ],
   "source": [
    "print(A == B)"
   ]
  },
  {
   "cell_type": "code",
   "execution_count": 116,
   "id": "cb1455ca",
   "metadata": {},
   "outputs": [
    {
     "name": "stdout",
     "output_type": "stream",
     "text": [
      "True\n"
     ]
    }
   ],
   "source": [
    "print(A != B)"
   ]
  },
  {
   "cell_type": "markdown",
   "id": "d47d11fa",
   "metadata": {},
   "source": [
    "<h2>Colecciones</h2>"
   ]
  },
  {
   "cell_type": "markdown",
   "id": "b0f2988e",
   "metadata": {},
   "source": [
    "Dentro de las colecciones tenemos de 3 tipos, listas, tuplas y diccionarios."
   ]
  },
  {
   "cell_type": "markdown",
   "id": "8ae6c3d0",
   "metadata": {},
   "source": [
    "**Listas**"
   ]
  },
  {
   "cell_type": "markdown",
   "id": "86046d94",
   "metadata": {},
   "source": [
    "Las listas son un tipo de colección ordenada análogas a un vector, en este caso en otro lenguajes de programación las listas también son llamadas arrays o vectors, pero, en este caso hay una pequeña diferencia a la hora de operar una lista y un array en python. La lista es una definición propia en la construcción en python, mientras que un array es una lista con más propiedades definida en la librería numpy que es útil para operaciones matemáticas, aún así, con la lista también es posible generar operaciones matemáticas. La lista esta definida inicialmente con **[ ]**"
   ]
  },
  {
   "cell_type": "code",
   "execution_count": 118,
   "id": "3f0637c2",
   "metadata": {},
   "outputs": [
    {
     "name": "stdout",
     "output_type": "stream",
     "text": [
      "[]\n"
     ]
    }
   ],
   "source": [
    "lista_1 = []\n",
    "print(lista_1)"
   ]
  },
  {
   "cell_type": "markdown",
   "id": "2e277a67",
   "metadata": {},
   "source": [
    "a esta lista sin elementos dentro se le llama lista vacía, es posible añadir elementos a esta lista vacía como queramos. Una lista puede almacenar números enteros, flotantes, complejos, cadenas, booleanos y a sí mismo también listas, por ejemplo:"
   ]
  },
  {
   "cell_type": "code",
   "execution_count": 121,
   "id": "080491e4",
   "metadata": {},
   "outputs": [
    {
     "name": "stdout",
     "output_type": "stream",
     "text": [
      "[3, 3.3, (3+7j), 'hola', [1, 2], True]\n"
     ]
    }
   ],
   "source": [
    "lista_2 = [1,2]\n",
    "lista_3 = [3, 3.3, 3+7j, \"hola\", lista_2, True]\n",
    "print(lista_3)"
   ]
  },
  {
   "cell_type": "markdown",
   "id": "f167e5d9",
   "metadata": {},
   "source": [
    "Como se muestra anteriormente, los elementos de la lista están separados por una coma, con lo cual, cada elemento tiene una posición en la lista, en este caso la ubicación de la lista empieza desde 0 y termina hasta el elemento n-1, algunos lenguajes de programación como Julia manejan su primera posición en 1.\n",
    "\n",
    "Para escoger un elemento de la lista primero debemos saber la posición del elemento dentro de la lista, con eso conocido, podemos obtener el elemento de la siguiente forma:"
   ]
  },
  {
   "cell_type": "code",
   "execution_count": 124,
   "id": "b724a2da",
   "metadata": {},
   "outputs": [
    {
     "name": "stdout",
     "output_type": "stream",
     "text": [
      "7\n"
     ]
    }
   ],
   "source": [
    "lista_4 = [3, 4, 5, 7, True]\n",
    "elemento = lista_4[3]\n",
    "print(elemento)"
   ]
  },
  {
   "cell_type": "markdown",
   "id": "2d59acf9",
   "metadata": {},
   "source": [
    "con lo cual la posición es 3 y con lo cual declaramos la variable elemento con el valor de la posición 3 de la lista.\n",
    "\n",
    "Sí tenemos una lista dentro de una lista (útil para construir matrices de tamaño nxm), podemos obtener el elemento de una lista dentro de una lista de la siguiente forma:"
   ]
  },
  {
   "cell_type": "code",
   "execution_count": 126,
   "id": "e76f1cc6",
   "metadata": {},
   "outputs": [
    {
     "name": "stdout",
     "output_type": "stream",
     "text": [
      "[[1, 2], [3, 4]]\n"
     ]
    }
   ],
   "source": [
    "lista_a = [1, 2]\n",
    "lista_b = [3, 4]\n",
    "lista_c = [lista_a, lista_b]\n",
    "print(lista_c)"
   ]
  },
  {
   "cell_type": "code",
   "execution_count": 128,
   "id": "fe5f43b2",
   "metadata": {},
   "outputs": [
    {
     "name": "stdout",
     "output_type": "stream",
     "text": [
      "4\n"
     ]
    }
   ],
   "source": [
    "print(lista_c[1][1])"
   ]
  },
  {
   "cell_type": "markdown",
   "id": "7bb6a994",
   "metadata": {},
   "source": [
    "Análogo a una matriz de 2x2, la lista_c podemos obtener la posicion en 1-1 como se muestra anteriormente."
   ]
  },
  {
   "cell_type": "markdown",
   "id": "d1342180",
   "metadata": {},
   "source": [
    "Sí tenemos una lista de tamaño n, es posible añadir un elemento tal que nuestra lista se convierta en una lista de tamaño n+1 con append, de la siguiente manera:"
   ]
  },
  {
   "cell_type": "code",
   "execution_count": 129,
   "id": "2488d8f1",
   "metadata": {},
   "outputs": [
    {
     "name": "stdout",
     "output_type": "stream",
     "text": [
      "[1, 2, 3, 5, 7]\n"
     ]
    }
   ],
   "source": [
    "lista_a = [1,2,3,5]\n",
    "elemento_añadir = 7\n",
    "lista_a.append(elemento_añadir)\n",
    "print(lista_a)"
   ]
  },
  {
   "cell_type": "markdown",
   "id": "21cb71ae",
   "metadata": {},
   "source": [
    "Otras propiedades de manejo de las listas son posibles con el slicing o particionado, la cual consiste en seleccionar partes de la lista, es decir seleccionar uno o más elementos de la lista con ciertas condiciones, esto es posible usando **[]**, pero, adicionando lo siguiente **[inicio:fin:salto de elección]**, donde los dos puntos separar las condiciones a escoger, inicio: indica el inicio de la posición, final: indica el final de la posición y salto: indica cada cuanto escogemos los elementos, por ejemplo:"
   ]
  },
  {
   "cell_type": "code",
   "execution_count": 133,
   "id": "5411711c",
   "metadata": {},
   "outputs": [
    {
     "name": "stdout",
     "output_type": "stream",
     "text": [
      "[2, 5]\n"
     ]
    }
   ],
   "source": [
    "lista_a = [1,2,3,4,5,6]\n",
    "lista_b = lista_a[1:5:3]\n",
    "print(lista_b)"
   ]
  },
  {
   "cell_type": "markdown",
   "id": "0f2597f7",
   "metadata": {},
   "source": [
    "Es interesante observar que el valor de inicio empieza donde debe empezar y el valor de final n, lo identifica como n-1."
   ]
  },
  {
   "cell_type": "markdown",
   "id": "abe2fdf2",
   "metadata": {},
   "source": [
    "con el slicing es posible simplificar la notación de la siguiente forma:"
   ]
  },
  {
   "cell_type": "code",
   "execution_count": 137,
   "id": "9fd644df",
   "metadata": {},
   "outputs": [
    {
     "name": "stdout",
     "output_type": "stream",
     "text": [
      "[3, 4, 5, 6, 7, 10]\n"
     ]
    }
   ],
   "source": [
    "lista_a = [1,2,3,4,5,6,7,10]\n",
    "lista_b = lista_a[2::]\n",
    "print(lista_b)"
   ]
  },
  {
   "cell_type": "markdown",
   "id": "80032e8f",
   "metadata": {},
   "source": [
    "así, solo obteniendo los valores desde la posición 2."
   ]
  },
  {
   "cell_type": "code",
   "execution_count": 139,
   "id": "a6c68591",
   "metadata": {},
   "outputs": [
    {
     "name": "stdout",
     "output_type": "stream",
     "text": [
      "[1, 2]\n"
     ]
    }
   ],
   "source": [
    "lista_a = [1,2,3,4,5,6,7,10,30]\n",
    "lista_b = lista_a[:2:]\n",
    "print(lista_b)"
   ]
  },
  {
   "cell_type": "markdown",
   "id": "8841f2ab",
   "metadata": {},
   "source": [
    "tal que, obtiene los elementos desde el inicio hasta la posición 1."
   ]
  },
  {
   "cell_type": "code",
   "execution_count": 141,
   "id": "30c81e75",
   "metadata": {},
   "outputs": [
    {
     "name": "stdout",
     "output_type": "stream",
     "text": [
      "[1, 3, 5, 7, 30]\n"
     ]
    }
   ],
   "source": [
    "lista_a = [1,2,3,4,5,6,7,10,30]\n",
    "lista_b = lista_a[::2]\n",
    "print(lista_b)"
   ]
  },
  {
   "cell_type": "markdown",
   "id": "5fdfa1dc",
   "metadata": {},
   "source": [
    "tal que, recore la lista desde el inicio hasta el final escogiendo cada dos posiciones.\n",
    "una forma de adicionar un elemento y desechando elementos de la lista es de la siguiente forma:"
   ]
  },
  {
   "cell_type": "code",
   "execution_count": 147,
   "id": "cbedfdab",
   "metadata": {},
   "outputs": [
    {
     "name": "stdout",
     "output_type": "stream",
     "text": [
      "[7, 1, 3]\n"
     ]
    }
   ],
   "source": [
    "lista = [\"mundo\", \"cuantica\", 1, 3]\n",
    "lista[0:2] = [7]\n",
    "print(lista)"
   ]
  },
  {
   "cell_type": "markdown",
   "id": "857dced4",
   "metadata": {},
   "source": [
    "con lo cual reemplaza los elementos de la posición 0 y la posición 1 con un elemento nuevo."
   ]
  },
  {
   "cell_type": "markdown",
   "id": "2fa1d8d5",
   "metadata": {},
   "source": [
    "**Tuplas**"
   ]
  },
  {
   "cell_type": "markdown",
   "id": "cb3d131e",
   "metadata": {},
   "source": [
    "Las tuplas son un tipo de colección más simple que las listas definidas como las listas pero con los siguientes símbolos **()**, tal que:"
   ]
  },
  {
   "cell_type": "code",
   "execution_count": 149,
   "id": "b4832c2c",
   "metadata": {},
   "outputs": [
    {
     "name": "stdout",
     "output_type": "stream",
     "text": [
      "(1, 2, 3, 4, 5)\n"
     ]
    }
   ],
   "source": [
    "tupla_a = (1,2,3,4,5)\n",
    "print(tupla_a)"
   ]
  },
  {
   "cell_type": "markdown",
   "id": "f20270d2",
   "metadata": {},
   "source": [
    "contienen las mismas propiedades de selección que las listas, pero la diferencia radica en que no es posible cambiar, alterar o eliminar elementos de la tupla. con lo cual lo único posible de hacer es lo siguiente:"
   ]
  },
  {
   "cell_type": "code",
   "execution_count": 152,
   "id": "1a3b9bf5",
   "metadata": {},
   "outputs": [
    {
     "name": "stdout",
     "output_type": "stream",
     "text": [
      "Hola\n"
     ]
    }
   ],
   "source": [
    "tupla_b = (\"Hola\",3,5,9)\n",
    "elemento = tupla_b[0]\n",
    "print(elemento)"
   ]
  },
  {
   "cell_type": "code",
   "execution_count": 154,
   "id": "8e4bc695",
   "metadata": {},
   "outputs": [
    {
     "name": "stdout",
     "output_type": "stream",
     "text": [
      "('Hola', 5)\n"
     ]
    }
   ],
   "source": [
    "tupla_b = (\"Hola\",3,5,9)\n",
    "tupla_c = tupla_b[0:5:2]\n",
    "print(tupla_c)"
   ]
  },
  {
   "cell_type": "markdown",
   "id": "cc9fe3e4",
   "metadata": {},
   "source": [
    "Es útil usar tuplas cuando no deseamos alterar sus elementos, su ventaja radica en que ahorra espacio en la memoria que al usar una lista."
   ]
  },
  {
   "cell_type": "markdown",
   "id": "37c1145c",
   "metadata": {},
   "source": [
    "**Diccionarios**"
   ]
  },
  {
   "cell_type": "markdown",
   "id": "98b21b02",
   "metadata": {},
   "source": [
    "Los diccionarios a diferencia de las listas y las tuplas no son ordenadas, pero, en ves de una posición se les coloca una clave que direccione al elemento deseado o valor. se identifican inicialmente con los símbolos **{}** y se representan como: {clave1:valor1, clave2:valor2}, por cada clave le corresponde un valor , por ejemplo:"
   ]
  },
  {
   "cell_type": "code",
   "execution_count": 159,
   "id": "671ade55",
   "metadata": {},
   "outputs": [
    {
     "name": "stdout",
     "output_type": "stream",
     "text": [
      "{'g': 9.87, 'h': 6.62e-34, 'e': 1.6e-19}\n"
     ]
    }
   ],
   "source": [
    "diccionario = {\"g\":9.87, \"h\":6.62e-34, \"e\": 1.6e-19}\n",
    "print(diccionario)"
   ]
  },
  {
   "cell_type": "markdown",
   "id": "fde9b351",
   "metadata": {},
   "source": [
    "las claves pueden ser números, booleanos, tuplas, para los valores cualquiera de las anteriores. Las claves son inmutables es decir, que no es recomendable cambiarlas, y los valores son mutables, es decir se pueden cambiar.\n",
    "\n",
    "Para acceder a los valores de la clave asociada podemos hacerlo de la siguiente manera:"
   ]
  },
  {
   "cell_type": "code",
   "execution_count": 161,
   "id": "fdbf4699",
   "metadata": {},
   "outputs": [
    {
     "name": "stdout",
     "output_type": "stream",
     "text": [
      "1.6e-19\n"
     ]
    }
   ],
   "source": [
    "diccionario = {\"g\":9.87, \"h\":6.62e-34, \"e\": 1.6e-19}\n",
    "carga_electron = diccionario[\"e\"]\n",
    "print(carga_electron)"
   ]
  },
  {
   "cell_type": "markdown",
   "id": "573aebd3",
   "metadata": {},
   "source": [
    "dentro de los operadores **[ ]** escribimos la clave."
   ]
  },
  {
   "cell_type": "code",
   "execution_count": null,
   "id": "3e2f6dbd",
   "metadata": {},
   "outputs": [],
   "source": []
  }
 ],
 "metadata": {
  "kernelspec": {
   "display_name": "Python 3",
   "language": "python",
   "name": "python3"
  },
  "language_info": {
   "codemirror_mode": {
    "name": "ipython",
    "version": 3
   },
   "file_extension": ".py",
   "mimetype": "text/x-python",
   "name": "python",
   "nbconvert_exporter": "python",
   "pygments_lexer": "ipython3",
   "version": "3.6.9"
  }
 },
 "nbformat": 4,
 "nbformat_minor": 5
}
