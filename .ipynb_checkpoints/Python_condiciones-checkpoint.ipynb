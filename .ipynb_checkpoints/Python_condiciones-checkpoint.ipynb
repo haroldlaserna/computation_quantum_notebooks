{
 "cells": [
  {
   "cell_type": "markdown",
   "id": "5f6c8f62",
   "metadata": {},
   "source": [
    "<h1>Sentencias condicionales</h1>"
   ]
  },
  {
   "cell_type": "markdown",
   "id": "9c198edb",
   "metadata": {},
   "source": [
    "Empezamos viendo uno de los primeros condicionales llamado if (sí), se compone de la siguiente manera:\n",
    "\n",
    "<code>**if condición: \n",
    "    Línea de código a ejecutar** </code>\n",
    "    \n",
    "si la **Condición** impuesta al lado del if es verdadera, o sea se obtiene un booleano True, entonces ejecuta el codigo debajo de él, que esta separado por una tabulación o 4 espacios, sí la **Condición** es falsa, o sea, se obtiene un booleano False, el programa abajo no se ejecuta. Es de notar que es importante poner los dos puntos **:** al final de la condición. Para ilustrar lo anteriormente expuesto tenemos el siguiente ejemplo:"
   ]
  },
  {
   "cell_type": "code",
   "execution_count": 2,
   "id": "4b0f88c5",
   "metadata": {},
   "outputs": [
    {
     "name": "stdout",
     "output_type": "stream",
     "text": [
      "3  es diferente de  4\n"
     ]
    }
   ],
   "source": [
    "A = 3\n",
    "B = 4\n",
    "if A != B:\n",
    "    print(A,\" es diferente de \", B)"
   ]
  },
  {
   "cell_type": "code",
   "execution_count": 4,
   "id": "7f67340a",
   "metadata": {},
   "outputs": [],
   "source": [
    "A = 3\n",
    "B = 4\n",
    "if A == B:\n",
    "    print(A,\" es igual a \", B)"
   ]
  },
  {
   "cell_type": "markdown",
   "id": "a2fe0b43",
   "metadata": {},
   "source": [
    "Notamos que el primer código cumple con la condición con lo cual ejecuta el código dentro del condicional, mientras que, el segundo no ejecuta el código que contiene dentro, puedes notar que, para construir las condiciones hacemos uso de **!=** y **==**, con lo cual, los operadores más usados para construir la condición son: **<**, **>**, **<=**, **>=**, lo mismo, **and**, **or** y **not**."
   ]
  },
  {
   "cell_type": "markdown",
   "id": "e732a494",
   "metadata": {},
   "source": [
    "Si tenemos dos lineas de codigo y sus condiciones son opuestas, es decir que para que corra una línea la condición tiene que ser verdadera y para que corra la otra línea la condición tiene que ser falsa hacemos uso de un nuevo condición que se añade al if representado de la siguiente manera:"
   ]
  },
  {
   "cell_type": "markdown",
   "id": "f721de95",
   "metadata": {},
   "source": [
    "<code>**if condición: \n",
    "    Línea 1 de código a ejecutar\n",
    "else:\n",
    "    Línea 2 de código a ejecutar**</code>"
   ]
  },
  {
   "cell_type": "markdown",
   "id": "fb8c2551",
   "metadata": {},
   "source": [
    "En sintesis, si la condición es verdadera, UNICAMENTE ejecuta la línea 1 de código (es de aclara que puede haber una gran cantidad de lineas dentro de ese espacio no solo únicamente 1 línea), si la condición es falsa se ejecuta lo que esta debajo de **else**. Un ejemplo es el siguiente:"
   ]
  },
  {
   "cell_type": "code",
   "execution_count": 8,
   "id": "33b51022",
   "metadata": {},
   "outputs": [
    {
     "name": "stdout",
     "output_type": "stream",
     "text": [
      "3 es diferente de  7\n"
     ]
    }
   ],
   "source": [
    "A = 3\n",
    "B = 7\n",
    "if A == B:\n",
    "    print(A, \" es igual a \", B)\n",
    "else:\n",
    "    print(A, \"es diferente de \", B)"
   ]
  },
  {
   "cell_type": "markdown",
   "id": "fdb0b1eb",
   "metadata": {},
   "source": [
    "Cuando tenemos más de 3 condiciones es necesario hacer uso del elif de tal manera que:"
   ]
  },
  {
   "cell_type": "markdown",
   "id": "120e05ab",
   "metadata": {},
   "source": [
    "<code>**if condición_1: \n",
    "    Línea 1 de código a ejecutar\n",
    "elif condición_2: \n",
    "    Línea 2 de código a ejecutar\n",
    "            .\n",
    "            .\n",
    "            .\n",
    "elif condición_n:\n",
    "    Línea n de código a ejecutar\n",
    "else:\n",
    "    Línea n+1 de código a ejecutar**</code>"
   ]
  },
  {
   "cell_type": "markdown",
   "id": "5faa5136",
   "metadata": {},
   "source": [
    "Con lo cual, podemos tener n condiciones, las cuales esperamos que solo se cumpla 1, dado el caso que ninguna condición se cumpla se corre el código contenido en **else**, es de aclarar que solo se ejecuta una única condición si esta llega a ser verdadera, aúnque se puede generar un código donde se cumplan dos condiciones. Un ejemplo de lo anterio es expuesto a continuación:"
   ]
  },
  {
   "cell_type": "code",
   "execution_count": 25,
   "id": "b450157d",
   "metadata": {},
   "outputs": [
    {
     "name": "stdout",
     "output_type": "stream",
     "text": [
      "3  y  3 son iguales y diferentes de 2\n"
     ]
    }
   ],
   "source": [
    "A = 2\n",
    "B = 3\n",
    "C = 3\n",
    "if A==B and B==C:\n",
    "    print(A, \", \",B, \" y \", C, \"son iguales.\")\n",
    "elif A!=B and B!=C and A!=C:\n",
    "    print(A, \", \",B, \" y \", C, \"son diferentes.\")\n",
    "elif A==B and B!=C:\n",
    "    print(A, \" y \", B, \"son iguales y diferentes de\", C)\n",
    "elif A==C and A!=B:\n",
    "    print(A, \" y \", C, \"son iguales y diferentes de\", B)\n",
    "else:\n",
    "    print(C, \" y \", B, \"son iguales y diferentes de\", A)\n",
    "\n",
    "    "
   ]
  },
  {
   "cell_type": "markdown",
   "id": "15edcb4d",
   "metadata": {},
   "source": [
    "Con las 4 condiciones anteriores expuestas, vemos la necesidad de entender el funcionamiento de las tablas de la verdad. Además para ahorrar tipeado de código no es necesario colocar la última condición ya que es la sobrante y es excluyente de las primeras 4."
   ]
  },
  {
   "cell_type": "markdown",
   "id": "403b376e",
   "metadata": {},
   "source": [
    "finalmene una forma de compactar el if que puede ser útil en ciertas ocasiones es la siguiente:"
   ]
  },
  {
   "cell_type": "code",
   "execution_count": 31,
   "id": "257bda16",
   "metadata": {},
   "outputs": [
    {
     "name": "stdout",
     "output_type": "stream",
     "text": [
      "(9, 'es múltiplo de 3 ')\n"
     ]
    }
   ],
   "source": [
    "numero = 9\n",
    "\n",
    "multiplo = (numero, \"es múltiplo de 3 \") if (numero % 3 == 0) else (numero, \"no es múltiplo de 3\")\n",
    "print(multiplo)"
   ]
  },
  {
   "cell_type": "markdown",
   "id": "236447e7",
   "metadata": {},
   "source": [
    "<h1>Bucles</h1>"
   ]
  },
  {
   "cell_type": "markdown",
   "id": "0b4539f9",
   "metadata": {},
   "source": [
    "Dentro del caso de bucles que son situaciones que se repiten un numero de veces seguidas tenemos dos: while y for, las cuales veremos a continuación."
   ]
  },
  {
   "cell_type": "markdown",
   "id": "b8a6f91c",
   "metadata": {},
   "source": [
    "**While**"
   ]
  },
  {
   "cell_type": "markdown",
   "id": "c3174d48",
   "metadata": {},
   "source": [
    "El bucle **while** (mientras) funciona escencialmente maneniendo un código repetidas veces hasta que su condición inicial sea falsa."
   ]
  },
  {
   "cell_type": "markdown",
   "id": "310ac877",
   "metadata": {},
   "source": [
    "<code>**while condición:\n",
    "    línea a ejecutarse\n",
    "    cambio de condición si es necesario**</code>"
   ]
  },
  {
   "cell_type": "markdown",
   "id": "97ee0b52",
   "metadata": {},
   "source": [
    "En este caso, la condición inicial debe ser verdadera para que ejecute el código que contiene dentro, ejecuta el código y dependiendo de lo que esté escrito es posible cambiar la condición si la condición sigue siendo verdadera se volvera a ejecutar el código, así, indefinidas veces hasta que la condición cambie a falso, por ejemplo:"
   ]
  },
  {
   "cell_type": "code",
   "execution_count": 35,
   "id": "e056ffe6",
   "metadata": {},
   "outputs": [
    {
     "name": "stdout",
     "output_type": "stream",
     "text": [
      "tu nota es  0.0 , no es suficiente para pasar la materia\n",
      "tu nota es  0.5 , no es suficiente para pasar la materia\n",
      "tu nota es  1.0 , no es suficiente para pasar la materia\n",
      "tu nota es  1.5 , no es suficiente para pasar la materia\n",
      "tu nota es  2.0 , no es suficiente para pasar la materia\n",
      "tu nota es  2.5 , no es suficiente para pasar la materia\n",
      "tu nota es  3.0 , no es suficiente para pasar la materia\n",
      "felicidades su nota es  3.5\n"
     ]
    }
   ],
   "source": [
    "calificacion = 0.0\n",
    "while calificacion <= 3.0:\n",
    "    print(\"tu nota es \", calificacion, \", no es suficiente para pasar la materia\")\n",
    "    calificacion = calificacion + 0.5\n",
    "print(\"felicidades su nota es \", calificacion)"
   ]
  },
  {
   "cell_type": "markdown",
   "id": "3d301c3a",
   "metadata": {},
   "source": [
    "En este caso, observamos que el bucle while se mantiene en ejecución si la nota es menor a 3.0 para evitar tener un bucle con tiempo infinito, cada vez que se repita lo que está dentro de bucle le sumamos una cantidad especifica hasta que la condición sea verdadera."
   ]
  },
  {
   "cell_type": "markdown",
   "id": "0592d228",
   "metadata": {},
   "source": [
    "una situación útil que puede ser usada en las sentencias condicionales y los bucles es la palabra clave **break**, la cual, nos \"saca\" del bucle o de la sentencia condicional, por ejemplo:"
   ]
  },
  {
   "cell_type": "code",
   "execution_count": 38,
   "id": "a02d8c5c",
   "metadata": {},
   "outputs": [
    {
     "name": "stdout",
     "output_type": "stream",
     "text": [
      "aún eres menor de edad\n",
      "aún eres menor de edad\n",
      "aún eres menor de edad\n",
      "aún eres menor de edad\n",
      "aún eres menor de edad\n",
      "aún eres menor de edad\n",
      "aún eres menor de edad\n",
      "aún eres menor de edad\n",
      "ya eres mayor de edad\n"
     ]
    }
   ],
   "source": [
    "edad = 0\n",
    "while True: #singifica que el while se ejecutará eternamente\n",
    "    edad = edad + 2\n",
    "    if edad == 18:\n",
    "        break\n",
    "    else:\n",
    "        print(\"aún eres menor de edad\")\n",
    "        continue\n",
    "print(\"ya eres mayor de edad\") \n",
    "        "
   ]
  },
  {
   "cell_type": "markdown",
   "id": "c7aa8870",
   "metadata": {},
   "source": [
    "Cuando cumple 18 años, cumple la sentencia del **if** y ejecuta el **break**, tal que, salimos del bucle infinito. Como adicional, la palabra **continue** hace que el bucle termine en esa sección y empiece de nuevo desde la primera línea del bucle."
   ]
  },
  {
   "cell_type": "markdown",
   "id": "406c4be2",
   "metadata": {},
   "source": [
    "**For y in**"
   ]
  },
  {
   "cell_type": "markdown",
   "id": "54ead5d6",
   "metadata": {},
   "source": [
    "El  bucle for dista del bucle while en que este itera sobre una secuencia dada, ya sea por una lista, tupla o construcción distinta dada."
   ]
  },
  {
   "cell_type": "markdown",
   "id": "f6842ed3",
   "metadata": {},
   "source": [
    "<code>**for i in secuencia:\n",
    "    línea ejecutada dependiendo de los elementos de la secuencia**</code>"
   ]
  },
  {
   "cell_type": "markdown",
   "id": "7192d0a2",
   "metadata": {},
   "source": [
    "En este caso escoge  la variable **i** y por cada paso de iteracion se \"convierte\" en un elemento de la secuencia dada y ejecuta la linea dentro del bucle ya sea teniendo en cuenta la variable o no. por ejemplo vamos a sumar los primeros 100 números naturales."
   ]
  },
  {
   "cell_type": "code",
   "execution_count": 45,
   "id": "e76a3a46",
   "metadata": {},
   "outputs": [
    {
     "name": "stdout",
     "output_type": "stream",
     "text": [
      "5050\n"
     ]
    }
   ],
   "source": [
    "suma = 0\n",
    "for i in range(1,101):\n",
    "    suma = suma + i\n",
    "    \n",
    "print(suma)\n",
    "    "
   ]
  },
  {
   "cell_type": "markdown",
   "id": "630fb83f",
   "metadata": {},
   "source": [
    "En este caso, la funcion **range()** genera una lista de números desde el 1 hasta el 100 o n-1 y con el for es sumar cada uno de esos elmentos dentro de la variable suma."
   ]
  },
  {
   "cell_type": "markdown",
   "id": "4dfebadc",
   "metadata": {},
   "source": [
    "otro caso es mostrar en pantalla los primeros 3 números naturales."
   ]
  },
  {
   "cell_type": "code",
   "execution_count": 46,
   "id": "444be596",
   "metadata": {},
   "outputs": [
    {
     "name": "stdout",
     "output_type": "stream",
     "text": [
      "este es el  1\n",
      "este es el  2\n",
      "este es el  3\n"
     ]
    }
   ],
   "source": [
    "números = [1,2,3]\n",
    "for i in números:\n",
    "    print(\"este es el \", i)"
   ]
  },
  {
   "cell_type": "markdown",
   "id": "cc0e34d6",
   "metadata": {},
   "source": [
    "una utilidad del for importante es la posibilidad de compactar línea de codigo en una lista de interés por ejemplo tenemos la siguiente situación, deseamos introducir los primeros 3 números naturales en una lista creada anteriormente vacía, tal que:"
   ]
  },
  {
   "cell_type": "code",
   "execution_count": 55,
   "id": "e5b842eb",
   "metadata": {},
   "outputs": [
    {
     "name": "stdout",
     "output_type": "stream",
     "text": [
      "[1, 2, 3]\n"
     ]
    }
   ],
   "source": [
    "variable = []\n",
    "for i in range(1,4):\n",
    "    variable.append(i)\n",
    "print(variable)"
   ]
  },
  {
   "cell_type": "markdown",
   "id": "d425daf5",
   "metadata": {},
   "source": [
    "una forma alternativa de **compresión** es la siguiente:"
   ]
  },
  {
   "cell_type": "code",
   "execution_count": 56,
   "id": "614417f4",
   "metadata": {},
   "outputs": [
    {
     "name": "stdout",
     "output_type": "stream",
     "text": [
      "[1, 2, 3]\n"
     ]
    }
   ],
   "source": [
    "variable = [n for n in range(1,4)]\n",
    "print(variable)"
   ]
  },
  {
   "cell_type": "markdown",
   "id": "1efa2261",
   "metadata": {},
   "source": [
    "Con lo cual, pasamos de 4 líneas de código a únicamente 2."
   ]
  }
 ],
 "metadata": {
  "kernelspec": {
   "display_name": "Python 3",
   "language": "python",
   "name": "python3"
  },
  "language_info": {
   "codemirror_mode": {
    "name": "ipython",
    "version": 3
   },
   "file_extension": ".py",
   "mimetype": "text/x-python",
   "name": "python",
   "nbconvert_exporter": "python",
   "pygments_lexer": "ipython3",
   "version": "3.6.9"
  }
 },
 "nbformat": 4,
 "nbformat_minor": 5
}
