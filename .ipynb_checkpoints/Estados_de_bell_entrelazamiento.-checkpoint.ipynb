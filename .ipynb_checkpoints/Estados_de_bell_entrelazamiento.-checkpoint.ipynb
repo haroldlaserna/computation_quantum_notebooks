{
 "cells": [
  {
   "cell_type": "markdown",
   "id": "544c8834",
   "metadata": {},
   "source": [
    "**Estados de Bell**"
   ]
  },
  {
   "cell_type": "markdown",
   "id": "43ef30f0",
   "metadata": {},
   "source": [
    "Los estados de Bell, estados EPR(Einstein Podolsky Rosen) o también llamado pares EPR son estados entre qubits que estan entrelazados, dicho entrelazamiento le da la propiedad al sistema que no pueda ser separado en otro subsistemas, es decir que no puede ser representado el estado en terminos de dos estados mediante el producto tensorial. Es decir, sea el siguiente estado de bell (que hablaremos más adelante) de la siguiente manera:\n",
    "\n",
    "\\begin{equation}\n",
    "\\left|Bell\\right\\rangle = \\frac{1}{\\sqrt{2}}\\left|00\\right\\rangle + \\frac{1}{\\sqrt{2}}\\left|11\\right\\rangle\n",
    "\\end{equation}\n",
    "Es decir que al medir el primer qubit, por ejemplo no da el estado base $\\left|0\\right\\rangle$, sin medir el otro qubit, sabemos automaticamente que este se medirá al $100\\%$ como $\\left|0\\right\\rangle$, lo mismo si se mide el estado $\\left|1\\right\\rangle$ automaticamente el otro qubit colapsará sin ser medido a $\\left|1\\right\\rangle$. Cuando decimos que no es posible separarlo a dos sistemas distintos mediante el producto punto, quiere decir lo siguiente:\n",
    "sea $\\left|A\\right\\rangle$ y $\\left|B\\right\\rangle$ representados como:\n",
    "\\begin{equation}\n",
    "\\left|A\\right\\rangle = \\alpha \\left|0\\right\\rangle + \\beta \\left|1\\right\\rangle,\n",
    "\\end{equation}\n",
    "\\begin{equation}\n",
    "\\left|B\\right\\rangle = \\gamma \\left|0\\right\\rangle + \\delta \\left|1\\right\\rangle,\n",
    "\\end{equation}\n",
    "donde se cumple el primer postulado de la mecánica cuántica, es decir:\n",
    "\\begin{equation}\n",
    "1 = |\\alpha|^2 + |\\beta|^2, \n",
    "\\end{equation}\n",
    "\\begin{equation}\n",
    "1 = |\\gamma|^2 + |\\delta|^2,\n",
    "\\end{equation}\n",
    "\n",
    "donde $\\alpha$, $\\beta$, $\\gamma$ y $\\delta$ $\\in \\mathbb{C}$. Ahora, supongamos que el estado de Bell $\\left|Bell\\right\\rangle$ es separable, es decir:\n",
    "\\begin{equation}\n",
    "\\left|Bell\\right\\rangle = \\left|A\\right\\rangle \\otimes \\left|B\\right\\rangle, \n",
    "\\end{equation}\n",
    "\\begin{equation}\n",
    "\\frac{1}{\\sqrt{2}}\\left|00\\right\\rangle + \\frac{1}{\\sqrt{2}}\\left|11\\right\\rangle = (\\alpha \\left|0\\right\\rangle + \\beta \\left|1\\right\\rangle) \\otimes (\\gamma \\left|0\\right\\rangle + \\delta \\left|1\\right\\rangle). \n",
    "\\end{equation}\n",
    "Operando la parte derecha de la ecuacion, tenemos:\n",
    "\\begin{equation}\n",
    "\\frac{1}{\\sqrt{2}}\\left|00\\right\\rangle + \\frac{1}{\\sqrt{2}}\\left|11\\right\\rangle = \\alpha \\gamma \\left|00\\right\\rangle + \\alpha \\delta \\left|01\\right\\rangle + \\beta \\gamma \\left|10\\right\\rangle + \\beta \\delta \\left|11\\right\\rangle). \n",
    "\\end{equation}\n",
    "Es decir que relacionando los términos que acompañan a $\\left|00\\right\\rangle$ y $\\left|11\\right\\rangle$, tenemos: \n",
    "\\begin{equation}\n",
    "\\alpha \\gamma = \\frac{1}{\\sqrt{2}},\n",
    "\\end{equation}\n",
    "\\begin{equation}\n",
    "\\beta \\delta = \\frac{1}{\\sqrt{2}}.\n",
    "\\end{equation}\n",
    "Dado que en el estado de bell no aparece los estados base $\\left|01\\right\\rangle$ y $\\left|10\\right\\rangle$, eso quiere decir que los demás productos de coeficientes son cero, o sea:\n",
    "\\begin{equation}\n",
    "\\alpha \\delta = 0,\n",
    "\\end{equation}\n",
    "\\begin{equation}\n",
    "\\beta \\gamma = 0.\n",
    "\\end{equation}\n"
   ]
  },
  {
   "cell_type": "markdown",
   "id": "faede92e",
   "metadata": {},
   "source": [
    "Aquí vemos una contradicción y es la siguiente: De la última ecuación para que $\\beta$ multiplicado por $\\gamma$ sea cero, alguno de esos dos coeficientes es cero, ahora, si $\\beta=0$, entonces $\\beta$ multiplicado por $\\delta$ no puede ser $\\frac{1}{\\sqrt{2}}$, entonces bajo ese orden de ideas, $\\gamma$ debería ser entonces $0$, pero, entonces $\\alpha$ multiplicado por $\\gamma$ no podría ser $\\frac{1}{\\sqrt{2}}$, con lo cual, para evitar dicha contradicción el estado vector $\\left|Bell\\right\\rangle$ es no separable, es decir que la suposición correcta es:\n",
    "\n",
    "\\begin{equation}\n",
    "\\left|Bell\\right\\rangle \\neq \\left|A\\right\\rangle \\otimes \\left|B\\right\\rangle, \n",
    "\\end{equation}"
   ]
  },
  {
   "cell_type": "markdown",
   "id": "4a5f804c",
   "metadata": {},
   "source": [
    "**Construcción de los estados de bell**"
   ]
  },
  {
   "cell_type": "markdown",
   "id": "aae6f984",
   "metadata": {},
   "source": [
    "Sea $x\\in \\{ 0,1\\}$ y $y\\in\\{0,1\\}$, tal que:\n",
    "\\begin{equation}\n",
    "\\left|xy\\right\\rangle = \\left|x\\right\\rangle \\otimes \\left|y\\right\\rangle,\n",
    "\\end{equation}\n",
    "con lo cual bajo lo anterior los únicos estados que podemos obtener son los siguientes:\n",
    "\\begin{equation}\n",
    "\\left|00\\right\\rangle = \\left|0\\right\\rangle \\otimes \\left|0\\right\\rangle,\n",
    "\\end{equation}\n",
    "\\begin{equation}\n",
    "\\left|01\\right\\rangle = \\left|0\\right\\rangle \\otimes \\left|1\\right\\rangle,\n",
    "\\end{equation}\n",
    "\\begin{equation}\n",
    "\\left|10\\right\\rangle = \\left|1\\right\\rangle \\otimes \\left|0\\right\\rangle,\n",
    "\\end{equation}\n",
    "\\begin{equation}\n",
    "\\left|11\\right\\rangle = \\left|1\\right\\rangle \\otimes \\left|1\\right\\rangle.\n",
    "\\end{equation}\n",
    "Ahora vamos a preparar el estado $\\left|y\\right\\rangle$ con la compuerta $\\textbf{H}$ es decir, optener los estados base de estado $\\left|y\\right\\rangle$ con equiprobabilidad de la siguente manera si afectar al estado $\\left|x\\right\\rangle$:\n",
    "\\begin{equation}\n",
    "(\\textbf{I} \\otimes \\textbf{H})\\left|xy\\right\\rangle = \\textbf{I}\\left|x\\right\\rangle \\otimes \\textbf{H} \\left|y\\right\\rangle,\n",
    "\\end{equation}\n",
    "luego de preparado el estado, entrelazaremos $\\left|x\\right\\rangle$ con $\\textbf{H} \\left|y\\right\\rangle$, mediante $\\textbf{CNOT}$, donde $\\left|x\\right\\rangle$ es el qubit objetivo y $\\left|y\\right\\rangle$ es el qubit control. Tal que el estado de bell nos queda representado de la siguente forma:\n",
    "\\begin{equation}\n",
    "\\left|Bell_{xy}\\right\\rangle = \\textbf{C}_{not}(\\textbf{I}\\otimes\\textbf{H}\\left|xy\\right\\rangle). \n",
    "\\end{equation}\n",
    "La anterior operación es la forma para obtener cualquier estado de Bell. Para más claridad de lo anterior, supongamos que $x=0$ y $y=0$, tal que:\n",
    "\\begin{equation}\n",
    "\\left|Bell_{00}\\right\\rangle = \\textbf{C}_{not}(\\textbf{I}\\otimes\\textbf{H}\\left|00\\right\\rangle). \n",
    "\\end{equation}\n",
    "al aplicar $\\textbf{H}$ al estado $\\left|0\\right\\rangle$ obtenemos que:\n",
    "\\begin{equation}\n",
    "\\textbf{H}\\left|0\\right\\rangle = \\frac{1}{\\sqrt{2}}\\left|0\\right\\rangle + \\frac{1}{\\sqrt{2}}\\left|1\\right\\rangle,\n",
    "\\end{equation}\n",
    "tal que, la operación en es estado de Bell $\\left|Bell_{00}\\right\\rangle$ queda: \n",
    "\\begin{equation}\n",
    "\\left|Bell_{00}\\right\\rangle = \\textbf{C}_{not}(\\frac{1}{\\sqrt{2}}\\left|00\\right\\rangle + \\frac{1}{\\sqrt{2}}\\left|01\\right\\rangle). \n",
    "\\end{equation}\n",
    "Simplificando y operando **CNOT** en los dos estados base obtenemos:\n",
    "\\begin{equation}\n",
    "\\left|Bell_{00}\\right\\rangle = \\frac{1}{\\sqrt{2}}(\\textbf{C}_{not}\\left|00\\right\\rangle + \\textbf{C}_{not}\\left|01\\right\\rangle). \n",
    "\\end{equation} \n",
    "Teniendo en cuenta como opera la compuerta **CNOT** sabemos que: $\\textbf{C}_{not}\\left|00\\right\\rangle=\\left|00\\right\\rangle$ y $\\textbf{C}_{not}\\left|01\\right\\rangle=\\left|11\\right\\rangle$. Con lo anteriormente finalmente tenemos que estado de Bell $\\left|Bell_{00}\\right\\rangle$ es:\n",
    "\\begin{equation}\n",
    "\\left|Bell_{00}\\right\\rangle = \\frac{1}{\\sqrt{2}}(\\left|00\\right\\rangle + \\left|11\\right\\rangle). \n",
    "\\end{equation} \n",
    "Es posible obtener 3 estados de Bell teniendo diferentes valores de $x$ y $y$ y son los siguentes:\n",
    "\\begin{equation}\n",
    "\\left|Bell_{10}\\right\\rangle = \\frac{1}{\\sqrt{2}}(\\left|01\\right\\rangle + \\left|10\\right\\rangle), \n",
    "\\end{equation}\n",
    "\\begin{equation}\n",
    "\\left|Bell_{01}\\right\\rangle = \\frac{1}{\\sqrt{2}}(\\left|00\\right\\rangle - \\left|11\\right\\rangle), \n",
    "\\end{equation}\n",
    "\\begin{equation}\n",
    "\\left|Bell_{11}\\right\\rangle = \\frac{1}{\\sqrt{2}}(\\left|10\\right\\rangle - \\left|01\\right\\rangle). \n",
    "\\end{equation}\n",
    "Es posible generalizar estos $4$ estados de Bell con la siguente ecuación:\n",
    "\\begin{equation}\n",
    "\\left|Bell_{xy}\\right\\rangle = \\frac{\\left|0y\\right\\rangle + (-1)^{x}\\left|1\\bar{y}\\right\\rangle}{\\sqrt{2}},\n",
    "\\end{equation}\n",
    "donde $x\\in \\{ 0,1\\}$ y $y\\in\\{0,1\\}$ y $\\bar{y}$ es la negación de $y$, también escrito $\\bar{y}=\\neg y$, es decir que cuando $y=0$, entonces, $\\bar{y}=1$ y viceversa.\n"
   ]
  },
  {
   "cell_type": "markdown",
   "id": "d591c987",
   "metadata": {},
   "source": [
    "La construcción del estado de Bell en qiskit no lleva a necesitar tres elementos necesarios, el primero, el operador $\\textbf{X}$ el cual nos cambia el estado $\\left|0\\right\\rangle$ al estado $\\left|0\\right\\rangle$, eso con el objetivo de construir más de $1$ estado de Bell, si lo deseamos. el segundo y tercero respectivamente la compuerta **CNOT** y la compuerta **H**. Tal que. iniciamos nuestro circuito con $2$ qubits, si deseamos aplicamos la compuerta $\\textbf{X}$ a alguno de los dos qubits, luego aplicamos el operador $\\textbf{H}$ al qubit de la posición $0$ y finalmente el **CNOT** como qubit de control el qubit de la posición $0$ y qubit objetivo el de posición $1$. es decir:"
   ]
  },
  {
   "cell_type": "code",
   "execution_count": 2,
   "id": "cd99a16a",
   "metadata": {},
   "outputs": [],
   "source": [
    "import numpy as np\n",
    "from qiskit import *\n",
    "from qiskit.visualization import *\n",
    "from qiskit.quantum_info import Statevector"
   ]
  },
  {
   "cell_type": "code",
   "execution_count": 15,
   "id": "0ba5125c",
   "metadata": {},
   "outputs": [
    {
     "data": {
      "image/png": "[encoded data removed]",
      "text/plain": [
       "<Figure size 206.852x144.48 with 1 Axes>"
      ]
     },
     "execution_count": 15,
     "metadata": {},
     "output_type": "execute_result"
    }
   ],
   "source": [
    "Bell = QuantumCircuit(2)\n",
    "Bell.h(0)\n",
    "Bell.cx(0,1)\n",
    "Bell.draw(\"mpl\")"
   ]
  },
  {
   "cell_type": "markdown",
   "id": "9ed0dd14",
   "metadata": {},
   "source": [
    "Con el circuito cuántico anterior observamos la forma básica para generar el estado de Bell $\\left|Bell_{00}\\right\\rangle$, como se muestra a continuación al obtener la ecuación de circuito:"
   ]
  },
  {
   "cell_type": "code",
   "execution_count": 16,
   "id": "64a4aa46",
   "metadata": {},
   "outputs": [
    {
     "data": {
      "text/latex": [
       "$$\\frac{\\sqrt{2}}{2} |00\\rangle+\\frac{\\sqrt{2}}{2} |11\\rangle$$"
      ],
      "text/plain": [
       "<IPython.core.display.Latex object>"
      ]
     },
     "execution_count": 16,
     "metadata": {},
     "output_type": "execute_result"
    }
   ],
   "source": [
    "estado = Statevector.from_int(0,2**2)\n",
    "estado = estado.evolve(Bell)\n",
    "estado.draw(\"latex\")"
   ]
  },
  {
   "cell_type": "markdown",
   "id": "355ac159",
   "metadata": {},
   "source": [
    "Con este método y usando la compuerta $\\textbf{X}$, podemos obtener los demás estados de Bell, de la siguiente forma:"
   ]
  },
  {
   "cell_type": "code",
   "execution_count": 13,
   "id": "c041e73b",
   "metadata": {},
   "outputs": [
    {
     "data": {
      "image/png": "[encoded data removed]",
      "text/plain": [
       "<Figure size 267.052x144.48 with 1 Axes>"
      ]
     },
     "execution_count": 13,
     "metadata": {},
     "output_type": "execute_result"
    }
   ],
   "source": [
    "Bell = QuantumCircuit(2)\n",
    "Bell.x(0)\n",
    "Bell.h(0)\n",
    "Bell.cx(0,1)\n",
    "Bell.draw(\"mpl\") # estado de bell y=1, x=0"
   ]
  },
  {
   "cell_type": "code",
   "execution_count": 14,
   "id": "3dd09465",
   "metadata": {},
   "outputs": [
    {
     "data": {
      "text/latex": [
       "$$\\frac{\\sqrt{2}}{2} |00\\rangle- \\frac{\\sqrt{2}}{2} |11\\rangle$$"
      ],
      "text/plain": [
       "<IPython.core.display.Latex object>"
      ]
     },
     "execution_count": 14,
     "metadata": {},
     "output_type": "execute_result"
    }
   ],
   "source": [
    "estado = Statevector.from_int(0,2**2)\n",
    "estado = estado.evolve(Bell)\n",
    "estado.draw(\"latex\")"
   ]
  },
  {
   "cell_type": "code",
   "execution_count": 11,
   "id": "2d51c28c",
   "metadata": {},
   "outputs": [
    {
     "data": {
      "image/png": "[encoded data removed]",
      "text/plain": [
       "<Figure size 206.852x144.48 with 1 Axes>"
      ]
     },
     "execution_count": 11,
     "metadata": {},
     "output_type": "execute_result"
    }
   ],
   "source": [
    "Bell = QuantumCircuit(2)\n",
    "Bell.x(1)\n",
    "Bell.h(0)\n",
    "Bell.cx(0,1)\n",
    "Bell.draw(\"mpl\") # estado de bell y=0, x=1"
   ]
  },
  {
   "cell_type": "code",
   "execution_count": 12,
   "id": "6736396c",
   "metadata": {},
   "outputs": [
    {
     "data": {
      "text/latex": [
       "$$\\frac{\\sqrt{2}}{2} |01\\rangle+\\frac{\\sqrt{2}}{2} |10\\rangle$$"
      ],
      "text/plain": [
       "<IPython.core.display.Latex object>"
      ]
     },
     "execution_count": 12,
     "metadata": {},
     "output_type": "execute_result"
    }
   ],
   "source": [
    "estado = Statevector.from_int(0,2**2)\n",
    "estado = estado.evolve(Bell)\n",
    "estado.draw(\"latex\")"
   ]
  },
  {
   "cell_type": "code",
   "execution_count": 19,
   "id": "e9c2dd01",
   "metadata": {},
   "outputs": [
    {
     "data": {
      "image/png": "[encoded data removed]",
      "text/plain": [
       "<Figure size 267.052x144.48 with 1 Axes>"
      ]
     },
     "execution_count": 19,
     "metadata": {},
     "output_type": "execute_result"
    }
   ],
   "source": [
    "Bell = QuantumCircuit(2)\n",
    "Bell.x(1)\n",
    "Bell.x(0)\n",
    "Bell.h(0)\n",
    "Bell.cx(0,1)\n",
    "Bell.draw(\"mpl\") # estado de bell y=1, x=1"
   ]
  },
  {
   "cell_type": "code",
   "execution_count": 18,
   "id": "6877b321",
   "metadata": {},
   "outputs": [
    {
     "data": {
      "text/latex": [
       "$$- \\frac{\\sqrt{2}}{2} |01\\rangle+\\frac{\\sqrt{2}}{2} |10\\rangle$$"
      ],
      "text/plain": [
       "<IPython.core.display.Latex object>"
      ]
     },
     "execution_count": 18,
     "metadata": {},
     "output_type": "execute_result"
    }
   ],
   "source": [
    "estado = Statevector.from_int(0,2**2)\n",
    "estado = estado.evolve(Bell)\n",
    "estado.draw(\"latex\")"
   ]
  },
  {
   "cell_type": "markdown",
   "id": "bbcddf45",
   "metadata": {},
   "source": [
    "Sí deseamos generar entrelazamiento en este caso para más de $2$ qubits, por ejemplo generar el estado de  Greenberger–Horne–Zeilinger denotado de la siguiente forma en $3$ qubits:\n",
    "\\begin{equation}\n",
    "\\left|GHZ\\right\\rangle = \\frac{\\left|000\\right\\rangle+ \\left|111\\right\\rangle}{\\sqrt{2}}.\n",
    "\\end{equation}\n",
    "También para $n$ qubits de la forma:\n",
    "\n",
    "\\begin{equation}\n",
    "\\left|Entrelazamiento_{n}\\right\\rangle = \\frac{\\left|00...0\\right\\rangle+ \\left|11...1\\right\\rangle}{\\sqrt{2}}\n",
    "\\end{equation}.\n",
    "Esto lo podemos hacer mediante la compuerta **CNOT** aplicandola de la siguente forma: Para 3 qubits:"
   ]
  },
  {
   "cell_type": "code",
   "execution_count": 24,
   "id": "bf69c07b",
   "metadata": {},
   "outputs": [
    {
     "data": {
      "image/png": "[encoded data removed]",
      "text/plain": [
       "<Figure size 267.197x204.68 with 1 Axes>"
      ]
     },
     "execution_count": 24,
     "metadata": {},
     "output_type": "execute_result"
    }
   ],
   "source": [
    "GHZ = QuantumCircuit(3)\n",
    "GHZ.h(0)\n",
    "GHZ.cx(0,1)\n",
    "GHZ.cx(0,2)\n",
    "GHZ.draw(\"mpl\")"
   ]
  },
  {
   "cell_type": "code",
   "execution_count": 25,
   "id": "adb1b484",
   "metadata": {},
   "outputs": [
    {
     "data": {
      "image/png": "[encoded data removed]",
      "text/plain": [
       "<Figure size 267.197x204.68 with 1 Axes>"
      ]
     },
     "execution_count": 25,
     "metadata": {},
     "output_type": "execute_result"
    }
   ],
   "source": [
    "GHZ = QuantumCircuit(3)\n",
    "GHZ.h(0)\n",
    "GHZ.cx(0,1)\n",
    "GHZ.cx(1,2)\n",
    "GHZ.draw(\"mpl\")"
   ]
  },
  {
   "cell_type": "code",
   "execution_count": 23,
   "id": "5ab6b463",
   "metadata": {},
   "outputs": [
    {
     "data": {
      "text/latex": [
       "$$\\frac{\\sqrt{2}}{2} |000\\rangle+\\frac{\\sqrt{2}}{2} |111\\rangle$$"
      ],
      "text/plain": [
       "<IPython.core.display.Latex object>"
      ]
     },
     "execution_count": 23,
     "metadata": {},
     "output_type": "execute_result"
    }
   ],
   "source": [
    "estado = Statevector.from_int(0,2**3)\n",
    "estado = estado.evolve(GHZ)\n",
    "estado.draw(\"latex\")"
   ]
  },
  {
   "cell_type": "markdown",
   "id": "fb6a5c5b",
   "metadata": {},
   "source": [
    "Cualquiera de los dos circuitos cuánticos que observamos arriba son válidos para generar el estado $\\left|GHZ\\right\\rangle$."
   ]
  },
  {
   "cell_type": "markdown",
   "id": "a49cc8c3",
   "metadata": {},
   "source": [
    "Ahora para 7 qubits:"
   ]
  },
  {
   "cell_type": "code",
   "execution_count": 30,
   "id": "d08642a2",
   "metadata": {},
   "outputs": [
    {
     "data": {
      "image/png": "[encoded data removed]",
      "text/plain": [
       "<Figure size 507.997x445.48 with 1 Axes>"
      ]
     },
     "execution_count": 30,
     "metadata": {},
     "output_type": "execute_result"
    }
   ],
   "source": [
    "num_qubits = 7\n",
    "Entrelazamiento_7 = QuantumCircuit(num_qubits)\n",
    "Entrelazamiento_7.h(0)\n",
    "for i in range(1,num_qubits):\n",
    "    Entrelazamiento_7.cx(i-1,i)\n",
    "Entrelazamiento_7.draw(\"mpl\")"
   ]
  },
  {
   "cell_type": "markdown",
   "id": "c170c5d4",
   "metadata": {},
   "source": [
    "El siguiente circuito también es igual que el anterior:"
   ]
  },
  {
   "cell_type": "code",
   "execution_count": 31,
   "id": "a940a2b9",
   "metadata": {},
   "outputs": [
    {
     "data": {
      "image/png": "[encoded data removed]",
      "text/plain": [
       "<Figure size 507.997x445.48 with 1 Axes>"
      ]
     },
     "execution_count": 31,
     "metadata": {},
     "output_type": "execute_result"
    }
   ],
   "source": [
    "num_qubits = 7\n",
    "Entrelazamiento_7 = QuantumCircuit(num_qubits)\n",
    "Entrelazamiento_7.h(0)\n",
    "for i in range(1,num_qubits):\n",
    "    Entrelazamiento_7.cx(0,i)\n",
    "Entrelazamiento_7.draw(\"mpl\")"
   ]
  },
  {
   "cell_type": "code",
   "execution_count": 33,
   "id": "faaa2fc2",
   "metadata": {},
   "outputs": [
    {
     "data": {
      "text/latex": [
       "$$\\frac{\\sqrt{2}}{2} |0000000\\rangle+\\frac{\\sqrt{2}}{2} |1111111\\rangle$$"
      ],
      "text/plain": [
       "<IPython.core.display.Latex object>"
      ]
     },
     "execution_count": 33,
     "metadata": {},
     "output_type": "execute_result"
    }
   ],
   "source": [
    "estado = Statevector.from_int(0,2**7)\n",
    "estado = estado.evolve(Entrelazamiento_7)\n",
    "estado.draw(\"latex\")"
   ]
  },
  {
   "cell_type": "markdown",
   "id": "6d767fd1",
   "metadata": {},
   "source": [
    "**Teorema de no Clonación**"
   ]
  },
  {
   "cell_type": "markdown",
   "id": "619b67f3",
   "metadata": {},
   "source": [
    "El teorema de no clonación lo que en síntesis nos quiere decir es que, dado un estado vector $\\left|\\Phi\\right\\rangle$ intentamos construir un operador $\\textbf{A}$ tal que copie el estado $\\left|\\Phi\\right\\rangle$, tal que:\n",
    "\\begin{equation}\n",
    "    \\textbf{A}\\left|0\\right\\rangle\\left|\\Phi\\right\\rangle = \\left|\\Phi\\right\\rangle\\left|\\Phi\\right\\rangle.\n",
    "\\end{equation}\n",
    "\n",
    "Dicha situación anterior es imposible, ya que no es posible copiar un estado $\\left|\\Phi\\right\\rangle$ arbitrario de la manera se muestra arriba, además dicho teorema comenta que es posible hacer una copia bajo una condición de ortogonalidad que veremos a continuación, aún así bajo esta condición no es posible copiar un estado cuántico, pero existen otras condiciones para copiar parcialmente un estado $\\left|\\Phi\\right\\rangle$ arbitrario con una fidelidad de $\\sqrt(5/6)$ para el caso de estados puros y 3 qubits. (Quantum copying: Beyond the no-cloning theorem(https://arxiv.org/pdf/quant-ph/9607018.pdf)). \n",
    "Para el caso anterior demostraremos que no es posible bajo esa modalidad de la siguente manera:\n",
    "Sea $\\textbf{A}$ el operador unitario de clonación que puede copiar dos estados ket de la siguente manera:\n",
    "\\begin{equation}\n",
    "    \\textbf{A}\\left|0\\right\\rangle\\left|\\Phi\\right\\rangle = \\left|\\Phi\\right\\rangle\\left|\\Phi\\right\\rangle, \\\\\n",
    "    \\textbf{A}\\left|0\\right\\rangle\\left|\\Theta\\right\\rangle = \\left|\\Theta\\right\\rangle\\left|\\Theta\\right\\rangle,\n",
    "\\end{equation}\n",
    "Y el operador $\\textbf{A}^{\\dagger}$  tenga la capacidad de copiar los estados bra, tal que:\n",
    "\\begin{equation}\n",
    "    \\left \\langle \\Phi\\right \\rvert \\left\\langle0\\right\\rvert \\textbf{A}^{\\dagger} = \\left \\langle \\Phi\\right \\rvert \\left\\langle \\Phi\\right\\rvert, \\\\ \n",
    "      \\left \\langle \\Theta\\right \\rvert \\left\\langle0\\right\\rvert \\textbf{A}^{\\dagger} = \\left \\langle  \\Theta\\right \\rvert \\left\\langle  \\Theta\\right\\rvert.\n",
    "\\end{equation}"
   ]
  },
  {
   "cell_type": "markdown",
   "id": "4ddde526",
   "metadata": {},
   "source": [
    "Con lo anterior, generamos el siguiente producto punto:"
   ]
  },
  {
   "cell_type": "markdown",
   "id": "d967b1d1",
   "metadata": {},
   "source": [
    "\\begin{equation}\n",
    "    \\left \\langle \\Phi\\right \\rvert \\left\\langle0\\right\\rvert \\textbf{A}^{\\dagger} \\textbf{A}\\left|0\\right\\rangle\\left|\\Theta\\right\\rangle = \\left \\langle \\Phi\\right \\rvert \\left\\langle \\Phi\\right\\rvert \\left|\\Theta\\right\\rangle\\left|\\Theta\\right\\rangle.\n",
    "\\end{equation}"
   ]
  },
  {
   "cell_type": "markdown",
   "id": "694cc5ba",
   "metadata": {},
   "source": [
    "Sabemos que $\\textbf{A}$ cumple con la siguiente condición:\n",
    "\\begin{equation}\n",
    "\\textbf{A}^{\\dagger} \\textbf{A} = \\textbf{I}\n",
    "\\end{equation}\n",
    "con lo cual tenemos:\n",
    "\\begin{equation}\n",
    "    \\left \\langle \\Phi\\right \\rvert \\left\\langle0\\right\\rvert \\left|0\\right\\rangle\\left|\\Theta\\right\\rangle = \\left \\langle \\Phi\\right  \\rvert \\left\\langle \\Phi\\right\\rvert \\left|\\Theta\\right\\rangle\\left|\\Theta\\right\\rangle.\n",
    "\\end{equation}"
   ]
  },
  {
   "cell_type": "markdown",
   "id": "fd781304",
   "metadata": {},
   "source": [
    "y reorganizando:\n",
    "\\begin{equation}\n",
    "\\left \\langle 0 \\middle \\rvert 0 \\right \\rangle \\left \\langle \\Phi \\middle \\rvert \\Theta \\right \\rangle = \\left \\langle \\Phi \\middle \\rvert \\Theta \\right \\rangle \\left \\langle \\Phi \\middle \\rvert \\Theta \\right \\rangle ,\n",
    "\\end{equation} \n",
    "\n",
    "y teniendo en cuenta que $\\left \\langle 0 \\middle \\rvert 0 \\right \\rangle=1$, además que $|\\left \\langle \\Phi \\middle \\rvert \\Theta \\right \\rangle|^{2} = \\left \\langle \\Phi \\middle \\rvert \\Theta \\right \\rangle\\left \\langle \\Phi \\middle \\rvert \\Theta \\right \\rangle$, entonces: \n",
    "\n",
    "\\begin{equation}\n",
    " \\left \\langle \\Phi \\middle \\rvert \\Theta \\right \\rangle = |\\left \\langle \\Phi \\middle \\rvert \\Theta \\right \\rangle|^{2}.\n",
    "\\end{equation} "
   ]
  },
  {
   "cell_type": "markdown",
   "id": "2e88b42e",
   "metadata": {},
   "source": [
    "Esto quiere decir dos cosas, para que se cumpla la condición anterior $\\left|\\Phi\\right\\rangle=\\left|\\Theta\\right\\rangle$, con lo cual, sólo es posible copiar un único estado cuántico y la otra condición es que $\\left \\langle \\Phi \\middle \\rvert \\Theta \\right \\rangle=0$, es decir que para poder copiar todos los estados tienen que ser ortonormales, con lo cual, no es posible copiar un estado cuántico arbitrario."
   ]
  },
  {
   "cell_type": "code",
   "execution_count": null,
   "id": "4118c444",
   "metadata": {},
   "outputs": [],
   "source": []
  }
 ],
 "metadata": {
  "kernelspec": {
   "display_name": "Python 3",
   "language": "python",
   "name": "python3"
  },
  "language_info": {
   "codemirror_mode": {
    "name": "ipython",
    "version": 3
   },
   "file_extension": ".py",
   "mimetype": "text/x-python",
   "name": "python",
   "nbconvert_exporter": "python",
   "pygments_lexer": "ipython3",
   "version": "3.6.9"
  }
 },
 "nbformat": 4,
 "nbformat_minor": 5
}
